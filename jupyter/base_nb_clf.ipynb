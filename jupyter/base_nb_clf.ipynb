{
 "cells": [
  {
   "cell_type": "code",
   "execution_count": 1,
   "metadata": {},
   "outputs": [],
   "source": [
    "# Sklearn module\n",
    "from sklearn import model_selection, preprocessing, linear_model, naive_bayes, metrics, svm\n",
    "from sklearn.feature_extraction.text import TfidfVectorizer, CountVectorizer\n",
    "from sklearn.linear_model import LogisticRegression\n",
    "from sklearn.pipeline import make_pipeline\n",
    "\n",
    "from bs4 import BeautifulSoup, Tag    ## Cleaning HTML tags from text\n",
    "import pandas as pd\n",
    "import xgboost \n",
    "import numpy as np\n",
    "#import textblob\n",
    "#import string\n",
    "import matplotlib.pyplot as plt\n",
    "import seaborn as sns\n",
    "import json     ## To covnert json raw data to df\n",
    "import pickle   ## saving the model to disk\n",
    "\n",
    "#from keras.preprocessing import text, sequence\n",
    "#from keras import layers, models, optimizers\n",
    "\n",
    "pd.set_option('display.max_colwidth', -1)    \n",
    "## Problem texts can be long and may not load on Jupyter"
   ]
  },
  {
   "cell_type": "markdown",
   "metadata": {},
   "source": [
    "## DATA PREPARATION"
   ]
  },
  {
   "cell_type": "code",
   "execution_count": 2,
   "metadata": {},
   "outputs": [
    {
     "data": {
      "text/plain": [
       "{'subject': 'MTH',\n",
       " 'grade': '12',\n",
       " 'curriculum': 'JEE',\n",
       " 'chapter': 'Inverse Trigonometry ',\n",
       " 'chapter_no': '18',\n",
       " 'topic': 'Introduction to Inverse Trigonometry',\n",
       " 'topic_no': '01',\n",
       " 'difficulty': '1',\n",
       " 'problem_code': 'P005930',\n",
       " 'problem_status': 'final',\n",
       " 'problem_mongo_id': '56f235d43562d97499000848',\n",
       " 'problem_type': 'Spot Test',\n",
       " 'options': ' \\\\(\\\\left[0, 2\\\\pi\\\\right]\\\\) \\\\(\\\\left[-\\\\frac{\\\\pi}2, \\\\frac{\\\\pi}2\\\\right]\\\\) \\\\(\\\\left[0, \\\\pi\\\\right]\\\\) \\\\(\\\\left[0, \\\\frac{\\\\pi}2\\\\right]\\\\)',\n",
       " 'solution': '',\n",
       " 'question_text': '\\xa0The principal domain of \\\\(\\\\tan\\u2061𝑥\\\\) is ___________\\xa0'}"
      ]
     },
     "execution_count": 2,
     "metadata": {},
     "output_type": "execute_result"
    }
   ],
   "source": [
    "# Load the dataset and show sample question\n",
    "with open('../data/qs_topicwise.json') as json_data:\n",
    "    all_questions = json.load(json_data)\n",
    "\n",
    "all_questions[3]"
   ]
  },
  {
   "cell_type": "code",
   "execution_count": 3,
   "metadata": {},
   "outputs": [
    {
     "data": {
      "text/html": [
       "<div>\n",
       "<style scoped>\n",
       "    .dataframe tbody tr th:only-of-type {\n",
       "        vertical-align: middle;\n",
       "    }\n",
       "\n",
       "    .dataframe tbody tr th {\n",
       "        vertical-align: top;\n",
       "    }\n",
       "\n",
       "    .dataframe thead th {\n",
       "        text-align: right;\n",
       "    }\n",
       "</style>\n",
       "<table border=\"1\" class=\"dataframe\">\n",
       "  <thead>\n",
       "    <tr style=\"text-align: right;\">\n",
       "      <th></th>\n",
       "      <th>problem_code</th>\n",
       "      <th>curriculum</th>\n",
       "      <th>subject</th>\n",
       "      <th>question_text</th>\n",
       "      <th>chapter</th>\n",
       "    </tr>\n",
       "  </thead>\n",
       "  <tbody>\n",
       "  </tbody>\n",
       "</table>\n",
       "</div>"
      ],
      "text/plain": [
       "Empty DataFrame\n",
       "Columns: [problem_code, curriculum, subject, question_text, chapter]\n",
       "Index: []"
      ]
     },
     "execution_count": 3,
     "metadata": {},
     "output_type": "execute_result"
    }
   ],
   "source": [
    "## Create an empty dataframe\n",
    "#data_df = pd.DataFrame(columns=['curriculum', 'subject', 'question_text', 'chapter'])\n",
    "data_df = pd.DataFrame(columns=['problem_code','curriculum', 'subject', 'question_text', 'chapter'])\n",
    "\n",
    "data_df.head()"
   ]
  },
  {
   "cell_type": "code",
   "execution_count": 6,
   "metadata": {},
   "outputs": [
    {
     "data": {
      "text/html": [
       "<div>\n",
       "<style scoped>\n",
       "    .dataframe tbody tr th:only-of-type {\n",
       "        vertical-align: middle;\n",
       "    }\n",
       "\n",
       "    .dataframe tbody tr th {\n",
       "        vertical-align: top;\n",
       "    }\n",
       "\n",
       "    .dataframe thead th {\n",
       "        text-align: right;\n",
       "    }\n",
       "</style>\n",
       "<table border=\"1\" class=\"dataframe\">\n",
       "  <thead>\n",
       "    <tr style=\"text-align: right;\">\n",
       "      <th></th>\n",
       "      <th>text</th>\n",
       "      <th>label</th>\n",
       "    </tr>\n",
       "  </thead>\n",
       "  <tbody>\n",
       "    <tr>\n",
       "      <th>0</th>\n",
       "      <td>among the statements given below, which one is correct?</td>\n",
       "      <td>Inverse Trigonometry</td>\n",
       "    </tr>\n",
       "    <tr>\n",
       "      <th>1</th>\n",
       "      <td>\\(\\sin^{−1}\\left(⁡\\frac{1}{√2}\\right)=\\)________</td>\n",
       "      <td>Inverse Trigonometry</td>\n",
       "    </tr>\n",
       "    <tr>\n",
       "      <th>2</th>\n",
       "      <td>the principal domain of \\(\\cos⁡𝑥\\) is ___________</td>\n",
       "      <td>Inverse Trigonometry</td>\n",
       "    </tr>\n",
       "  </tbody>\n",
       "</table>\n",
       "</div>"
      ],
      "text/plain": [
       "                                                      text  \\\n",
       "0  among the statements given below, which one is correct?   \n",
       "1  \\(\\sin^{−1}\\left(⁡\\frac{1}{√2}\\right)=\\)________          \n",
       "2  the principal domain of \\(\\cos⁡𝑥\\) is ___________         \n",
       "\n",
       "                   label  \n",
       "0  Inverse Trigonometry   \n",
       "1  Inverse Trigonometry   \n",
       "2  Inverse Trigonometry   "
      ]
     },
     "execution_count": 6,
     "metadata": {},
     "output_type": "execute_result"
    }
   ],
   "source": [
    "## Convert JSON to dataframe\n",
    "\n",
    "#subject_model = ['PHY']\n",
    "subject_model = ['PHY', 'CHM', 'MTH']\n",
    "\n",
    "## Removing these words improves Phy clf accuracy by 2% but improves Math classifier accuracy\n",
    "words_to_remove = [\"rightarrow\", \"hence\", \"frac\", \"text\", \"sqrt\", \"times\", \n",
    "                   \"value\", \"amp\", \"statement\", \"will\", \"equal\", \"number\", \n",
    "                   \"tan\", \"now\", \"can\", \"two\", \"get\", \"true\", \"lambda\"]\n",
    "\n",
    "## Remove dummy and empty chapters\n",
    "chapters_to_remove = ['Selection Test', 'Repository', 'Bridge Intervention Curriculum', \n",
    "                      'M1.1 Scaffold test', 'Tally Marks', 'Dummy']\n",
    "chapters_with_no_data = ['Static Electricity', 'Experimental Skills', 'Nuclear Chemistry', \n",
    "                         'Principle of Mathematical Induction', 'Environmental Chemistry']\n",
    "\n",
    "i = 0\n",
    "for question in all_questions:\n",
    "    try: \n",
    "        question_text = question['question_text'].lower()\n",
    "        ## Remove HTML tags from text\n",
    "        '''\n",
    "        Beautiful Soup improves accuracy from 40% to 60% in MTH, \n",
    "        but reduces PHY accuracy from 60% to 20%. For CHM, \n",
    "        it reduces accuracy from 49% to 47% \n",
    "        '''\n",
    "        question_text = BeautifulSoup(question_text, \"html.parser\").get_text() \n",
    "        ## Remove stop words ?\n",
    "        #question_text = \" \".join([word for word in question_text.split() if word not in words_to_remove])\n",
    "        ## Remove extra whitespaces\n",
    "        question_text = \" \".join(question_text.split()) \n",
    "        ## Extracting elements for cleaner code\n",
    "        grade = question['grade']\n",
    "        curriculum = question['curriculum']\n",
    "        chapter = question['chapter']\n",
    "        subject = question['subject']\n",
    "        ## Filtering each question from JSON to add relevant Qs to dataframe \n",
    "        if(    grade in [\"11\", \"12\"] and\n",
    "               \"JEE\" in curriculum and\n",
    "               chapter not in chapters_to_remove and\n",
    "               #chapter not in chapters_with_no_data and\n",
    "               \"dummy\" not in question_text and \n",
    "               subject in subject_model):\n",
    "                #data_df.loc[i] = [curriculum, subject, question_text, chapter]\n",
    "                data_df.loc[i] = [question['problem_code'], curriculum, subject, question_text, chapter]\n",
    "                i += 1\n",
    "    except:\n",
    "            pass\n",
    "\n",
    "trainDF = pd.DataFrame(columns=['text', 'label'])\n",
    "trainDF['text'] = data_df['question_text']\n",
    "trainDF['label'] = data_df['chapter']\n",
    "trainDF.head(3)"
   ]
  },
  {
   "cell_type": "markdown",
   "metadata": {},
   "source": [
    "### Distribution of labels"
   ]
  },
  {
   "cell_type": "code",
   "execution_count": null,
   "metadata": {},
   "outputs": [],
   "source": [
    "trainDF.label.value_counts().plot(kind=\"bar\")"
   ]
  },
  {
   "cell_type": "markdown",
   "metadata": {},
   "source": [
    "## Split into training & validation sets"
   ]
  },
  {
   "cell_type": "code",
   "execution_count": null,
   "metadata": {},
   "outputs": [],
   "source": [
    "train_x, valid_x, train_y, valid_y = model_selection.train_test_split(trainDF['text'], trainDF['label'], test_size=0.2)\n",
    "\n",
    "print(len(train_x), len(valid_x) )"
   ]
  },
  {
   "cell_type": "markdown",
   "metadata": {},
   "source": [
    "## Label encode the target variable (for multi label classification)"
   ]
  },
  {
   "cell_type": "code",
   "execution_count": null,
   "metadata": {},
   "outputs": [],
   "source": [
    "encoder = preprocessing.LabelEncoder()\n",
    "train_y = encoder.fit_transform(train_y)\n",
    "encoder.classes_"
   ]
  },
  {
   "cell_type": "code",
   "execution_count": null,
   "metadata": {},
   "outputs": [],
   "source": [
    "train_y[0]"
   ]
  },
  {
   "cell_type": "code",
   "execution_count": null,
   "metadata": {},
   "outputs": [],
   "source": [
    "valid_y = encoder.transform(valid_y)\n",
    "valid_y[0]"
   ]
  },
  {
   "cell_type": "code",
   "execution_count": null,
   "metadata": {},
   "outputs": [],
   "source": [
    "encoder.inverse_transform([valid_y[0]])"
   ]
  },
  {
   "cell_type": "markdown",
   "metadata": {},
   "source": [
    "## FEATURE ENGINEERING"
   ]
  },
  {
   "cell_type": "code",
   "execution_count": null,
   "metadata": {},
   "outputs": [],
   "source": [
    "# create a count vectorizer object \n",
    "count_vect = CountVectorizer(analyzer='word', token_pattern=r'\\w{1,}')\n",
    "count_vect.fit(trainDF['text'])\n",
    "\n",
    "# transform the training and validation data using count vectorizer object\n",
    "xtrain_count =  count_vect.transform(train_x)\n",
    "xtrain_count[xtrain_count != 0] = 1\n",
    "print(xtrain_count)\n",
    "\n",
    "xvalid_count =  count_vect.transform(valid_x)\n",
    "xvalid_count[xvalid_count != 0] = 1\n",
    "\n",
    "# word level tf-idf\n",
    "tfidf_vect = TfidfVectorizer(analyzer='word', token_pattern=r'\\w{1,}', max_features=5000)\n",
    "tfidf_vect.fit(trainDF['text'])\n",
    "xtrain_tfidf =  tfidf_vect.transform(train_x)\n",
    "xvalid_tfidf =  tfidf_vect.transform(valid_x)\n",
    "\n",
    "# ngram level tf-idf \n",
    "tfidf_vect_ngram = TfidfVectorizer(analyzer='word', token_pattern=r'\\w{1,}', ngram_range=(2,3), max_features=5000)\n",
    "tfidf_vect_ngram.fit(trainDF['text'])\n",
    "xtrain_tfidf_ngram =  tfidf_vect_ngram.transform(train_x)\n",
    "xvalid_tfidf_ngram =  tfidf_vect_ngram.transform(valid_x)\n",
    "\n",
    "# characters level tf-idf\n",
    "tfidf_vect_ngram_chars = TfidfVectorizer(analyzer='char', token_pattern=r'\\w{1,}', ngram_range=(2,3), max_features=5000)\n",
    "tfidf_vect_ngram_chars.fit(trainDF['text'])\n",
    "xtrain_tfidf_ngram_chars =  tfidf_vect_ngram_chars.transform(train_x) \n",
    "xvalid_tfidf_ngram_chars =  tfidf_vect_ngram_chars.transform(valid_x) "
   ]
  },
  {
   "cell_type": "markdown",
   "metadata": {},
   "source": [
    "## MODEL BUILDING AND PREDICTION"
   ]
  },
  {
   "cell_type": "code",
   "execution_count": null,
   "metadata": {},
   "outputs": [],
   "source": [
    "def train_model(classifier, feature_vector_train, label, feature_vector_valid, is_neural_net=False):\n",
    "    # fit the training dataset on the classifier\n",
    "    classifier.fit(feature_vector_train, label)\n",
    "    \n",
    "    # predict the labels on validation dataset\n",
    "    predictions = classifier.predict(feature_vector_valid)\n",
    "    \n",
    "    if is_neural_net:\n",
    "        predictions = predictions.argmax(axis=-1)\n",
    "\n",
    "    #return metrics.accuracy_score(predictions, valid_y)  ## Not a good metric for imbalanced multi-class clf\n",
    "    return metrics.f1_score(predictions, valid_y, average = 'weighted') \n",
    "    ## Source : https://stackoverflow.com/questions/31421413/how-to-compute-precision-recall-accuracy-and-f1-score-for-the-multiclass-case"
   ]
  },
  {
   "cell_type": "markdown",
   "metadata": {},
   "source": [
    "## Prediction using different features"
   ]
  },
  {
   "cell_type": "code",
   "execution_count": null,
   "metadata": {},
   "outputs": [],
   "source": [
    "# Naive Bayes on Count Vectors\n",
    "score = train_model(naive_bayes.GaussianNB(), xtrain_count.toarray(), train_y, xvalid_count.toarray())\n",
    "print(\"NB, Count Vectors: \", score)\n",
    "\n",
    "# Naive Bayes on Word Level TF IDF Vectors\n",
    "score = train_model(naive_bayes.MultinomialNB(), xtrain_tfidf, train_y, xvalid_tfidf)\n",
    "print(\"NB, WordLevel TF-IDF: \", score)\n",
    "\n",
    "# Naive Bayes on Ngram Level TF IDF Vectors\n",
    "score = train_model(naive_bayes.MultinomialNB(), xtrain_tfidf_ngram, train_y, xvalid_tfidf_ngram)\n",
    "print(\"NB, N-Gram Vectors: \", score)\n",
    "\n",
    "# Naive Bayes on Character Level TF IDF Vectors\n",
    "score = train_model(naive_bayes.MultinomialNB(), xtrain_tfidf_ngram_chars, train_y, xvalid_tfidf_ngram_chars)\n",
    "print(\"NB, CharLevel Vectors: \", score)\n",
    "## END MODEL BUILDING AND PREDICTION"
   ]
  },
  {
   "cell_type": "markdown",
   "metadata": {},
   "source": [
    "## Saving trained model to disk, along with vectorizer & label encoder"
   ]
  },
  {
   "cell_type": "code",
   "execution_count": null,
   "metadata": {},
   "outputs": [],
   "source": [
    "clf = naive_bayes.MultinomialNB()\n",
    "clf.fit(xtrain_tfidf_ngram, train_y)"
   ]
  },
  {
   "cell_type": "code",
   "execution_count": null,
   "metadata": {},
   "outputs": [],
   "source": [
    "with open('vectorizer.pkl', 'wb') as f:\n",
    "    pickle.dump(tfidf_vect_ngram, f, pickle.HIGHEST_PROTOCOL)\n",
    "with open('clf.pkl', 'wb') as f:\n",
    "    pickle.dump(clf, f, pickle.HIGHEST_PROTOCOL)\n",
    "with open('encoder.pkl', 'wb') as f:\n",
    "    pickle.dump(encoder, f)"
   ]
  },
  {
   "cell_type": "markdown",
   "metadata": {},
   "source": [
    "## Improving accuracy of the classifier\n",
    "Source : https://www.kaggle.com/abhishek/approaching-almost-any-nlp-problem-on-kaggle\n",
    "* ~~Update the training set by pulling the latest dump from CMS~~\n",
    "* ~~Change evaluation metric to multinomial log-loss / F1 score~~\n",
    "* ~~Remove numbers~~ \n",
    "* ~~Add interpretability to the model~~\n",
    "* ~~Logistic regression improved acc & F1 score from 69 to 73% for PHY~~\n",
    "* ~~Try XGBoost classifier~~\n",
    "* ~~Use Grid Search to optimize the parameters per subject including preprocessing params & model - On Kaggle - took a long time to finish. Kernel died midway~~\n",
    "* ~~Try Auto ML on Kaggle~~"
   ]
  },
  {
   "cell_type": "code",
   "execution_count": null,
   "metadata": {},
   "outputs": [],
   "source": []
  },
  {
   "cell_type": "code",
   "execution_count": null,
   "metadata": {},
   "outputs": [],
   "source": []
  }
 ],
 "metadata": {
  "kernelspec": {
   "display_name": "Python 3",
   "language": "python",
   "name": "python3"
  },
  "language_info": {
   "codemirror_mode": {
    "name": "ipython",
    "version": 3
   },
   "file_extension": ".py",
   "mimetype": "text/x-python",
   "name": "python",
   "nbconvert_exporter": "python",
   "pygments_lexer": "ipython3",
   "version": "3.6.7"
  }
 },
 "nbformat": 4,
 "nbformat_minor": 2
}
