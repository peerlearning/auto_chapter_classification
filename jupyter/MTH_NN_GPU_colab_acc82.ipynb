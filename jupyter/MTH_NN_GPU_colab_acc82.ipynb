{
  "nbformat": 4,
  "nbformat_minor": 0,
  "metadata": {
    "kernelspec": {
      "name": "python3",
      "display_name": "Python 3"
    },
    "language_info": {
      "codemirror_mode": {
        "name": "ipython",
        "version": 3
      },
      "file_extension": ".py",
      "mimetype": "text/x-python",
      "name": "python",
      "nbconvert_exporter": "python",
      "pygments_lexer": "ipython3",
      "version": "3.6.7"
    },
    "colab": {
      "name": "MTH_NN_GPU_colab_acc82.ipynb",
      "provenance": [],
      "collapsed_sections": [],
      "toc_visible": true
    },
    "accelerator": "GPU"
  },
  "cells": [
    {
      "cell_type": "code",
      "metadata": {
        "id": "FyhFrCavKqO8",
        "colab_type": "code",
        "colab": {}
      },
      "source": [
        "## Scikit learn libraries\n",
        "from sklearn import model_selection, preprocessing, linear_model, naive_bayes, metrics, svm\n",
        "from sklearn.feature_extraction.text import TfidfVectorizer, CountVectorizer\n",
        "from sklearn.linear_model import LogisticRegression, SGDClassifier\n",
        "from sklearn.pipeline import make_pipeline\n",
        "from sklearn.ensemble import RandomForestClassifier\n",
        "from sklearn.preprocessing import LabelBinarizer, LabelEncoder\n",
        "\n",
        "## For NLP\n",
        "from bs4 import BeautifulSoup, Tag    ## Cleaning HTML tags from text\n",
        "import nltk, string\n",
        "from nltk.corpus import stopwords \n",
        "import re\n",
        "\n",
        "## Glove vectors\n",
        "from tqdm import tqdm                 ## Progress bar for loading GloVe embeddings\n",
        "from nltk import word_tokenize        ## For GloVe\n",
        "\n",
        "## Common Python libraries\n",
        "import pandas as pd\n",
        "import numpy as np\n",
        "import matplotlib.pyplot as plt\n",
        "import seaborn as sns\n",
        "from time import time\n",
        "\n",
        "## Data I/O\n",
        "import json     ## To convert json raw data to df\n",
        "import pickle   ## saving the model to disk\n",
        "\n",
        "import xgboost as xgb\n",
        "from scipy.stats import uniform, randint\n",
        "\n",
        "from tensorflow import keras\n",
        "from keras.models import Sequential\n",
        "from keras.layers.recurrent import LSTM, GRU\n",
        "from keras.layers.embeddings import Embedding\n",
        "from keras.layers import Dense, Activation, Dropout\n",
        "from keras.layers.normalization import BatchNormalization\n",
        "from keras.preprocessing import text, sequence\n",
        "from keras import utils\n",
        "from keras.optimizers import SGD, Adam\n",
        "from keras.callbacks import EarlyStopping\n",
        "from keras.callbacks import LearningRateScheduler\n",
        "from keras.utils import np_utils\n",
        "from keras.layers import GlobalMaxPooling1D, Conv1D, MaxPooling1D, Flatten, Bidirectional, SpatialDropout1D\n",
        "\n",
        "## Problem texts can be long and may not load on Jupyter\n",
        "pd.set_option('display.max_colwidth', -1)"
      ],
      "execution_count": 0,
      "outputs": []
    },
    {
      "cell_type": "code",
      "metadata": {
        "id": "LyfzUsDQWoVv",
        "colab_type": "code",
        "outputId": "34112c18-3303-40a3-dceb-59778d36431e",
        "colab": {
          "base_uri": "https://localhost:8080/",
          "height": 34
        }
      },
      "source": [
        "## Check if GPU is loaded\n",
        "import tensorflow as tf \n",
        "tf.test.gpu_device_name() \n"
      ],
      "execution_count": 2,
      "outputs": [
        {
          "output_type": "execute_result",
          "data": {
            "text/plain": [
              "'/device:GPU:0'"
            ]
          },
          "metadata": {
            "tags": []
          },
          "execution_count": 2
        }
      ]
    },
    {
      "cell_type": "code",
      "metadata": {
        "id": "9D1ynV4LMRO1",
        "colab_type": "code",
        "outputId": "e6b8860d-69d7-41f6-adf4-ec429529cb6b",
        "colab": {
          "base_uri": "https://localhost:8080/",
          "height": 544
        }
      },
      "source": [
        "## Check specs of GPU\n",
        "from tensorflow.python.client import device_lib\n",
        "print(device_lib.list_local_devices())"
      ],
      "execution_count": 3,
      "outputs": [
        {
          "output_type": "stream",
          "text": [
            "[name: \"/device:CPU:0\"\n",
            "device_type: \"CPU\"\n",
            "memory_limit: 268435456\n",
            "locality {\n",
            "}\n",
            "incarnation: 8933756743931802250\n",
            ", name: \"/device:XLA_CPU:0\"\n",
            "device_type: \"XLA_CPU\"\n",
            "memory_limit: 17179869184\n",
            "locality {\n",
            "}\n",
            "incarnation: 9463496549092067409\n",
            "physical_device_desc: \"device: XLA_CPU device\"\n",
            ", name: \"/device:XLA_GPU:0\"\n",
            "device_type: \"XLA_GPU\"\n",
            "memory_limit: 17179869184\n",
            "locality {\n",
            "}\n",
            "incarnation: 5985819777112208511\n",
            "physical_device_desc: \"device: XLA_GPU device\"\n",
            ", name: \"/device:GPU:0\"\n",
            "device_type: \"GPU\"\n",
            "memory_limit: 11330115994\n",
            "locality {\n",
            "  bus_id: 1\n",
            "  links {\n",
            "  }\n",
            "}\n",
            "incarnation: 10562221072833165470\n",
            "physical_device_desc: \"device: 0, name: Tesla K80, pci bus id: 0000:00:04.0, compute capability: 3.7\"\n",
            "]\n"
          ],
          "name": "stdout"
        }
      ]
    },
    {
      "cell_type": "code",
      "metadata": {
        "id": "OUFQyj_hMxZP",
        "colab_type": "code",
        "outputId": "137e69dd-5592-4037-ab77-294cc254a8f9",
        "colab": {
          "base_uri": "https://localhost:8080/",
          "height": 289
        }
      },
      "source": [
        "!nvidia-smi"
      ],
      "execution_count": 4,
      "outputs": [
        {
          "output_type": "stream",
          "text": [
            "Tue Oct 22 05:54:54 2019       \n",
            "+-----------------------------------------------------------------------------+\n",
            "| NVIDIA-SMI 430.40       Driver Version: 418.67       CUDA Version: 10.1     |\n",
            "|-------------------------------+----------------------+----------------------+\n",
            "| GPU  Name        Persistence-M| Bus-Id        Disp.A | Volatile Uncorr. ECC |\n",
            "| Fan  Temp  Perf  Pwr:Usage/Cap|         Memory-Usage | GPU-Util  Compute M. |\n",
            "|===============================+======================+======================|\n",
            "|   0  Tesla K80           Off  | 00000000:00:04.0 Off |                    0 |\n",
            "| N/A   39C    P0    58W / 149W |     69MiB / 11441MiB |      0%      Default |\n",
            "+-------------------------------+----------------------+----------------------+\n",
            "                                                                               \n",
            "+-----------------------------------------------------------------------------+\n",
            "| Processes:                                                       GPU Memory |\n",
            "|  GPU       PID   Type   Process name                             Usage      |\n",
            "|=============================================================================|\n",
            "+-----------------------------------------------------------------------------+\n"
          ],
          "name": "stdout"
        }
      ]
    },
    {
      "cell_type": "code",
      "metadata": {
        "id": "Z-eX8GdSNGNH",
        "colab_type": "code",
        "outputId": "a4ca2814-af01-4a84-f3ab-63dfabc25835",
        "colab": {
          "base_uri": "https://localhost:8080/",
          "height": 122
        }
      },
      "source": [
        "from google.colab import drive\n",
        "drive.mount('/content/gdrive')"
      ],
      "execution_count": 5,
      "outputs": [
        {
          "output_type": "stream",
          "text": [
            "Go to this URL in a browser: https://accounts.google.com/o/oauth2/auth?client_id=947318989803-6bn6qk8qdgf4n4g3pfee6491hc0brc4i.apps.googleusercontent.com&redirect_uri=urn%3Aietf%3Awg%3Aoauth%3A2.0%3Aoob&scope=email%20https%3A%2F%2Fwww.googleapis.com%2Fauth%2Fdocs.test%20https%3A%2F%2Fwww.googleapis.com%2Fauth%2Fdrive%20https%3A%2F%2Fwww.googleapis.com%2Fauth%2Fdrive.photos.readonly%20https%3A%2F%2Fwww.googleapis.com%2Fauth%2Fpeopleapi.readonly&response_type=code\n",
            "\n",
            "Enter your authorization code:\n",
            "··········\n",
            "Mounted at /content/gdrive\n"
          ],
          "name": "stdout"
        }
      ]
    },
    {
      "cell_type": "code",
      "metadata": {
        "id": "I-7I0vr_NWEH",
        "colab_type": "code",
        "outputId": "8c6315b2-bffd-4112-acaa-9d1ee91b89fa",
        "colab": {
          "base_uri": "https://localhost:8080/",
          "height": 34
        }
      },
      "source": [
        "!ls"
      ],
      "execution_count": 6,
      "outputs": [
        {
          "output_type": "stream",
          "text": [
            "gdrive\tsample_data\n"
          ],
          "name": "stdout"
        }
      ]
    },
    {
      "cell_type": "code",
      "metadata": {
        "id": "MilVPfeQNuaz",
        "colab_type": "code",
        "colab": {}
      },
      "source": [
        "#!mkdir \"/content/gdrive/My Drive/chapter_clf/\"\n",
        "#!cd \"/content/gdrive/My Drive/chapter_clf/\"\n",
        "#!mv qs_topicwise.json 'gdrive/My Drive/chapter_clf'"
      ],
      "execution_count": 0,
      "outputs": []
    },
    {
      "cell_type": "code",
      "metadata": {
        "id": "-ryuwcU2QSuh",
        "colab_type": "code",
        "outputId": "943e96c7-726f-4253-e76a-c10b439d6de0",
        "colab": {
          "base_uri": "https://localhost:8080/",
          "height": 102
        }
      },
      "source": [
        "nltk.download('stopwords')\n",
        "nltk.download('punkt')"
      ],
      "execution_count": 7,
      "outputs": [
        {
          "output_type": "stream",
          "text": [
            "[nltk_data] Downloading package stopwords to /root/nltk_data...\n",
            "[nltk_data]   Unzipping corpora/stopwords.zip.\n",
            "[nltk_data] Downloading package punkt to /root/nltk_data...\n",
            "[nltk_data]   Unzipping tokenizers/punkt.zip.\n"
          ],
          "name": "stdout"
        },
        {
          "output_type": "execute_result",
          "data": {
            "text/plain": [
              "True"
            ]
          },
          "metadata": {
            "tags": []
          },
          "execution_count": 7
        }
      ]
    },
    {
      "cell_type": "markdown",
      "metadata": {
        "id": "6pOlADYOKqPF",
        "colab_type": "text"
      },
      "source": [
        "## Extract subject wise training data"
      ]
    },
    {
      "cell_type": "code",
      "metadata": {
        "id": "XdfG3XqGKqPG",
        "colab_type": "code",
        "outputId": "8e3228a5-edd6-4010-a4f8-8800b8e52ba1",
        "colab": {
          "base_uri": "https://localhost:8080/",
          "height": 142
        }
      },
      "source": [
        "# Load the dataset and show sample question\n",
        "with open('/content/gdrive/My Drive/chapter_clf/qs_topicwise.json') as json_data:\n",
        "    all_questions = json.load(json_data)\n",
        "\n",
        "subject_model = ['MTH']\n",
        "\n",
        "## Create empty df \n",
        "data_df = pd.DataFrame(columns=['code', 'curriculum', 'subject', 'grade', 'question_text', 'chapter'])\n",
        "\n",
        "## Removing these words improves Phy clf accuracy by 2% but improves Math classifier accuracy\n",
        "words_to_remove = [\"rightarrow\", \"hence\", \"frac\", \"text\", \"sqrt\", \"times\", \n",
        "                   \"value\", \"amp\", \"statement\", \"will\", \"equal\", \"number\", \n",
        "                   \"tan\", \"now\", \"can\", \"two\", \"get\", \"true\", \"lambda\", \"a\", \"an\", \"the\"]\n",
        "stop_words = stopwords.words('english')         ## Downloaded from NLTK\n",
        "'''\n",
        "for PHY - removing Stopwords reduce acc & f1 score : 67% -> 63%, 74% -> 72%\n",
        "for CHM - removing Stopwords reduce acc & f1 score by 6%\n",
        "for MTH - \n",
        "'''\n",
        "\n",
        "## Remove dummy and empty chapters\n",
        "chapters_to_remove = ['Selection Test', 'Repository', 'Bridge Intervention Curriculum', \n",
        "                      'M1.1 Scaffold test', 'Tally Marks', 'Dummy']\n",
        "chapters_with_no_data = ['Static Electricity', 'Experimental Skills', 'Nuclear Chemistry', \n",
        "                         'Principle of Mathematical Induction', 'Environmental Chemistry']\n",
        "\n",
        "## Regex pattern for alpha numeric - Improves accuracy & f1-score for Phy by 2%\n",
        "pattern = re.compile('[\\W_]+')\n",
        "\n",
        "i = 0\n",
        "for question in all_questions:\n",
        "    try: \n",
        "        question_text = question['question_text'].lower()\n",
        "        ## Remove HTML tags from text using Beautiful Soup\n",
        "        '''\n",
        "        For MTH, it improves accuracy from 40% to 60% in MTH, \n",
        "        For PHY, it reduces accuracy from 60% to 20%. \n",
        "        For CHM, it increases accuracy from 50% to 52% \n",
        "        '''\n",
        "        question_text = BeautifulSoup(question_text, \"html.parser\").get_text() \n",
        "        ## Remove numbers\n",
        "        '''\n",
        "        For PHY, removing nos improved accuracy & F1 score by 0.5%\n",
        "        For CHM, removing nos improved acc by 2%\n",
        "        '''\n",
        "        question_text = ''.join(c for c in question_text if not c.isdigit())\n",
        "        ## Regex pattern for alpha numeric text\n",
        "        '''\n",
        "        For CHM, removing this regex improved score by 9%\n",
        "        '''\n",
        "        question_text = pattern.sub(\" \", question_text)\n",
        "        ## Remove stop words\n",
        "        '''\n",
        "        For CHM, keeping both sets of words, instead of removing them improved acc by 5%\n",
        "        '''\n",
        "        #question_text = \" \".join([word for word in question_text.split() if word not in words_to_remove])\n",
        "        #question_text = \" \".join([word for word in question_text.split() if word not in stop_words])\n",
        "        ## Remove extra whitespaces\n",
        "        question_text = \" \".join(question_text.split()) \n",
        "        ## Extracting elements for cleaner code\n",
        "        grade = question['grade']\n",
        "        curriculum = question['curriculum']\n",
        "        chapter = question['chapter']\n",
        "        subject = question['subject']\n",
        "        ## Filtering each question from JSON to add relevant Qs to dataframe \n",
        "        if(    \"JEE\" in curriculum and grade in [\"11\", \"12\"] and\n",
        "               chapter not in chapters_to_remove and\n",
        "               chapter not in chapters_with_no_data and\n",
        "               \"dummy\" not in question_text and subject in subject_model):\n",
        "                data_df.loc[i] = [question['problem_code'],curriculum, subject, \\\n",
        "                                  grade, question_text, chapter]\n",
        "                i += 1\n",
        "    except:\n",
        "            pass\n",
        "\n",
        "trainDF = pd.DataFrame(columns=['text', 'label'])\n",
        "trainDF['text'] = data_df['question_text']\n",
        "trainDF['label'] = data_df['chapter']\n",
        "trainDF.head(3)"
      ],
      "execution_count": 8,
      "outputs": [
        {
          "output_type": "execute_result",
          "data": {
            "text/html": [
              "<div>\n",
              "<style scoped>\n",
              "    .dataframe tbody tr th:only-of-type {\n",
              "        vertical-align: middle;\n",
              "    }\n",
              "\n",
              "    .dataframe tbody tr th {\n",
              "        vertical-align: top;\n",
              "    }\n",
              "\n",
              "    .dataframe thead th {\n",
              "        text-align: right;\n",
              "    }\n",
              "</style>\n",
              "<table border=\"1\" class=\"dataframe\">\n",
              "  <thead>\n",
              "    <tr style=\"text-align: right;\">\n",
              "      <th></th>\n",
              "      <th>text</th>\n",
              "      <th>label</th>\n",
              "    </tr>\n",
              "  </thead>\n",
              "  <tbody>\n",
              "    <tr>\n",
              "      <th>0</th>\n",
              "      <td>among the statements given below which one is correct</td>\n",
              "      <td>Inverse Trigonometry</td>\n",
              "    </tr>\n",
              "    <tr>\n",
              "      <th>1</th>\n",
              "      <td>sin left frac right</td>\n",
              "      <td>Inverse Trigonometry</td>\n",
              "    </tr>\n",
              "    <tr>\n",
              "      <th>2</th>\n",
              "      <td>the principal domain of cos 𝑥 is</td>\n",
              "      <td>Inverse Trigonometry</td>\n",
              "    </tr>\n",
              "  </tbody>\n",
              "</table>\n",
              "</div>"
            ],
            "text/plain": [
              "                                                    text                  label\n",
              "0  among the statements given below which one is correct  Inverse Trigonometry \n",
              "1  sin left frac right                                    Inverse Trigonometry \n",
              "2  the principal domain of cos 𝑥 is                       Inverse Trigonometry "
            ]
          },
          "metadata": {
            "tags": []
          },
          "execution_count": 8
        }
      ]
    },
    {
      "cell_type": "code",
      "metadata": {
        "id": "_hX9siu4KqPL",
        "colab_type": "code",
        "outputId": "76c31149-3c8e-4992-801d-dda55300791a",
        "colab": {
          "base_uri": "https://localhost:8080/",
          "height": 436
        }
      },
      "source": [
        "trainDF.label.value_counts().plot(kind=\"bar\")"
      ],
      "execution_count": 9,
      "outputs": [
        {
          "output_type": "execute_result",
          "data": {
            "text/plain": [
              "<matplotlib.axes._subplots.AxesSubplot at 0x7f67c0125550>"
            ]
          },
          "metadata": {
            "tags": []
          },
          "execution_count": 9
        },
        {
          "output_type": "display_data",
          "data": {
            "image/png": "[encoded data removed]",
            "text/plain": [
              "<Figure size 432x288 with 1 Axes>"
            ]
          },
          "metadata": {
            "tags": []
          }
        }
      ]
    },
    {
      "cell_type": "markdown",
      "metadata": {
        "id": "m_ZK4Qg8KqPO",
        "colab_type": "text"
      },
      "source": [
        "### Train test split"
      ]
    },
    {
      "cell_type": "code",
      "metadata": {
        "id": "vSDGTqnjKqPP",
        "colab_type": "code",
        "outputId": "b5b1a28a-a46f-41d7-cde0-3bf9cc1f5d13",
        "colab": {
          "base_uri": "https://localhost:8080/",
          "height": 34
        }
      },
      "source": [
        "train_x, valid_x, train_y, valid_y = model_selection.train_test_split(trainDF['text'], trainDF['label'], test_size=0.2)\n",
        "print(len(train_x), len(valid_x) )"
      ],
      "execution_count": 10,
      "outputs": [
        {
          "output_type": "stream",
          "text": [
            "7741 1936\n"
          ],
          "name": "stdout"
        }
      ]
    },
    {
      "cell_type": "markdown",
      "metadata": {
        "id": "B9vth4XuKqPR",
        "colab_type": "text"
      },
      "source": [
        "#### Label Encoding\n",
        "Label encoding is not needed for sklearn classifiers, as they are all capable of mutli-class classification, and handle label encoding automatically. Source :  https://stackoverflow.com/questions/51525043/encoding-labels-for-multi-class-problems-in-sckit-learn\n",
        "\n",
        "For non-sklearn models like NNs or XGB, we need to do label encoding"
      ]
    },
    {
      "cell_type": "code",
      "metadata": {
        "id": "kZl09n_hKqPT",
        "colab_type": "code",
        "outputId": "388f0896-984c-4370-9f1c-d9bcb1418348",
        "colab": {
          "base_uri": "https://localhost:8080/",
          "height": 34
        }
      },
      "source": [
        "# Use sklearn utility to convert label strings to numbered index\n",
        "encoder = LabelEncoder()\n",
        "encoder.fit(train_y)\n",
        "train_y = encoder.transform(train_y)\n",
        "valid_y = encoder.transform(valid_y)\n",
        "valid_y[0:5]"
      ],
      "execution_count": 11,
      "outputs": [
        {
          "output_type": "execute_result",
          "data": {
            "text/plain": [
              "array([ 2, 21, 23, 18, 24])"
            ]
          },
          "metadata": {
            "tags": []
          },
          "execution_count": 11
        }
      ]
    },
    {
      "cell_type": "markdown",
      "metadata": {
        "id": "GXrF04ttKqPW",
        "colab_type": "text"
      },
      "source": [
        "### Glove vectors\n",
        "Loading GloVe embeddings from Standford dataset : http://www-nlp.stanford.edu/data/glove.840B.300d.zip\n",
        "\n",
        "Already stored in Google Drive. \n",
        "Downloading takes roughly takes 16-20 mins\n"
      ]
    },
    {
      "cell_type": "code",
      "metadata": {
        "id": "zByOEh9jQxHx",
        "colab_type": "code",
        "colab": {}
      },
      "source": [
        "#!curl 'http://downloads.cs.stanford.edu/nlp/data/glove.840B.300d.zip' --output 'glove.840B.300d.zip'\n",
        "## Opening zip file\n",
        "#!unzip 'glove.840B.300d.zip' "
      ],
      "execution_count": 0,
      "outputs": []
    },
    {
      "cell_type": "code",
      "metadata": {
        "id": "OALafDQcKqPX",
        "colab_type": "code",
        "outputId": "2b098fc9-d634-4aff-c244-6532faf9026f",
        "colab": {
          "base_uri": "https://localhost:8080/",
          "height": 51
        }
      },
      "source": [
        "## Source - https://www.kaggle.com/abhishek/approaching-almost-any-nlp-problem-on-kaggle\n",
        "## Load the GloVe vectors in a dictionary. Create a map of words to vectors\n",
        "## Roughly takes 3-4 mins\n",
        "\n",
        "embeddings_index = {}\n",
        "f = open('/content/gdrive/My Drive/chapter_clf/glove.840B.300d.txt', 'r', encoding='utf8', errors = 'ignore')\n",
        "\n",
        "for line in tqdm(f):     ## tqdm adds a progress bar\n",
        "    values = line.split()\n",
        "    word = ''.join(values[:-300])\n",
        "    coefs = np.asarray(values[-300:], dtype='float32')\n",
        "    embeddings_index[word] = coefs\n",
        "f.close()\n",
        "\n",
        "print('Found %s word vectors.' % len(embeddings_index))"
      ],
      "execution_count": 12,
      "outputs": [
        {
          "output_type": "stream",
          "text": [
            "2196017it [03:58, 9221.72it/s] \n"
          ],
          "name": "stderr"
        },
        {
          "output_type": "stream",
          "text": [
            "Found 2195892 word vectors.\n"
          ],
          "name": "stdout"
        }
      ]
    },
    {
      "cell_type": "code",
      "metadata": {
        "id": "7GaJjuadKqPa",
        "colab_type": "code",
        "colab": {}
      },
      "source": [
        "# this function creates a normalized vector for the whole sentence\n",
        "def sent2vec(s):\n",
        "    words = str(s).lower()\n",
        "    words = word_tokenize(words)\n",
        "    words = [w for w in words if not w in stop_words]\n",
        "    words = [w for w in words if w.isalpha()]\n",
        "    M = []\n",
        "    for w in words:\n",
        "        try:\n",
        "            M.append(embeddings_index[w])\n",
        "        except:\n",
        "            continue\n",
        "    M = np.array(M)\n",
        "    v = M.sum(axis=0)\n",
        "    if type(v) != np.ndarray:\n",
        "        return np.zeros(300)\n",
        "    return v / np.sqrt((v ** 2).sum())"
      ],
      "execution_count": 0,
      "outputs": []
    },
    {
      "cell_type": "code",
      "metadata": {
        "id": "fKLWsOKrKqPd",
        "colab_type": "code",
        "outputId": "fe8b3ff3-307a-4611-b169-e8e1a00ff131",
        "colab": {
          "base_uri": "https://localhost:8080/",
          "height": 51
        }
      },
      "source": [
        "# create sentence vectors using the above function for training and validation set\n",
        "xtrain_glove = [sent2vec(x) for x in tqdm(train_x)]\n",
        "xvalid_glove = [sent2vec(x) for x in tqdm(valid_x)]"
      ],
      "execution_count": 14,
      "outputs": [
        {
          "output_type": "stream",
          "text": [
            "100%|██████████| 7741/7741 [00:02<00:00, 3276.80it/s]\n",
            "100%|██████████| 1936/1936 [00:00<00:00, 3466.40it/s]\n"
          ],
          "name": "stderr"
        }
      ]
    },
    {
      "cell_type": "code",
      "metadata": {
        "id": "fkLA6rF-KqPf",
        "colab_type": "code",
        "colab": {
          "base_uri": "https://localhost:8080/",
          "height": 1000
        },
        "outputId": "b9051eec-98e9-43f2-f3e6-eea0234b9d78"
      },
      "source": [
        "xtrain_glove = np.array(xtrain_glove)\n",
        "xvalid_glove = np.array(xvalid_glove)\n",
        "xtrain_glove[0:3]"
      ],
      "execution_count": 15,
      "outputs": [
        {
          "output_type": "execute_result",
          "data": {
            "text/plain": [
              "array([[-2.98357233e-02,  5.93244210e-02, -3.93777415e-02,\n",
              "        -2.40260214e-02, -4.00610780e-03, -3.42061818e-02,\n",
              "        -2.07150057e-02,  4.57538180e-02,  4.68587428e-02,\n",
              "         4.16095674e-01, -3.94269191e-02,  5.08377999e-02,\n",
              "        -3.17059970e-03,  2.67142411e-02,  5.34973182e-02,\n",
              "        -5.31591242e-03, -3.90989892e-02,  3.64803851e-01,\n",
              "        -5.95493242e-02,  9.44644737e-04, -3.57961133e-02,\n",
              "        -1.09019447e-02,  1.22215599e-02,  2.95422208e-02,\n",
              "         1.98798720e-02, -5.42213023e-02,  2.09935568e-02,\n",
              "        -1.91258974e-02,  1.78287923e-03,  6.69915229e-03,\n",
              "        -1.54795917e-02,  5.61977103e-02,  2.19372902e-02,\n",
              "         3.82708609e-02,  3.49040050e-03, -4.03762758e-02,\n",
              "         9.95924138e-03, -4.60701771e-02, -1.06213503e-02,\n",
              "         7.39827706e-03,  9.93777998e-03, -7.94874039e-03,\n",
              "         2.48152185e-02,  1.40961735e-02, -1.78492777e-02,\n",
              "        -2.79223807e-02,  2.06330065e-02,  5.04964814e-02,\n",
              "        -1.36840586e-02,  2.69871335e-02,  1.63835678e-02,\n",
              "         4.30063643e-02,  2.52113445e-03, -2.61523072e-02,\n",
              "         1.27584664e-02,  3.30324881e-02,  2.28534359e-02,\n",
              "         1.97842680e-02,  1.97168402e-02, -5.19413874e-02,\n",
              "        -3.82983382e-03,  5.27851516e-03, -1.16640618e-02,\n",
              "        -2.56976876e-02, -5.73943742e-02, -2.95305103e-02,\n",
              "        -8.81406572e-03,  6.52377680e-02,  2.16363426e-02,\n",
              "        -6.95526078e-02,  8.43167026e-03,  1.08720534e-01,\n",
              "        -8.76999460e-03, -4.89030182e-02, -8.17373954e-03,\n",
              "        -2.66327728e-02, -1.60729215e-02, -1.79778994e-03,\n",
              "         7.38755148e-03,  4.63641845e-02, -1.93587318e-02,\n",
              "         5.35070263e-02,  1.95436347e-02,  3.95335704e-02,\n",
              "        -6.08316077e-05, -3.36418562e-02,  5.16891629e-02,\n",
              "        -1.47583922e-02,  2.34617665e-03, -2.46440414e-02,\n",
              "        -4.30737361e-02,  1.28629599e-02, -5.24801724e-02,\n",
              "         5.01149753e-03, -5.06447069e-02,  4.22019400e-02,\n",
              "         2.10598502e-02, -3.82548571e-03, -7.42568960e-03,\n",
              "         4.34758700e-02,  2.04661377e-02, -4.27260175e-02,\n",
              "        -1.22545594e-02,  3.59243378e-02,  2.50147022e-02,\n",
              "        -4.33937103e-01,  5.68043776e-02,  2.65641250e-02,\n",
              "        -3.59905995e-02,  6.41798973e-02, -3.09029464e-02,\n",
              "        -4.36212718e-02,  3.19042592e-03, -1.05562853e-02,\n",
              "        -1.62311569e-02,  9.82265268e-03, -9.03196931e-02,\n",
              "        -3.39160077e-02,  1.19564636e-02, -2.75710970e-02,\n",
              "         2.03750841e-02, -1.61900893e-02, -1.39464531e-02,\n",
              "         5.19031212e-02,  3.18207368e-02,  6.73878146e-03,\n",
              "        -1.32552097e-02, -2.29496439e-03, -1.78560037e-02,\n",
              "        -1.56735200e-02,  6.51291534e-02,  3.41407582e-02,\n",
              "         7.59448037e-02, -6.48493227e-03, -4.05977853e-02,\n",
              "         6.60461336e-02,  1.26986643e-02,  6.05569163e-04,\n",
              "        -2.14654990e-02, -2.21499726e-02, -2.11447850e-01,\n",
              "         1.90983526e-02, -5.35504557e-02,  3.53133120e-02,\n",
              "        -2.95531331e-03, -6.02512397e-02,  1.31359342e-02,\n",
              "         5.13964519e-02, -2.35907827e-02, -9.15220287e-03,\n",
              "         3.52846384e-02, -2.14278959e-02,  1.37014864e-02,\n",
              "         3.90852243e-03, -4.26622145e-02, -8.41686204e-02,\n",
              "        -4.50015850e-02,  3.53645980e-02, -1.29684526e-02,\n",
              "        -2.45666299e-02,  4.77776080e-02,  3.19552794e-02,\n",
              "        -3.79758403e-02, -2.65828869e-03, -1.06321082e-01,\n",
              "        -5.10449819e-02,  2.11960934e-02,  1.21529941e-02,\n",
              "        -2.40738411e-02,  2.65574902e-02,  3.02354638e-02,\n",
              "        -6.61216490e-03,  2.03541797e-02, -1.00169703e-01,\n",
              "        -2.32329033e-02, -6.72243983e-02, -1.60525125e-02,\n",
              "         5.96966036e-03, -1.65841877e-02, -7.44316280e-02,\n",
              "         6.09876141e-02,  3.83517630e-02, -2.11675279e-02,\n",
              "         3.22014801e-02, -6.07049204e-02,  5.97500429e-02,\n",
              "        -1.10414930e-01, -6.83434233e-02, -1.33108282e-02,\n",
              "         3.42560485e-02, -7.75667280e-03,  1.60377305e-02,\n",
              "        -4.86591309e-02, -3.94343026e-03,  7.16507062e-02,\n",
              "         3.85349011e-03,  2.45545898e-02, -3.14210169e-02,\n",
              "        -1.07075050e-01,  4.91574891e-02,  2.77529974e-02,\n",
              "        -6.11429773e-02,  3.62861529e-03,  5.14632650e-02,\n",
              "        -6.35150867e-03, -4.28405665e-02, -4.63737026e-02,\n",
              "        -2.79920362e-03,  2.56599090e-03,  2.72204820e-03,\n",
              "        -1.98887791e-02,  2.45437380e-02,  5.76891657e-03,\n",
              "        -4.89940904e-02, -6.21950626e-03, -8.83634144e-04,\n",
              "        -5.47107216e-03,  3.14175524e-02,  2.40986180e-02,\n",
              "         6.72933683e-02,  5.88913187e-02,  1.48726627e-02,\n",
              "        -5.41341268e-02, -2.85898312e-03, -3.56310494e-02,\n",
              "         1.17505144e-03, -3.96797694e-02, -2.21819803e-02,\n",
              "         4.66754287e-02,  1.94788408e-02,  9.04923957e-03,\n",
              "        -6.01424510e-03, -1.22812092e-02,  1.86944529e-02,\n",
              "         2.04424057e-02, -1.46857249e-02, -4.49011698e-02,\n",
              "         2.30341367e-02, -9.26679447e-02,  2.84018163e-02,\n",
              "        -4.03813925e-03,  1.54328756e-02,  2.86708381e-02,\n",
              "         1.65885761e-02, -1.50572089e-02, -1.00526158e-02,\n",
              "         1.20770790e-01, -2.51412410e-02, -6.36514323e-03,\n",
              "        -8.26724246e-02,  5.81804328e-02,  2.30567232e-02,\n",
              "         3.02209239e-02, -1.23451995e-02, -4.02876511e-02,\n",
              "         1.27632782e-01,  2.44772583e-02, -4.90144826e-04,\n",
              "         5.47564663e-02, -1.87664255e-02, -3.15993540e-02,\n",
              "         4.01219130e-02, -8.25623050e-02,  8.07628110e-02,\n",
              "        -1.28313359e-02, -3.30430903e-02,  5.25462888e-02,\n",
              "         1.68947596e-02,  1.49633378e-01, -3.25282030e-02,\n",
              "        -6.02797698e-03, -1.48639595e-02, -5.36920875e-02,\n",
              "        -4.95470129e-02, -1.04792841e-01, -3.87848504e-02,\n",
              "        -6.93185208e-03,  1.42813651e-02, -1.83741730e-02,\n",
              "         5.22271246e-02,  2.78038755e-02,  3.03473230e-02,\n",
              "         9.79234232e-04, -3.79125439e-02, -3.80734019e-02,\n",
              "        -3.16543579e-02, -1.03657320e-02,  1.02160629e-02,\n",
              "         4.14916277e-02,  5.81706055e-02,  1.03635574e-02,\n",
              "        -2.66448651e-02, -1.87891629e-02,  1.66987832e-06,\n",
              "         1.08709438e-02,  5.53773891e-04, -1.67970229e-02,\n",
              "        -2.33696830e-02,  2.58510932e-02,  2.73691304e-03],\n",
              "       [ 2.93680113e-02,  2.56323032e-02, -5.69743663e-02,\n",
              "        -2.51402310e-03,  4.89765741e-02,  5.24527170e-02,\n",
              "         4.89874631e-02, -5.38637601e-02,  3.77921015e-02,\n",
              "         3.43146712e-01, -5.46038151e-02, -3.21625136e-02,\n",
              "         1.65799018e-02, -4.33601551e-02, -1.99730843e-02,\n",
              "        -2.22150832e-02, -3.86444218e-02,  4.11325246e-01,\n",
              "        -4.09033671e-02,  9.90968477e-03,  8.12692381e-03,\n",
              "         3.81811000e-02, -1.24218985e-02,  6.37765788e-03,\n",
              "         4.12021466e-02, -9.36234817e-02, -1.71497408e-02,\n",
              "        -5.46292216e-02,  8.15244839e-02,  3.04399356e-02,\n",
              "         7.90382363e-03, -7.77630415e-03,  7.06879795e-02,\n",
              "        -3.68581749e-02,  4.52163676e-03,  1.60856284e-02,\n",
              "        -2.58738501e-03,  4.21650819e-02, -3.03856786e-02,\n",
              "        -2.66489387e-02,  8.88903160e-03, -1.65138487e-02,\n",
              "        -1.79396775e-02, -1.75694898e-02, -6.38240576e-02,\n",
              "        -3.18152755e-02, -8.45202710e-03,  1.44573422e-02,\n",
              "         3.30657810e-02,  2.59784516e-04, -5.19648120e-02,\n",
              "         5.54839112e-02,  6.45544454e-02,  4.30118898e-03,\n",
              "        -5.63993305e-02,  1.12685133e-02,  1.30547611e-02,\n",
              "        -3.76836210e-02,  4.24781367e-02,  3.18523645e-02,\n",
              "         7.71745108e-03,  5.81158772e-02, -4.24990915e-02,\n",
              "         3.53637263e-02,  2.52812076e-02,  7.06819147e-02,\n",
              "         2.15775147e-02,  4.88475524e-02,  4.81004007e-02,\n",
              "         3.76679264e-02,  3.02035660e-02,  1.03105463e-01,\n",
              "         3.16864401e-02, -5.28627858e-02,  8.00081044e-02,\n",
              "         3.01809218e-02,  1.49490824e-02, -3.20430566e-03,\n",
              "         2.61852853e-02,  4.66730110e-02,  2.93214731e-02,\n",
              "         2.91832909e-02, -4.35711220e-02,  3.30139846e-02,\n",
              "        -7.65168853e-03, -2.36867387e-02,  1.12132303e-01,\n",
              "        -9.46862921e-02,  2.10556351e-02,  2.31457017e-02,\n",
              "        -7.53581971e-02,  4.29203510e-02,  3.01930513e-02,\n",
              "        -4.08706106e-02, -4.07757722e-02,  3.29768248e-02,\n",
              "        -1.77321900e-02,  2.50782538e-02,  3.21436562e-02,\n",
              "         2.85269767e-02, -6.33258885e-03, -4.80862968e-02,\n",
              "         3.74738798e-02,  7.16399122e-03,  3.28407399e-02,\n",
              "        -1.87622443e-01,  8.17901567e-02, -1.51333772e-03,\n",
              "        -2.93134954e-02,  4.72474247e-02,  4.76670749e-02,\n",
              "        -3.41476314e-02,  2.94140354e-02,  4.80517596e-02,\n",
              "        -5.85438609e-02, -1.25361122e-02, -1.19220773e-02,\n",
              "         3.87752871e-03, -4.14287411e-02, -3.31311412e-02,\n",
              "         2.69083176e-02, -4.12229523e-02,  1.53805362e-02,\n",
              "         2.18651649e-02,  4.66315821e-02,  1.93406995e-02,\n",
              "         1.63998939e-02, -5.02044000e-02, -4.64302823e-02,\n",
              "        -2.99087875e-02,  2.95428056e-02,  1.39158845e-01,\n",
              "        -2.59889271e-02,  2.12809369e-02,  4.38224114e-02,\n",
              "         6.51943311e-02,  2.03718282e-02, -3.50253135e-02,\n",
              "         3.11269816e-02, -9.09261033e-03, -3.01049918e-01,\n",
              "         1.00649502e-02, -2.17651781e-02, -4.06536125e-02,\n",
              "        -1.49580534e-03, -6.48681968e-02,  5.81069849e-03,\n",
              "         1.57429166e-02,  6.61828264e-04, -1.96586028e-02,\n",
              "         2.88102869e-02,  8.02612770e-03,  2.04518554e-03,\n",
              "        -3.14556179e-03, -3.30329910e-02, -3.59300561e-02,\n",
              "        -2.91448599e-03,  3.18166018e-02,  2.39612442e-02,\n",
              "        -7.06720278e-02,  2.82096602e-02,  6.45018369e-03,\n",
              "        -5.33536030e-03, -4.63276450e-03, -6.21800721e-02,\n",
              "        -2.16119946e-03, -5.47956340e-02, -4.94348854e-02,\n",
              "        -5.09208255e-03, -3.15600121e-03,  2.21546870e-02,\n",
              "         5.92172146e-03, -4.12558541e-02, -3.90131250e-02,\n",
              "        -6.34060195e-03,  4.06080000e-02,  1.94841027e-02,\n",
              "         6.30203914e-03, -7.90107623e-02, -3.70620824e-02,\n",
              "         5.05203642e-02, -2.75274273e-03,  2.77719591e-02,\n",
              "         9.93191730e-03, -8.01340789e-02,  4.84780408e-02,\n",
              "        -8.47559199e-02, -2.09245812e-02,  4.46937717e-02,\n",
              "         3.50967050e-02, -3.25873494e-02,  1.08365547e-02,\n",
              "        -9.94687527e-02,  8.08666646e-02,  1.02470249e-01,\n",
              "        -6.76617445e-03, -7.19859125e-03, -5.81973046e-02,\n",
              "        -4.79306467e-02,  4.58041839e-02, -1.35211358e-02,\n",
              "        -5.73801585e-02,  3.14980373e-02,  5.98676428e-02,\n",
              "         6.21499354e-03,  3.15482542e-03, -2.04044245e-02,\n",
              "        -5.92911104e-03,  4.37366851e-02,  1.42352013e-02,\n",
              "        -6.94832802e-02,  6.35155803e-03, -5.75578474e-02,\n",
              "        -8.38507712e-02, -1.83888357e-02, -4.35349867e-02,\n",
              "        -6.78801024e-03,  7.27637485e-02, -6.87538758e-02,\n",
              "         2.27027778e-02,  7.19136000e-02,  5.51714785e-02,\n",
              "        -2.03702366e-03,  1.29987029e-02, -5.91157516e-03,\n",
              "         4.72805835e-02, -6.22448064e-02,  1.67276468e-02,\n",
              "         3.02656908e-02, -1.58994775e-02,  9.19627585e-03,\n",
              "        -2.94353161e-02,  4.08278592e-02,  5.10477945e-02,\n",
              "        -4.56002057e-02, -3.82284075e-02, -4.89432067e-02,\n",
              "         1.48658929e-02, -8.67804214e-02,  8.71869326e-02,\n",
              "         2.26746574e-02,  5.22134826e-02, -1.14233848e-02,\n",
              "         6.46488145e-02, -7.66356243e-03, -6.06718138e-02,\n",
              "         1.03481151e-01, -3.30995284e-02, -9.84325260e-03,\n",
              "        -5.68671338e-02,  6.57106638e-02,  1.10379914e-02,\n",
              "        -1.37905520e-03, -1.84194576e-02,  1.76846944e-02,\n",
              "         1.39973640e-01,  7.55897984e-02, -2.00566053e-02,\n",
              "        -3.07906279e-03, -4.58213203e-02, -1.57569591e-02,\n",
              "         1.98960342e-02, -2.90849619e-02,  4.63329488e-03,\n",
              "         1.58436969e-02,  5.16953459e-03,  2.90629752e-02,\n",
              "         2.01946385e-02,  1.68005437e-01, -4.20825891e-02,\n",
              "        -8.57833587e-03,  3.93024273e-02,  6.59440528e-04,\n",
              "        -5.75063974e-02, -3.78390439e-02, -7.40381423e-03,\n",
              "        -1.31473588e-02,  4.78539281e-02, -2.16567721e-02,\n",
              "         8.66387710e-02, -5.64760156e-03,  8.21893215e-02,\n",
              "        -4.32274081e-02, -2.71212347e-02,  5.44381812e-02,\n",
              "        -8.69949758e-02,  5.81078604e-02,  1.20287873e-02,\n",
              "         9.77094471e-02,  3.55878174e-02,  3.90708335e-02,\n",
              "        -2.88804006e-02, -6.94961473e-02, -3.10032442e-02,\n",
              "         2.93996241e-02, -7.50029534e-02, -7.15303654e-03,\n",
              "        -6.84488416e-02,  5.34968975e-04,  2.40305420e-02],\n",
              "       [ 1.78530458e-02,  8.30448642e-02, -8.78142416e-02,\n",
              "        -6.32322580e-02,  8.11801329e-02, -3.03604417e-02,\n",
              "        -5.46327755e-02, -6.26999959e-02, -5.65360024e-05,\n",
              "         1.25914797e-01, -3.12466472e-02,  2.17495696e-03,\n",
              "        -2.08417773e-02, -1.20615754e-02, -4.51141112e-02,\n",
              "         1.16323913e-02, -7.23479614e-02,  3.15369010e-01,\n",
              "        -1.12758905e-01, -1.19870035e-02,  1.15748451e-04,\n",
              "         5.26319966e-02, -5.63915633e-02, -4.47026454e-03,\n",
              "        -4.52767219e-03, -9.17630494e-02, -4.80983667e-02,\n",
              "         1.90754160e-02,  6.86805546e-02,  7.74394721e-02,\n",
              "        -1.17263552e-02,  7.36610615e-04,  3.61860059e-02,\n",
              "         9.33056884e-03,  3.08846179e-02, -2.59924755e-02,\n",
              "        -8.19289684e-03, -3.14452834e-02, -4.47697118e-02,\n",
              "        -6.30831942e-02,  1.59028952e-03, -3.78200263e-02,\n",
              "        -6.31605983e-02, -3.71353365e-02, -5.44840693e-02,\n",
              "         5.52604347e-02, -4.12850454e-02,  4.66454290e-02,\n",
              "         1.46638639e-02, -6.83464482e-02,  2.32006293e-02,\n",
              "         2.15443354e-02,  3.58527228e-02,  3.15269753e-02,\n",
              "        -1.06842611e-02,  5.94342723e-02, -3.23669836e-02,\n",
              "         6.97822450e-03,  4.36893962e-02,  4.96739782e-02,\n",
              "        -7.09339529e-02,  3.24501726e-03,  1.37688061e-02,\n",
              "        -2.54444350e-02,  5.53618558e-02, -4.16085124e-02,\n",
              "        -2.63860857e-04,  9.31856222e-03,  3.84377167e-02,\n",
              "        -2.14382671e-02, -8.56473949e-03,  6.61665946e-02,\n",
              "        -2.17531025e-02,  5.20102717e-02,  4.90723066e-02,\n",
              "         1.98245458e-02, -1.14454888e-02,  1.75042357e-02,\n",
              "        -2.72853952e-02, -1.16315223e-02,  4.34222855e-02,\n",
              "         5.31953834e-02, -1.84358191e-02,  1.06036641e-01,\n",
              "        -5.42398635e-03, -7.61069183e-04,  2.21318856e-01,\n",
              "        -1.40073836e-01,  1.83825810e-02,  2.12940201e-02,\n",
              "        -5.63053787e-02,  1.60263805e-03,  2.57910173e-02,\n",
              "        -2.36868821e-02,  2.61772554e-02,  4.93523926e-02,\n",
              "        -5.55412620e-02,  2.66723242e-02, -2.34181248e-02,\n",
              "        -6.55731698e-03,  1.98890306e-02, -9.54876468e-02,\n",
              "        -1.30036066e-03, -3.94077562e-02,  5.13204001e-02,\n",
              "        -1.20351411e-01,  6.80266246e-02,  6.71126246e-02,\n",
              "        -5.58128282e-02,  8.90945494e-02, -4.46904041e-02,\n",
              "        -5.50280698e-02,  3.88960503e-02,  4.23342697e-02,\n",
              "         2.12389720e-03,  7.75163025e-02,  1.35111632e-02,\n",
              "        -2.41475310e-02,  1.35831786e-02, -5.58362119e-02,\n",
              "        -6.69842772e-03,  2.43390016e-02,  9.73051935e-02,\n",
              "        -1.03481170e-02, -1.42169297e-02,  4.34621014e-02,\n",
              "        -1.90310855e-03, -2.91132368e-02, -1.54624451e-02,\n",
              "         1.01882862e-02, -9.47864167e-03,  1.13910533e-01,\n",
              "         7.40675069e-03,  2.84738243e-02,  1.50597384e-02,\n",
              "        -2.60459855e-02,  2.90790945e-02, -2.09671613e-02,\n",
              "         2.65215337e-03, -3.39973345e-02, -3.40079516e-01,\n",
              "         8.28145887e-04, -4.14500795e-02,  5.65649495e-02,\n",
              "         1.03312097e-01, -3.68373394e-02, -5.11246435e-02,\n",
              "         2.79285153e-03, -1.90431345e-02, -5.13773896e-02,\n",
              "        -8.90385509e-02, -6.52202778e-03,  1.90788377e-02,\n",
              "        -4.00650868e-04, -3.45198289e-02, -9.38529372e-02,\n",
              "        -3.16112265e-02,  4.94028740e-02,  5.08207195e-02,\n",
              "        -1.28834229e-02,  3.41820554e-03,  3.97446379e-02,\n",
              "        -1.07581668e-01, -7.55185680e-03,  3.20165674e-03,\n",
              "        -1.33315064e-02, -7.54850134e-02,  3.04281786e-02,\n",
              "        -2.49959202e-03, -4.16151620e-02, -2.71782223e-02,\n",
              "        -5.56290895e-02, -1.14649259e-01, -8.58813226e-02,\n",
              "        -2.09451709e-02, -7.87197724e-02, -2.51584575e-02,\n",
              "         4.04211506e-03,  2.95505337e-02, -4.18936387e-02,\n",
              "         4.89188023e-02, -2.99382564e-02,  4.55962121e-02,\n",
              "        -4.62554721e-03, -5.26901819e-02,  3.49208079e-02,\n",
              "        -8.46152976e-02, -3.89149114e-02,  6.56118989e-02,\n",
              "         8.57578740e-02, -8.85423447e-04,  3.60481478e-02,\n",
              "        -5.26562110e-02, -7.99129531e-03,  1.05614655e-01,\n",
              "        -5.51677458e-02,  5.11113405e-02, -1.28650993e-01,\n",
              "        -8.73116404e-02,  6.12778850e-02,  6.48533460e-04,\n",
              "         4.47900929e-02,  1.27754565e-02,  6.22110628e-02,\n",
              "         3.36549897e-03, -4.47376743e-02, -2.23482698e-02,\n",
              "        -3.70419882e-02, -6.21265359e-02, -2.50458140e-02,\n",
              "         3.13101001e-02, -6.50521368e-02,  2.73233298e-02,\n",
              "        -6.08419478e-02,  1.91426594e-02, -4.27373545e-03,\n",
              "        -1.38612464e-02, -1.10730045e-02, -7.78553560e-02,\n",
              "         9.81604308e-02, -2.07140464e-02, -2.95498352e-02,\n",
              "        -5.33951297e-02, -6.71031550e-02, -2.79384106e-03,\n",
              "         7.98157752e-02, -5.55503219e-02, -2.42513772e-02,\n",
              "         4.17597704e-02, -3.21002826e-02, -3.38492617e-02,\n",
              "        -6.23668395e-02,  1.07079312e-01, -3.46225239e-02,\n",
              "         4.20483798e-02, -3.59143876e-02,  4.10867371e-02,\n",
              "         1.21618006e-02, -7.66957775e-02,  4.11652997e-02,\n",
              "         4.35411185e-02,  1.07041830e-02,  1.57490764e-02,\n",
              "         1.16550379e-01, -6.32894486e-02,  1.93454586e-02,\n",
              "        -7.18587870e-03, -7.71279261e-02, -5.84716462e-02,\n",
              "         1.01331454e-02,  2.32393369e-02, -4.11439314e-02,\n",
              "         3.36722881e-02, -1.35247812e-01,  2.76550483e-02,\n",
              "         1.50357308e-02, -2.63641495e-02,  1.16232913e-02,\n",
              "        -3.21012326e-02, -2.25209892e-02, -3.14468071e-02,\n",
              "         8.42927024e-02, -1.38850063e-02, -1.06590381e-02,\n",
              "         3.42577361e-02, -1.49458833e-02,  1.01986565e-02,\n",
              "        -4.26988825e-02,  1.47272767e-02, -3.54903303e-02,\n",
              "         3.67836026e-03, -1.20500466e-02, -4.61735316e-02,\n",
              "        -2.08148453e-02, -7.45782554e-02, -8.49472210e-02,\n",
              "        -8.29938874e-02,  2.38256948e-03, -8.33089203e-02,\n",
              "        -6.58827974e-03, -3.13232802e-02,  3.35820690e-02,\n",
              "         2.19212752e-03,  2.18585972e-02,  8.07147101e-02,\n",
              "         2.52307244e-02,  1.23920618e-02, -2.17098650e-02,\n",
              "         3.18380706e-02,  1.20535590e-01,  4.92947511e-02,\n",
              "        -5.07475398e-02, -1.05488580e-02, -8.46659839e-02,\n",
              "         7.65022859e-02, -4.37358469e-02, -4.04371545e-02,\n",
              "        -2.36070026e-02,  5.35186604e-02,  2.53797090e-03]])"
            ]
          },
          "metadata": {
            "tags": []
          },
          "execution_count": 15
        }
      ]
    },
    {
      "cell_type": "markdown",
      "metadata": {
        "id": "b24qzG3AKqPi",
        "colab_type": "text"
      },
      "source": [
        "### Trying LSTM on GloVe features\n",
        "Source : https://www.kaggle.com/abhishek/approaching-almost-any-nlp-problem-on-kaggle"
      ]
    },
    {
      "cell_type": "code",
      "metadata": {
        "id": "kW1eRINrKqPj",
        "colab_type": "code",
        "colab": {
          "base_uri": "https://localhost:8080/",
          "height": 1000
        },
        "outputId": "84b83a01-9465-4ca8-ed55-ec96dc0f25a9"
      },
      "source": [
        "# scale the data before any neural net:\n",
        "scl = preprocessing.StandardScaler()\n",
        "xtrain_glove_scl = scl.fit_transform(xtrain_glove)\n",
        "xvalid_glove_scl = scl.transform(xvalid_glove)\n",
        "xtrain_glove_scl[0:3]"
      ],
      "execution_count": 16,
      "outputs": [
        {
          "output_type": "execute_result",
          "data": {
            "text/plain": [
              "array([[-8.51467583e-01, -2.39721935e-01,  8.24279887e-01,\n",
              "         8.51234109e-02, -1.19851403e+00, -1.01054055e+00,\n",
              "         1.18428013e-01,  1.12489622e+00,  1.26977981e+00,\n",
              "         1.11648958e+00, -5.36949262e-01,  1.40355278e+00,\n",
              "         1.92949831e-01,  1.47184531e+00,  1.78578706e+00,\n",
              "        -6.26197125e-02, -2.03616661e-01, -3.53888117e-01,\n",
              "         1.69322975e-01,  4.94955067e-01, -6.00331570e-01,\n",
              "        -1.00436308e+00,  1.41967761e+00,  7.70483314e-01,\n",
              "        -2.64210776e-01,  3.26611048e-01,  1.36957520e+00,\n",
              "        -1.01973516e+00, -6.03442822e-01, -1.32605574e+00,\n",
              "         3.31508587e-01,  1.33265545e+00,  1.36111598e-01,\n",
              "         8.75944475e-01, -6.29796423e-01, -3.43677787e-01,\n",
              "         4.15105047e-01, -9.96656738e-01,  8.18448010e-01,\n",
              "         1.74246902e+00,  6.06895118e-01,  5.74313080e-01,\n",
              "         1.57659040e+00,  9.13151197e-01,  6.14833629e-01,\n",
              "        -9.93739555e-01,  1.23141927e+00,  3.02904145e-01,\n",
              "        -8.33860069e-01,  1.17231147e+00,  6.20701272e-01,\n",
              "         2.26030171e-01, -2.24451024e-01, -1.20134825e+00,\n",
              "         9.21560656e-01,  5.17399694e-02,  5.93824892e-01,\n",
              "        -1.43928015e-01, -5.38298938e-02, -2.06564967e+00,\n",
              "        -1.44206682e-01, -6.52801331e-01, -1.23528188e-01,\n",
              "        -1.10627316e+00, -1.70435491e+00, -4.32714208e-01,\n",
              "        -4.67866114e-01,  1.14582902e+00, -5.85809622e-01,\n",
              "        -1.62871976e+00,  2.10676549e-01,  1.50495974e+00,\n",
              "        -3.20209117e-01, -1.41101432e+00, -9.97024945e-01,\n",
              "        -1.08747950e+00,  2.18023313e-01,  3.50016655e-01,\n",
              "        -2.97187873e-01,  6.58860282e-01, -6.87415268e-01,\n",
              "         5.97189097e-01,  9.63099854e-01, -4.17942555e-01,\n",
              "         3.53531572e-01, -7.92303336e-01, -1.11968883e+00,\n",
              "         8.69470421e-01, -6.03689830e-01, -8.28357264e-01,\n",
              "         1.04967463e-01, -3.11177742e-01, -2.34775703e+00,\n",
              "         1.57776965e+00, -1.13082166e+00,  2.43683961e-01,\n",
              "         1.73050900e+00, -7.66229907e-01,  1.30834429e-01,\n",
              "         1.39823282e+00, -5.06796477e-01, -6.98122284e-01,\n",
              "        -4.24887401e-01,  1.71488568e+00,  2.14052743e-02,\n",
              "        -2.17799220e+00,  1.08496242e-01,  9.45673564e-02,\n",
              "        -7.00966389e-03,  5.59588235e-01, -3.10588298e-01,\n",
              "        -5.20236633e-01, -6.26728332e-01, -1.32209962e+00,\n",
              "        -6.18766694e-01, -8.13242113e-01, -2.05408919e+00,\n",
              "        -2.31410408e-01,  3.41350576e-02, -3.34535913e-01,\n",
              "         8.76241646e-01, -5.15216143e-01, -1.49853397e+00,\n",
              "         1.28583043e+00,  1.31827728e+00, -5.02035404e-01,\n",
              "        -9.38514422e-01,  5.94994401e-01, -5.50326063e-01,\n",
              "         1.07635526e-01,  1.93155778e+00, -1.62239567e+00,\n",
              "         1.70509559e+00, -1.02337269e+00, -1.59942060e+00,\n",
              "         1.52069474e+00, -4.08365772e-01,  8.59375007e-01,\n",
              "        -6.14070253e-01, -1.85491436e-01,  2.73128047e-01,\n",
              "         7.85906540e-01, -8.47038665e-01,  5.43486976e-01,\n",
              "        -1.25975656e+00, -3.22975428e-01,  6.91370701e-01,\n",
              "         1.34984752e+00, -4.50702933e-01,  2.26025929e-01,\n",
              "         1.40515585e+00, -1.04288710e+00,  3.29901446e-01,\n",
              "        -2.23344698e-01, -4.50017733e-01, -1.21982956e+00,\n",
              "        -1.88328204e-01,  6.41656634e-02, -7.14657039e-01,\n",
              "        -7.09572392e-01,  4.81410941e-01,  4.89403920e-01,\n",
              "         3.30406767e-01,  6.07384525e-01, -2.16909752e+00,\n",
              "        -9.53858532e-01,  1.86546248e+00,  4.04759272e-01,\n",
              "        -3.33986193e-01,  6.27273628e-01,  6.61247476e-01,\n",
              "         5.25886103e-01,  1.73618327e+00, -1.11785481e+00,\n",
              "        -1.56332056e-01, -9.37035182e-01, -5.09370958e-01,\n",
              "         2.88802326e-01, -7.71902043e-01, -3.93952212e-01,\n",
              "         8.43483004e-01,  1.39250201e+00, -1.61301974e+00,\n",
              "         1.84831870e+00, -7.91480491e-02,  1.98624376e-01,\n",
              "        -9.06380493e-01, -1.53959159e+00, -1.01400470e+00,\n",
              "        -4.03733891e-01,  7.89062811e-01, -3.61497254e-01,\n",
              "        -1.52550626e-01,  7.77128662e-02, -2.17141122e-02,\n",
              "         9.54971042e-01,  2.96257707e-02,  1.19189747e+00,\n",
              "        -1.21364206e+00,  1.76388065e-01,  7.89473978e-02,\n",
              "        -1.36805579e+00, -7.47767134e-02, -2.53441331e-01,\n",
              "        -1.11842440e-01, -5.12739786e-02, -1.39799840e+00,\n",
              "         2.30402917e-01,  1.12339854e+00,  2.77381247e-01,\n",
              "        -7.33988438e-01,  5.50103454e-01,  4.72045544e-02,\n",
              "         8.17854213e-02, -2.97033935e-01,  4.75283490e-02,\n",
              "         2.74000905e-01, -1.53562282e-01,  2.17887680e+00,\n",
              "         4.50419734e-01,  1.20609217e+00,  2.30574620e-01,\n",
              "        -9.10645846e-01,  1.11787986e-01, -1.39769931e+00,\n",
              "        -1.56279935e+00, -2.08487539e-01, -1.13821483e-01,\n",
              "         4.14466383e-01,  4.97593497e-01,  9.71077409e-01,\n",
              "         1.01060929e+00, -1.79268472e+00,  8.81344180e-01,\n",
              "         5.72115591e-01,  4.72748755e-01, -1.42732975e+00,\n",
              "         6.68886019e-01, -6.35846860e-01, -3.48667830e-01,\n",
              "        -9.42350340e-01, -1.79395258e-01, -1.39371733e-01,\n",
              "        -1.47688384e+00,  4.61407564e-01,  3.54065011e-01,\n",
              "         2.03541979e+00,  4.01985410e-01,  8.22975865e-01,\n",
              "        -1.41281703e+00,  7.42845718e-01,  5.52875414e-01,\n",
              "         2.89088255e-01,  1.52040803e+00, -1.02226432e+00,\n",
              "         1.31020183e+00,  4.26867719e-02, -3.79479271e-01,\n",
              "         1.34656103e+00, -5.39714201e-01, -9.71304042e-01,\n",
              "        -4.12973422e-01, -1.78441557e+00,  2.06787025e+00,\n",
              "        -2.82152729e-01, -4.62330199e-01,  6.66258595e-01,\n",
              "        -6.71048498e-02,  1.21578541e+00,  1.40513976e-01,\n",
              "         3.77810583e-01, -1.20531159e+00, -7.75472917e-01,\n",
              "        -5.01208343e-01, -2.24685442e+00,  6.35450259e-01,\n",
              "         4.83917075e-01,  4.56800700e-01,  1.08910654e+00,\n",
              "         1.20634499e+00,  1.06196463e+00, -4.41424196e-01,\n",
              "         3.69847805e-01, -1.22004984e+00, -1.92273008e+00,\n",
              "        -4.79920849e-01, -5.27928764e-01,  1.01838833e+00,\n",
              "         2.24650210e-01,  2.54300688e-01, -4.86726771e-01,\n",
              "        -4.65418184e-02,  2.29938563e-01,  1.12431405e+00,\n",
              "        -7.55351470e-01,  3.30561429e-01,  2.04373406e-01,\n",
              "        -1.21726147e-01, -1.99961024e-02,  1.75827271e-01],\n",
              "       [ 8.43792228e-01, -8.30157138e-01,  2.79158819e-01,\n",
              "         7.11983651e-01,  2.45502843e-01,  1.53676487e+00,\n",
              "         1.86190171e+00, -1.27645917e+00,  9.44434633e-01,\n",
              "         6.95133490e-01, -9.27739791e-01, -1.04427944e+00,\n",
              "         8.49832316e-01, -1.36269342e+00, -5.12975159e-01,\n",
              "        -7.08421841e-01, -1.88506867e-01,  1.84722321e-01,\n",
              "         6.52303811e-01,  7.60499350e-01,  5.97952623e-01,\n",
              "         5.12260636e-01,  5.15424396e-01, -1.79013135e-02,\n",
              "         4.51369192e-01, -7.09128660e-01,  1.98690670e-01,\n",
              "        -2.17100027e+00,  1.84780204e+00, -8.08523580e-01,\n",
              "         1.08481394e+00, -8.36326801e-01,  1.45511611e+00,\n",
              "        -1.54283574e+00, -5.97327887e-01,  8.10524954e-01,\n",
              "        -1.09179331e-03,  1.91985471e+00,  1.57167368e-01,\n",
              "         6.46176400e-01,  5.70546417e-01,  3.55428585e-01,\n",
              "         1.30160278e-01, -2.78098521e-01, -8.74810448e-01,\n",
              "        -1.12394458e+00,  2.98302108e-01, -7.11143514e-01,\n",
              "         7.04549907e-01,  4.06095831e-01, -1.70910091e+00,\n",
              "         5.94922565e-01,  1.96599777e+00, -2.82646203e-01,\n",
              "        -1.48415306e+00, -5.84801399e-01,  2.57411142e-01,\n",
              "        -1.79475045e+00,  6.68341644e-01,  4.15760874e-01,\n",
              "         1.92085167e-01,  1.34308682e+00, -1.33966050e+00,\n",
              "         7.74166573e-01,  4.06269476e-01,  2.35403172e+00,\n",
              "         6.69400030e-01,  5.95525424e-01,  5.27960641e-01,\n",
              "         1.06881339e+00,  8.72091514e-01,  1.34511993e+00,\n",
              "         6.58180453e-01, -1.50216785e+00,  1.28414659e+00,\n",
              "         1.20358416e+00,  1.06050079e+00,  3.14226651e-01,\n",
              "         3.72202609e-01,  6.65356395e-01,  7.38057422e-01,\n",
              "        -1.53507630e-01, -9.51737063e-01, -5.67997951e-01,\n",
              "         1.13403755e-01, -4.73602704e-01, -3.00971229e-01,\n",
              "        -4.08101376e-01, -1.08697066e-01,  9.76626875e-01,\n",
              "        -8.53936690e-01,  7.87197375e-01,  5.60597865e-01,\n",
              "         1.44052936e-02, -8.49968838e-01,  5.38627022e-02,\n",
              "         6.25973195e-01,  2.69109192e-01,  1.40704637e+00,\n",
              "         9.24429059e-01, -1.34710339e+00, -8.41625329e-01,\n",
              "         1.39493003e+00,  6.40736548e-01,  2.84116665e-01,\n",
              "        -1.60480128e-01,  9.09743084e-01, -7.85129297e-01,\n",
              "         1.83629679e-01, -4.30223323e-02,  2.23421753e+00,\n",
              "        -1.86945270e-01,  3.58852975e-01,  6.03985650e-01,\n",
              "        -2.06412421e+00, -1.56113376e+00,  1.07945033e-01,\n",
              "         7.57386883e-01, -1.13993846e+00, -5.14822173e-01,\n",
              "         1.10596377e+00, -1.22772280e+00, -6.47888739e-01,\n",
              "         3.25977958e-01,  1.69129416e+00, -9.73053920e-02,\n",
              "         7.77560332e-03, -1.29777998e+00, -1.31684142e+00,\n",
              "        -3.32196962e-01,  8.13862511e-01,  5.26802593e-01,\n",
              "        -1.74334758e+00, -3.79644943e-01,  1.44016566e+00,\n",
              "         1.49290526e+00, -1.07062785e-01, -4.20101319e-01,\n",
              "         1.24679885e+00,  2.40009819e-01, -7.27816266e-01,\n",
              "         4.71944284e-01,  8.70490167e-02, -2.12993253e+00,\n",
              "        -1.22047401e+00, -4.62148639e-01,  4.35430749e-01,\n",
              "         4.68760294e-01,  2.03816245e-01, -1.12680968e-01,\n",
              "         1.24328848e+00,  3.68255845e-01,  1.42548513e-02,\n",
              "        -4.56008834e-01, -5.75725965e-02,  3.86202023e-01,\n",
              "         1.22062404e+00, -4.40274031e-02,  3.24010136e-01,\n",
              "        -2.24495847e+00, -9.85121319e-02, -3.56333036e-01,\n",
              "         9.91418052e-01,  5.40476707e-01, -1.08220657e+00,\n",
              "         5.25647565e-01, -3.94162087e-01, -1.84107665e+00,\n",
              "         2.36875192e-01, -4.02743876e-01,  3.88272557e-01,\n",
              "         9.83503998e-01,  2.39521587e-01,  7.36231926e-01,\n",
              "         3.13810952e-01,  1.60952406e+00,  8.75291791e-01,\n",
              "         3.00509830e-01, -2.89729668e+00,  5.13200922e-01,\n",
              "         4.73937473e-01, -2.07599289e-01, -2.46286077e-01,\n",
              "         1.03389294e+00, -6.72839618e-01, -1.17372961e-01,\n",
              "        -6.86697973e-02, -2.48530140e-01,  5.76870319e-01,\n",
              "        -3.82358623e-01, -6.67205226e-03, -5.45183269e-01,\n",
              "        -1.90304509e+00,  2.86363413e+00,  7.64079919e-01,\n",
              "         6.32961446e-01, -1.00182414e+00,  6.46697003e-01,\n",
              "         4.83355795e-01,  7.41600985e-02, -9.14368229e-01,\n",
              "        -1.27025806e+00,  7.93350501e-01,  5.26765411e-02,\n",
              "         2.72194015e-01,  9.77995432e-01, -2.86503792e-01,\n",
              "         1.23021745e-01,  2.30609245e+00,  6.70661614e-01,\n",
              "        -2.38619699e+00,  1.08244752e-01, -2.26281462e+00,\n",
              "        -1.11284090e+00, -6.22684485e-01, -1.27886977e+00,\n",
              "         2.27794724e-01,  1.13744906e+00, -6.45485674e-01,\n",
              "        -9.07017740e-01,  1.53293877e+00,  1.65843079e+00,\n",
              "         9.73010648e-01,  5.69870056e-01, -2.49308000e-01,\n",
              "        -3.11574152e-01, -8.41578000e-01,  1.12048000e+00,\n",
              "        -1.35385600e-01, -7.26398296e-01,  9.75129237e-01,\n",
              "         3.50108301e-01, -3.39494685e-01,  1.82406218e+00,\n",
              "        -1.15759160e+00, -3.82873218e-01, -1.54647328e+00,\n",
              "         3.73834793e-01, -4.87772966e-01,  1.84288760e+00,\n",
              "        -1.80564058e-01,  1.06299503e+00, -1.53632933e+00,\n",
              "         3.58983362e-02,  6.93808685e-01, -1.19042392e+00,\n",
              "         1.61113561e+00,  1.84264485e-01,  7.25387681e-01,\n",
              "        -6.22430053e-01,  9.51276350e-01,  9.64355650e-02,\n",
              "        -5.82026930e-01,  1.38934299e+00,  6.76822465e-01,\n",
              "         1.57041973e+00,  1.88570586e+00, -1.03147455e+00,\n",
              "        -6.00173991e-01, -1.44076674e+00, -4.74564568e-01,\n",
              "        -8.75564910e-01, -3.70067562e-01, -1.66414135e-01,\n",
              "         5.68322629e-01,  7.25415125e-01, -2.05118155e-01,\n",
              "         2.71182336e-02,  1.54146598e+00, -1.16503149e-01,\n",
              "         3.08102849e-01,  8.74354079e-01,  8.41342347e-01,\n",
              "        -7.02157251e-01, -1.40018288e-01,  1.57042056e+00,\n",
              "         3.01738217e-01,  1.46489193e+00,  9.98809587e-01,\n",
              "         2.08538084e+00,  1.92438905e-01,  1.70835861e+00,\n",
              "        -1.09859154e+00, -9.13875634e-01,  6.67942822e-01,\n",
              "        -2.28984530e+00,  1.82859839e+00,  1.07129081e+00,\n",
              "         2.67979822e+00, -3.27581050e-01,  1.77453878e-01,\n",
              "        -1.05285701e-01, -1.39581958e+00,  2.21917967e-01,\n",
              "        -1.89785956e-01, -1.79273726e+00,  5.39396954e-01,\n",
              "        -1.51673866e+00, -9.54596991e-01,  9.21821152e-01],\n",
              "       [ 5.14068803e-01,  1.75965343e-01, -6.76221316e-01,\n",
              "        -1.05734744e+00,  1.12319496e+00, -8.97496480e-01,\n",
              "        -7.29960007e-01, -1.48946317e+00, -4.13716775e-01,\n",
              "        -5.59606631e-01, -3.26315100e-01, -3.16041446e-02,\n",
              "        -3.94776362e-01, -9.66527414e-02, -1.29959454e+00,\n",
              "         5.85060029e-01, -1.30881062e+00, -9.26229530e-01,\n",
              "        -1.20894941e+00,  1.11919937e-01,  3.79396134e-01,\n",
              "         9.58780865e-01, -1.09797377e+00, -3.87100392e-01,\n",
              "        -1.08333303e+00, -6.60224674e-01, -7.51339069e-01,\n",
              "         2.19017561e-01,  1.45298160e+00,  2.16032819e-01,\n",
              "         4.52420486e-01, -5.47703972e-01,  5.21626565e-01,\n",
              "        -5.57885785e-02,  2.32712165e-01, -4.96419761e-02,\n",
              "        -1.87037899e-01, -5.13248288e-01, -3.24097794e-01,\n",
              "        -5.26976963e-01,  3.17578405e-01, -1.89058625e-01,\n",
              "        -1.39969731e+00, -1.01415793e+00, -5.72182395e-01,\n",
              "         1.78846272e+00, -7.55059339e-01,  1.94545546e-01,\n",
              "         9.89929025e-02, -1.56069738e+00,  8.53075539e-01,\n",
              "        -4.08483907e-01,  9.52515614e-01,  5.38684309e-01,\n",
              "         1.06085125e-01,  8.23925567e-01, -1.30203437e+00,\n",
              "        -5.11794388e-01,  7.06772546e-01,  9.43517886e-01,\n",
              "        -2.09848151e+00, -7.29615052e-01,  8.79543086e-01,\n",
              "        -1.09847402e+00,  1.17419815e+00, -7.68583968e-01,\n",
              "        -1.47913733e-01, -7.31665499e-01,  1.21295490e-01,\n",
              "        -4.18223745e-01, -3.05662492e-01,  2.93610119e-01,\n",
              "        -6.34189760e-01,  9.12001345e-01,  4.83870045e-01,\n",
              "         7.85953926e-01,  3.43692429e-01,  8.41173321e-01,\n",
              "        -1.53189737e+00, -5.61069305e-01,  1.15096289e+00,\n",
              "         5.87570948e-01, -1.89157780e-01,  1.11269832e+00,\n",
              "         1.83874489e-01,  2.60333925e-01,  1.17798819e+00,\n",
              "        -1.13357829e+00, -1.79417576e-01,  9.06690196e-01,\n",
              "        -2.88035134e-01, -7.22659140e-01,  4.05739055e-01,\n",
              "         5.99915195e-01,  1.05539857e+00,  3.90815773e-01,\n",
              "        -4.50574302e-01,  3.26209186e-01, -3.84962239e-01,\n",
              "        -1.87564321e-01, -5.24892376e-01, -2.11063348e+00,\n",
              "        -2.40173511e-02, -1.09863756e+00,  9.04458325e-01,\n",
              "         3.90522880e-01,  4.68372552e-01,  1.36499481e+00,\n",
              "        -5.72958100e-01,  1.44627697e+00, -7.57150513e-01,\n",
              "        -9.21538248e-01,  7.15222553e-01,  4.16086992e-01,\n",
              "         8.22266937e-03,  1.45108312e+00,  8.09337998e-01,\n",
              "         2.41635397e-02,  6.99105706e-02, -1.25104155e+00,\n",
              "        -7.57195175e-02,  6.38357351e-01,  1.72838039e+00,\n",
              "        -7.03386283e-01,  1.58800788e-01,  6.77390586e-01,\n",
              "        -5.76270533e-01, -4.64524215e-01, -4.86117988e-01,\n",
              "         9.06697621e-01, -4.11722286e-01,  1.00951484e-02,\n",
              "        -6.13563593e-01, -2.12884050e-01,  4.04552983e-01,\n",
              "        -1.48374855e+00,  2.34846417e-01,  8.47156153e-02,\n",
              "         2.39279760e-01, -5.71562318e-01, -1.16381574e+00,\n",
              "         1.50912652e-01, -4.91439684e-01,  1.29137222e+00,\n",
              "         1.60042287e+00,  3.82811430e-01, -1.55386068e+00,\n",
              "         1.48732088e-01, -3.27972934e-01, -1.13523598e+00,\n",
              "        -1.70308884e+00, -3.28746616e-01,  4.75517337e-01,\n",
              "        -3.65473719e-01, -1.18169621e-01, -1.54225455e+00,\n",
              "         2.59941602e-01,  4.92250701e-01,  1.07944703e+00,\n",
              "        -3.20502257e-01, -8.33241021e-01,  7.47695377e-01,\n",
              "        -1.07919987e+00,  4.41559265e-01,  5.27697915e-01,\n",
              "         1.87569446e-01, -1.00936366e+00,  1.07117393e+00,\n",
              "         3.14842296e-01, -1.73592981e+00, -1.27823145e+00,\n",
              "        -1.26374412e+00, -1.54338762e+00, -6.84673332e-01,\n",
              "        -9.26603644e-02, -1.20850880e+00, -8.64178606e-01,\n",
              "         2.20907665e-01,  7.98815082e-01,  3.95913936e-01,\n",
              "         4.17394441e-01, -1.26586711e+00,  2.51492061e-01,\n",
              "         5.01508268e-01,  1.65756162e-01, -4.97434063e-01,\n",
              "        -6.40787873e-02, -7.38348550e-01,  1.15058561e+00,\n",
              "         9.05796636e-01,  1.00926191e+00,  3.45195608e-01,\n",
              "        -2.90258135e-01, -5.52551882e-02,  8.44251625e-01,\n",
              "        -8.34671578e-01,  8.92278185e-01, -7.87832839e-01,\n",
              "        -6.46581402e-01,  5.45887222e-01, -5.73356733e-01,\n",
              "         1.38520289e+00,  2.10145658e-01,  1.38032380e-01,\n",
              "         1.85112520e-01, -9.37268191e-02, -3.69701082e-01,\n",
              "        -9.44401906e-01, -7.34997551e-01, -6.71147357e-01,\n",
              "         9.71668933e-01, -1.62603580e+00,  8.33461497e-01,\n",
              "        -3.24270520e-01,  3.81656146e-01, -5.78991167e-02,\n",
              "        -2.03773341e-02, -1.48030563e+00, -9.22332080e-01,\n",
              "         1.39008227e+00, -7.91925081e-01, -1.34339068e+00,\n",
              "        -8.83926193e-01, -1.74403783e+00, -1.28835522e-01,\n",
              "         5.71375239e-01, -6.53755827e-01, -1.79467439e-01,\n",
              "         2.49754155e-01, -1.28690126e+00, -2.11061924e-01,\n",
              "        -5.78598324e-01,  1.47330215e+00, -6.72216329e-01,\n",
              "         1.13799280e+00, -2.98773783e-01,  1.10725928e+00,\n",
              "         2.76158258e-01, -2.34139576e-01,  1.27164885e-01,\n",
              "         4.14498453e-01, -3.39122957e-01, -5.89590040e-01,\n",
              "         1.66959312e+00, -1.05465444e+00,  1.25105671e+00,\n",
              "        -1.10461057e+00, -1.02025390e+00, -6.39019272e-01,\n",
              "         1.42971299e+00, -2.24295217e-01, -1.88529673e+00,\n",
              "         3.84231852e-01, -1.13147733e+00,  9.69039322e-01,\n",
              "        -1.06400639e+00, -1.79055581e+00,  2.41656890e-02,\n",
              "        -1.57705577e+00, -6.64758454e-01, -9.66520922e-01,\n",
              "         5.97268525e-01,  3.19349608e-02, -6.15220623e-01,\n",
              "         1.11446626e+00,  1.00176905e-01, -9.05101514e-01,\n",
              "        -1.76871175e+00, -1.17568827e+00,  6.08314680e-02,\n",
              "         6.43109237e-01, -1.09727414e+00, -5.51815617e-01,\n",
              "         2.24186654e-01, -1.29609161e+00, -7.39916864e-01,\n",
              "        -1.74549002e+00,  9.95127709e-02, -6.97103054e-01,\n",
              "        -2.96078001e-01, -4.74965499e-01, -3.07285825e-01,\n",
              "         4.10137231e-01,  4.75794605e-01,  1.40378464e+00,\n",
              "         1.38051557e+00,  2.55283523e-01,  8.66633591e-02,\n",
              "        -1.96940519e-01,  1.86123449e+00,  4.13997681e-01,\n",
              "        -6.79895521e-01,  4.94137724e-01, -1.33993270e+00,\n",
              "         1.24796572e+00, -9.14067568e-01, -6.16863838e-01,\n",
              "        -1.29070202e-01,  1.00141352e+00,  1.68857598e-01]])"
            ]
          },
          "metadata": {
            "tags": []
          },
          "execution_count": 16
        }
      ]
    },
    {
      "cell_type": "code",
      "metadata": {
        "id": "utu4FtQVKqPl",
        "colab_type": "code",
        "colab": {
          "base_uri": "https://localhost:8080/",
          "height": 119
        },
        "outputId": "b374ffbc-5fd2-4537-c5b3-943767112494"
      },
      "source": [
        "# we need to binarize the labels for the neural net\n",
        "ytrain_enc = np_utils.to_categorical(train_y)\n",
        "yvalid_enc = np_utils.to_categorical(valid_y)\n",
        "yvalid_enc[0:3]"
      ],
      "execution_count": 17,
      "outputs": [
        {
          "output_type": "execute_result",
          "data": {
            "text/plain": [
              "array([[0., 0., 1., 0., 0., 0., 0., 0., 0., 0., 0., 0., 0., 0., 0., 0.,\n",
              "        0., 0., 0., 0., 0., 0., 0., 0., 0., 0.],\n",
              "       [0., 0., 0., 0., 0., 0., 0., 0., 0., 0., 0., 0., 0., 0., 0., 0.,\n",
              "        0., 0., 0., 0., 0., 1., 0., 0., 0., 0.],\n",
              "       [0., 0., 0., 0., 0., 0., 0., 0., 0., 0., 0., 0., 0., 0., 0., 0.,\n",
              "        0., 0., 0., 0., 0., 0., 0., 1., 0., 0.]], dtype=float32)"
            ]
          },
          "metadata": {
            "tags": []
          },
          "execution_count": 17
        }
      ]
    },
    {
      "cell_type": "code",
      "metadata": {
        "id": "hb1QDlPnKqPn",
        "colab_type": "code",
        "outputId": "78d397d2-c4b6-4150-f89f-54eae3cf9137",
        "colab": {
          "base_uri": "https://localhost:8080/",
          "height": 34
        }
      },
      "source": [
        "### No of classes in the last layer - No of labels to classify\n",
        "last_layer = len(ytrain_enc[0])\n",
        "print(last_layer)"
      ],
      "execution_count": 18,
      "outputs": [
        {
          "output_type": "stream",
          "text": [
            "26\n"
          ],
          "name": "stdout"
        }
      ]
    },
    {
      "cell_type": "code",
      "metadata": {
        "id": "GSGzZzVIKqPq",
        "colab_type": "code",
        "outputId": "720a9923-5535-4d1e-b47e-98aa71753f34",
        "colab": {
          "base_uri": "https://localhost:8080/",
          "height": 700
        }
      },
      "source": [
        "# create a simple 3 layer sequential neural net\n",
        "model = Sequential()\n",
        "\n",
        "model.add(Dense(300, input_dim=300, activation='relu'))\n",
        "model.add(Dropout(0.2))\n",
        "model.add(BatchNormalization())\n",
        "\n",
        "model.add(Dense(300, activation='relu'))\n",
        "model.add(Dropout(0.3))\n",
        "model.add(BatchNormalization())\n",
        "\n",
        "model.add(Dense(last_layer))                       ## No of classes to predict\n",
        "model.add(Activation('softmax'))\n",
        "model.summary()\n",
        "# compile the model\n",
        "model.compile(loss='categorical_crossentropy', optimizer='adam', metrics=['acc'])"
      ],
      "execution_count": 19,
      "outputs": [
        {
          "output_type": "stream",
          "text": [
            "WARNING:tensorflow:From /usr/local/lib/python3.6/dist-packages/keras/backend/tensorflow_backend.py:66: The name tf.get_default_graph is deprecated. Please use tf.compat.v1.get_default_graph instead.\n",
            "\n",
            "WARNING:tensorflow:From /usr/local/lib/python3.6/dist-packages/keras/backend/tensorflow_backend.py:541: The name tf.placeholder is deprecated. Please use tf.compat.v1.placeholder instead.\n",
            "\n",
            "WARNING:tensorflow:From /usr/local/lib/python3.6/dist-packages/keras/backend/tensorflow_backend.py:4432: The name tf.random_uniform is deprecated. Please use tf.random.uniform instead.\n",
            "\n",
            "WARNING:tensorflow:From /usr/local/lib/python3.6/dist-packages/keras/backend/tensorflow_backend.py:148: The name tf.placeholder_with_default is deprecated. Please use tf.compat.v1.placeholder_with_default instead.\n",
            "\n",
            "WARNING:tensorflow:From /usr/local/lib/python3.6/dist-packages/keras/backend/tensorflow_backend.py:3733: calling dropout (from tensorflow.python.ops.nn_ops) with keep_prob is deprecated and will be removed in a future version.\n",
            "Instructions for updating:\n",
            "Please use `rate` instead of `keep_prob`. Rate should be set to `rate = 1 - keep_prob`.\n",
            "Model: \"sequential_1\"\n",
            "_________________________________________________________________\n",
            "Layer (type)                 Output Shape              Param #   \n",
            "=================================================================\n",
            "dense_1 (Dense)              (None, 300)               90300     \n",
            "_________________________________________________________________\n",
            "dropout_1 (Dropout)          (None, 300)               0         \n",
            "_________________________________________________________________\n",
            "batch_normalization_1 (Batch (None, 300)               1200      \n",
            "_________________________________________________________________\n",
            "dense_2 (Dense)              (None, 300)               90300     \n",
            "_________________________________________________________________\n",
            "dropout_2 (Dropout)          (None, 300)               0         \n",
            "_________________________________________________________________\n",
            "batch_normalization_2 (Batch (None, 300)               1200      \n",
            "_________________________________________________________________\n",
            "dense_3 (Dense)              (None, 26)                7826      \n",
            "_________________________________________________________________\n",
            "activation_1 (Activation)    (None, 26)                0         \n",
            "=================================================================\n",
            "Total params: 190,826\n",
            "Trainable params: 189,626\n",
            "Non-trainable params: 1,200\n",
            "_________________________________________________________________\n",
            "WARNING:tensorflow:From /usr/local/lib/python3.6/dist-packages/keras/optimizers.py:793: The name tf.train.Optimizer is deprecated. Please use tf.compat.v1.train.Optimizer instead.\n",
            "\n",
            "WARNING:tensorflow:From /usr/local/lib/python3.6/dist-packages/keras/backend/tensorflow_backend.py:3576: The name tf.log is deprecated. Please use tf.math.log instead.\n",
            "\n"
          ],
          "name": "stdout"
        }
      ]
    },
    {
      "cell_type": "code",
      "metadata": {
        "id": "PBt4502lKqPu",
        "colab_type": "code",
        "outputId": "57b6b7b7-3fb3-4f9b-f702-b7c430057be2",
        "colab": {
          "base_uri": "https://localhost:8080/",
          "height": 734
        }
      },
      "source": [
        "start = time()\n",
        "history = model.fit(xtrain_glove_scl, y=ytrain_enc, batch_size=64, \n",
        "          epochs=10, verbose=1, \n",
        "          validation_data=(xvalid_glove_scl, yvalid_enc))\n",
        "end = time()\n",
        "print('Total training time {} seconds'.format(end - start))"
      ],
      "execution_count": 20,
      "outputs": [
        {
          "output_type": "stream",
          "text": [
            "WARNING:tensorflow:From /usr/local/lib/python3.6/dist-packages/tensorflow_core/python/ops/math_grad.py:1424: where (from tensorflow.python.ops.array_ops) is deprecated and will be removed in a future version.\n",
            "Instructions for updating:\n",
            "Use tf.where in 2.0, which has the same broadcast rule as np.where\n",
            "WARNING:tensorflow:From /usr/local/lib/python3.6/dist-packages/keras/backend/tensorflow_backend.py:1033: The name tf.assign_add is deprecated. Please use tf.compat.v1.assign_add instead.\n",
            "\n",
            "WARNING:tensorflow:From /usr/local/lib/python3.6/dist-packages/keras/backend/tensorflow_backend.py:1020: The name tf.assign is deprecated. Please use tf.compat.v1.assign instead.\n",
            "\n",
            "WARNING:tensorflow:From /usr/local/lib/python3.6/dist-packages/keras/backend/tensorflow_backend.py:3005: The name tf.Session is deprecated. Please use tf.compat.v1.Session instead.\n",
            "\n",
            "Train on 7741 samples, validate on 1936 samples\n",
            "Epoch 1/10\n",
            "WARNING:tensorflow:From /usr/local/lib/python3.6/dist-packages/keras/backend/tensorflow_backend.py:190: The name tf.get_default_session is deprecated. Please use tf.compat.v1.get_default_session instead.\n",
            "\n",
            "WARNING:tensorflow:From /usr/local/lib/python3.6/dist-packages/keras/backend/tensorflow_backend.py:197: The name tf.ConfigProto is deprecated. Please use tf.compat.v1.ConfigProto instead.\n",
            "\n",
            "WARNING:tensorflow:From /usr/local/lib/python3.6/dist-packages/keras/backend/tensorflow_backend.py:207: The name tf.global_variables is deprecated. Please use tf.compat.v1.global_variables instead.\n",
            "\n",
            "WARNING:tensorflow:From /usr/local/lib/python3.6/dist-packages/keras/backend/tensorflow_backend.py:216: The name tf.is_variable_initialized is deprecated. Please use tf.compat.v1.is_variable_initialized instead.\n",
            "\n",
            "WARNING:tensorflow:From /usr/local/lib/python3.6/dist-packages/keras/backend/tensorflow_backend.py:223: The name tf.variables_initializer is deprecated. Please use tf.compat.v1.variables_initializer instead.\n",
            "\n",
            "7741/7741 [==============================] - 6s 755us/step - loss: 1.9560 - acc: 0.4678 - val_loss: 1.1936 - val_acc: 0.6710\n",
            "Epoch 2/10\n",
            "7741/7741 [==============================] - 1s 167us/step - loss: 1.2197 - acc: 0.6499 - val_loss: 1.0167 - val_acc: 0.7097\n",
            "Epoch 3/10\n",
            "7741/7741 [==============================] - 1s 176us/step - loss: 1.0164 - acc: 0.7039 - val_loss: 0.9441 - val_acc: 0.7324\n",
            "Epoch 4/10\n",
            "7741/7741 [==============================] - 1s 164us/step - loss: 0.9237 - acc: 0.7322 - val_loss: 0.9106 - val_acc: 0.7443\n",
            "Epoch 5/10\n",
            "7741/7741 [==============================] - 1s 166us/step - loss: 0.8403 - acc: 0.7503 - val_loss: 0.9042 - val_acc: 0.7490\n",
            "Epoch 6/10\n",
            "7741/7741 [==============================] - 1s 184us/step - loss: 0.7726 - acc: 0.7688 - val_loss: 0.8782 - val_acc: 0.7510\n",
            "Epoch 7/10\n",
            "7741/7741 [==============================] - 1s 183us/step - loss: 0.7292 - acc: 0.7779 - val_loss: 0.8681 - val_acc: 0.7546\n",
            "Epoch 8/10\n",
            "7741/7741 [==============================] - 1s 166us/step - loss: 0.6796 - acc: 0.7912 - val_loss: 0.8698 - val_acc: 0.7474\n",
            "Epoch 9/10\n",
            "7741/7741 [==============================] - 1s 180us/step - loss: 0.6622 - acc: 0.7949 - val_loss: 0.8705 - val_acc: 0.7588\n",
            "Epoch 10/10\n",
            "7741/7741 [==============================] - 1s 168us/step - loss: 0.6171 - acc: 0.8052 - val_loss: 0.8542 - val_acc: 0.7624\n",
            "Total training time 18.9639892578125 seconds\n"
          ],
          "name": "stdout"
        }
      ]
    },
    {
      "cell_type": "code",
      "metadata": {
        "id": "E5xqjKwCu08G",
        "colab_type": "code",
        "colab": {}
      },
      "source": [
        "## Function to plot the history of accuracy & loss across epochs\n",
        "def plot_history(history):\n",
        "  # list all data in history\n",
        "  print(history.history.keys())\n",
        "  # summarize history for accuracy\n",
        "  plt.plot(history.history['acc'])\n",
        "  plt.plot(history.history['val_acc'])\n",
        "  plt.ylim(ymin=0)\n",
        "  plt.title('model accuracy')\n",
        "  plt.ylabel('accuracy')\n",
        "  plt.xlabel('epoch')\n",
        "  plt.legend(['train', 'test'], loc='upper left')\n",
        "  plt.show()\n",
        "  # summarize history for loss\n",
        "  plt.plot(history.history['loss'])\n",
        "  plt.plot(history.history['val_loss'])\n",
        "  plt.ylim(ymin=0)\n",
        "  plt.title('model loss')\n",
        "  plt.ylabel('loss')\n",
        "  plt.xlabel('epoch')\n",
        "  plt.legend(['train', 'test'], loc='upper left')\n",
        "  plt.show()"
      ],
      "execution_count": 0,
      "outputs": []
    },
    {
      "cell_type": "code",
      "metadata": {
        "id": "IjOurLsR2E3t",
        "colab_type": "code",
        "outputId": "0c98155a-d864-4e0e-96a7-2b7917bbbb0f",
        "colab": {
          "base_uri": "https://localhost:8080/",
          "height": 641
        }
      },
      "source": [
        "plot_history(history)"
      ],
      "execution_count": 22,
      "outputs": [
        {
          "output_type": "stream",
          "text": [
            "dict_keys(['val_loss', 'val_acc', 'loss', 'acc'])\n"
          ],
          "name": "stdout"
        },
        {
          "output_type": "stream",
          "text": [
            "/usr/local/lib/python3.6/dist-packages/matplotlib/axes/_base.py:3604: MatplotlibDeprecationWarning: \n",
            "The `ymin` argument was deprecated in Matplotlib 3.0 and will be removed in 3.2. Use `bottom` instead.\n",
            "  alternative='`bottom`', obj_type='argument')\n"
          ],
          "name": "stderr"
        },
        {
          "output_type": "display_data",
          "data": {
            "image/png": "[encoded data removed]",
            "text/plain": [
              "<Figure size 432x288 with 1 Axes>"
            ]
          },
          "metadata": {
            "tags": []
          }
        },
        {
          "output_type": "display_data",
          "data": {
            "image/png": "[encoded data removed]",
            "text/plain": [
              "<Figure size 432x288 with 1 Axes>"
            ]
          },
          "metadata": {
            "tags": []
          }
        }
      ]
    },
    {
      "cell_type": "markdown",
      "metadata": {
        "id": "1aX078MDKqPx",
        "colab_type": "text"
      },
      "source": [
        "#### Much higher validation accuracy than what we've seen with other algorithms with a very simple network and no hyper-param tuning"
      ]
    },
    {
      "cell_type": "code",
      "metadata": {
        "id": "HLc1vpU0KqPy",
        "colab_type": "code",
        "colab": {}
      },
      "source": [
        "# using keras tokenizer here\n",
        "token = text.Tokenizer(num_words=None)\n",
        "max_len = 70\n",
        "\n",
        "token.fit_on_texts(list(train_x) + list(valid_x))\n",
        "xtrain_seq = token.texts_to_sequences(train_x)\n",
        "xvalid_seq = token.texts_to_sequences(valid_x)\n",
        "\n",
        "# zero pad the sequences\n",
        "xtrain_pad = sequence.pad_sequences(xtrain_seq, maxlen=max_len)\n",
        "xvalid_pad = sequence.pad_sequences(xvalid_seq, maxlen=max_len)\n",
        "\n",
        "word_index = token.word_index"
      ],
      "execution_count": 0,
      "outputs": []
    },
    {
      "cell_type": "code",
      "metadata": {
        "id": "gH_ZQd-ZKqP0",
        "colab_type": "code",
        "outputId": "4edc2b7c-4415-4471-aba0-ff6a231d9993",
        "colab": {
          "base_uri": "https://localhost:8080/",
          "height": 34
        }
      },
      "source": [
        "# create an embedding matrix for the words we have in the dataset\n",
        "embedding_matrix = np.zeros((len(word_index) + 1, 300))\n",
        "for word, i in tqdm(word_index.items()):\n",
        "    embedding_vector = embeddings_index.get(word)\n",
        "    if embedding_vector is not None:\n",
        "        embedding_matrix[i] = embedding_vector"
      ],
      "execution_count": 24,
      "outputs": [
        {
          "output_type": "stream",
          "text": [
            "100%|██████████| 3805/3805 [00:00<00:00, 236151.09it/s]\n"
          ],
          "name": "stderr"
        }
      ]
    },
    {
      "cell_type": "code",
      "metadata": {
        "id": "FrixrtLBKqP2",
        "colab_type": "code",
        "outputId": "60bba697-2cb9-47a6-b090-b324e81ca427",
        "colab": {
          "base_uri": "https://localhost:8080/",
          "height": 459
        }
      },
      "source": [
        "# A simple LSTM with glove embeddings and two dense layers\n",
        "model = Sequential()\n",
        "model.add(Embedding(len(word_index) + 1,\n",
        "                     300,\n",
        "                     weights=[embedding_matrix],\n",
        "                     input_length=max_len,\n",
        "                     trainable=False))\n",
        "model.add(SpatialDropout1D(0.3))\n",
        "model.add(LSTM(100, dropout=0.3, recurrent_dropout=0.3))\n",
        "\n",
        "model.add(Dense(1024, activation='relu'))\n",
        "model.add(Dropout(0.5))\n",
        "\n",
        "model.add(Dense(1024, activation='relu'))\n",
        "model.add(Dropout(0.5))\n",
        "\n",
        "model.add(Dense(last_layer))                            ## Num of classes to predict\n",
        "model.add(Activation('softmax'))\n",
        "model.compile(loss='categorical_crossentropy', optimizer='adam', metrics=['acc'])\n",
        "model.summary()"
      ],
      "execution_count": 25,
      "outputs": [
        {
          "output_type": "stream",
          "text": [
            "Model: \"sequential_2\"\n",
            "_________________________________________________________________\n",
            "Layer (type)                 Output Shape              Param #   \n",
            "=================================================================\n",
            "embedding_1 (Embedding)      (None, 70, 300)           1141800   \n",
            "_________________________________________________________________\n",
            "spatial_dropout1d_1 (Spatial (None, 70, 300)           0         \n",
            "_________________________________________________________________\n",
            "lstm_1 (LSTM)                (None, 100)               160400    \n",
            "_________________________________________________________________\n",
            "dense_4 (Dense)              (None, 1024)              103424    \n",
            "_________________________________________________________________\n",
            "dropout_3 (Dropout)          (None, 1024)              0         \n",
            "_________________________________________________________________\n",
            "dense_5 (Dense)              (None, 1024)              1049600   \n",
            "_________________________________________________________________\n",
            "dropout_4 (Dropout)          (None, 1024)              0         \n",
            "_________________________________________________________________\n",
            "dense_6 (Dense)              (None, 26)                26650     \n",
            "_________________________________________________________________\n",
            "activation_2 (Activation)    (None, 26)                0         \n",
            "=================================================================\n",
            "Total params: 2,481,874\n",
            "Trainable params: 1,340,074\n",
            "Non-trainable params: 1,141,800\n",
            "_________________________________________________________________\n"
          ],
          "name": "stdout"
        }
      ]
    },
    {
      "cell_type": "code",
      "metadata": {
        "id": "jBL6DSu0KqP4",
        "colab_type": "code",
        "outputId": "7e7111cf-4502-42bd-d79b-93b39c6522e9",
        "colab": {
          "base_uri": "https://localhost:8080/",
          "height": 1000
        }
      },
      "source": [
        "start = time()\n",
        "history = model.fit(xtrain_pad, y=ytrain_enc, batch_size=512, epochs=100, verbose=1, validation_data=(xvalid_pad, yvalid_enc))\n",
        "end = time()\n",
        "print('Total training time {} seconds'.format(end - start))"
      ],
      "execution_count": 26,
      "outputs": [
        {
          "output_type": "stream",
          "text": [
            "Train on 7741 samples, validate on 1936 samples\n",
            "Epoch 1/100\n",
            "7741/7741 [==============================] - 5s 595us/step - loss: 3.1714 - acc: 0.0804 - val_loss: 2.9757 - val_acc: 0.1829\n",
            "Epoch 2/100\n",
            "7741/7741 [==============================] - 3s 393us/step - loss: 2.8648 - acc: 0.1726 - val_loss: 2.4312 - val_acc: 0.2846\n",
            "Epoch 3/100\n",
            "7741/7741 [==============================] - 3s 404us/step - loss: 2.4840 - acc: 0.2538 - val_loss: 2.1173 - val_acc: 0.3574\n",
            "Epoch 4/100\n",
            "7741/7741 [==============================] - 3s 389us/step - loss: 2.2845 - acc: 0.3084 - val_loss: 1.9332 - val_acc: 0.4096\n",
            "Epoch 5/100\n",
            "7741/7741 [==============================] - 3s 407us/step - loss: 2.1185 - acc: 0.3523 - val_loss: 1.7611 - val_acc: 0.4520\n",
            "Epoch 6/100\n",
            "7741/7741 [==============================] - 3s 400us/step - loss: 1.9956 - acc: 0.4024 - val_loss: 1.6228 - val_acc: 0.5103\n",
            "Epoch 7/100\n",
            "7741/7741 [==============================] - 3s 401us/step - loss: 1.8626 - acc: 0.4365 - val_loss: 1.5263 - val_acc: 0.5325\n",
            "Epoch 8/100\n",
            "7741/7741 [==============================] - 3s 399us/step - loss: 1.7551 - acc: 0.4678 - val_loss: 1.4186 - val_acc: 0.5522\n",
            "Epoch 9/100\n",
            "7741/7741 [==============================] - 3s 394us/step - loss: 1.6437 - acc: 0.5047 - val_loss: 1.3212 - val_acc: 0.5981\n",
            "Epoch 10/100\n",
            "7741/7741 [==============================] - 3s 401us/step - loss: 1.5419 - acc: 0.5386 - val_loss: 1.2550 - val_acc: 0.6193\n",
            "Epoch 11/100\n",
            "7741/7741 [==============================] - 3s 398us/step - loss: 1.4589 - acc: 0.5609 - val_loss: 1.1840 - val_acc: 0.6457\n",
            "Epoch 12/100\n",
            "7741/7741 [==============================] - 3s 403us/step - loss: 1.3831 - acc: 0.5802 - val_loss: 1.1233 - val_acc: 0.6720\n",
            "Epoch 13/100\n",
            "7741/7741 [==============================] - 3s 394us/step - loss: 1.3212 - acc: 0.6053 - val_loss: 1.0557 - val_acc: 0.6906\n",
            "Epoch 14/100\n",
            "7741/7741 [==============================] - 3s 393us/step - loss: 1.2620 - acc: 0.6161 - val_loss: 1.0340 - val_acc: 0.7004\n",
            "Epoch 15/100\n",
            "7741/7741 [==============================] - 3s 403us/step - loss: 1.2049 - acc: 0.6320 - val_loss: 1.0046 - val_acc: 0.7154\n",
            "Epoch 16/100\n",
            "7741/7741 [==============================] - 3s 422us/step - loss: 1.1602 - acc: 0.6528 - val_loss: 0.9580 - val_acc: 0.7247\n",
            "Epoch 17/100\n",
            "7741/7741 [==============================] - 3s 427us/step - loss: 1.1195 - acc: 0.6630 - val_loss: 0.9568 - val_acc: 0.7257\n",
            "Epoch 18/100\n",
            "7741/7741 [==============================] - 3s 401us/step - loss: 1.0930 - acc: 0.6755 - val_loss: 0.9263 - val_acc: 0.7381\n",
            "Epoch 19/100\n",
            "7741/7741 [==============================] - 3s 413us/step - loss: 1.0494 - acc: 0.6840 - val_loss: 0.9088 - val_acc: 0.7485\n",
            "Epoch 20/100\n",
            "7741/7741 [==============================] - 3s 402us/step - loss: 1.0160 - acc: 0.6987 - val_loss: 0.8860 - val_acc: 0.7459\n",
            "Epoch 21/100\n",
            "7741/7741 [==============================] - 3s 392us/step - loss: 0.9799 - acc: 0.7090 - val_loss: 0.8681 - val_acc: 0.7577\n",
            "Epoch 22/100\n",
            "7741/7741 [==============================] - 3s 405us/step - loss: 0.9596 - acc: 0.7093 - val_loss: 0.8585 - val_acc: 0.7500\n",
            "Epoch 23/100\n",
            "7741/7741 [==============================] - 3s 396us/step - loss: 0.9203 - acc: 0.7228 - val_loss: 0.8515 - val_acc: 0.7608\n",
            "Epoch 24/100\n",
            "7741/7741 [==============================] - 3s 388us/step - loss: 0.9212 - acc: 0.7228 - val_loss: 0.8245 - val_acc: 0.7629\n",
            "Epoch 25/100\n",
            "7741/7741 [==============================] - 3s 395us/step - loss: 0.8936 - acc: 0.7296 - val_loss: 0.8210 - val_acc: 0.7660\n",
            "Epoch 26/100\n",
            "7741/7741 [==============================] - 3s 388us/step - loss: 0.8724 - acc: 0.7347 - val_loss: 0.8225 - val_acc: 0.7717\n",
            "Epoch 27/100\n",
            "7741/7741 [==============================] - 3s 391us/step - loss: 0.8529 - acc: 0.7349 - val_loss: 0.8171 - val_acc: 0.7696\n",
            "Epoch 28/100\n",
            "7741/7741 [==============================] - 3s 394us/step - loss: 0.8449 - acc: 0.7436 - val_loss: 0.8123 - val_acc: 0.7727\n",
            "Epoch 29/100\n",
            "7741/7741 [==============================] - 3s 401us/step - loss: 0.8200 - acc: 0.7518 - val_loss: 0.8068 - val_acc: 0.7712\n",
            "Epoch 30/100\n",
            "7741/7741 [==============================] - 3s 400us/step - loss: 0.8042 - acc: 0.7613 - val_loss: 0.8064 - val_acc: 0.7763\n",
            "Epoch 31/100\n",
            "7741/7741 [==============================] - 3s 394us/step - loss: 0.7922 - acc: 0.7583 - val_loss: 0.7996 - val_acc: 0.7769\n",
            "Epoch 32/100\n",
            "7741/7741 [==============================] - 3s 389us/step - loss: 0.7631 - acc: 0.7642 - val_loss: 0.7934 - val_acc: 0.7774\n",
            "Epoch 33/100\n",
            "7741/7741 [==============================] - 3s 408us/step - loss: 0.7485 - acc: 0.7754 - val_loss: 0.7901 - val_acc: 0.7831\n",
            "Epoch 34/100\n",
            "7741/7741 [==============================] - 3s 394us/step - loss: 0.7438 - acc: 0.7779 - val_loss: 0.7876 - val_acc: 0.7763\n",
            "Epoch 35/100\n",
            "7741/7741 [==============================] - 3s 392us/step - loss: 0.7331 - acc: 0.7769 - val_loss: 0.7758 - val_acc: 0.7856\n",
            "Epoch 36/100\n",
            "7741/7741 [==============================] - 3s 389us/step - loss: 0.7309 - acc: 0.7785 - val_loss: 0.7699 - val_acc: 0.7846\n",
            "Epoch 37/100\n",
            "7741/7741 [==============================] - 3s 394us/step - loss: 0.7051 - acc: 0.7867 - val_loss: 0.7702 - val_acc: 0.7841\n",
            "Epoch 38/100\n",
            "7741/7741 [==============================] - 3s 394us/step - loss: 0.6960 - acc: 0.7858 - val_loss: 0.7741 - val_acc: 0.7846\n",
            "Epoch 39/100\n",
            "7741/7741 [==============================] - 3s 385us/step - loss: 0.6800 - acc: 0.7934 - val_loss: 0.7677 - val_acc: 0.7825\n",
            "Epoch 40/100\n",
            "7741/7741 [==============================] - 3s 406us/step - loss: 0.6794 - acc: 0.7928 - val_loss: 0.7564 - val_acc: 0.7867\n",
            "Epoch 41/100\n",
            "7741/7741 [==============================] - 3s 416us/step - loss: 0.6562 - acc: 0.7973 - val_loss: 0.7531 - val_acc: 0.7908\n",
            "Epoch 42/100\n",
            "7741/7741 [==============================] - 3s 398us/step - loss: 0.6583 - acc: 0.8008 - val_loss: 0.7580 - val_acc: 0.7887\n",
            "Epoch 43/100\n",
            "7741/7741 [==============================] - 3s 412us/step - loss: 0.6416 - acc: 0.8027 - val_loss: 0.7687 - val_acc: 0.7867\n",
            "Epoch 44/100\n",
            "7741/7741 [==============================] - 3s 431us/step - loss: 0.6371 - acc: 0.8056 - val_loss: 0.7529 - val_acc: 0.7934\n",
            "Epoch 45/100\n",
            "7741/7741 [==============================] - 3s 397us/step - loss: 0.6153 - acc: 0.8107 - val_loss: 0.7520 - val_acc: 0.8017\n",
            "Epoch 46/100\n",
            "7741/7741 [==============================] - 3s 387us/step - loss: 0.6082 - acc: 0.8118 - val_loss: 0.7572 - val_acc: 0.7960\n",
            "Epoch 47/100\n",
            "7741/7741 [==============================] - 3s 408us/step - loss: 0.5923 - acc: 0.8219 - val_loss: 0.7622 - val_acc: 0.7939\n",
            "Epoch 48/100\n",
            "7741/7741 [==============================] - 3s 389us/step - loss: 0.5974 - acc: 0.8144 - val_loss: 0.7622 - val_acc: 0.7986\n",
            "Epoch 49/100\n",
            "7741/7741 [==============================] - 3s 405us/step - loss: 0.5722 - acc: 0.8221 - val_loss: 0.7432 - val_acc: 0.8027\n",
            "Epoch 50/100\n",
            "7741/7741 [==============================] - 3s 400us/step - loss: 0.5692 - acc: 0.8206 - val_loss: 0.7592 - val_acc: 0.7996\n",
            "Epoch 51/100\n",
            "7741/7741 [==============================] - 3s 410us/step - loss: 0.5593 - acc: 0.8233 - val_loss: 0.7702 - val_acc: 0.7955\n",
            "Epoch 52/100\n",
            "7741/7741 [==============================] - 3s 387us/step - loss: 0.5559 - acc: 0.8262 - val_loss: 0.7582 - val_acc: 0.7975\n",
            "Epoch 53/100\n",
            "7741/7741 [==============================] - 3s 405us/step - loss: 0.5463 - acc: 0.8279 - val_loss: 0.7493 - val_acc: 0.8027\n",
            "Epoch 54/100\n",
            "7741/7741 [==============================] - 3s 390us/step - loss: 0.5379 - acc: 0.8308 - val_loss: 0.7525 - val_acc: 0.8032\n",
            "Epoch 55/100\n",
            "7741/7741 [==============================] - 3s 408us/step - loss: 0.5370 - acc: 0.8299 - val_loss: 0.7498 - val_acc: 0.7975\n",
            "Epoch 56/100\n",
            "7741/7741 [==============================] - 3s 413us/step - loss: 0.5181 - acc: 0.8374 - val_loss: 0.7537 - val_acc: 0.8037\n",
            "Epoch 57/100\n",
            "7741/7741 [==============================] - 3s 425us/step - loss: 0.5082 - acc: 0.8384 - val_loss: 0.7519 - val_acc: 0.8022\n",
            "Epoch 58/100\n",
            "7741/7741 [==============================] - 3s 412us/step - loss: 0.5027 - acc: 0.8412 - val_loss: 0.7509 - val_acc: 0.8001\n",
            "Epoch 59/100\n",
            "7741/7741 [==============================] - 3s 410us/step - loss: 0.4956 - acc: 0.8415 - val_loss: 0.7428 - val_acc: 0.8058\n",
            "Epoch 60/100\n",
            "7741/7741 [==============================] - 3s 398us/step - loss: 0.4877 - acc: 0.8443 - val_loss: 0.7523 - val_acc: 0.8017\n",
            "Epoch 61/100\n",
            "7741/7741 [==============================] - 3s 428us/step - loss: 0.4800 - acc: 0.8481 - val_loss: 0.7649 - val_acc: 0.8001\n",
            "Epoch 62/100\n",
            "7741/7741 [==============================] - 3s 396us/step - loss: 0.4740 - acc: 0.8500 - val_loss: 0.7575 - val_acc: 0.7980\n",
            "Epoch 63/100\n",
            "7741/7741 [==============================] - 3s 393us/step - loss: 0.4617 - acc: 0.8548 - val_loss: 0.7604 - val_acc: 0.8017\n",
            "Epoch 64/100\n",
            "7741/7741 [==============================] - 3s 398us/step - loss: 0.4666 - acc: 0.8492 - val_loss: 0.7698 - val_acc: 0.7970\n",
            "Epoch 65/100\n",
            "7741/7741 [==============================] - 3s 392us/step - loss: 0.4605 - acc: 0.8494 - val_loss: 0.7617 - val_acc: 0.8017\n",
            "Epoch 66/100\n",
            "7741/7741 [==============================] - 3s 384us/step - loss: 0.4615 - acc: 0.8512 - val_loss: 0.7648 - val_acc: 0.8048\n",
            "Epoch 67/100\n",
            "7741/7741 [==============================] - 3s 412us/step - loss: 0.4462 - acc: 0.8566 - val_loss: 0.7713 - val_acc: 0.8068\n",
            "Epoch 68/100\n",
            "7741/7741 [==============================] - 3s 393us/step - loss: 0.4481 - acc: 0.8540 - val_loss: 0.7648 - val_acc: 0.8068\n",
            "Epoch 69/100\n",
            "7741/7741 [==============================] - 3s 425us/step - loss: 0.4364 - acc: 0.8605 - val_loss: 0.7652 - val_acc: 0.8068\n",
            "Epoch 70/100\n",
            "7741/7741 [==============================] - 3s 397us/step - loss: 0.4288 - acc: 0.8631 - val_loss: 0.7711 - val_acc: 0.8063\n",
            "Epoch 71/100\n",
            "7741/7741 [==============================] - 3s 388us/step - loss: 0.4103 - acc: 0.8655 - val_loss: 0.7819 - val_acc: 0.8058\n",
            "Epoch 72/100\n",
            "7741/7741 [==============================] - 3s 392us/step - loss: 0.4269 - acc: 0.8607 - val_loss: 0.7843 - val_acc: 0.8037\n",
            "Epoch 73/100\n",
            "7741/7741 [==============================] - 3s 386us/step - loss: 0.4131 - acc: 0.8682 - val_loss: 0.7937 - val_acc: 0.8022\n",
            "Epoch 74/100\n",
            "7741/7741 [==============================] - 3s 412us/step - loss: 0.4082 - acc: 0.8658 - val_loss: 0.7788 - val_acc: 0.8063\n",
            "Epoch 75/100\n",
            "7741/7741 [==============================] - 3s 392us/step - loss: 0.4046 - acc: 0.8623 - val_loss: 0.7903 - val_acc: 0.8042\n",
            "Epoch 76/100\n",
            "7741/7741 [==============================] - 3s 390us/step - loss: 0.3981 - acc: 0.8715 - val_loss: 0.8056 - val_acc: 0.7970\n",
            "Epoch 77/100\n",
            "7741/7741 [==============================] - 3s 402us/step - loss: 0.3999 - acc: 0.8671 - val_loss: 0.8051 - val_acc: 0.8001\n",
            "Epoch 78/100\n",
            "7741/7741 [==============================] - 3s 382us/step - loss: 0.4040 - acc: 0.8669 - val_loss: 0.7881 - val_acc: 0.8006\n",
            "Epoch 79/100\n",
            "7741/7741 [==============================] - 3s 397us/step - loss: 0.3923 - acc: 0.8702 - val_loss: 0.7895 - val_acc: 0.8104\n",
            "Epoch 80/100\n",
            "7741/7741 [==============================] - 3s 396us/step - loss: 0.3780 - acc: 0.8755 - val_loss: 0.7918 - val_acc: 0.8058\n",
            "Epoch 81/100\n",
            "7741/7741 [==============================] - 3s 378us/step - loss: 0.3775 - acc: 0.8733 - val_loss: 0.8003 - val_acc: 0.8073\n",
            "Epoch 82/100\n",
            "7741/7741 [==============================] - 3s 422us/step - loss: 0.3657 - acc: 0.8826 - val_loss: 0.8216 - val_acc: 0.8063\n",
            "Epoch 83/100\n",
            "7741/7741 [==============================] - 3s 386us/step - loss: 0.3608 - acc: 0.8828 - val_loss: 0.8369 - val_acc: 0.8058\n",
            "Epoch 84/100\n",
            "7741/7741 [==============================] - 3s 388us/step - loss: 0.3502 - acc: 0.8861 - val_loss: 0.8275 - val_acc: 0.8032\n",
            "Epoch 85/100\n",
            "7741/7741 [==============================] - 3s 413us/step - loss: 0.3562 - acc: 0.8836 - val_loss: 0.8217 - val_acc: 0.8048\n",
            "Epoch 86/100\n",
            "7741/7741 [==============================] - 3s 398us/step - loss: 0.3453 - acc: 0.8862 - val_loss: 0.8366 - val_acc: 0.8053\n",
            "Epoch 87/100\n",
            "7741/7741 [==============================] - 3s 391us/step - loss: 0.3576 - acc: 0.8822 - val_loss: 0.8283 - val_acc: 0.8053\n",
            "Epoch 88/100\n",
            "7741/7741 [==============================] - 3s 406us/step - loss: 0.3549 - acc: 0.8849 - val_loss: 0.8282 - val_acc: 0.8032\n",
            "Epoch 89/100\n",
            "7741/7741 [==============================] - 3s 383us/step - loss: 0.3371 - acc: 0.8885 - val_loss: 0.8313 - val_acc: 0.8048\n",
            "Epoch 90/100\n",
            "7741/7741 [==============================] - 3s 392us/step - loss: 0.3373 - acc: 0.8886 - val_loss: 0.8341 - val_acc: 0.8079\n",
            "Epoch 91/100\n",
            "7741/7741 [==============================] - 3s 387us/step - loss: 0.3385 - acc: 0.8886 - val_loss: 0.8339 - val_acc: 0.8011\n",
            "Epoch 92/100\n",
            "7741/7741 [==============================] - 3s 391us/step - loss: 0.3312 - acc: 0.8906 - val_loss: 0.8313 - val_acc: 0.8032\n",
            "Epoch 93/100\n",
            "7741/7741 [==============================] - 3s 397us/step - loss: 0.3171 - acc: 0.8898 - val_loss: 0.8579 - val_acc: 0.8032\n",
            "Epoch 94/100\n",
            "7741/7741 [==============================] - 3s 385us/step - loss: 0.3128 - acc: 0.8943 - val_loss: 0.8559 - val_acc: 0.8104\n",
            "Epoch 95/100\n",
            "7741/7741 [==============================] - 3s 382us/step - loss: 0.3189 - acc: 0.8930 - val_loss: 0.8311 - val_acc: 0.8094\n",
            "Epoch 96/100\n",
            "7741/7741 [==============================] - 3s 385us/step - loss: 0.3123 - acc: 0.8955 - val_loss: 0.8370 - val_acc: 0.8079\n",
            "Epoch 97/100\n",
            "7741/7741 [==============================] - 3s 414us/step - loss: 0.3112 - acc: 0.8987 - val_loss: 0.8592 - val_acc: 0.8011\n",
            "Epoch 98/100\n",
            "7741/7741 [==============================] - 3s 425us/step - loss: 0.3123 - acc: 0.8933 - val_loss: 0.8604 - val_acc: 0.8048\n",
            "Epoch 99/100\n",
            "7741/7741 [==============================] - 3s 390us/step - loss: 0.3076 - acc: 0.9003 - val_loss: 0.8550 - val_acc: 0.8032\n",
            "Epoch 100/100\n",
            "7741/7741 [==============================] - 3s 389us/step - loss: 0.3035 - acc: 0.8998 - val_loss: 0.8467 - val_acc: 0.8058\n",
            "Total training time 311.77588748931885 seconds\n"
          ],
          "name": "stdout"
        }
      ]
    },
    {
      "cell_type": "code",
      "metadata": {
        "id": "ykunt_ZLwPPh",
        "colab_type": "code",
        "outputId": "9aef25b6-1034-48e2-8791-219255bfddcf",
        "colab": {
          "base_uri": "https://localhost:8080/",
          "height": 641
        }
      },
      "source": [
        "plot_history(history)"
      ],
      "execution_count": 27,
      "outputs": [
        {
          "output_type": "stream",
          "text": [
            "dict_keys(['val_loss', 'val_acc', 'loss', 'acc'])\n"
          ],
          "name": "stdout"
        },
        {
          "output_type": "stream",
          "text": [
            "/usr/local/lib/python3.6/dist-packages/matplotlib/axes/_base.py:3604: MatplotlibDeprecationWarning: \n",
            "The `ymin` argument was deprecated in Matplotlib 3.0 and will be removed in 3.2. Use `bottom` instead.\n",
            "  alternative='`bottom`', obj_type='argument')\n"
          ],
          "name": "stderr"
        },
        {
          "output_type": "display_data",
          "data": {
            "image/png": "[encoded data removed]",
            "text/plain": [
              "<Figure size 432x288 with 1 Axes>"
            ]
          },
          "metadata": {
            "tags": []
          }
        },
        {
          "output_type": "display_data",
          "data": {
            "image/png": "[encoded data removed]",
            "text/plain": [
              "<Figure size 432x288 with 1 Axes>"
            ]
          },
          "metadata": {
            "tags": []
          }
        }
      ]
    },
    {
      "cell_type": "markdown",
      "metadata": {
        "id": "DPbXrkJqRrZQ",
        "colab_type": "text"
      },
      "source": [
        "#### Validation loss decreases then increases which suggests overfitting\n",
        "We can try adding dropout layers or batch-normalization layers or adding weight regularization."
      ]
    },
    {
      "cell_type": "code",
      "metadata": {
        "id": "NBEuLP5aKqP7",
        "colab_type": "code",
        "outputId": "a4bf01df-5939-4e5c-c76a-06c7cc23b06b",
        "colab": {
          "base_uri": "https://localhost:8080/",
          "height": 1000
        }
      },
      "source": [
        "## Adding early stopping & increased Dropout to p=0.5 to reduce overfitting\n",
        "# A simple LSTM with glove embeddings and two dense layers\n",
        "\n",
        "model = Sequential()\n",
        "model.add(Embedding(len(word_index) + 1,\n",
        "                     300,\n",
        "                     weights=[embedding_matrix],\n",
        "                     input_length=max_len,\n",
        "                     trainable=False))\n",
        "model.add(SpatialDropout1D(0.3))\n",
        "model.add(LSTM(300, dropout=0.3, recurrent_dropout=0.3))\n",
        "\n",
        "model.add(Dense(1024, activation='relu'))\n",
        "model.add(Dropout(0.5))\n",
        "\n",
        "model.add(Dense(1024, activation='relu'))\n",
        "model.add(Dropout(0.5))\n",
        "\n",
        "model.add(Dense(last_layer))\n",
        "model.add(Activation('softmax'))\n",
        "model.summary()\n",
        "model.compile(loss='categorical_crossentropy', optimizer='adam', metrics=['acc'])\n",
        "\n",
        "# Fit the model with early stopping & learning rate scheduler callback\n",
        "earlystop = EarlyStopping(monitor='val_loss', min_delta=0, patience=3, verbose=0, mode='auto')\n",
        "\n",
        "callbacks_list = [earlystop]\n",
        "\n",
        "history = model.fit(xtrain_pad, y=ytrain_enc, batch_size=512, epochs=100, \n",
        "          verbose=1, validation_data=(xvalid_pad, yvalid_enc), callbacks=callbacks_list)"
      ],
      "execution_count": 47,
      "outputs": [
        {
          "output_type": "stream",
          "text": [
            "Model: \"sequential_12\"\n",
            "_________________________________________________________________\n",
            "Layer (type)                 Output Shape              Param #   \n",
            "=================================================================\n",
            "embedding_11 (Embedding)     (None, 70, 300)           1141800   \n",
            "_________________________________________________________________\n",
            "spatial_dropout1d_11 (Spatia (None, 70, 300)           0         \n",
            "_________________________________________________________________\n",
            "lstm_10 (LSTM)               (None, 300)               721200    \n",
            "_________________________________________________________________\n",
            "dense_34 (Dense)             (None, 1024)              308224    \n",
            "_________________________________________________________________\n",
            "dropout_23 (Dropout)         (None, 1024)              0         \n",
            "_________________________________________________________________\n",
            "dense_35 (Dense)             (None, 1024)              1049600   \n",
            "_________________________________________________________________\n",
            "dropout_24 (Dropout)         (None, 1024)              0         \n",
            "_________________________________________________________________\n",
            "dense_36 (Dense)             (None, 26)                26650     \n",
            "_________________________________________________________________\n",
            "activation_12 (Activation)   (None, 26)                0         \n",
            "=================================================================\n",
            "Total params: 3,247,474\n",
            "Trainable params: 2,105,674\n",
            "Non-trainable params: 1,141,800\n",
            "_________________________________________________________________\n",
            "Train on 7741 samples, validate on 1936 samples\n",
            "Epoch 1/100\n",
            "7741/7741 [==============================] - 9s 1ms/step - loss: 3.1381 - acc: 0.0943 - val_loss: 2.8176 - val_acc: 0.1803\n",
            "Epoch 2/100\n",
            "7741/7741 [==============================] - 4s 561us/step - loss: 2.6639 - acc: 0.2095 - val_loss: 2.2290 - val_acc: 0.3254\n",
            "Epoch 3/100\n",
            "7741/7741 [==============================] - 4s 559us/step - loss: 2.3088 - acc: 0.2967 - val_loss: 1.9802 - val_acc: 0.3771\n",
            "Epoch 4/100\n",
            "7741/7741 [==============================] - 4s 563us/step - loss: 2.1198 - acc: 0.3605 - val_loss: 1.6812 - val_acc: 0.4850\n",
            "Epoch 5/100\n",
            "7741/7741 [==============================] - 4s 563us/step - loss: 1.9282 - acc: 0.4188 - val_loss: 1.5233 - val_acc: 0.5289\n",
            "Epoch 6/100\n",
            "7741/7741 [==============================] - 4s 556us/step - loss: 1.7340 - acc: 0.4776 - val_loss: 1.3974 - val_acc: 0.5635\n",
            "Epoch 7/100\n",
            "7741/7741 [==============================] - 4s 559us/step - loss: 1.6278 - acc: 0.5125 - val_loss: 1.3269 - val_acc: 0.6007\n",
            "Epoch 8/100\n",
            "7741/7741 [==============================] - 4s 553us/step - loss: 1.5510 - acc: 0.5318 - val_loss: 1.2416 - val_acc: 0.6193\n",
            "Epoch 9/100\n",
            "7741/7741 [==============================] - 4s 561us/step - loss: 1.4320 - acc: 0.5765 - val_loss: 1.1470 - val_acc: 0.6565\n",
            "Epoch 10/100\n",
            "7741/7741 [==============================] - 4s 557us/step - loss: 1.3506 - acc: 0.5958 - val_loss: 1.0737 - val_acc: 0.6885\n",
            "Epoch 11/100\n",
            "7741/7741 [==============================] - 4s 563us/step - loss: 1.2691 - acc: 0.6246 - val_loss: 1.0524 - val_acc: 0.6927\n",
            "Epoch 12/100\n",
            "7741/7741 [==============================] - 4s 565us/step - loss: 1.2116 - acc: 0.6427 - val_loss: 1.0006 - val_acc: 0.7071\n",
            "Epoch 13/100\n",
            "7741/7741 [==============================] - 4s 571us/step - loss: 1.1578 - acc: 0.6531 - val_loss: 0.9542 - val_acc: 0.7164\n",
            "Epoch 14/100\n",
            "7741/7741 [==============================] - 4s 569us/step - loss: 1.1143 - acc: 0.6727 - val_loss: 0.9412 - val_acc: 0.7242\n",
            "Epoch 15/100\n",
            "7741/7741 [==============================] - 4s 562us/step - loss: 1.0490 - acc: 0.6893 - val_loss: 0.9155 - val_acc: 0.7340\n",
            "Epoch 16/100\n",
            "7741/7741 [==============================] - 4s 566us/step - loss: 1.0168 - acc: 0.6947 - val_loss: 0.8905 - val_acc: 0.7454\n",
            "Epoch 17/100\n",
            "7741/7741 [==============================] - 4s 568us/step - loss: 0.9760 - acc: 0.7073 - val_loss: 0.8877 - val_acc: 0.7500\n",
            "Epoch 18/100\n",
            "7741/7741 [==============================] - 4s 568us/step - loss: 0.9351 - acc: 0.7206 - val_loss: 0.8768 - val_acc: 0.7510\n",
            "Epoch 19/100\n",
            "7741/7741 [==============================] - 4s 568us/step - loss: 0.9003 - acc: 0.7283 - val_loss: 0.8713 - val_acc: 0.7500\n",
            "Epoch 20/100\n",
            "7741/7741 [==============================] - 4s 556us/step - loss: 0.8756 - acc: 0.7344 - val_loss: 0.8457 - val_acc: 0.7681\n",
            "Epoch 21/100\n",
            "7741/7741 [==============================] - 4s 558us/step - loss: 0.8367 - acc: 0.7427 - val_loss: 0.8533 - val_acc: 0.7634\n",
            "Epoch 22/100\n",
            "7741/7741 [==============================] - 4s 557us/step - loss: 0.8106 - acc: 0.7553 - val_loss: 0.8345 - val_acc: 0.7712\n",
            "Epoch 23/100\n",
            "7741/7741 [==============================] - 4s 559us/step - loss: 0.7958 - acc: 0.7601 - val_loss: 0.7994 - val_acc: 0.7784\n",
            "Epoch 24/100\n",
            "7741/7741 [==============================] - 4s 567us/step - loss: 0.7465 - acc: 0.7640 - val_loss: 0.8017 - val_acc: 0.7743\n",
            "Epoch 25/100\n",
            "7741/7741 [==============================] - 4s 571us/step - loss: 0.7353 - acc: 0.7744 - val_loss: 0.8205 - val_acc: 0.7820\n",
            "Epoch 26/100\n",
            "7741/7741 [==============================] - 4s 558us/step - loss: 0.6938 - acc: 0.7868 - val_loss: 0.7932 - val_acc: 0.7831\n",
            "Epoch 27/100\n",
            "7741/7741 [==============================] - 4s 565us/step - loss: 0.6933 - acc: 0.7884 - val_loss: 0.7874 - val_acc: 0.7898\n",
            "Epoch 28/100\n",
            "7741/7741 [==============================] - 4s 560us/step - loss: 0.6580 - acc: 0.7956 - val_loss: 0.7783 - val_acc: 0.7867\n",
            "Epoch 29/100\n",
            "7741/7741 [==============================] - 4s 565us/step - loss: 0.6420 - acc: 0.8009 - val_loss: 0.7879 - val_acc: 0.7887\n",
            "Epoch 30/100\n",
            "7741/7741 [==============================] - 4s 570us/step - loss: 0.6328 - acc: 0.8034 - val_loss: 0.7884 - val_acc: 0.7934\n",
            "Epoch 31/100\n",
            "7741/7741 [==============================] - 4s 559us/step - loss: 0.6183 - acc: 0.8034 - val_loss: 0.7750 - val_acc: 0.7924\n",
            "Epoch 32/100\n",
            "7741/7741 [==============================] - 4s 559us/step - loss: 0.5890 - acc: 0.8155 - val_loss: 0.7784 - val_acc: 0.7924\n",
            "Epoch 33/100\n",
            "7741/7741 [==============================] - 4s 565us/step - loss: 0.5715 - acc: 0.8238 - val_loss: 0.7674 - val_acc: 0.7960\n",
            "Epoch 34/100\n",
            "7741/7741 [==============================] - 4s 566us/step - loss: 0.5683 - acc: 0.8256 - val_loss: 0.7830 - val_acc: 0.7872\n",
            "Epoch 35/100\n",
            "7741/7741 [==============================] - 4s 565us/step - loss: 0.5439 - acc: 0.8310 - val_loss: 0.8029 - val_acc: 0.7872\n",
            "Epoch 36/100\n",
            "7741/7741 [==============================] - 4s 564us/step - loss: 0.5328 - acc: 0.8308 - val_loss: 0.7731 - val_acc: 0.8027\n"
          ],
          "name": "stdout"
        }
      ]
    },
    {
      "cell_type": "markdown",
      "metadata": {
        "id": "AqHaV1uWKqQB",
        "colab_type": "text"
      },
      "source": [
        "#### Effects of Dropout - training loss > val loss & training accuracy < validation accuracy\n",
        "\n",
        "\"Why is the training loss much higher than the testing loss?\n",
        "A Keras model has two modes: training and testing. Regularization mechanisms, such as Dropout and L1/L2 weight regularization, are turned off at testing time.\n",
        "Besides, the training loss is the average of the losses over each batch of training data. Because your model is changing over time, the loss over the first batches of an epoch is generally higher than over the last batches. On the other hand, the testing loss for an epoch is computed using the model as it is at the end of the epoch, resulting in a lower loss.\" - Source - Keras FAQs"
      ]
    },
    {
      "cell_type": "code",
      "metadata": {
        "id": "axMCHuxOwUj3",
        "colab_type": "code",
        "outputId": "7758372e-1064-4edf-fb50-64eb79cc565a",
        "colab": {
          "base_uri": "https://localhost:8080/",
          "height": 641
        }
      },
      "source": [
        "plot_history(history)"
      ],
      "execution_count": 48,
      "outputs": [
        {
          "output_type": "stream",
          "text": [
            "dict_keys(['val_loss', 'val_acc', 'loss', 'acc'])\n"
          ],
          "name": "stdout"
        },
        {
          "output_type": "stream",
          "text": [
            "/usr/local/lib/python3.6/dist-packages/matplotlib/axes/_base.py:3604: MatplotlibDeprecationWarning: \n",
            "The `ymin` argument was deprecated in Matplotlib 3.0 and will be removed in 3.2. Use `bottom` instead.\n",
            "  alternative='`bottom`', obj_type='argument')\n"
          ],
          "name": "stderr"
        },
        {
          "output_type": "display_data",
          "data": {
            "image/png": "[encoded data removed]",
            "text/plain": [
              "<Figure size 432x288 with 1 Axes>"
            ]
          },
          "metadata": {
            "tags": []
          }
        },
        {
          "output_type": "display_data",
          "data": {
            "image/png": "[encoded data removed]",
            "text/plain": [
              "<Figure size 432x288 with 1 Axes>"
            ]
          },
          "metadata": {
            "tags": []
          }
        }
      ]
    },
    {
      "cell_type": "code",
      "metadata": {
        "id": "NUdXF56nKqQC",
        "colab_type": "code",
        "outputId": "81f13b56-f221-442a-a82b-9943fd7bc1f0",
        "colab": {
          "base_uri": "https://localhost:8080/",
          "height": 1000
        }
      },
      "source": [
        "# A simple bidirectional LSTM with glove embeddings and two dense layers\n",
        "model = Sequential()\n",
        "model.add(Embedding(len(word_index) + 1,\n",
        "                     300,\n",
        "                     weights=[embedding_matrix],\n",
        "                     input_length=max_len,\n",
        "                     trainable=False))\n",
        "model.add(SpatialDropout1D(0.5))\n",
        "model.add(Bidirectional(LSTM(300, dropout=0.5, recurrent_dropout=0.5)))\n",
        "\n",
        "model.add(Dense(1024, activation='relu'))\n",
        "model.add(Dropout(0.6))\n",
        "\n",
        "model.add(Dense(1024, activation='relu'))\n",
        "model.add(Dropout(0.6))\n",
        "\n",
        "model.add(Dense(last_layer))\n",
        "model.add(Activation('softmax'))\n",
        "model.compile(loss='categorical_crossentropy', optimizer='adam', metrics=['acc'])\n",
        "\n",
        "# Fit the model with early stopping callback\n",
        "earlystop = EarlyStopping(monitor='val_loss', min_delta=0, patience=5, verbose=0, mode='auto')   ## Increased patience to 5 epochs\n",
        "history = model.fit(xtrain_pad, y=ytrain_enc, batch_size=512, epochs=100, \n",
        "          #verbose=1, validation_data=(xvalid_pad, yvalid_enc), callbacks=[earlystop])  ## Lower val acc due to Early Stopping\n",
        "          verbose=1, validation_data=(xvalid_pad, yvalid_enc), callbacks=None)"
      ],
      "execution_count": 54,
      "outputs": [
        {
          "output_type": "stream",
          "text": [
            "WARNING:tensorflow:Large dropout rate: 0.6 (>0.5). In TensorFlow 2.x, dropout() uses dropout rate instead of keep_prob. Please ensure that this is intended.\n",
            "WARNING:tensorflow:Large dropout rate: 0.6 (>0.5). In TensorFlow 2.x, dropout() uses dropout rate instead of keep_prob. Please ensure that this is intended.\n",
            "Train on 7741 samples, validate on 1936 samples\n",
            "Epoch 1/100\n",
            "7741/7741 [==============================] - 17s 2ms/step - loss: 3.2192 - acc: 0.0605 - val_loss: 3.1245 - val_acc: 0.1761\n",
            "Epoch 2/100\n",
            "7741/7741 [==============================] - 8s 1ms/step - loss: 3.0875 - acc: 0.1129 - val_loss: 2.8069 - val_acc: 0.1818\n",
            "Epoch 3/100\n",
            "7741/7741 [==============================] - 8s 1ms/step - loss: 2.8292 - acc: 0.1669 - val_loss: 2.4026 - val_acc: 0.2490\n",
            "Epoch 4/100\n",
            "7741/7741 [==============================] - 8s 1ms/step - loss: 2.6545 - acc: 0.2086 - val_loss: 2.2860 - val_acc: 0.2707\n",
            "Epoch 5/100\n",
            "7741/7741 [==============================] - 8s 1ms/step - loss: 2.5176 - acc: 0.2385 - val_loss: 2.1249 - val_acc: 0.3394\n",
            "Epoch 6/100\n",
            "7741/7741 [==============================] - 8s 1ms/step - loss: 2.4043 - acc: 0.2705 - val_loss: 2.0290 - val_acc: 0.3678\n",
            "Epoch 7/100\n",
            "7741/7741 [==============================] - 8s 1ms/step - loss: 2.3193 - acc: 0.3011 - val_loss: 1.9242 - val_acc: 0.3936\n",
            "Epoch 8/100\n",
            "7741/7741 [==============================] - 8s 1ms/step - loss: 2.2186 - acc: 0.3241 - val_loss: 1.8339 - val_acc: 0.4385\n",
            "Epoch 9/100\n",
            "7741/7741 [==============================] - 8s 1ms/step - loss: 2.1384 - acc: 0.3533 - val_loss: 1.7257 - val_acc: 0.4685\n",
            "Epoch 10/100\n",
            "7741/7741 [==============================] - 8s 1ms/step - loss: 2.0567 - acc: 0.3802 - val_loss: 1.6307 - val_acc: 0.4835\n",
            "Epoch 11/100\n",
            "7741/7741 [==============================] - 8s 1ms/step - loss: 1.9587 - acc: 0.4090 - val_loss: 1.5103 - val_acc: 0.5331\n",
            "Epoch 12/100\n",
            "7741/7741 [==============================] - 8s 1ms/step - loss: 1.8759 - acc: 0.4337 - val_loss: 1.4617 - val_acc: 0.5563\n",
            "Epoch 13/100\n",
            "7741/7741 [==============================] - 9s 1ms/step - loss: 1.8051 - acc: 0.4554 - val_loss: 1.4255 - val_acc: 0.5449\n",
            "Epoch 14/100\n",
            "7741/7741 [==============================] - 8s 1ms/step - loss: 1.7331 - acc: 0.4749 - val_loss: 1.3455 - val_acc: 0.5775\n",
            "Epoch 15/100\n",
            "7741/7741 [==============================] - 8s 1ms/step - loss: 1.6404 - acc: 0.5099 - val_loss: 1.3074 - val_acc: 0.5868\n",
            "Epoch 16/100\n",
            "7741/7741 [==============================] - 8s 1ms/step - loss: 1.6119 - acc: 0.5166 - val_loss: 1.2413 - val_acc: 0.6178\n",
            "Epoch 17/100\n",
            "7741/7741 [==============================] - 8s 1ms/step - loss: 1.5339 - acc: 0.5389 - val_loss: 1.1995 - val_acc: 0.6451\n",
            "Epoch 18/100\n",
            "7741/7741 [==============================] - 8s 1ms/step - loss: 1.4983 - acc: 0.5586 - val_loss: 1.1759 - val_acc: 0.6581\n",
            "Epoch 19/100\n",
            "7741/7741 [==============================] - 8s 1ms/step - loss: 1.4361 - acc: 0.5702 - val_loss: 1.1141 - val_acc: 0.6772\n",
            "Epoch 20/100\n",
            "7741/7741 [==============================] - 8s 1ms/step - loss: 1.3962 - acc: 0.5732 - val_loss: 1.0772 - val_acc: 0.6880\n",
            "Epoch 21/100\n",
            "7741/7741 [==============================] - 8s 1ms/step - loss: 1.3621 - acc: 0.5867 - val_loss: 1.0591 - val_acc: 0.6916\n",
            "Epoch 22/100\n",
            "7741/7741 [==============================] - 8s 1ms/step - loss: 1.3191 - acc: 0.6082 - val_loss: 1.0253 - val_acc: 0.6973\n",
            "Epoch 23/100\n",
            "7741/7741 [==============================] - 8s 1ms/step - loss: 1.2596 - acc: 0.6221 - val_loss: 1.0132 - val_acc: 0.7076\n",
            "Epoch 24/100\n",
            "7741/7741 [==============================] - 8s 1ms/step - loss: 1.2486 - acc: 0.6302 - val_loss: 0.9774 - val_acc: 0.7190\n",
            "Epoch 25/100\n",
            "7741/7741 [==============================] - 8s 1ms/step - loss: 1.2240 - acc: 0.6375 - val_loss: 0.9712 - val_acc: 0.7278\n",
            "Epoch 26/100\n",
            "7741/7741 [==============================] - 8s 1ms/step - loss: 1.2019 - acc: 0.6416 - val_loss: 0.9422 - val_acc: 0.7293\n",
            "Epoch 27/100\n",
            "7741/7741 [==============================] - 8s 1ms/step - loss: 1.1601 - acc: 0.6538 - val_loss: 0.9337 - val_acc: 0.7350\n",
            "Epoch 28/100\n",
            "7741/7741 [==============================] - 8s 1ms/step - loss: 1.1191 - acc: 0.6610 - val_loss: 0.9130 - val_acc: 0.7428\n",
            "Epoch 29/100\n",
            "7741/7741 [==============================] - 8s 1ms/step - loss: 1.1053 - acc: 0.6681 - val_loss: 0.8969 - val_acc: 0.7474\n",
            "Epoch 30/100\n",
            "7741/7741 [==============================] - 8s 1ms/step - loss: 1.0847 - acc: 0.6703 - val_loss: 0.8974 - val_acc: 0.7428\n",
            "Epoch 31/100\n",
            "7741/7741 [==============================] - 8s 1ms/step - loss: 1.0668 - acc: 0.6777 - val_loss: 0.8863 - val_acc: 0.7469\n",
            "Epoch 32/100\n",
            "7741/7741 [==============================] - 8s 1ms/step - loss: 1.0392 - acc: 0.6843 - val_loss: 0.8731 - val_acc: 0.7521\n",
            "Epoch 33/100\n",
            "7741/7741 [==============================] - 8s 1ms/step - loss: 1.0210 - acc: 0.6941 - val_loss: 0.8741 - val_acc: 0.7546\n",
            "Epoch 34/100\n",
            "7741/7741 [==============================] - 8s 1ms/step - loss: 1.0018 - acc: 0.7006 - val_loss: 0.8644 - val_acc: 0.7572\n",
            "Epoch 35/100\n",
            "7741/7741 [==============================] - 8s 1ms/step - loss: 0.9736 - acc: 0.7101 - val_loss: 0.8526 - val_acc: 0.7557\n",
            "Epoch 36/100\n",
            "7741/7741 [==============================] - 8s 1ms/step - loss: 0.9672 - acc: 0.7127 - val_loss: 0.8580 - val_acc: 0.7531\n",
            "Epoch 37/100\n",
            "7741/7741 [==============================] - 8s 1ms/step - loss: 0.9368 - acc: 0.7199 - val_loss: 0.8522 - val_acc: 0.7588\n",
            "Epoch 38/100\n",
            "7741/7741 [==============================] - 8s 1ms/step - loss: 0.9520 - acc: 0.7110 - val_loss: 0.8555 - val_acc: 0.7614\n",
            "Epoch 39/100\n",
            "7741/7741 [==============================] - 8s 1ms/step - loss: 0.9307 - acc: 0.7157 - val_loss: 0.8342 - val_acc: 0.7691\n",
            "Epoch 40/100\n",
            "7741/7741 [==============================] - 8s 1ms/step - loss: 0.9193 - acc: 0.7261 - val_loss: 0.8348 - val_acc: 0.7634\n",
            "Epoch 41/100\n",
            "7741/7741 [==============================] - 8s 1ms/step - loss: 0.8910 - acc: 0.7329 - val_loss: 0.8230 - val_acc: 0.7722\n",
            "Epoch 42/100\n",
            "7741/7741 [==============================] - 8s 1ms/step - loss: 0.8903 - acc: 0.7319 - val_loss: 0.8197 - val_acc: 0.7727\n",
            "Epoch 43/100\n",
            "7741/7741 [==============================] - 8s 1ms/step - loss: 0.8737 - acc: 0.7344 - val_loss: 0.8222 - val_acc: 0.7753\n",
            "Epoch 44/100\n",
            "7741/7741 [==============================] - 8s 1ms/step - loss: 0.8474 - acc: 0.7455 - val_loss: 0.8129 - val_acc: 0.7794\n",
            "Epoch 45/100\n",
            "7741/7741 [==============================] - 8s 1ms/step - loss: 0.8449 - acc: 0.7434 - val_loss: 0.8071 - val_acc: 0.7727\n",
            "Epoch 46/100\n",
            "7741/7741 [==============================] - 9s 1ms/step - loss: 0.8384 - acc: 0.7438 - val_loss: 0.8174 - val_acc: 0.7743\n",
            "Epoch 47/100\n",
            "7741/7741 [==============================] - 8s 1ms/step - loss: 0.8218 - acc: 0.7509 - val_loss: 0.8052 - val_acc: 0.7743\n",
            "Epoch 48/100\n",
            "7741/7741 [==============================] - 8s 1ms/step - loss: 0.8208 - acc: 0.7490 - val_loss: 0.8164 - val_acc: 0.7763\n",
            "Epoch 49/100\n",
            "7741/7741 [==============================] - 8s 1ms/step - loss: 0.8027 - acc: 0.7580 - val_loss: 0.8141 - val_acc: 0.7758\n",
            "Epoch 50/100\n",
            "7741/7741 [==============================] - 8s 1ms/step - loss: 0.8061 - acc: 0.7579 - val_loss: 0.8110 - val_acc: 0.7686\n",
            "Epoch 51/100\n",
            "7741/7741 [==============================] - 8s 1ms/step - loss: 0.7874 - acc: 0.7655 - val_loss: 0.8077 - val_acc: 0.7743\n",
            "Epoch 52/100\n",
            "7741/7741 [==============================] - 8s 1ms/step - loss: 0.7846 - acc: 0.7593 - val_loss: 0.7965 - val_acc: 0.7805\n",
            "Epoch 53/100\n",
            "7741/7741 [==============================] - 8s 1ms/step - loss: 0.7483 - acc: 0.7713 - val_loss: 0.7999 - val_acc: 0.7815\n",
            "Epoch 54/100\n",
            "7741/7741 [==============================] - 8s 1ms/step - loss: 0.7474 - acc: 0.7723 - val_loss: 0.8054 - val_acc: 0.7825\n",
            "Epoch 55/100\n",
            "7741/7741 [==============================] - 8s 1ms/step - loss: 0.7333 - acc: 0.7738 - val_loss: 0.8034 - val_acc: 0.7820\n",
            "Epoch 56/100\n",
            "7741/7741 [==============================] - 8s 1ms/step - loss: 0.7130 - acc: 0.7835 - val_loss: 0.8131 - val_acc: 0.7831\n",
            "Epoch 57/100\n",
            "7741/7741 [==============================] - 8s 1ms/step - loss: 0.7080 - acc: 0.7857 - val_loss: 0.8041 - val_acc: 0.7800\n",
            "Epoch 58/100\n",
            "7741/7741 [==============================] - 8s 1ms/step - loss: 0.7161 - acc: 0.7777 - val_loss: 0.7868 - val_acc: 0.7851\n",
            "Epoch 59/100\n",
            "7741/7741 [==============================] - 9s 1ms/step - loss: 0.7058 - acc: 0.7790 - val_loss: 0.7881 - val_acc: 0.7800\n",
            "Epoch 60/100\n",
            "7741/7741 [==============================] - 8s 1ms/step - loss: 0.6994 - acc: 0.7847 - val_loss: 0.7874 - val_acc: 0.7846\n",
            "Epoch 61/100\n",
            "7741/7741 [==============================] - 8s 1ms/step - loss: 0.6885 - acc: 0.7878 - val_loss: 0.7715 - val_acc: 0.7877\n",
            "Epoch 62/100\n",
            "7741/7741 [==============================] - 8s 1ms/step - loss: 0.6833 - acc: 0.7836 - val_loss: 0.7853 - val_acc: 0.7810\n",
            "Epoch 63/100\n",
            "7741/7741 [==============================] - 8s 1ms/step - loss: 0.6846 - acc: 0.7839 - val_loss: 0.7779 - val_acc: 0.7862\n",
            "Epoch 64/100\n",
            "7741/7741 [==============================] - 8s 1ms/step - loss: 0.6780 - acc: 0.7909 - val_loss: 0.7740 - val_acc: 0.7908\n",
            "Epoch 65/100\n",
            "7741/7741 [==============================] - 8s 1ms/step - loss: 0.6630 - acc: 0.7899 - val_loss: 0.7852 - val_acc: 0.7898\n",
            "Epoch 66/100\n",
            "7741/7741 [==============================] - 9s 1ms/step - loss: 0.6620 - acc: 0.7978 - val_loss: 0.7725 - val_acc: 0.7955\n",
            "Epoch 67/100\n",
            "7741/7741 [==============================] - 8s 1ms/step - loss: 0.6338 - acc: 0.8044 - val_loss: 0.7763 - val_acc: 0.7918\n",
            "Epoch 68/100\n",
            "7741/7741 [==============================] - 8s 1ms/step - loss: 0.6414 - acc: 0.8030 - val_loss: 0.7954 - val_acc: 0.7929\n",
            "Epoch 69/100\n",
            "7741/7741 [==============================] - 8s 1ms/step - loss: 0.6248 - acc: 0.8087 - val_loss: 0.7749 - val_acc: 0.7970\n",
            "Epoch 70/100\n",
            "7741/7741 [==============================] - 8s 1ms/step - loss: 0.6142 - acc: 0.8096 - val_loss: 0.8024 - val_acc: 0.7908\n",
            "Epoch 71/100\n",
            "7741/7741 [==============================] - 8s 1ms/step - loss: 0.6118 - acc: 0.8065 - val_loss: 0.7787 - val_acc: 0.7980\n",
            "Epoch 72/100\n",
            "7741/7741 [==============================] - 8s 1ms/step - loss: 0.6115 - acc: 0.8066 - val_loss: 0.7915 - val_acc: 0.7960\n",
            "Epoch 73/100\n",
            "7741/7741 [==============================] - 8s 1ms/step - loss: 0.5988 - acc: 0.8123 - val_loss: 0.7840 - val_acc: 0.7980\n",
            "Epoch 74/100\n",
            "7741/7741 [==============================] - 8s 1ms/step - loss: 0.5867 - acc: 0.8180 - val_loss: 0.7745 - val_acc: 0.7924\n",
            "Epoch 75/100\n",
            "7741/7741 [==============================] - 8s 1ms/step - loss: 0.5852 - acc: 0.8160 - val_loss: 0.7898 - val_acc: 0.7887\n",
            "Epoch 76/100\n",
            "7741/7741 [==============================] - 8s 1ms/step - loss: 0.5898 - acc: 0.8123 - val_loss: 0.7796 - val_acc: 0.7882\n",
            "Epoch 77/100\n",
            "7741/7741 [==============================] - 9s 1ms/step - loss: 0.5788 - acc: 0.8181 - val_loss: 0.7944 - val_acc: 0.7872\n",
            "Epoch 78/100\n",
            "7741/7741 [==============================] - 8s 1ms/step - loss: 0.5675 - acc: 0.8173 - val_loss: 0.7985 - val_acc: 0.7980\n",
            "Epoch 79/100\n",
            "7741/7741 [==============================] - 9s 1ms/step - loss: 0.5594 - acc: 0.8268 - val_loss: 0.7880 - val_acc: 0.7934\n",
            "Epoch 80/100\n",
            "7741/7741 [==============================] - 8s 1ms/step - loss: 0.5702 - acc: 0.8268 - val_loss: 0.7738 - val_acc: 0.8006\n",
            "Epoch 81/100\n",
            "7741/7741 [==============================] - 8s 1ms/step - loss: 0.5655 - acc: 0.8233 - val_loss: 0.7822 - val_acc: 0.8032\n",
            "Epoch 82/100\n",
            "7741/7741 [==============================] - 8s 1ms/step - loss: 0.5427 - acc: 0.8273 - val_loss: 0.7931 - val_acc: 0.8022\n",
            "Epoch 83/100\n",
            "7741/7741 [==============================] - 8s 1ms/step - loss: 0.5539 - acc: 0.8250 - val_loss: 0.7837 - val_acc: 0.8037\n",
            "Epoch 84/100\n",
            "7741/7741 [==============================] - 8s 1ms/step - loss: 0.5404 - acc: 0.8330 - val_loss: 0.7893 - val_acc: 0.7965\n",
            "Epoch 85/100\n",
            "7741/7741 [==============================] - 8s 1ms/step - loss: 0.5323 - acc: 0.8314 - val_loss: 0.7983 - val_acc: 0.8073\n",
            "Epoch 86/100\n",
            "7741/7741 [==============================] - 8s 1ms/step - loss: 0.5164 - acc: 0.8337 - val_loss: 0.7913 - val_acc: 0.8032\n",
            "Epoch 87/100\n",
            "7741/7741 [==============================] - 8s 1ms/step - loss: 0.5180 - acc: 0.8335 - val_loss: 0.8126 - val_acc: 0.7939\n",
            "Epoch 88/100\n",
            "7741/7741 [==============================] - 8s 1ms/step - loss: 0.5283 - acc: 0.8319 - val_loss: 0.7985 - val_acc: 0.7975\n",
            "Epoch 89/100\n",
            "7741/7741 [==============================] - 8s 1ms/step - loss: 0.4984 - acc: 0.8419 - val_loss: 0.7986 - val_acc: 0.8006\n",
            "Epoch 90/100\n",
            "7741/7741 [==============================] - 8s 1ms/step - loss: 0.5071 - acc: 0.8376 - val_loss: 0.7920 - val_acc: 0.8053\n",
            "Epoch 91/100\n",
            "7741/7741 [==============================] - 8s 1ms/step - loss: 0.4969 - acc: 0.8408 - val_loss: 0.8066 - val_acc: 0.8068\n",
            "Epoch 92/100\n",
            "7741/7741 [==============================] - 8s 1ms/step - loss: 0.4912 - acc: 0.8428 - val_loss: 0.8067 - val_acc: 0.8079\n",
            "Epoch 93/100\n",
            "7741/7741 [==============================] - 8s 1ms/step - loss: 0.4756 - acc: 0.8481 - val_loss: 0.8252 - val_acc: 0.8027\n",
            "Epoch 94/100\n",
            "7741/7741 [==============================] - 8s 1ms/step - loss: 0.4884 - acc: 0.8434 - val_loss: 0.8210 - val_acc: 0.8068\n",
            "Epoch 95/100\n",
            "7741/7741 [==============================] - 8s 1ms/step - loss: 0.4896 - acc: 0.8423 - val_loss: 0.7935 - val_acc: 0.8084\n",
            "Epoch 96/100\n",
            "7741/7741 [==============================] - 8s 1ms/step - loss: 0.4732 - acc: 0.8476 - val_loss: 0.8134 - val_acc: 0.8068\n",
            "Epoch 97/100\n",
            "7741/7741 [==============================] - 8s 1ms/step - loss: 0.4736 - acc: 0.8461 - val_loss: 0.8015 - val_acc: 0.8058\n",
            "Epoch 98/100\n",
            "7741/7741 [==============================] - 8s 1ms/step - loss: 0.4552 - acc: 0.8501 - val_loss: 0.8141 - val_acc: 0.8079\n",
            "Epoch 99/100\n",
            "7741/7741 [==============================] - 8s 1ms/step - loss: 0.4619 - acc: 0.8486 - val_loss: 0.8118 - val_acc: 0.8068\n",
            "Epoch 100/100\n",
            "7741/7741 [==============================] - 8s 1ms/step - loss: 0.4514 - acc: 0.8535 - val_loss: 0.8288 - val_acc: 0.8042\n"
          ],
          "name": "stdout"
        }
      ]
    },
    {
      "cell_type": "markdown",
      "metadata": {
        "id": "DXo-QWhRRL0a",
        "colab_type": "text"
      },
      "source": [
        "Training loss will always decrease with every epoch, but if val loss starts increasing, it implies overfitting"
      ]
    },
    {
      "cell_type": "code",
      "metadata": {
        "id": "YhW9MlO0wbyE",
        "colab_type": "code",
        "outputId": "a7e4a4ae-d5e8-4ebf-c91e-b3d2c5c5f0ad",
        "colab": {
          "base_uri": "https://localhost:8080/",
          "height": 641
        }
      },
      "source": [
        "plot_history(history)"
      ],
      "execution_count": 57,
      "outputs": [
        {
          "output_type": "stream",
          "text": [
            "dict_keys(['val_loss', 'val_acc', 'loss', 'acc'])\n"
          ],
          "name": "stdout"
        },
        {
          "output_type": "stream",
          "text": [
            "/usr/local/lib/python3.6/dist-packages/matplotlib/axes/_base.py:3604: MatplotlibDeprecationWarning: \n",
            "The `ymin` argument was deprecated in Matplotlib 3.0 and will be removed in 3.2. Use `bottom` instead.\n",
            "  alternative='`bottom`', obj_type='argument')\n"
          ],
          "name": "stderr"
        },
        {
          "output_type": "display_data",
          "data": {
            "image/png": "[encoded data removed]",
            "text/plain": [
              "<Figure size 432x288 with 1 Axes>"
            ]
          },
          "metadata": {
            "tags": []
          }
        },
        {
          "output_type": "display_data",
          "data": {
            "image/png": "[encoded data removed]",
            "text/plain": [
              "<Figure size 432x288 with 1 Axes>"
            ]
          },
          "metadata": {
            "tags": []
          }
        }
      ]
    },
    {
      "cell_type": "code",
      "metadata": {
        "id": "0XJ0gvSyKqQF",
        "colab_type": "code",
        "outputId": "0df1b682-fb67-48ed-e1ab-43b7e0101050",
        "colab": {
          "base_uri": "https://localhost:8080/",
          "height": 1000
        }
      },
      "source": [
        "## Replacing LSTM with GRU, using glove embeddings and two dense layers\n",
        "## GRUs train faster and perform better than LSTMs on less training data if you are doing language modeling\n",
        "## LSTMs are more sophisticated but at the same time more complex as well\n",
        "\n",
        "model = Sequential()\n",
        "model.add(Embedding(len(word_index) + 1,\n",
        "                     300,\n",
        "                     weights=[embedding_matrix],\n",
        "                     input_length=max_len,\n",
        "                     trainable=False))\n",
        "model.add(SpatialDropout1D(0.5))\n",
        "model.add(GRU(300, dropout=0.5, recurrent_dropout=0.5, return_sequences=True))\n",
        "model.add(GRU(300, dropout=0.5, recurrent_dropout=0.5))\n",
        "\n",
        "model.add(Dense(1024, activation='relu'))\n",
        "model.add(Dropout(0.5))\n",
        "\n",
        "model.add(Dense(1024, activation='relu'))\n",
        "model.add(Dropout(0.5))\n",
        "\n",
        "model.add(Dense(last_layer))\n",
        "model.add(Activation('softmax'))\n",
        "model.summary()\n",
        "model.compile(loss='categorical_crossentropy', optimizer='adam', metrics=['acc'])\n",
        "\n",
        "# Fit the model with early stopping callback\n",
        "earlystop = EarlyStopping(monitor='val_loss', min_delta=0, patience=3, verbose=0, mode='auto')\n",
        "history = model.fit(xtrain_pad, y=ytrain_enc, batch_size=512, epochs=100, \n",
        "          #verbose=1, validation_data=(xvalid_pad, yvalid_enc), callbacks=[earlystop])\n",
        "          verbose=1, validation_data=(xvalid_pad, yvalid_enc), callbacks=None)"
      ],
      "execution_count": 55,
      "outputs": [
        {
          "output_type": "stream",
          "text": [
            "Model: \"sequential_17\"\n",
            "_________________________________________________________________\n",
            "Layer (type)                 Output Shape              Param #   \n",
            "=================================================================\n",
            "embedding_16 (Embedding)     (None, 70, 300)           1141800   \n",
            "_________________________________________________________________\n",
            "spatial_dropout1d_16 (Spatia (None, 70, 300)           0         \n",
            "_________________________________________________________________\n",
            "gru_5 (GRU)                  (None, 70, 300)           540900    \n",
            "_________________________________________________________________\n",
            "gru_6 (GRU)                  (None, 300)               540900    \n",
            "_________________________________________________________________\n",
            "dense_49 (Dense)             (None, 1024)              308224    \n",
            "_________________________________________________________________\n",
            "dropout_33 (Dropout)         (None, 1024)              0         \n",
            "_________________________________________________________________\n",
            "dense_50 (Dense)             (None, 1024)              1049600   \n",
            "_________________________________________________________________\n",
            "dropout_34 (Dropout)         (None, 1024)              0         \n",
            "_________________________________________________________________\n",
            "dense_51 (Dense)             (None, 26)                26650     \n",
            "_________________________________________________________________\n",
            "activation_17 (Activation)   (None, 26)                0         \n",
            "=================================================================\n",
            "Total params: 3,608,074\n",
            "Trainable params: 2,466,274\n",
            "Non-trainable params: 1,141,800\n",
            "_________________________________________________________________\n",
            "Train on 7741 samples, validate on 1936 samples\n",
            "Epoch 1/100\n",
            "7741/7741 [==============================] - 16s 2ms/step - loss: 3.2264 - acc: 0.0606 - val_loss: 3.1503 - val_acc: 0.1777\n",
            "Epoch 2/100\n",
            "7741/7741 [==============================] - 7s 909us/step - loss: 3.1232 - acc: 0.0977 - val_loss: 2.9009 - val_acc: 0.1606\n",
            "Epoch 3/100\n",
            "7741/7741 [==============================] - 7s 925us/step - loss: 2.9315 - acc: 0.1475 - val_loss: 2.5705 - val_acc: 0.2299\n",
            "Epoch 4/100\n",
            "7741/7741 [==============================] - 7s 919us/step - loss: 2.7687 - acc: 0.1807 - val_loss: 2.3803 - val_acc: 0.2448\n",
            "Epoch 5/100\n",
            "7741/7741 [==============================] - 7s 905us/step - loss: 2.6396 - acc: 0.2125 - val_loss: 2.2352 - val_acc: 0.2975\n",
            "Epoch 6/100\n",
            "7741/7741 [==============================] - 7s 910us/step - loss: 2.5001 - acc: 0.2453 - val_loss: 2.1091 - val_acc: 0.3280\n",
            "Epoch 7/100\n",
            "7741/7741 [==============================] - 7s 914us/step - loss: 2.3888 - acc: 0.2750 - val_loss: 1.9796 - val_acc: 0.3972\n",
            "Epoch 8/100\n",
            "7741/7741 [==============================] - 7s 922us/step - loss: 2.2702 - acc: 0.3112 - val_loss: 1.8370 - val_acc: 0.4447\n",
            "Epoch 9/100\n",
            "7741/7741 [==============================] - 7s 909us/step - loss: 2.1708 - acc: 0.3370 - val_loss: 1.7430 - val_acc: 0.4623\n",
            "Epoch 10/100\n",
            "7741/7741 [==============================] - 7s 921us/step - loss: 2.0717 - acc: 0.3758 - val_loss: 1.5996 - val_acc: 0.5181\n",
            "Epoch 11/100\n",
            "7741/7741 [==============================] - 7s 915us/step - loss: 1.9719 - acc: 0.4041 - val_loss: 1.5144 - val_acc: 0.5289\n",
            "Epoch 12/100\n",
            "7741/7741 [==============================] - 7s 909us/step - loss: 1.8996 - acc: 0.4240 - val_loss: 1.4734 - val_acc: 0.5434\n",
            "Epoch 13/100\n",
            "7741/7741 [==============================] - 7s 912us/step - loss: 1.7999 - acc: 0.4502 - val_loss: 1.4058 - val_acc: 0.5687\n",
            "Epoch 14/100\n",
            "7741/7741 [==============================] - 7s 914us/step - loss: 1.7451 - acc: 0.4727 - val_loss: 1.3380 - val_acc: 0.5940\n",
            "Epoch 15/100\n",
            "7741/7741 [==============================] - 7s 909us/step - loss: 1.6864 - acc: 0.4883 - val_loss: 1.2947 - val_acc: 0.6059\n",
            "Epoch 16/100\n",
            "7741/7741 [==============================] - 7s 907us/step - loss: 1.6183 - acc: 0.5050 - val_loss: 1.2444 - val_acc: 0.6260\n",
            "Epoch 17/100\n",
            "7741/7741 [==============================] - 7s 909us/step - loss: 1.5773 - acc: 0.5216 - val_loss: 1.2092 - val_acc: 0.6426\n",
            "Epoch 18/100\n",
            "7741/7741 [==============================] - 7s 915us/step - loss: 1.5292 - acc: 0.5382 - val_loss: 1.1640 - val_acc: 0.6606\n",
            "Epoch 19/100\n",
            "7741/7741 [==============================] - 7s 918us/step - loss: 1.4920 - acc: 0.5502 - val_loss: 1.1625 - val_acc: 0.6679\n",
            "Epoch 20/100\n",
            "7741/7741 [==============================] - 7s 898us/step - loss: 1.4622 - acc: 0.5607 - val_loss: 1.1340 - val_acc: 0.6756\n",
            "Epoch 21/100\n",
            "7741/7741 [==============================] - 7s 902us/step - loss: 1.4236 - acc: 0.5742 - val_loss: 1.0807 - val_acc: 0.6844\n",
            "Epoch 22/100\n",
            "7741/7741 [==============================] - 7s 908us/step - loss: 1.3770 - acc: 0.5878 - val_loss: 1.0470 - val_acc: 0.7020\n",
            "Epoch 23/100\n",
            "7741/7741 [==============================] - 7s 909us/step - loss: 1.3650 - acc: 0.5922 - val_loss: 1.0321 - val_acc: 0.7076\n",
            "Epoch 24/100\n",
            "7741/7741 [==============================] - 7s 907us/step - loss: 1.3293 - acc: 0.6010 - val_loss: 1.0198 - val_acc: 0.7107\n",
            "Epoch 25/100\n",
            "7741/7741 [==============================] - 7s 919us/step - loss: 1.2872 - acc: 0.6135 - val_loss: 1.0059 - val_acc: 0.7288\n",
            "Epoch 26/100\n",
            "7741/7741 [==============================] - 7s 919us/step - loss: 1.2802 - acc: 0.6172 - val_loss: 0.9850 - val_acc: 0.7257\n",
            "Epoch 27/100\n",
            "7741/7741 [==============================] - 7s 902us/step - loss: 1.2295 - acc: 0.6308 - val_loss: 0.9870 - val_acc: 0.7314\n",
            "Epoch 28/100\n",
            "7741/7741 [==============================] - 7s 918us/step - loss: 1.2427 - acc: 0.6308 - val_loss: 0.9579 - val_acc: 0.7345\n",
            "Epoch 29/100\n",
            "7741/7741 [==============================] - 7s 909us/step - loss: 1.1758 - acc: 0.6438 - val_loss: 0.9546 - val_acc: 0.7340\n",
            "Epoch 30/100\n",
            "7741/7741 [==============================] - 7s 914us/step - loss: 1.1582 - acc: 0.6503 - val_loss: 0.9302 - val_acc: 0.7392\n",
            "Epoch 31/100\n",
            "7741/7741 [==============================] - 7s 914us/step - loss: 1.1535 - acc: 0.6556 - val_loss: 0.9298 - val_acc: 0.7433\n",
            "Epoch 32/100\n",
            "7741/7741 [==============================] - 7s 909us/step - loss: 1.1356 - acc: 0.6533 - val_loss: 0.9184 - val_acc: 0.7479\n",
            "Epoch 33/100\n",
            "7741/7741 [==============================] - 7s 901us/step - loss: 1.1042 - acc: 0.6608 - val_loss: 0.9205 - val_acc: 0.7407\n",
            "Epoch 34/100\n",
            "7741/7741 [==============================] - 7s 914us/step - loss: 1.1208 - acc: 0.6618 - val_loss: 0.9230 - val_acc: 0.7443\n",
            "Epoch 35/100\n",
            "7741/7741 [==============================] - 7s 908us/step - loss: 1.0919 - acc: 0.6676 - val_loss: 0.8812 - val_acc: 0.7588\n",
            "Epoch 36/100\n",
            "7741/7741 [==============================] - 7s 906us/step - loss: 1.0603 - acc: 0.6849 - val_loss: 0.9043 - val_acc: 0.7557\n",
            "Epoch 37/100\n",
            "7741/7741 [==============================] - 7s 913us/step - loss: 1.0452 - acc: 0.6888 - val_loss: 0.8863 - val_acc: 0.7598\n",
            "Epoch 38/100\n",
            "7741/7741 [==============================] - 7s 911us/step - loss: 1.0391 - acc: 0.6847 - val_loss: 0.8863 - val_acc: 0.7634\n",
            "Epoch 39/100\n",
            "7741/7741 [==============================] - 7s 913us/step - loss: 1.0153 - acc: 0.6932 - val_loss: 0.8644 - val_acc: 0.7639\n",
            "Epoch 40/100\n",
            "7741/7741 [==============================] - 7s 914us/step - loss: 1.0242 - acc: 0.6897 - val_loss: 0.8716 - val_acc: 0.7614\n",
            "Epoch 41/100\n",
            "7741/7741 [==============================] - 7s 920us/step - loss: 0.9955 - acc: 0.6980 - val_loss: 0.8765 - val_acc: 0.7593\n",
            "Epoch 42/100\n",
            "7741/7741 [==============================] - 7s 934us/step - loss: 0.9813 - acc: 0.7060 - val_loss: 0.8633 - val_acc: 0.7712\n",
            "Epoch 43/100\n",
            "7741/7741 [==============================] - 7s 915us/step - loss: 0.9816 - acc: 0.7077 - val_loss: 0.8507 - val_acc: 0.7753\n",
            "Epoch 44/100\n",
            "7741/7741 [==============================] - 7s 907us/step - loss: 0.9592 - acc: 0.7059 - val_loss: 0.8688 - val_acc: 0.7665\n",
            "Epoch 45/100\n",
            "7741/7741 [==============================] - 7s 909us/step - loss: 0.9700 - acc: 0.7133 - val_loss: 0.8425 - val_acc: 0.7758\n",
            "Epoch 46/100\n",
            "7741/7741 [==============================] - 7s 908us/step - loss: 0.9360 - acc: 0.7172 - val_loss: 0.8345 - val_acc: 0.7763\n",
            "Epoch 47/100\n",
            "7741/7741 [==============================] - 7s 913us/step - loss: 0.9251 - acc: 0.7163 - val_loss: 0.8351 - val_acc: 0.7789\n",
            "Epoch 48/100\n",
            "7741/7741 [==============================] - 7s 909us/step - loss: 0.9225 - acc: 0.7159 - val_loss: 0.8468 - val_acc: 0.7665\n",
            "Epoch 49/100\n",
            "7741/7741 [==============================] - 7s 910us/step - loss: 0.9160 - acc: 0.7230 - val_loss: 0.8517 - val_acc: 0.7696\n",
            "Epoch 50/100\n",
            "7741/7741 [==============================] - 7s 917us/step - loss: 0.9072 - acc: 0.7286 - val_loss: 0.8186 - val_acc: 0.7784\n",
            "Epoch 51/100\n",
            "7741/7741 [==============================] - 7s 908us/step - loss: 0.8822 - acc: 0.7278 - val_loss: 0.8300 - val_acc: 0.7789\n",
            "Epoch 52/100\n",
            "7741/7741 [==============================] - 7s 924us/step - loss: 0.8699 - acc: 0.7354 - val_loss: 0.8241 - val_acc: 0.7825\n",
            "Epoch 53/100\n",
            "7741/7741 [==============================] - 7s 916us/step - loss: 0.8828 - acc: 0.7303 - val_loss: 0.8233 - val_acc: 0.7820\n",
            "Epoch 54/100\n",
            "7741/7741 [==============================] - 7s 904us/step - loss: 0.8625 - acc: 0.7340 - val_loss: 0.8217 - val_acc: 0.7851\n",
            "Epoch 55/100\n",
            "7741/7741 [==============================] - 7s 909us/step - loss: 0.8564 - acc: 0.7339 - val_loss: 0.8287 - val_acc: 0.7856\n",
            "Epoch 56/100\n",
            "7741/7741 [==============================] - 7s 920us/step - loss: 0.8378 - acc: 0.7402 - val_loss: 0.8290 - val_acc: 0.7851\n",
            "Epoch 57/100\n",
            "7741/7741 [==============================] - 7s 924us/step - loss: 0.8547 - acc: 0.7409 - val_loss: 0.8295 - val_acc: 0.7805\n",
            "Epoch 58/100\n",
            "7741/7741 [==============================] - 7s 916us/step - loss: 0.8271 - acc: 0.7460 - val_loss: 0.8246 - val_acc: 0.7815\n",
            "Epoch 59/100\n",
            "7741/7741 [==============================] - 7s 909us/step - loss: 0.8196 - acc: 0.7531 - val_loss: 0.8077 - val_acc: 0.7867\n",
            "Epoch 60/100\n",
            "7741/7741 [==============================] - 7s 907us/step - loss: 0.8254 - acc: 0.7487 - val_loss: 0.8176 - val_acc: 0.7851\n",
            "Epoch 61/100\n",
            "7741/7741 [==============================] - 7s 911us/step - loss: 0.8089 - acc: 0.7509 - val_loss: 0.8124 - val_acc: 0.7851\n",
            "Epoch 62/100\n",
            "7741/7741 [==============================] - 7s 908us/step - loss: 0.8162 - acc: 0.7449 - val_loss: 0.8098 - val_acc: 0.7882\n",
            "Epoch 63/100\n",
            "7741/7741 [==============================] - 7s 920us/step - loss: 0.7936 - acc: 0.7582 - val_loss: 0.7987 - val_acc: 0.7960\n",
            "Epoch 64/100\n",
            "7741/7741 [==============================] - 7s 920us/step - loss: 0.7896 - acc: 0.7496 - val_loss: 0.8135 - val_acc: 0.7841\n",
            "Epoch 65/100\n",
            "7741/7741 [==============================] - 7s 910us/step - loss: 0.7829 - acc: 0.7599 - val_loss: 0.8156 - val_acc: 0.7903\n",
            "Epoch 66/100\n",
            "7741/7741 [==============================] - 7s 908us/step - loss: 0.7822 - acc: 0.7622 - val_loss: 0.8174 - val_acc: 0.7877\n",
            "Epoch 67/100\n",
            "7741/7741 [==============================] - 7s 915us/step - loss: 0.7865 - acc: 0.7575 - val_loss: 0.7887 - val_acc: 0.7944\n",
            "Epoch 68/100\n",
            "7741/7741 [==============================] - 7s 910us/step - loss: 0.7766 - acc: 0.7542 - val_loss: 0.8074 - val_acc: 0.7960\n",
            "Epoch 69/100\n",
            "7741/7741 [==============================] - 7s 907us/step - loss: 0.7507 - acc: 0.7636 - val_loss: 0.8050 - val_acc: 0.7970\n",
            "Epoch 70/100\n",
            "7741/7741 [==============================] - 7s 907us/step - loss: 0.7502 - acc: 0.7716 - val_loss: 0.8161 - val_acc: 0.7898\n",
            "Epoch 71/100\n",
            "7741/7741 [==============================] - 7s 901us/step - loss: 0.7437 - acc: 0.7692 - val_loss: 0.7947 - val_acc: 0.7939\n",
            "Epoch 72/100\n",
            "7741/7741 [==============================] - 7s 907us/step - loss: 0.7461 - acc: 0.7684 - val_loss: 0.8007 - val_acc: 0.7918\n",
            "Epoch 73/100\n",
            "7741/7741 [==============================] - 7s 903us/step - loss: 0.7373 - acc: 0.7706 - val_loss: 0.7898 - val_acc: 0.7918\n",
            "Epoch 74/100\n",
            "7741/7741 [==============================] - 7s 919us/step - loss: 0.7348 - acc: 0.7726 - val_loss: 0.7929 - val_acc: 0.7944\n",
            "Epoch 75/100\n",
            "7741/7741 [==============================] - 7s 907us/step - loss: 0.7147 - acc: 0.7716 - val_loss: 0.8009 - val_acc: 0.7949\n",
            "Epoch 76/100\n",
            "7741/7741 [==============================] - 7s 905us/step - loss: 0.7223 - acc: 0.7752 - val_loss: 0.7995 - val_acc: 0.7944\n",
            "Epoch 77/100\n",
            "7741/7741 [==============================] - 7s 920us/step - loss: 0.7226 - acc: 0.7704 - val_loss: 0.8187 - val_acc: 0.7975\n",
            "Epoch 78/100\n",
            "7741/7741 [==============================] - 7s 930us/step - loss: 0.7134 - acc: 0.7785 - val_loss: 0.7914 - val_acc: 0.7965\n",
            "Epoch 79/100\n",
            "7741/7741 [==============================] - 7s 916us/step - loss: 0.7075 - acc: 0.7813 - val_loss: 0.8071 - val_acc: 0.7939\n",
            "Epoch 80/100\n",
            "7741/7741 [==============================] - 7s 920us/step - loss: 0.7024 - acc: 0.7782 - val_loss: 0.7854 - val_acc: 0.7991\n",
            "Epoch 81/100\n",
            "7741/7741 [==============================] - 7s 916us/step - loss: 0.6964 - acc: 0.7857 - val_loss: 0.8037 - val_acc: 0.7980\n",
            "Epoch 82/100\n",
            "7741/7741 [==============================] - 7s 908us/step - loss: 0.6884 - acc: 0.7828 - val_loss: 0.8126 - val_acc: 0.8001\n",
            "Epoch 83/100\n",
            "7741/7741 [==============================] - 7s 908us/step - loss: 0.6884 - acc: 0.7817 - val_loss: 0.7901 - val_acc: 0.8006\n",
            "Epoch 84/100\n",
            "7741/7741 [==============================] - 7s 920us/step - loss: 0.6681 - acc: 0.7898 - val_loss: 0.8169 - val_acc: 0.8032\n",
            "Epoch 85/100\n",
            "7741/7741 [==============================] - 7s 922us/step - loss: 0.6958 - acc: 0.7814 - val_loss: 0.7723 - val_acc: 0.8001\n",
            "Epoch 86/100\n",
            "7741/7741 [==============================] - 7s 926us/step - loss: 0.6862 - acc: 0.7896 - val_loss: 0.7858 - val_acc: 0.8037\n",
            "Epoch 87/100\n",
            "7741/7741 [==============================] - 7s 919us/step - loss: 0.6712 - acc: 0.7828 - val_loss: 0.7887 - val_acc: 0.7996\n",
            "Epoch 88/100\n",
            "7741/7741 [==============================] - 7s 919us/step - loss: 0.6613 - acc: 0.7934 - val_loss: 0.7836 - val_acc: 0.8042\n",
            "Epoch 89/100\n",
            "7741/7741 [==============================] - 7s 926us/step - loss: 0.6445 - acc: 0.7969 - val_loss: 0.7773 - val_acc: 0.8032\n",
            "Epoch 90/100\n",
            "7741/7741 [==============================] - 7s 906us/step - loss: 0.6462 - acc: 0.7945 - val_loss: 0.7927 - val_acc: 0.8017\n",
            "Epoch 91/100\n",
            "7741/7741 [==============================] - 7s 912us/step - loss: 0.6339 - acc: 0.7977 - val_loss: 0.7919 - val_acc: 0.7991\n",
            "Epoch 92/100\n",
            "7741/7741 [==============================] - 7s 914us/step - loss: 0.6405 - acc: 0.7969 - val_loss: 0.7792 - val_acc: 0.8058\n",
            "Epoch 93/100\n",
            "7741/7741 [==============================] - 7s 928us/step - loss: 0.6515 - acc: 0.7960 - val_loss: 0.7869 - val_acc: 0.7986\n",
            "Epoch 94/100\n",
            "7741/7741 [==============================] - 7s 917us/step - loss: 0.6534 - acc: 0.7958 - val_loss: 0.7956 - val_acc: 0.8001\n",
            "Epoch 95/100\n",
            "7741/7741 [==============================] - 7s 917us/step - loss: 0.6284 - acc: 0.8012 - val_loss: 0.8019 - val_acc: 0.7996\n",
            "Epoch 96/100\n",
            "7741/7741 [==============================] - 7s 921us/step - loss: 0.6316 - acc: 0.8003 - val_loss: 0.7914 - val_acc: 0.7996\n",
            "Epoch 97/100\n",
            "7741/7741 [==============================] - 7s 906us/step - loss: 0.6333 - acc: 0.8009 - val_loss: 0.7933 - val_acc: 0.8017\n",
            "Epoch 98/100\n",
            "7741/7741 [==============================] - 7s 911us/step - loss: 0.6101 - acc: 0.8082 - val_loss: 0.8050 - val_acc: 0.7975\n",
            "Epoch 99/100\n",
            "7741/7741 [==============================] - 7s 920us/step - loss: 0.6182 - acc: 0.8016 - val_loss: 0.8109 - val_acc: 0.8089\n",
            "Epoch 100/100\n",
            "7741/7741 [==============================] - 7s 916us/step - loss: 0.6098 - acc: 0.8061 - val_loss: 0.7959 - val_acc: 0.7965\n"
          ],
          "name": "stdout"
        }
      ]
    },
    {
      "cell_type": "code",
      "metadata": {
        "id": "_c8ReTlBi1m_",
        "colab_type": "code",
        "colab": {
          "base_uri": "https://localhost:8080/",
          "height": 641
        },
        "outputId": "95c27b1f-6e51-4e62-926e-e866893084e1"
      },
      "source": [
        "plot_history(history)"
      ],
      "execution_count": 56,
      "outputs": [
        {
          "output_type": "stream",
          "text": [
            "dict_keys(['val_loss', 'val_acc', 'loss', 'acc'])\n"
          ],
          "name": "stdout"
        },
        {
          "output_type": "stream",
          "text": [
            "/usr/local/lib/python3.6/dist-packages/matplotlib/axes/_base.py:3604: MatplotlibDeprecationWarning: \n",
            "The `ymin` argument was deprecated in Matplotlib 3.0 and will be removed in 3.2. Use `bottom` instead.\n",
            "  alternative='`bottom`', obj_type='argument')\n"
          ],
          "name": "stderr"
        },
        {
          "output_type": "display_data",
          "data": {
            "image/png": "[encoded data removed]",
            "text/plain": [
              "<Figure size 432x288 with 1 Axes>"
            ]
          },
          "metadata": {
            "tags": []
          }
        },
        {
          "output_type": "display_data",
          "data": {
            "image/png": "[encoded data removed]",
            "text/plain": [
              "<Figure size 432x288 with 1 Axes>"
            ]
          },
          "metadata": {
            "tags": []
          }
        }
      ]
    },
    {
      "cell_type": "code",
      "metadata": {
        "id": "RwrWCY81u8GN",
        "colab_type": "code",
        "colab": {}
      },
      "source": [
        ""
      ],
      "execution_count": 0,
      "outputs": []
    }
  ]
}