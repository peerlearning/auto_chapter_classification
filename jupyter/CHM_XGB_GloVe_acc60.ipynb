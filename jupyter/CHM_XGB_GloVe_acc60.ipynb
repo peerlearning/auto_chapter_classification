{
 "cells": [
  {
   "cell_type": "code",
   "execution_count": 1,
   "metadata": {},
   "outputs": [
    {
     "name": "stderr",
     "output_type": "stream",
     "text": [
      "Using TensorFlow backend.\n"
     ]
    }
   ],
   "source": [
    "## Scikit learn libraries\n",
    "from sklearn import model_selection, preprocessing, linear_model, naive_bayes, metrics, svm\n",
    "from sklearn.feature_extraction.text import TfidfVectorizer, CountVectorizer\n",
    "from sklearn.linear_model import LogisticRegression, SGDClassifier\n",
    "from sklearn.pipeline import make_pipeline\n",
    "from sklearn.ensemble import RandomForestClassifier\n",
    "from sklearn.preprocessing import LabelBinarizer, LabelEncoder\n",
    "\n",
    "## For NLP\n",
    "from bs4 import BeautifulSoup, Tag    ## Cleaning HTML tags from text\n",
    "import nltk, string\n",
    "from nltk.corpus import stopwords \n",
    "import re\n",
    "\n",
    "## Glove vectors\n",
    "from tqdm import tqdm                 ## Progress bar for loading GloVe embeddings\n",
    "from nltk import word_tokenize        ## For GloVe\n",
    "\n",
    "## Common Python libraries\n",
    "import pandas as pd\n",
    "import numpy as np\n",
    "import matplotlib.pyplot as plt\n",
    "import seaborn as sns\n",
    "\n",
    "## Data I/O\n",
    "import json     ## To convert json raw data to df\n",
    "import pickle   ## saving the model to disk\n",
    "\n",
    "import xgboost as xgb\n",
    "from scipy.stats import uniform, randint\n",
    "\n",
    "from tensorflow import keras\n",
    "from keras.models import Sequential\n",
    "from keras.layers import Dense, Activation, Dropout\n",
    "from keras.preprocessing import text, sequence\n",
    "from keras import utils\n",
    "\n",
    "## Problem texts can be long and may not load on Jupyter\n",
    "pd.set_option('display.max_colwidth', -1)"
   ]
  },
  {
   "cell_type": "markdown",
   "metadata": {},
   "source": [
    "## Extract subject wise training data"
   ]
  },
  {
   "cell_type": "code",
   "execution_count": 2,
   "metadata": {},
   "outputs": [
    {
     "data": {
      "text/html": [
       "<div>\n",
       "<style scoped>\n",
       "    .dataframe tbody tr th:only-of-type {\n",
       "        vertical-align: middle;\n",
       "    }\n",
       "\n",
       "    .dataframe tbody tr th {\n",
       "        vertical-align: top;\n",
       "    }\n",
       "\n",
       "    .dataframe thead th {\n",
       "        text-align: right;\n",
       "    }\n",
       "</style>\n",
       "<table border=\"1\" class=\"dataframe\">\n",
       "  <thead>\n",
       "    <tr style=\"text-align: right;\">\n",
       "      <th></th>\n",
       "      <th>text</th>\n",
       "      <th>label</th>\n",
       "    </tr>\n",
       "  </thead>\n",
       "  <tbody>\n",
       "    <tr>\n",
       "      <th>0</th>\n",
       "      <td>which of the following statements is incorrect</td>\n",
       "      <td>Solutions</td>\n",
       "    </tr>\n",
       "    <tr>\n",
       "      <th>1</th>\n",
       "      <td>dry air was successively passed through a solution of g solute in g water and through pure water the loss in weight of solution was g and that of pure water was g molecular weight of solute in g mol is m find the value of frac m assume that solute is non volatile and does not dissociate or associate</td>\n",
       "      <td>Solutions</td>\n",
       "    </tr>\n",
       "    <tr>\n",
       "      <th>2</th>\n",
       "      <td>an aqueous solution boils at k what is the freezing point of the same solution given k f circ c m and k b circ c m</td>\n",
       "      <td>Solutions</td>\n",
       "    </tr>\n",
       "  </tbody>\n",
       "</table>\n",
       "</div>"
      ],
      "text/plain": [
       "                                                                                                                                                                                                                                                                                                           text  \\\n",
       "0  which of the following statements is incorrect                                                                                                                                                                                                                                                                 \n",
       "1  dry air was successively passed through a solution of g solute in g water and through pure water the loss in weight of solution was g and that of pure water was g molecular weight of solute in g mol is m find the value of frac m assume that solute is non volatile and does not dissociate or associate   \n",
       "2  an aqueous solution boils at k what is the freezing point of the same solution given k f circ c m and k b circ c m                                                                                                                                                                                             \n",
       "\n",
       "       label  \n",
       "0  Solutions  \n",
       "1  Solutions  \n",
       "2  Solutions  "
      ]
     },
     "execution_count": 2,
     "metadata": {},
     "output_type": "execute_result"
    }
   ],
   "source": [
    "# Load the dataset and show sample question\n",
    "with open('../data/qs_topicwise.json') as json_data:\n",
    "    all_questions = json.load(json_data)\n",
    "\n",
    "subject_model = ['CHM']\n",
    "\n",
    "## Create empty df \n",
    "data_df = pd.DataFrame(columns=['code', 'curriculum', 'subject', 'grade', 'question_text', 'chapter'])\n",
    "\n",
    "## Removing these words improves Phy clf accuracy by 2% but improves Math classifier accuracy\n",
    "words_to_remove = [\"rightarrow\", \"hence\", \"frac\", \"text\", \"sqrt\", \"times\", \n",
    "                   \"value\", \"amp\", \"statement\", \"will\", \"equal\", \"number\", \n",
    "                   \"tan\", \"now\", \"can\", \"two\", \"get\", \"true\", \"lambda\", \"a\", \"an\", \"the\"]\n",
    "stop_words = stopwords.words('english')         ## Downloaded from NLTK\n",
    "'''\n",
    "for PHY - removing Stopwords reduce acc & f1 score : 67% -> 63%, 74% -> 72%\n",
    "for CHM - removing Stopwords reduce acc & f1 score by 6%\n",
    "for MTH - \n",
    "'''\n",
    "\n",
    "## Remove dummy and empty chapters\n",
    "chapters_to_remove = ['Selection Test', 'Repository', 'Bridge Intervention Curriculum', \n",
    "                      'M1.1 Scaffold test', 'Tally Marks', 'Dummy']\n",
    "chapters_with_no_data = ['Static Electricity', 'Experimental Skills', 'Nuclear Chemistry', \n",
    "                         'Principle of Mathematical Induction', 'Environmental Chemistry']\n",
    "\n",
    "## Regex pattern for alpha numeric - Improves accuracy & f1-score for Phy by 2%\n",
    "pattern = re.compile('[\\W_]+')\n",
    "\n",
    "i = 0\n",
    "for question in all_questions:\n",
    "    try: \n",
    "        question_text = question['question_text'].lower()\n",
    "        ## Remove HTML tags from text using Beautiful Soup\n",
    "        '''\n",
    "        For MTH, it improves accuracy from 40% to 60% in MTH, \n",
    "        For PHY, it reduces accuracy from 60% to 20%. \n",
    "        For CHM, it increases accuracy from 50% to 52% \n",
    "        '''\n",
    "        question_text = BeautifulSoup(question_text, \"html.parser\").get_text() \n",
    "        ## Remove numbers\n",
    "        '''\n",
    "        For PHY, removing nos improved accuracy & F1 score by 0.5%\n",
    "        For CHM, removing nos improved acc by 2%\n",
    "        '''\n",
    "        question_text = ''.join(c for c in question_text if not c.isdigit())\n",
    "        ## Regex pattern for alpha numeric text\n",
    "        '''\n",
    "        For CHM, removing this regex improved score by 9%\n",
    "        '''\n",
    "        question_text = pattern.sub(\" \", question_text)\n",
    "        ## Remove stop words\n",
    "        '''\n",
    "        For CHM, keeping both sets of words, instead of removing them improved acc by 5%\n",
    "        '''\n",
    "        #question_text = \" \".join([word for word in question_text.split() if word not in words_to_remove])\n",
    "        #question_text = \" \".join([word for word in question_text.split() if word not in stop_words])\n",
    "        ## Remove extra whitespaces\n",
    "        question_text = \" \".join(question_text.split()) \n",
    "        ## Extracting elements for cleaner code\n",
    "        grade = question['grade']\n",
    "        curriculum = question['curriculum']\n",
    "        chapter = question['chapter']\n",
    "        subject = question['subject']\n",
    "        ## Filtering each question from JSON to add relevant Qs to dataframe \n",
    "        if(    \"JEE\" in curriculum and grade in [\"11\", \"12\"] and\n",
    "               chapter not in chapters_to_remove and\n",
    "               chapter not in chapters_with_no_data and\n",
    "               \"dummy\" not in question_text and subject in subject_model):\n",
    "                data_df.loc[i] = [question['problem_code'],curriculum, subject, \\\n",
    "                                  grade, question_text, chapter]\n",
    "                i += 1\n",
    "    except:\n",
    "            pass\n",
    "\n",
    "trainDF = pd.DataFrame(columns=['text', 'label'])\n",
    "trainDF['text'] = data_df['question_text']\n",
    "trainDF['label'] = data_df['chapter']\n",
    "trainDF.head(3)"
   ]
  },
  {
   "cell_type": "code",
   "execution_count": 3,
   "metadata": {},
   "outputs": [
    {
     "data": {
      "text/plain": [
       "<matplotlib.axes._subplots.AxesSubplot at 0x1a2e56b198>"
      ]
     },
     "execution_count": 3,
     "metadata": {},
     "output_type": "execute_result"
    },
    {
     "data": {
      "image/png": "[encoded data removed]",
      "text/plain": [
       "<Figure size 432x288 with 1 Axes>"
      ]
     },
     "metadata": {
      "needs_background": "light"
     },
     "output_type": "display_data"
    }
   ],
   "source": [
    "trainDF.label.value_counts().plot(kind=\"bar\")"
   ]
  },
  {
   "cell_type": "markdown",
   "metadata": {},
   "source": [
    "## Train test split"
   ]
  },
  {
   "cell_type": "code",
   "execution_count": 4,
   "metadata": {},
   "outputs": [
    {
     "name": "stdout",
     "output_type": "stream",
     "text": [
      "8220 2055\n"
     ]
    }
   ],
   "source": [
    "train_x, valid_x, train_y, valid_y = model_selection.train_test_split(trainDF['text'], trainDF['label'], test_size=0.2)\n",
    "print(len(train_x), len(valid_x) )"
   ]
  },
  {
   "cell_type": "markdown",
   "metadata": {},
   "source": [
    "## Create pipeline for vectorizer & classifier"
   ]
  },
  {
   "cell_type": "markdown",
   "metadata": {},
   "source": [
    "#### Label Encoding\n",
    "Label encoding is not needed for sklearn classifiers, as they are all capable of mutli-class classification, and handle label encoding automatically. Source :  https://stackoverflow.com/questions/51525043/encoding-labels-for-multi-class-problems-in-sckit-learn\n",
    "\n",
    "For non-sklearn models like NNs or XGB, we need to do label encoding"
   ]
  },
  {
   "cell_type": "code",
   "execution_count": 5,
   "metadata": {},
   "outputs": [
    {
     "data": {
      "text/plain": [
       "array([28, 19,  3,  1, 10])"
      ]
     },
     "execution_count": 5,
     "metadata": {},
     "output_type": "execute_result"
    }
   ],
   "source": [
    "# Use sklearn utility to convert label strings to numbered index\n",
    "encoder = LabelEncoder()\n",
    "encoder.fit(train_y)\n",
    "train_y = encoder.transform(train_y)\n",
    "valid_y = encoder.transform(valid_y)\n",
    "valid_y[0:5]"
   ]
  },
  {
   "cell_type": "markdown",
   "metadata": {},
   "source": [
    "### Glove vectors\n",
    "Loading GloVe embeddings from Standford dataset : http://www-nlp.stanford.edu/data/glove.840B.300d.zip\n"
   ]
  },
  {
   "cell_type": "code",
   "execution_count": 6,
   "metadata": {},
   "outputs": [
    {
     "name": "stderr",
     "output_type": "stream",
     "text": [
      "2196017it [03:31, 10373.10it/s]"
     ]
    },
    {
     "name": "stdout",
     "output_type": "stream",
     "text": [
      "Found 2195892 word vectors.\n"
     ]
    },
    {
     "name": "stderr",
     "output_type": "stream",
     "text": [
      "\n"
     ]
    }
   ],
   "source": [
    "## Source - https://www.kaggle.com/abhishek/approaching-almost-any-nlp-problem-on-kaggle\n",
    "# load the GloVe vectors in a dictionary:\n",
    "# create a map of words to vectors\n",
    "\n",
    "embeddings_index = {}\n",
    "f = open('glove.840B.300d.txt', 'r', encoding='utf8', errors = 'ignore')\n",
    "\n",
    "for line in tqdm(f):     ## tqdm adds a progress bar\n",
    "    values = line.split()\n",
    "    word = ''.join(values[:-300])\n",
    "    coefs = np.asarray(values[-300:], dtype='float32')\n",
    "    embeddings_index[word] = coefs\n",
    "f.close()\n",
    "\n",
    "print('Found %s word vectors.' % len(embeddings_index))"
   ]
  },
  {
   "cell_type": "code",
   "execution_count": 7,
   "metadata": {},
   "outputs": [],
   "source": [
    "# this function creates a normalized vector for the whole sentence\n",
    "def sent2vec(s):\n",
    "    words = str(s).lower()\n",
    "    words = word_tokenize(words)\n",
    "    words = [w for w in words if not w in stop_words]\n",
    "    words = [w for w in words if w.isalpha()]\n",
    "    M = []\n",
    "    for w in words:\n",
    "        try:\n",
    "            M.append(embeddings_index[w])\n",
    "        except:\n",
    "            continue\n",
    "    M = np.array(M)\n",
    "    v = M.sum(axis=0)\n",
    "    if type(v) != np.ndarray:\n",
    "        return np.zeros(300)\n",
    "    return v / np.sqrt((v ** 2).sum())"
   ]
  },
  {
   "cell_type": "code",
   "execution_count": 8,
   "metadata": {},
   "outputs": [
    {
     "name": "stderr",
     "output_type": "stream",
     "text": [
      "100%|██████████| 8220/8220 [00:03<00:00, 2470.09it/s]\n",
      "100%|██████████| 2055/2055 [00:00<00:00, 2288.94it/s]\n"
     ]
    }
   ],
   "source": [
    "# create sentence vectors using the above function for training and validation set\n",
    "xtrain_glove = [sent2vec(x) for x in tqdm(train_x)]\n",
    "xvalid_glove = [sent2vec(x) for x in tqdm(valid_x)]"
   ]
  },
  {
   "cell_type": "code",
   "execution_count": 9,
   "metadata": {},
   "outputs": [],
   "source": [
    "xtrain_glove = np.array(xtrain_glove)\n",
    "xvalid_glove = np.array(xvalid_glove)"
   ]
  },
  {
   "cell_type": "markdown",
   "metadata": {},
   "source": [
    "### Trying xgboost on GloVe features"
   ]
  },
  {
   "cell_type": "code",
   "execution_count": 10,
   "metadata": {},
   "outputs": [
    {
     "name": "stdout",
     "output_type": "stream",
     "text": [
      "CPU times: user 4 µs, sys: 2 µs, total: 6 µs\n",
      "Wall time: 30 µs\n"
     ]
    },
    {
     "data": {
      "text/plain": [
       "XGBClassifier(base_score=0.5, booster='gbtree', colsample_bylevel=1,\n",
       "       colsample_bynode=1, colsample_bytree=1, gamma=0, learning_rate=0.1,\n",
       "       max_delta_step=0, max_depth=3, min_child_weight=1, missing=None,\n",
       "       n_estimators=100, n_jobs=1, nthread=4, objective='multi:softprob',\n",
       "       random_state=0, reg_alpha=0, reg_lambda=1, scale_pos_weight=1,\n",
       "       seed=None, silent=False, subsample=1, verbosity=1)"
      ]
     },
     "execution_count": 10,
     "metadata": {},
     "output_type": "execute_result"
    }
   ],
   "source": [
    "%time\n",
    "# Fitting a simple xgboost on glove features\n",
    "clf = xgb.XGBClassifier(nthread=4, silent=False)\n",
    "clf.fit(xtrain_glove, train_y)"
   ]
  },
  {
   "cell_type": "code",
   "execution_count": 11,
   "metadata": {},
   "outputs": [
    {
     "name": "stdout",
     "output_type": "stream",
     "text": [
      "accuracy: 0.564\n",
      "F1-score (weighted): 0.547\n"
     ]
    }
   ],
   "source": [
    "pred_y = clf.predict(xvalid_glove)\n",
    "\n",
    "print(\"accuracy: {:0.3f}\".format(metrics.accuracy_score(valid_y, pred_y)))\n",
    "print(\"F1-score (weighted): {:0.3f}\".format(metrics.f1_score(valid_y, pred_y, average = 'weighted')))"
   ]
  },
  {
   "cell_type": "code",
   "execution_count": 12,
   "metadata": {},
   "outputs": [
    {
     "name": "stdout",
     "output_type": "stream",
     "text": [
      "              precision    recall  f1-score   support\n",
      "\n",
      "           0       0.25      0.07      0.11        42\n",
      "           1       0.38      0.38      0.38        80\n",
      "           2       0.48      0.32      0.38        41\n",
      "           3       0.69      0.78      0.73       101\n",
      "           4       0.54      0.55      0.54        95\n",
      "           5       0.70      0.70      0.70        91\n",
      "           6       0.29      0.12      0.17        49\n",
      "           7       0.53      0.73      0.62       137\n",
      "           8       0.77      0.74      0.75        66\n",
      "           9       0.71      0.60      0.65        50\n",
      "          10       0.61      0.63      0.62       110\n",
      "          11       1.00      0.06      0.12        32\n",
      "          12       0.78      0.66      0.71        47\n",
      "          13       0.33      0.12      0.17        43\n",
      "          14       0.38      0.60      0.46       119\n",
      "          15       0.48      0.33      0.39        45\n",
      "          16       0.37      0.52      0.43       104\n",
      "          17       0.65      0.74      0.69        96\n",
      "          18       0.83      0.68      0.75        37\n",
      "          19       0.38      0.10      0.16        59\n",
      "          20       0.50      0.34      0.41        38\n",
      "          21       0.53      0.50      0.52        64\n",
      "          22       0.48      0.68      0.56       111\n",
      "          23       0.51      0.41      0.45        49\n",
      "          24       0.94      0.59      0.72        49\n",
      "          25       0.68      0.54      0.60        48\n",
      "          26       0.64      0.69      0.66        81\n",
      "          27       0.73      0.51      0.60        37\n",
      "          28       0.67      0.84      0.75       134\n",
      "\n",
      "   micro avg       0.56      0.56      0.56      2055\n",
      "   macro avg       0.58      0.50      0.51      2055\n",
      "weighted avg       0.57      0.56      0.55      2055\n",
      "\n"
     ]
    }
   ],
   "source": [
    "report = metrics.classification_report(valid_y, pred_y)\n",
    "print(report)"
   ]
  },
  {
   "cell_type": "code",
   "execution_count": 13,
   "metadata": {},
   "outputs": [
    {
     "name": "stdout",
     "output_type": "stream",
     "text": [
      "CPU times: user 3 µs, sys: 1 µs, total: 4 µs\n",
      "Wall time: 21 µs\n",
      "accuracy: 0.606\n",
      "F1-score (weighted): 0.592\n"
     ]
    }
   ],
   "source": [
    "%time\n",
    "# Fitting a simple xgboost on glove features\n",
    "clf = xgb.XGBClassifier(max_depth=7, n_estimators=100, colsample_bytree=0.8, \n",
    "                        subsample=0.8, nthread=10, learning_rate=0.1, silent=False)\n",
    "clf.fit(xtrain_glove, train_y)\n",
    "pred_y = clf.predict(xvalid_glove)\n",
    "\n",
    "print(\"accuracy: {:0.3f}\".format(metrics.accuracy_score(valid_y, pred_y)))\n",
    "print(\"F1-score (weighted): {:0.3f}\".format(metrics.f1_score(valid_y, pred_y, average = 'weighted')))"
   ]
  },
  {
   "cell_type": "markdown",
   "metadata": {},
   "source": [
    "### Confusion Matrix"
   ]
  },
  {
   "cell_type": "code",
   "execution_count": 14,
   "metadata": {},
   "outputs": [
    {
     "data": {
      "text/plain": [
       "array([[  5,   5,   1,   0,   0,   2,   3,   3,   0,   0,   1,   0,   0,\n",
       "          3,  11,   0,   6,   0,   0,   2,   0,   0,   0,   0,   0,   0,\n",
       "          0,   0,   0],\n",
       "       [  4,  34,   0,   0,   0,   0,   5,   0,   0,   0,   1,   0,   0,\n",
       "          2,  22,   0,   5,   1,   0,   1,   0,   0,   4,   0,   0,   0,\n",
       "          0,   0,   1],\n",
       "       [  2,   3,  13,   0,   0,   0,   3,   0,   0,   0,   0,   1,   0,\n",
       "          0,  11,   0,   5,   1,   0,   0,   0,   0,   1,   0,   0,   0,\n",
       "          0,   0,   1],\n",
       "       [  0,   0,   0,  84,   0,   0,   0,   7,   0,   0,   3,   0,   0,\n",
       "          0,   1,   0,   0,   0,   0,   0,   0,   2,   2,   0,   1,   0,\n",
       "          0,   0,   1],\n",
       "       [  0,   0,   0,   4,  59,   0,   0,   0,   1,   0,   0,   0,   0,\n",
       "          0,   3,   0,   1,   4,   1,   3,   0,   2,   5,   1,   0,   4,\n",
       "          3,   2,   2],\n",
       "       [  0,   0,   0,   2,   2,  67,   1,   3,   0,   0,   1,   0,   0,\n",
       "          1,   2,   0,   6,   1,   0,   0,   2,   1,   1,   0,   0,   1,\n",
       "          0,   0,   0],\n",
       "       [  2,  10,   3,   0,   0,   1,   8,   1,   0,   0,   0,   0,   0,\n",
       "          0,  15,   1,   4,   1,   0,   0,   0,   0,   1,   0,   0,   0,\n",
       "          0,   0,   2],\n",
       "       [  0,   1,   0,   6,   0,   1,   0, 102,   0,   0,   4,   0,   1,\n",
       "          0,   1,   0,   7,   0,   0,   2,   1,   5,   1,   3,   1,   0,\n",
       "          0,   0,   1],\n",
       "       [  0,   2,   0,   0,   0,   0,   0,   0,  43,   3,   1,   0,   0,\n",
       "          0,   0,   1,   0,   2,   0,   0,   0,   0,   0,   1,   0,   2,\n",
       "          4,   1,   6],\n",
       "       [  0,   1,   0,   1,   0,   0,   0,   0,   8,  32,   0,   0,   0,\n",
       "          0,   1,   0,   1,   0,   0,   0,   0,   0,   1,   0,   0,   0,\n",
       "          2,   0,   3],\n",
       "       [  0,   0,   1,   1,   2,   0,   0,   7,   1,   0,  78,   1,   0,\n",
       "          0,   3,   0,   3,   2,   0,   0,   1,   0,   6,   0,   1,   1,\n",
       "          0,   0,   2],\n",
       "       [  0,   1,   1,   0,   0,   0,   0,   1,   0,   0,   6,   4,   0,\n",
       "          1,   1,   0,   1,   1,   0,   2,   1,   2,  10,   0,   0,   0,\n",
       "          0,   0,   0],\n",
       "       [  0,   0,   0,   0,   1,   0,   0,   0,   0,   0,   0,   0,  38,\n",
       "          0,   0,   0,   1,   2,   0,   0,   0,   0,   1,   0,   0,   1,\n",
       "          0,   0,   3],\n",
       "       [  3,   3,   0,   0,   0,   0,   3,   0,   1,   1,   1,   0,   0,\n",
       "          8,  12,   0,   4,   1,   1,   0,   0,   0,   2,   1,   1,   0,\n",
       "          0,   0,   1],\n",
       "       [  2,   6,   2,   0,   2,   1,   0,   9,   0,   2,   2,   0,   1,\n",
       "          3,  72,   0,  10,   0,   0,   0,   1,   1,   1,   0,   0,   0,\n",
       "          1,   1,   2],\n",
       "       [  1,   0,   1,   1,   3,   1,   0,   2,   0,   0,   1,   0,   1,\n",
       "          0,   2,  16,   0,   0,   2,   0,   1,   1,   8,   1,   0,   0,\n",
       "          2,   0,   1],\n",
       "       [  0,   2,   0,   1,   2,   1,   2,  13,   0,   0,   4,   0,   0,\n",
       "          1,  11,   1,  59,   0,   0,   0,   0,   0,   3,   0,   0,   0,\n",
       "          1,   1,   2],\n",
       "       [  0,   0,   0,   0,   5,   0,   0,   1,   2,   1,   2,   0,   1,\n",
       "          0,   0,   0,   2,  73,   0,   0,   0,   0,   5,   1,   0,   3,\n",
       "          0,   0,   0],\n",
       "       [  0,   0,   0,   0,   0,   1,   0,   1,   0,   0,   2,   0,   0,\n",
       "          0,   0,   0,   1,   0,  26,   0,   2,   1,   0,   1,   0,   0,\n",
       "          0,   0,   2],\n",
       "       [  0,   2,   1,   0,   3,   0,   0,  11,   0,   0,   3,   1,   1,\n",
       "          0,   2,   4,   7,   3,   0,   9,   2,   2,   3,   3,   0,   0,\n",
       "          1,   0,   1],\n",
       "       [  1,   2,   0,   0,   0,   2,   0,   4,   0,   0,   2,   0,   0,\n",
       "          0,   3,   0,   3,   0,   1,   2,  14,   2,   0,   1,   0,   0,\n",
       "          0,   0,   1],\n",
       "       [  0,   0,   0,   7,   1,   0,   0,   3,   0,   0,   2,   1,   0,\n",
       "          0,   0,   0,   1,   0,   0,   0,   1,  36,   4,   1,   1,   0,\n",
       "          2,   0,   4],\n",
       "       [  0,   0,   0,   1,   8,   0,   0,   0,   0,   1,   3,   0,   0,\n",
       "          0,   0,   2,   1,   6,   0,   1,   0,   0,  84,   0,   0,   0,\n",
       "          2,   0,   2],\n",
       "       [  0,   0,   0,   0,   1,   2,   0,   1,   0,   0,   0,   3,   2,\n",
       "          0,   0,   1,   3,   1,   1,   1,   1,   1,   6,  21,   0,   0,\n",
       "          0,   1,   3],\n",
       "       [  0,   2,   0,   1,   1,   0,   0,   1,   0,   0,   3,   0,   2,\n",
       "          1,   0,   0,   2,   0,   0,   0,   0,   0,   1,   0,  34,   0,\n",
       "          1,   0,   0],\n",
       "       [  1,   1,   0,   0,   1,   1,   0,   0,   0,   0,   0,   0,   1,\n",
       "          0,   0,   1,   0,   3,   0,   1,   0,   0,   0,   0,   0,  31,\n",
       "          4,   0,   3],\n",
       "       [  0,   0,   1,   1,   5,   0,   0,   2,   1,   2,   0,   0,   1,\n",
       "          0,   0,   0,   0,   0,   0,   0,   0,   0,   0,   0,   0,   0,\n",
       "         57,   0,  11],\n",
       "       [  1,   0,   0,   1,   0,   3,   0,   2,   1,   0,   0,   0,   0,\n",
       "          0,   1,   0,   2,   1,   0,   1,   0,   0,   1,   0,   1,   2,\n",
       "          0,  20,   0],\n",
       "       [  0,   0,   0,   0,   1,   0,   0,   2,   1,   0,   0,   0,   1,\n",
       "          0,   0,   0,   1,   1,   0,   0,   0,   0,   3,   0,   0,   1,\n",
       "          5,   0, 118]])"
      ]
     },
     "execution_count": 14,
     "metadata": {},
     "output_type": "execute_result"
    }
   ],
   "source": [
    "metrics.confusion_matrix(valid_y, pred_y)"
   ]
  },
  {
   "cell_type": "markdown",
   "metadata": {},
   "source": [
    "#### Chapters that were never predicted"
   ]
  },
  {
   "cell_type": "code",
   "execution_count": 15,
   "metadata": {},
   "outputs": [
    {
     "data": {
      "text/plain": [
       "set()"
      ]
     },
     "execution_count": 15,
     "metadata": {},
     "output_type": "execute_result"
    }
   ],
   "source": [
    "set(valid_y) - set(pred_y)"
   ]
  }
 ],
 "metadata": {
  "kernelspec": {
   "display_name": "Python 3",
   "language": "python",
   "name": "python3"
  },
  "language_info": {
   "codemirror_mode": {
    "name": "ipython",
    "version": 3
   },
   "file_extension": ".py",
   "mimetype": "text/x-python",
   "name": "python",
   "nbconvert_exporter": "python",
   "pygments_lexer": "ipython3",
   "version": "3.6.7"
  }
 },
 "nbformat": 4,
 "nbformat_minor": 2
}
