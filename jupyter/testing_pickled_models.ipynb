{
 "cells": [
  {
   "cell_type": "code",
   "execution_count": 1,
   "metadata": {},
   "outputs": [],
   "source": [
    "#from sklearn.feature_extraction.text import TfidfVectorizer\n",
    "import pandas as pd\n",
    "import pickle            ## reading models from disk\n",
    "import nltk, string      ## For tokenizer\n",
    "\n",
    "pd.set_option('display.max_colwidth', -1)    ## Problem texts can be long and may not load on Jupyter"
   ]
  },
  {
   "cell_type": "markdown",
   "metadata": {},
   "source": [
    "## Reading pickled fitted vectorizers & defining tokenizer"
   ]
  },
  {
   "cell_type": "code",
   "execution_count": 2,
   "metadata": {},
   "outputs": [],
   "source": [
    "## Tokenizer need not be pickled. It's common for all subjects\n",
    "stemmer = nltk.stem.porter.PorterStemmer()\n",
    "remove_punctuation_map = dict((ord(char), None) for char in string.punctuation)\n",
    "def stem_tokens(tokens):\n",
    "    return [stemmer.stem(item) for item in tokens]\n",
    "def normalize(text):\n",
    "    return stem_tokens(nltk.word_tokenize(text.translate(remove_punctuation_map)))"
   ]
  },
  {
   "cell_type": "code",
   "execution_count": 3,
   "metadata": {},
   "outputs": [],
   "source": [
    "with open('vec_mth.pkl', 'rb') as f:\n",
    "    vec_mth = pickle.load(f)\n",
    "with open('vec_phy.pkl', 'rb') as f:\n",
    "    vec_phy = pickle.load(f)\n",
    "with open('vec_chm.pkl', 'rb') as f:\n",
    "    vec_chm = pickle.load(f)"
   ]
  },
  {
   "cell_type": "markdown",
   "metadata": {},
   "source": [
    "## Reading pickled classifier models"
   ]
  },
  {
   "cell_type": "code",
   "execution_count": 4,
   "metadata": {},
   "outputs": [],
   "source": [
    "## Classifiers\n",
    "with open('clf_mth.pkl', 'rb') as f:\n",
    "    clf_mth = pickle.load(f)\n",
    "with open('clf_phy.pkl', 'rb') as f:\n",
    "    clf_phy = pickle.load(f)\n",
    "with open('clf_chm.pkl', 'rb') as f:\n",
    "    clf_chm = pickle.load(f)"
   ]
  },
  {
   "cell_type": "markdown",
   "metadata": {},
   "source": [
    "## Set vectorizer & classifier based on input subject"
   ]
  },
  {
   "cell_type": "code",
   "execution_count": 5,
   "metadata": {},
   "outputs": [],
   "source": [
    "def vec_by_subject(argument): \n",
    "    switcher = { \n",
    "        'phy': vec_phy, \n",
    "        'chm': vec_chm, \n",
    "        'mth': vec_mth, \n",
    "    } \n",
    "    # get() method of dictionary data type returns value of passed argument if it is present  \n",
    "    # in dictionary otherwise second argument will be assigned as default value of passed argument \n",
    "    return switcher.get(argument, \"mth\") "
   ]
  },
  {
   "cell_type": "code",
   "execution_count": 6,
   "metadata": {},
   "outputs": [],
   "source": [
    "def clf_by_subject(argument): \n",
    "    switcher = { \n",
    "        'phy': clf_phy, \n",
    "        'chm': clf_chm, \n",
    "        'mth': clf_mth, \n",
    "    } \n",
    "    # get() method of dictionary data type returns value of passed argument if it is present  \n",
    "    # in dictionary otherwise second argument will be assigned as default value of passed argument \n",
    "    return switcher.get(argument, \"mth\") "
   ]
  },
  {
   "cell_type": "code",
   "execution_count": 7,
   "metadata": {},
   "outputs": [
    {
     "data": {
      "text/plain": [
       "SGDClassifier(alpha=0.0001, average=False, class_weight=None,\n",
       "       early_stopping=False, epsilon=0.1, eta0=0.0, fit_intercept=True,\n",
       "       l1_ratio=0.15, learning_rate='optimal', loss='hinge', max_iter=3,\n",
       "       n_iter=None, n_iter_no_change=5, n_jobs=None, penalty='l2',\n",
       "       power_t=0.5, random_state=42, shuffle=True, tol=None,\n",
       "       validation_fraction=0.1, verbose=0, warm_start=False)"
      ]
     },
     "execution_count": 7,
     "metadata": {},
     "output_type": "execute_result"
    }
   ],
   "source": [
    "vec = vec_by_subject('chm')\n",
    "clf = clf_by_subject('chm')\n",
    "clf"
   ]
  },
  {
   "cell_type": "code",
   "execution_count": 8,
   "metadata": {},
   "outputs": [],
   "source": [
    "#text = 'what is the heat capacity of plastic'\n",
    "text = 'what is the chemical formula of aldol?'"
   ]
  },
  {
   "cell_type": "markdown",
   "metadata": {},
   "source": [
    "## Testing pickled models"
   ]
  },
  {
   "cell_type": "code",
   "execution_count": 9,
   "metadata": {},
   "outputs": [],
   "source": [
    "def chapter_clf_model(text):                   ## This combined function could not be pickled !!\n",
    "    text = [text]                              ## Convert input string to a list which is an iterable needed for tf-idf\n",
    "    feat = vec.transform(text)    ## Convert text to tfidf matrix\n",
    "    pred = clf.predict(feat)                   ## Predict label of chapter\n",
    "    #cname = encoder.inverse_transform(pred)    ## Convert label to chapter name\n",
    "    return ''.join(pred)                      ## Converting array prediction to a single string"
   ]
  },
  {
   "cell_type": "markdown",
   "metadata": {},
   "source": [
    "## Prediction"
   ]
  },
  {
   "cell_type": "code",
   "execution_count": 10,
   "metadata": {},
   "outputs": [
    {
     "data": {
      "text/plain": [
       "'Aldehydes and Ketones'"
      ]
     },
     "execution_count": 10,
     "metadata": {},
     "output_type": "execute_result"
    }
   ],
   "source": [
    "chapter_clf_model(text)"
   ]
  },
  {
   "cell_type": "code",
   "execution_count": null,
   "metadata": {},
   "outputs": [],
   "source": []
  }
 ],
 "metadata": {
  "kernelspec": {
   "display_name": "Python 3",
   "language": "python",
   "name": "python3"
  },
  "language_info": {
   "codemirror_mode": {
    "name": "ipython",
    "version": 3
   },
   "file_extension": ".py",
   "mimetype": "text/x-python",
   "name": "python",
   "nbconvert_exporter": "python",
   "pygments_lexer": "ipython3",
   "version": "3.6.7"
  }
 },
 "nbformat": 4,
 "nbformat_minor": 2
}
