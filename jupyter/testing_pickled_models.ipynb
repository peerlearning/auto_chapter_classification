{
 "cells": [
  {
   "cell_type": "code",
   "execution_count": 2,
   "metadata": {},
   "outputs": [],
   "source": [
    "from sklearn import model_selection, preprocessing, linear_model, naive_bayes, metrics, svm\n",
    "from sklearn.feature_extraction.text import TfidfVectorizer, CountVectorizer\n",
    "from bs4 import BeautifulSoup, Tag    ## Cleaning HTML tags from text\n",
    "import pandas as pd\n",
    "import pickle   ## saving the model to disk\n",
    "\n",
    "pd.set_option('display.max_colwidth', -1)    ## Problem texts can be long and may not load on Jupyter"
   ]
  },
  {
   "cell_type": "markdown",
   "metadata": {},
   "source": [
    "## Reading pickled models"
   ]
  },
  {
   "cell_type": "code",
   "execution_count": 3,
   "metadata": {},
   "outputs": [],
   "source": [
    "with open('vectorizer.pkl', 'rb') as f:\n",
    "    tfidf_vect_ngram = pickle.load(f)\n",
    "with open('clf.pkl', 'rb') as f:\n",
    "    clf = pickle.load(f)\n",
    "with open('encoder.pkl', 'rb') as f:\n",
    "    encoder = pickle.load(f)"
   ]
  },
  {
   "cell_type": "markdown",
   "metadata": {},
   "source": [
    "## Testing pickled models"
   ]
  },
  {
   "cell_type": "code",
   "execution_count": 4,
   "metadata": {},
   "outputs": [],
   "source": [
    "def chapter_clf_model(text):                   ## This combined function could not be pickled !!\n",
    "    text = [text]                              ## Convert input string to a list which is an iterable needed for tf-idf\n",
    "    feat = tfidf_vect_ngram.transform(text)    ## Convert text to tfidf matrix\n",
    "    pred = clf.predict(feat)                   ## Predict label of chapter\n",
    "    cname = encoder.inverse_transform(pred)    ## Convert label to chapter name\n",
    "    return ''.join(cname)                      ## Converting array prediction to a single string"
   ]
  },
  {
   "cell_type": "code",
   "execution_count": 5,
   "metadata": {},
   "outputs": [],
   "source": [
    "text = 'what is the heat capacity of plastic'"
   ]
  },
  {
   "cell_type": "markdown",
   "metadata": {},
   "source": [
    "## Prediction"
   ]
  },
  {
   "cell_type": "code",
   "execution_count": 6,
   "metadata": {},
   "outputs": [
    {
     "data": {
      "text/plain": [
       "'Thermodynamics'"
      ]
     },
     "execution_count": 6,
     "metadata": {},
     "output_type": "execute_result"
    }
   ],
   "source": [
    "chapter_clf_model(text)"
   ]
  }
 ],
 "metadata": {
  "kernelspec": {
   "display_name": "Python 3",
   "language": "python",
   "name": "python3"
  },
  "language_info": {
   "codemirror_mode": {
    "name": "ipython",
    "version": 3
   },
   "file_extension": ".py",
   "mimetype": "text/x-python",
   "name": "python",
   "nbconvert_exporter": "python",
   "pygments_lexer": "ipython3",
   "version": "3.6.7"
  }
 },
 "nbformat": 4,
 "nbformat_minor": 2
}
