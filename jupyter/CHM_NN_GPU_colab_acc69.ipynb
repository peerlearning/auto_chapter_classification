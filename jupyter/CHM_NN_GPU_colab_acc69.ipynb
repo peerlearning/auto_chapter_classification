{
  "nbformat": 4,
  "nbformat_minor": 0,
  "metadata": {
    "kernelspec": {
      "name": "python3",
      "display_name": "Python 3"
    },
    "language_info": {
      "codemirror_mode": {
        "name": "ipython",
        "version": 3
      },
      "file_extension": ".py",
      "mimetype": "text/x-python",
      "name": "python",
      "nbconvert_exporter": "python",
      "pygments_lexer": "ipython3",
      "version": "3.6.7"
    },
    "colab": {
      "name": "CHM_NN_GPU_colab_acc69.ipynb",
      "provenance": [],
      "collapsed_sections": [],
      "toc_visible": true
    },
    "accelerator": "GPU"
  },
  "cells": [
    {
      "cell_type": "code",
      "metadata": {
        "id": "FyhFrCavKqO8",
        "colab_type": "code",
        "outputId": "bf898fb0-57ed-4ce5-c838-d5eaccf8eba3",
        "colab": {
          "base_uri": "https://localhost:8080/",
          "height": 34
        }
      },
      "source": [
        "## Scikit learn libraries\n",
        "from sklearn import model_selection, preprocessing, linear_model, naive_bayes, metrics, svm\n",
        "from sklearn.feature_extraction.text import TfidfVectorizer, CountVectorizer\n",
        "from sklearn.linear_model import LogisticRegression, SGDClassifier\n",
        "from sklearn.pipeline import make_pipeline\n",
        "from sklearn.ensemble import RandomForestClassifier\n",
        "from sklearn.preprocessing import LabelBinarizer, LabelEncoder\n",
        "\n",
        "## For NLP\n",
        "from bs4 import BeautifulSoup, Tag    ## Cleaning HTML tags from text\n",
        "import nltk, string\n",
        "from nltk.corpus import stopwords \n",
        "import re\n",
        "\n",
        "## Glove vectors\n",
        "from tqdm import tqdm                 ## Progress bar for loading GloVe embeddings\n",
        "from nltk import word_tokenize        ## For GloVe\n",
        "\n",
        "## Common Python libraries\n",
        "import pandas as pd\n",
        "import numpy as np\n",
        "import matplotlib.pyplot as plt\n",
        "import seaborn as sns\n",
        "from time import time\n",
        "\n",
        "## Data I/O\n",
        "import json     ## To convert json raw data to df\n",
        "import pickle   ## saving the model to disk\n",
        "\n",
        "import xgboost as xgb\n",
        "from scipy.stats import uniform, randint\n",
        "\n",
        "from tensorflow import keras\n",
        "from keras.models import Sequential\n",
        "from keras.layers.recurrent import LSTM, GRU\n",
        "from keras.layers.embeddings import Embedding\n",
        "from keras.layers import Dense, Activation, Dropout\n",
        "from keras.layers.normalization import BatchNormalization\n",
        "from keras.preprocessing import text, sequence\n",
        "from keras import utils\n",
        "from keras.callbacks import EarlyStopping\n",
        "from keras.utils import np_utils\n",
        "from keras.layers import GlobalMaxPooling1D, Conv1D, MaxPooling1D, Flatten, Bidirectional, SpatialDropout1D\n",
        "\n",
        "## Problem texts can be long and may not load on Jupyter\n",
        "pd.set_option('display.max_colwidth', -1)"
      ],
      "execution_count": 1,
      "outputs": [
        {
          "output_type": "stream",
          "text": [
            "Using TensorFlow backend.\n"
          ],
          "name": "stderr"
        }
      ]
    },
    {
      "cell_type": "code",
      "metadata": {
        "id": "LyfzUsDQWoVv",
        "colab_type": "code",
        "outputId": "562674d6-6c49-42b9-a045-70faa9969f97",
        "colab": {
          "base_uri": "https://localhost:8080/",
          "height": 34
        }
      },
      "source": [
        "## Check if GPU is loaded\n",
        "import tensorflow as tf \n",
        "tf.test.gpu_device_name() "
      ],
      "execution_count": 2,
      "outputs": [
        {
          "output_type": "execute_result",
          "data": {
            "text/plain": [
              "'/device:GPU:0'"
            ]
          },
          "metadata": {
            "tags": []
          },
          "execution_count": 2
        }
      ]
    },
    {
      "cell_type": "code",
      "metadata": {
        "id": "9D1ynV4LMRO1",
        "colab_type": "code",
        "outputId": "21b2903c-24eb-4f7a-ea2c-23f95368e1f1",
        "colab": {
          "base_uri": "https://localhost:8080/",
          "height": 544
        }
      },
      "source": [
        "## Check specs of GPU\n",
        "from tensorflow.python.client import device_lib\n",
        "print(device_lib.list_local_devices())"
      ],
      "execution_count": 3,
      "outputs": [
        {
          "output_type": "stream",
          "text": [
            "[name: \"/device:CPU:0\"\n",
            "device_type: \"CPU\"\n",
            "memory_limit: 268435456\n",
            "locality {\n",
            "}\n",
            "incarnation: 6046545597888214852\n",
            ", name: \"/device:XLA_CPU:0\"\n",
            "device_type: \"XLA_CPU\"\n",
            "memory_limit: 17179869184\n",
            "locality {\n",
            "}\n",
            "incarnation: 16302850208085523350\n",
            "physical_device_desc: \"device: XLA_CPU device\"\n",
            ", name: \"/device:XLA_GPU:0\"\n",
            "device_type: \"XLA_GPU\"\n",
            "memory_limit: 17179869184\n",
            "locality {\n",
            "}\n",
            "incarnation: 13501939848451018545\n",
            "physical_device_desc: \"device: XLA_GPU device\"\n",
            ", name: \"/device:GPU:0\"\n",
            "device_type: \"GPU\"\n",
            "memory_limit: 11330115994\n",
            "locality {\n",
            "  bus_id: 1\n",
            "  links {\n",
            "  }\n",
            "}\n",
            "incarnation: 6898953746954719847\n",
            "physical_device_desc: \"device: 0, name: Tesla K80, pci bus id: 0000:00:04.0, compute capability: 3.7\"\n",
            "]\n"
          ],
          "name": "stdout"
        }
      ]
    },
    {
      "cell_type": "code",
      "metadata": {
        "id": "OUFQyj_hMxZP",
        "colab_type": "code",
        "outputId": "42ee42d7-6794-48da-8ea6-5baec04e204a",
        "colab": {
          "base_uri": "https://localhost:8080/",
          "height": 289
        }
      },
      "source": [
        "!nvidia-smi"
      ],
      "execution_count": 4,
      "outputs": [
        {
          "output_type": "stream",
          "text": [
            "Tue Oct 22 11:32:27 2019       \n",
            "+-----------------------------------------------------------------------------+\n",
            "| NVIDIA-SMI 430.40       Driver Version: 418.67       CUDA Version: 10.1     |\n",
            "|-------------------------------+----------------------+----------------------+\n",
            "| GPU  Name        Persistence-M| Bus-Id        Disp.A | Volatile Uncorr. ECC |\n",
            "| Fan  Temp  Perf  Pwr:Usage/Cap|         Memory-Usage | GPU-Util  Compute M. |\n",
            "|===============================+======================+======================|\n",
            "|   0  Tesla K80           Off  | 00000000:00:04.0 Off |                    0 |\n",
            "| N/A   57C    P0    59W / 149W |     69MiB / 11441MiB |      0%      Default |\n",
            "+-------------------------------+----------------------+----------------------+\n",
            "                                                                               \n",
            "+-----------------------------------------------------------------------------+\n",
            "| Processes:                                                       GPU Memory |\n",
            "|  GPU       PID   Type   Process name                             Usage      |\n",
            "|=============================================================================|\n",
            "+-----------------------------------------------------------------------------+\n"
          ],
          "name": "stdout"
        }
      ]
    },
    {
      "cell_type": "code",
      "metadata": {
        "id": "Z-eX8GdSNGNH",
        "colab_type": "code",
        "outputId": "951f09a8-4e80-4f21-e192-65aac1562254",
        "colab": {
          "base_uri": "https://localhost:8080/",
          "height": 54
        }
      },
      "source": [
        "from google.colab import drive\n",
        "drive.mount('/content/gdrive')"
      ],
      "execution_count": 5,
      "outputs": [
        {
          "output_type": "stream",
          "text": [
            "Drive already mounted at /content/gdrive; to attempt to forcibly remount, call drive.mount(\"/content/gdrive\", force_remount=True).\n"
          ],
          "name": "stdout"
        }
      ]
    },
    {
      "cell_type": "code",
      "metadata": {
        "id": "I-7I0vr_NWEH",
        "colab_type": "code",
        "outputId": "04113387-4998-497a-ee4d-b418541954ca",
        "colab": {
          "base_uri": "https://localhost:8080/",
          "height": 34
        }
      },
      "source": [
        "!ls"
      ],
      "execution_count": 6,
      "outputs": [
        {
          "output_type": "stream",
          "text": [
            "gdrive\tsample_data\n"
          ],
          "name": "stdout"
        }
      ]
    },
    {
      "cell_type": "code",
      "metadata": {
        "id": "-ryuwcU2QSuh",
        "colab_type": "code",
        "outputId": "c52f4810-11ed-46d0-869e-131b58422727",
        "colab": {
          "base_uri": "https://localhost:8080/",
          "height": 102
        }
      },
      "source": [
        "nltk.download('stopwords')\n",
        "nltk.download('punkt')"
      ],
      "execution_count": 7,
      "outputs": [
        {
          "output_type": "stream",
          "text": [
            "[nltk_data] Downloading package stopwords to /root/nltk_data...\n",
            "[nltk_data]   Package stopwords is already up-to-date!\n",
            "[nltk_data] Downloading package punkt to /root/nltk_data...\n",
            "[nltk_data]   Package punkt is already up-to-date!\n"
          ],
          "name": "stdout"
        },
        {
          "output_type": "execute_result",
          "data": {
            "text/plain": [
              "True"
            ]
          },
          "metadata": {
            "tags": []
          },
          "execution_count": 7
        }
      ]
    },
    {
      "cell_type": "markdown",
      "metadata": {
        "id": "6pOlADYOKqPF",
        "colab_type": "text"
      },
      "source": [
        "## Extract subject wise training data"
      ]
    },
    {
      "cell_type": "code",
      "metadata": {
        "id": "XdfG3XqGKqPG",
        "colab_type": "code",
        "outputId": "f96c363d-62da-43a3-ed70-58edc6c9b87e",
        "colab": {
          "base_uri": "https://localhost:8080/",
          "height": 176
        }
      },
      "source": [
        "# Load the dataset and show sample question\n",
        "with open('/content/gdrive/My Drive/chapter_clf/qs_topicwise.json') as json_data:\n",
        "    all_questions = json.load(json_data)\n",
        "\n",
        "subject_model = ['CHM']\n",
        "\n",
        "## Create empty df \n",
        "data_df = pd.DataFrame(columns=['code', 'curriculum', 'subject', 'grade', 'question_text', 'chapter'])\n",
        "\n",
        "## Removing these words improves Phy clf accuracy by 2% but improves Math classifier accuracy\n",
        "words_to_remove = [\"rightarrow\", \"hence\", \"frac\", \"text\", \"sqrt\", \"times\", \n",
        "                   \"value\", \"amp\", \"statement\", \"will\", \"equal\", \"number\", \n",
        "                   \"tan\", \"now\", \"can\", \"two\", \"get\", \"true\", \"lambda\", \"a\", \"an\", \"the\"]\n",
        "stop_words = stopwords.words('english')         ## Downloaded from NLTK\n",
        "'''\n",
        "for PHY - removing Stopwords reduce acc & f1 score : 67% -> 63%, 74% -> 72%\n",
        "for CHM - removing Stopwords reduce acc & f1 score by 6%\n",
        "for MTH - \n",
        "'''\n",
        "\n",
        "## Remove dummy and empty chapters\n",
        "chapters_to_remove = ['Selection Test', 'Repository', 'Bridge Intervention Curriculum', \n",
        "                      'M1.1 Scaffold test', 'Tally Marks', 'Dummy']\n",
        "chapters_with_no_data = ['Static Electricity', 'Experimental Skills', 'Nuclear Chemistry', \n",
        "                         'Principle of Mathematical Induction', 'Environmental Chemistry']\n",
        "\n",
        "## Regex pattern for alpha numeric - Improves accuracy & f1-score for Phy by 2%\n",
        "pattern = re.compile('[\\W_]+')\n",
        "\n",
        "i = 0\n",
        "for question in all_questions:\n",
        "    try: \n",
        "        question_text = question['question_text'].lower()\n",
        "        ## Remove HTML tags from text using Beautiful Soup\n",
        "        '''\n",
        "        For MTH, it improves accuracy from 40% to 60% in MTH, \n",
        "        For PHY, it reduces accuracy from 60% to 20%. \n",
        "        For CHM, it increases accuracy from 50% to 52% \n",
        "        '''\n",
        "        question_text = BeautifulSoup(question_text, \"html.parser\").get_text() \n",
        "        ## Remove numbers\n",
        "        '''\n",
        "        For PHY, removing nos improved accuracy & F1 score by 0.5%\n",
        "        For CHM, removing nos improved acc by 2%\n",
        "        '''\n",
        "        question_text = ''.join(c for c in question_text if not c.isdigit())\n",
        "        ## Regex pattern for alpha numeric text\n",
        "        '''\n",
        "        For CHM, removing this regex improved score by 9%\n",
        "        '''\n",
        "        question_text = pattern.sub(\" \", question_text)\n",
        "        ## Remove stop words\n",
        "        '''\n",
        "        For CHM, keeping both sets of words, instead of removing them improved acc by 5%\n",
        "        '''\n",
        "        #question_text = \" \".join([word for word in question_text.split() if word not in words_to_remove])\n",
        "        #question_text = \" \".join([word for word in question_text.split() if word not in stop_words])\n",
        "        ## Remove extra whitespaces\n",
        "        question_text = \" \".join(question_text.split()) \n",
        "        ## Extracting elements for cleaner code\n",
        "        grade = question['grade']\n",
        "        curriculum = question['curriculum']\n",
        "        chapter = question['chapter']\n",
        "        subject = question['subject']\n",
        "        ## Filtering each question from JSON to add relevant Qs to dataframe \n",
        "        if(    \"JEE\" in curriculum and grade in [\"11\", \"12\"] and\n",
        "               chapter not in chapters_to_remove and\n",
        "               chapter not in chapters_with_no_data and\n",
        "               \"dummy\" not in question_text and subject in subject_model):\n",
        "                data_df.loc[i] = [question['problem_code'],curriculum, subject, \\\n",
        "                                  grade, question_text, chapter]\n",
        "                i += 1\n",
        "    except:\n",
        "            pass\n",
        "\n",
        "trainDF = pd.DataFrame(columns=['text', 'label'])\n",
        "trainDF['text'] = data_df['question_text']\n",
        "trainDF['label'] = data_df['chapter']\n",
        "trainDF.head(3)"
      ],
      "execution_count": 8,
      "outputs": [
        {
          "output_type": "execute_result",
          "data": {
            "text/html": [
              "<div>\n",
              "<style scoped>\n",
              "    .dataframe tbody tr th:only-of-type {\n",
              "        vertical-align: middle;\n",
              "    }\n",
              "\n",
              "    .dataframe tbody tr th {\n",
              "        vertical-align: top;\n",
              "    }\n",
              "\n",
              "    .dataframe thead th {\n",
              "        text-align: right;\n",
              "    }\n",
              "</style>\n",
              "<table border=\"1\" class=\"dataframe\">\n",
              "  <thead>\n",
              "    <tr style=\"text-align: right;\">\n",
              "      <th></th>\n",
              "      <th>text</th>\n",
              "      <th>label</th>\n",
              "    </tr>\n",
              "  </thead>\n",
              "  <tbody>\n",
              "    <tr>\n",
              "      <th>0</th>\n",
              "      <td>which of the following statements is incorrect</td>\n",
              "      <td>Solutions</td>\n",
              "    </tr>\n",
              "    <tr>\n",
              "      <th>1</th>\n",
              "      <td>dry air was successively passed through a solution of g solute in g water and through pure water the loss in weight of solution was g and that of pure water was g molecular weight of solute in g mol is m find the value of frac m assume that solute is non volatile and does not dissociate or associate</td>\n",
              "      <td>Solutions</td>\n",
              "    </tr>\n",
              "    <tr>\n",
              "      <th>2</th>\n",
              "      <td>an aqueous solution boils at k what is the freezing point of the same solution given k f circ c m and k b circ c m</td>\n",
              "      <td>Solutions</td>\n",
              "    </tr>\n",
              "  </tbody>\n",
              "</table>\n",
              "</div>"
            ],
            "text/plain": [
              "                                                                                                                                                                                                                                                                                                           text      label\n",
              "0  which of the following statements is incorrect                                                                                                                                                                                                                                                                Solutions\n",
              "1  dry air was successively passed through a solution of g solute in g water and through pure water the loss in weight of solution was g and that of pure water was g molecular weight of solute in g mol is m find the value of frac m assume that solute is non volatile and does not dissociate or associate  Solutions\n",
              "2  an aqueous solution boils at k what is the freezing point of the same solution given k f circ c m and k b circ c m                                                                                                                                                                                            Solutions"
            ]
          },
          "metadata": {
            "tags": []
          },
          "execution_count": 8
        }
      ]
    },
    {
      "cell_type": "code",
      "metadata": {
        "id": "_hX9siu4KqPL",
        "colab_type": "code",
        "outputId": "d365d1b3-8dc5-40f6-cd31-39881b4be53c",
        "colab": {
          "base_uri": "https://localhost:8080/",
          "height": 555
        }
      },
      "source": [
        "trainDF.label.value_counts().plot(kind=\"bar\")"
      ],
      "execution_count": 9,
      "outputs": [
        {
          "output_type": "execute_result",
          "data": {
            "text/plain": [
              "<matplotlib.axes._subplots.AxesSubplot at 0x7ff6c00c8b38>"
            ]
          },
          "metadata": {
            "tags": []
          },
          "execution_count": 9
        },
        {
          "output_type": "display_data",
          "data": {
            "image/png": "[encoded data removed]",
            "text/plain": [
              "<Figure size 432x288 with 1 Axes>"
            ]
          },
          "metadata": {
            "tags": []
          }
        }
      ]
    },
    {
      "cell_type": "markdown",
      "metadata": {
        "id": "m_ZK4Qg8KqPO",
        "colab_type": "text"
      },
      "source": [
        "### Train test split"
      ]
    },
    {
      "cell_type": "code",
      "metadata": {
        "id": "vSDGTqnjKqPP",
        "colab_type": "code",
        "outputId": "d35bf467-b97e-41a3-bfb1-610c597f0953",
        "colab": {
          "base_uri": "https://localhost:8080/",
          "height": 34
        }
      },
      "source": [
        "train_x, valid_x, train_y, valid_y = model_selection.train_test_split(trainDF['text'], trainDF['label'], test_size=0.2)\n",
        "print(len(train_x), len(valid_x) )"
      ],
      "execution_count": 10,
      "outputs": [
        {
          "output_type": "stream",
          "text": [
            "8220 2055\n"
          ],
          "name": "stdout"
        }
      ]
    },
    {
      "cell_type": "markdown",
      "metadata": {
        "id": "B9vth4XuKqPR",
        "colab_type": "text"
      },
      "source": [
        "#### Label Encoding\n",
        "Label encoding is not needed for sklearn classifiers, as they are all capable of mutli-class classification, and handle label encoding automatically. Source :  https://stackoverflow.com/questions/51525043/encoding-labels-for-multi-class-problems-in-sckit-learn\n",
        "\n",
        "For non-sklearn models like NNs or XGB, we need to do label encoding"
      ]
    },
    {
      "cell_type": "code",
      "metadata": {
        "id": "kZl09n_hKqPT",
        "colab_type": "code",
        "outputId": "fd93ec5d-e5e8-4b91-a430-ef1ba78eb55c",
        "colab": {
          "base_uri": "https://localhost:8080/",
          "height": 34
        }
      },
      "source": [
        "# Use sklearn utility to convert label strings to numbered index\n",
        "encoder = LabelEncoder()\n",
        "encoder.fit(train_y)\n",
        "train_y = encoder.transform(train_y)\n",
        "valid_y = encoder.transform(valid_y)\n",
        "valid_y[0:5]"
      ],
      "execution_count": 11,
      "outputs": [
        {
          "output_type": "execute_result",
          "data": {
            "text/plain": [
              "array([18, 11, 16,  5, 10])"
            ]
          },
          "metadata": {
            "tags": []
          },
          "execution_count": 11
        }
      ]
    },
    {
      "cell_type": "markdown",
      "metadata": {
        "id": "GXrF04ttKqPW",
        "colab_type": "text"
      },
      "source": [
        "### Glove vectors\n",
        "Loading GloVe embeddings from Standford dataset : http://www-nlp.stanford.edu/data/glove.840B.300d.zip\n",
        "\n",
        "Already stored in Google Drive. Download takes roughly takes 16-20 mins\n"
      ]
    },
    {
      "cell_type": "code",
      "metadata": {
        "id": "zByOEh9jQxHx",
        "colab_type": "code",
        "colab": {}
      },
      "source": [
        "#!curl 'http://downloads.cs.stanford.edu/nlp/data/glove.840B.300d.zip' --output 'glove.840B.300d.zip'\n",
        "## Opening zip file\n",
        "#!unzip 'glove.840B.300d.zip' \n",
        "## Move GloVe embeddings file to mounted Google Drive\n",
        "#!mv 'glove.840B.300d.txt'  '/content/gdrive/My Drive/chapter_clf'"
      ],
      "execution_count": 0,
      "outputs": []
    },
    {
      "cell_type": "code",
      "metadata": {
        "id": "OALafDQcKqPX",
        "colab_type": "code",
        "outputId": "be053250-681a-44d4-a8ec-e9f9c57d1f64",
        "colab": {
          "base_uri": "https://localhost:8080/",
          "height": 51
        }
      },
      "source": [
        "## Source - https://www.kaggle.com/abhishek/approaching-almost-any-nlp-problem-on-kaggle\n",
        "## Load the GloVe vectors in a dictionary. Create a map of words to vectors\n",
        "\n",
        "embeddings_index = {}\n",
        "f = open('/content/gdrive/My Drive/chapter_clf/glove.840B.300d.txt', 'r', encoding='utf8', errors = 'ignore')\n",
        "\n",
        "for line in tqdm(f):     ## tqdm adds a progress bar\n",
        "    values = line.split()\n",
        "    word = ''.join(values[:-300])\n",
        "    coefs = np.asarray(values[-300:], dtype='float32')\n",
        "    embeddings_index[word] = coefs\n",
        "f.close()\n",
        "\n",
        "print('Found %s word vectors.' % len(embeddings_index))"
      ],
      "execution_count": 13,
      "outputs": [
        {
          "output_type": "stream",
          "text": [
            "2196017it [03:20, 10975.44it/s]"
          ],
          "name": "stderr"
        },
        {
          "output_type": "stream",
          "text": [
            "Found 2195892 word vectors.\n"
          ],
          "name": "stdout"
        },
        {
          "output_type": "stream",
          "text": [
            "\n"
          ],
          "name": "stderr"
        }
      ]
    },
    {
      "cell_type": "code",
      "metadata": {
        "id": "7GaJjuadKqPa",
        "colab_type": "code",
        "colab": {}
      },
      "source": [
        "# this function creates a normalized vector for the whole sentence\n",
        "def sent2vec(s):\n",
        "    words = str(s).lower()\n",
        "    words = word_tokenize(words)\n",
        "    words = [w for w in words if not w in stop_words]\n",
        "    words = [w for w in words if w.isalpha()]\n",
        "    M = []\n",
        "    for w in words:\n",
        "        try:\n",
        "            M.append(embeddings_index[w])\n",
        "        except:\n",
        "            continue\n",
        "    M = np.array(M)\n",
        "    v = M.sum(axis=0)\n",
        "    if type(v) != np.ndarray:\n",
        "        return np.zeros(300)\n",
        "    return v / np.sqrt((v ** 2).sum())"
      ],
      "execution_count": 0,
      "outputs": []
    },
    {
      "cell_type": "code",
      "metadata": {
        "id": "fKLWsOKrKqPd",
        "colab_type": "code",
        "outputId": "115ec6a9-d39d-4665-80f0-d35454a51851",
        "colab": {
          "base_uri": "https://localhost:8080/",
          "height": 1000
        }
      },
      "source": [
        "# create sentence vectors using the above function for training and validation set\n",
        "xtrain_glove = [sent2vec(x) for x in tqdm(train_x)]\n",
        "xvalid_glove = [sent2vec(x) for x in tqdm(valid_x)]\n",
        "xvalid_glove[0:2]"
      ],
      "execution_count": 15,
      "outputs": [
        {
          "output_type": "stream",
          "text": [
            "100%|██████████| 8220/8220 [00:02<00:00, 3427.77it/s]\n",
            "100%|██████████| 2055/2055 [00:00<00:00, 3352.46it/s]\n"
          ],
          "name": "stderr"
        },
        {
          "output_type": "execute_result",
          "data": {
            "text/plain": [
              "[array([-0.05155788,  0.01808731,  0.0321344 ,  0.02218567, -0.04838978,\n",
              "         0.08315047, -0.01227971,  0.0268246 , -0.06906501,  0.14874165,\n",
              "        -0.03782878, -0.0186296 ,  0.07396877,  0.02658266,  0.04875708,\n",
              "        -0.03892843,  0.05465156,  0.32461083, -0.02551134, -0.05976709,\n",
              "        -0.02720103, -0.03296666, -0.03913403,  0.0055832 ,  0.00826555,\n",
              "         0.06246214,  0.01828303, -0.03078756, -0.03446721, -0.07945946,\n",
              "         0.03933178, -0.03695416,  0.10845838, -0.02703266,  0.06670662,\n",
              "        -0.01880988,  0.02806824, -0.02028358,  0.0585027 ,  0.00252944,\n",
              "         0.05750024, -0.0149932 , -0.03496181, -0.06236323,  0.01258359,\n",
              "        -0.01774872, -0.05378705, -0.02654982,  0.00689744, -0.01761926,\n",
              "         0.07062973,  0.07619115,  0.05015484,  0.00539147,  0.02101846,\n",
              "        -0.07651122, -0.09322546, -0.10531492, -0.04764086,  0.00985166,\n",
              "         0.00206851, -0.01597954, -0.00495756,  0.08123486, -0.1224203 ,\n",
              "        -0.00097345, -0.03526726, -0.02020659, -0.09854334, -0.02840895,\n",
              "        -0.08428696,  0.05556786, -0.01809324, -0.05491053, -0.04267471,\n",
              "         0.04349712, -0.02948752,  0.05844644,  0.03217433, -0.03855675,\n",
              "         0.03941991,  0.03820398, -0.0954041 , -0.04815028,  0.00440964,\n",
              "        -0.12188519,  0.1438769 ,  0.00140553, -0.11428221,  0.07213107,\n",
              "         0.06450163,  0.00489268,  0.05637071,  0.02900878,  0.03830218,\n",
              "        -0.00365971,  0.00579972, -0.0595517 ,  0.02437014, -0.06705769,\n",
              "         0.09854022, -0.00787162, -0.04278204, -0.0306897 , -0.00909539,\n",
              "        -0.4568183 , -0.01400881, -0.01324232, -0.03336837,  0.01158782,\n",
              "        -0.00234884, -0.00277295, -0.07100507,  0.0081732 , -0.01754012,\n",
              "        -0.04072388,  0.01896043,  0.00962066, -0.00354742,  0.00369578,\n",
              "        -0.03682092, -0.01201328, -0.02371143, -0.05726673,  0.04979456,\n",
              "        -0.04062844, -0.07643374,  0.01477599,  0.01554182, -0.03825668,\n",
              "        -0.02259172, -0.04259448,  0.00885432,  0.02665016,  0.03176947,\n",
              "         0.04646778, -0.01459734, -0.00596816,  0.03796365,  0.00153249,\n",
              "        -0.05812294,  0.0422095 ,  0.04014345, -0.03225797,  0.03353181,\n",
              "        -0.04743012, -0.0114716 ,  0.02433975,  0.07722865, -0.03381429,\n",
              "         0.1425593 ,  0.00557884, -0.06578791,  0.03445157, -0.07399476,\n",
              "        -0.02603011,  0.00846938,  0.03352527, -0.04961289,  0.0394361 ,\n",
              "        -0.04314968, -0.07829124, -0.03028042,  0.06144312, -0.03899649,\n",
              "        -0.04762958, -0.06037942, -0.0153467 , -0.05088043,  0.01526261,\n",
              "         0.02309925, -0.02628039, -0.04600143, -0.0427385 , -0.0313369 ,\n",
              "        -0.05199403,  0.01082117,  0.02744935, -0.02564224, -0.04097497,\n",
              "        -0.01261764,  0.03378   , -0.00671049, -0.02132753,  0.01206283,\n",
              "        -0.01137966, -0.02074705,  0.05248778, -0.0542502 , -0.01142163,\n",
              "        -0.0399736 ,  0.00535691,  0.01920774, -0.00131875,  0.06496627,\n",
              "         0.03286648, -0.00604364,  0.03362613,  0.00639715, -0.04737718,\n",
              "         0.01140207,  0.05516223,  0.04287385,  0.04055304,  0.03935872,\n",
              "         0.06775847,  0.07080448,  0.05514656,  0.04728045,  0.0180849 ,\n",
              "        -0.02435398,  0.03775162,  0.00644573, -0.01569778, -0.0182971 ,\n",
              "        -0.00469088,  0.0094667 ,  0.07294928, -0.01387483,  0.00343377,\n",
              "        -0.06867531,  0.08085041, -0.01796419,  0.04315553,  0.00939597,\n",
              "         0.02926805, -0.0685072 ,  0.04594991, -0.06746434,  0.02390149,\n",
              "         0.06972457, -0.07192423, -0.00385185,  0.05585986, -0.06529024,\n",
              "         0.01441779,  0.05936145,  0.09126022, -0.04247482, -0.01658051,\n",
              "         0.03723463,  0.00682042, -0.00952247, -0.05738956,  0.02746196,\n",
              "        -0.02893183, -0.01204888, -0.10629087,  0.04678506, -0.02841632,\n",
              "        -0.00118453, -0.01086817,  0.03886148, -0.03290609,  0.03930241,\n",
              "        -0.0095913 ,  0.07903524, -0.04160887,  0.04785547,  0.0225856 ,\n",
              "         0.03287459, -0.02407262, -0.01369224,  0.0560305 ,  0.02781003,\n",
              "         0.05248134,  0.06294184,  0.01427289,  0.07434656, -0.07296225,\n",
              "         0.13641599,  0.02050446,  0.03552197, -0.02089274,  0.00171133,\n",
              "        -0.04199216, -0.0486958 , -0.00943198, -0.00324078, -0.01284987,\n",
              "        -0.04586549,  0.00094282, -0.00926614, -0.06885617, -0.05149707,\n",
              "         0.05171229,  0.07528955, -0.01706199,  0.03690967,  0.07043796,\n",
              "        -0.07685193, -0.04654943,  0.0652695 , -0.082858  , -0.00701864,\n",
              "        -0.03233377, -0.05243023, -0.06919675, -0.00063306,  0.02481659],\n",
              "       dtype=float32),\n",
              " array([-7.32996017e-02,  3.30322124e-02, -7.26063177e-02, -2.64801104e-02,\n",
              "        -1.69225279e-02,  1.10049471e-02, -6.06363080e-02,  1.38550568e-02,\n",
              "         2.62447987e-02,  2.69750983e-01, -5.60019016e-02,  7.48814968e-03,\n",
              "        -5.72381392e-02, -7.06210546e-03,  3.85269597e-02, -4.31446806e-02,\n",
              "         6.31264690e-03,  5.35256028e-01, -6.96946010e-02, -1.58046465e-02,\n",
              "         2.33051125e-02, -1.87977012e-02, -4.79125977e-02,  6.87139928e-02,\n",
              "         1.50243836e-02, -4.96379584e-02, -4.14831825e-02, -4.71296422e-02,\n",
              "         1.98347140e-02,  2.18670000e-03, -2.87845638e-02, -1.07372766e-02,\n",
              "         7.87997544e-02,  1.40084121e-02,  2.95656230e-02, -1.72117613e-02,\n",
              "         4.26084176e-02, -5.41038159e-03,  1.17355036e-02, -4.15571891e-02,\n",
              "         7.17005134e-02, -8.84317681e-02,  2.47142417e-03, -2.09315550e-02,\n",
              "         2.32806103e-03, -2.60959510e-02, -1.31535307e-02, -6.54095970e-03,\n",
              "         1.54348686e-02,  2.28663208e-03,  2.67533902e-02,  3.87654901e-02,\n",
              "         3.23168784e-02, -1.09688668e-02,  1.29038887e-02, -5.32662049e-02,\n",
              "        -1.87530909e-02, -7.49083934e-03, -6.59971610e-02,  2.58990354e-03,\n",
              "        -4.07470688e-02,  5.26155531e-03, -2.70483587e-02,  4.33233529e-02,\n",
              "        -3.76649089e-02,  2.03169752e-02, -2.36245524e-02,  8.27953219e-03,\n",
              "        -2.72548683e-02, -1.10759595e-02, -8.66487399e-02,  7.48043805e-02,\n",
              "        -4.98206951e-02, -4.09082137e-02,  3.58150760e-03,  1.00500733e-02,\n",
              "        -5.72463758e-02, -6.13924814e-03,  5.39639965e-02, -6.21291213e-02,\n",
              "         1.95127875e-02,  3.34195867e-02, -4.37164903e-02,  2.58270763e-02,\n",
              "        -3.51119563e-02, -5.24175577e-02,  1.94864377e-01, -7.61889445e-04,\n",
              "        -6.04854226e-02,  2.58273780e-02,  1.92053970e-02,  3.50482054e-02,\n",
              "         5.99081442e-02, -5.04629910e-02,  4.64789979e-02,  4.22662981e-02,\n",
              "        -4.73010726e-03, -3.80842909e-02, -3.77202183e-02,  1.10986213e-04,\n",
              "         1.13779962e-01,  5.49905151e-02,  2.28324570e-02, -3.94446217e-02,\n",
              "        -2.96441168e-02, -3.90449643e-01, -1.60864964e-02,  5.91311790e-03,\n",
              "        -4.19238657e-02,  3.38354073e-02, -5.61400093e-02, -3.59189138e-02,\n",
              "        -7.02099036e-03,  4.06522602e-02, -3.09024993e-02, -2.08886899e-02,\n",
              "        -1.94174983e-02,  4.13804129e-03,  1.67907402e-02, -8.03535059e-03,\n",
              "        -7.80868530e-03, -1.69090228e-03, -5.13205528e-02, -3.48512679e-02,\n",
              "        -4.80876602e-02,  4.42639701e-02,  2.27915216e-02, -8.48177262e-03,\n",
              "         3.26510370e-02, -3.66191305e-02, -2.46780384e-02,  1.23883225e-02,\n",
              "        -1.71335693e-03,  1.91297643e-02, -2.27613971e-02,  7.43563548e-02,\n",
              "        -1.06416261e-02, -5.39523475e-02, -1.13003142e-02, -5.40792719e-02,\n",
              "        -2.05000013e-01,  2.71011218e-02,  4.72453870e-02,  1.21820839e-02,\n",
              "        -3.68226483e-03, -2.50653774e-02,  3.46994027e-03,  4.34322618e-02,\n",
              "         1.60168502e-02, -4.79136705e-02,  6.45400658e-02, -8.04619305e-03,\n",
              "         3.63303884e-03, -1.39076682e-02, -4.05553244e-02, -5.36114760e-02,\n",
              "        -3.63077112e-02,  1.51651064e-02, -5.82896844e-02, -1.55737987e-04,\n",
              "         2.34943740e-02, -5.70872575e-02,  1.35816084e-02,  3.87092456e-02,\n",
              "         2.70421579e-02, -3.69307883e-02, -4.95847091e-02, -3.87802497e-02,\n",
              "        -5.47776967e-02,  9.70205572e-03,  2.50509344e-02, -4.40406129e-02,\n",
              "        -7.99813941e-02, -6.09966293e-02, -3.42246750e-03, -5.06485589e-02,\n",
              "        -5.09745907e-03, -1.10607622e-02,  2.96243802e-02,  2.26554796e-02,\n",
              "        -2.25744788e-02,  1.01674432e-02, -1.24905258e-02, -3.85354087e-02,\n",
              "        -4.86829691e-03, -4.17437125e-03, -3.26208137e-02,  6.30648956e-02,\n",
              "        -4.54931753e-03,  9.46911518e-03, -9.35550500e-03,  2.77512763e-02,\n",
              "        -2.38763001e-02, -1.41225746e-02,  9.65307653e-02, -3.48659195e-02,\n",
              "        -1.76180936e-02, -4.38195057e-02, -2.88236346e-02, -3.81885469e-02,\n",
              "         1.58887152e-02, -1.16074849e-02,  1.14942938e-02,  2.18827296e-02,\n",
              "        -1.46887079e-02,  2.41832472e-02,  2.33044066e-02,  3.68978363e-03,\n",
              "        -6.07939884e-02, -7.49442121e-03,  5.79451444e-03,  3.32592055e-02,\n",
              "         2.05817111e-02, -4.18605842e-02, -4.37221192e-02, -3.04960236e-02,\n",
              "        -2.85560116e-02,  5.61398454e-02,  3.07327472e-02, -1.13416472e-02,\n",
              "        -1.20091187e-02,  2.42768824e-02, -8.60348642e-02,  3.36997546e-02,\n",
              "        -3.63963395e-02,  5.14971018e-02, -5.69472797e-02, -4.40120660e-02,\n",
              "         2.03455910e-02,  1.78133585e-02, -2.15515625e-02, -3.35890092e-02,\n",
              "         6.26128688e-02,  3.62538360e-02, -2.11219192e-02, -1.23155555e-02,\n",
              "        -7.24716391e-03,  2.03276295e-02, -2.39653662e-02,  2.05293726e-02,\n",
              "        -1.13770356e-02,  2.66344231e-02,  1.85582191e-02,  9.18386597e-03,\n",
              "         1.05934525e-02, -3.30194924e-03,  5.78415990e-02, -6.87671378e-02,\n",
              "        -7.44858906e-02, -9.34625491e-02,  5.32069206e-02,  8.71771108e-03,\n",
              "         2.89276391e-02,  2.93778512e-03, -1.94238350e-02,  2.92509366e-02,\n",
              "         9.34847724e-03, -1.99060924e-02,  2.64206342e-02,  4.18177918e-02,\n",
              "        -2.23949458e-02, -1.26887457e-02,  3.14399763e-03,  4.44991700e-02,\n",
              "         6.96078921e-03,  1.68863293e-02, -1.82545036e-02, -1.05294529e-02,\n",
              "         6.84663132e-02, -5.81123456e-02,  4.58651595e-02,  1.17894858e-02,\n",
              "        -2.88163591e-02,  4.30813152e-03, -1.42771835e-02, -3.18904743e-02,\n",
              "        -3.47283017e-03,  2.36906819e-02, -7.02407882e-02,  5.54822013e-02,\n",
              "        -3.95639539e-02,  3.83348279e-02, -3.46841887e-02, -8.59480724e-03,\n",
              "        -4.90716510e-02,  1.51733477e-02,  4.53950986e-02,  2.36998359e-03,\n",
              "         6.35966361e-02,  1.51067805e-02,  1.45963747e-02, -5.75458780e-02,\n",
              "        -4.03646864e-02, -4.92576398e-02,  3.08366790e-02, -2.85882894e-02,\n",
              "        -1.33252265e-02, -4.45093550e-02,  2.10316870e-02,  4.23125736e-02],\n",
              "       dtype=float32)]"
            ]
          },
          "metadata": {
            "tags": []
          },
          "execution_count": 15
        }
      ]
    },
    {
      "cell_type": "code",
      "metadata": {
        "id": "fkLA6rF-KqPf",
        "colab_type": "code",
        "colab": {
          "base_uri": "https://localhost:8080/",
          "height": 1000
        },
        "outputId": "4304cc32-77af-4f8c-88e7-0421cf7999e3"
      },
      "source": [
        "xtrain_glove = np.array(xtrain_glove)\n",
        "xvalid_glove = np.array(xvalid_glove)\n",
        "xvalid_glove[0:2]"
      ],
      "execution_count": 16,
      "outputs": [
        {
          "output_type": "execute_result",
          "data": {
            "text/plain": [
              "array([[-5.15578799e-02,  1.80873089e-02,  3.21343988e-02,\n",
              "         2.21856683e-02, -4.83897813e-02,  8.31504688e-02,\n",
              "        -1.22797070e-02,  2.68245973e-02, -6.90650120e-02,\n",
              "         1.48741648e-01, -3.78287807e-02, -1.86295994e-02,\n",
              "         7.39687681e-02,  2.65826602e-02,  4.87570837e-02,\n",
              "        -3.89284305e-02,  5.46515584e-02,  3.24610829e-01,\n",
              "        -2.55113374e-02, -5.97670861e-02, -2.72010341e-02,\n",
              "        -3.29666622e-02, -3.91340293e-02,  5.58320340e-03,\n",
              "         8.26555211e-03,  6.24621361e-02,  1.82830282e-02,\n",
              "        -3.07875630e-02, -3.44672091e-02, -7.94594586e-02,\n",
              "         3.93317752e-02, -3.69541608e-02,  1.08458377e-01,\n",
              "        -2.70326566e-02,  6.67066202e-02, -1.88098792e-02,\n",
              "         2.80682426e-02, -2.02835836e-02,  5.85026965e-02,\n",
              "         2.52943509e-03,  5.75002357e-02, -1.49931982e-02,\n",
              "        -3.49618085e-02, -6.23632334e-02,  1.25835873e-02,\n",
              "        -1.77487191e-02, -5.37870489e-02, -2.65498236e-02,\n",
              "         6.89744111e-03, -1.76192578e-02,  7.06297308e-02,\n",
              "         7.61911497e-02,  5.01548424e-02,  5.39147295e-03,\n",
              "         2.10184567e-02, -7.65112191e-02, -9.32254642e-02,\n",
              "        -1.05314918e-01, -4.76408564e-02,  9.85165592e-03,\n",
              "         2.06851307e-03, -1.59795396e-02, -4.95756464e-03,\n",
              "         8.12348574e-02, -1.22420296e-01, -9.73452115e-04,\n",
              "        -3.52672637e-02, -2.02065855e-02, -9.85433385e-02,\n",
              "        -2.84089502e-02, -8.42869580e-02,  5.55678606e-02,\n",
              "        -1.80932414e-02, -5.49105294e-02, -4.26747128e-02,\n",
              "         4.34971228e-02, -2.94875205e-02,  5.84464446e-02,\n",
              "         3.21743339e-02, -3.85567546e-02,  3.94199118e-02,\n",
              "         3.82039770e-02, -9.54041034e-02, -4.81502786e-02,\n",
              "         4.40964056e-03, -1.21885188e-01,  1.43876895e-01,\n",
              "         1.40552688e-03, -1.14282213e-01,  7.21310675e-02,\n",
              "         6.45016283e-02,  4.89267660e-03,  5.63707091e-02,\n",
              "         2.90087778e-02,  3.83021832e-02, -3.65971425e-03,\n",
              "         5.79971634e-03, -5.95516972e-02,  2.43701432e-02,\n",
              "        -6.70576915e-02,  9.85402241e-02, -7.87162129e-03,\n",
              "        -4.27820385e-02, -3.06896959e-02, -9.09538567e-03,\n",
              "        -4.56818312e-01, -1.40088098e-02, -1.32423202e-02,\n",
              "        -3.33683677e-02,  1.15878219e-02, -2.34883791e-03,\n",
              "        -2.77295057e-03, -7.10050687e-02,  8.17319844e-03,\n",
              "        -1.75401233e-02, -4.07238752e-02,  1.89604312e-02,\n",
              "         9.62065533e-03, -3.54742236e-03,  3.69577692e-03,\n",
              "        -3.68209220e-02, -1.20132798e-02, -2.37114318e-02,\n",
              "        -5.72667271e-02,  4.97945584e-02, -4.06284407e-02,\n",
              "        -7.64337406e-02,  1.47759886e-02,  1.55418152e-02,\n",
              "        -3.82566750e-02, -2.25917157e-02, -4.25944813e-02,\n",
              "         8.85432120e-03,  2.66501606e-02,  3.17694694e-02,\n",
              "         4.64677848e-02, -1.45973414e-02, -5.96815813e-03,\n",
              "         3.79636548e-02,  1.53249176e-03, -5.81229441e-02,\n",
              "         4.22095023e-02,  4.01434489e-02, -3.22579741e-02,\n",
              "         3.35318074e-02, -4.74301204e-02, -1.14716012e-02,\n",
              "         2.43397467e-02,  7.72286505e-02, -3.38142887e-02,\n",
              "         1.42559305e-01,  5.57883875e-03, -6.57879114e-02,\n",
              "         3.44515704e-02, -7.39947557e-02, -2.60301065e-02,\n",
              "         8.46937951e-03,  3.35252732e-02, -4.96128872e-02,\n",
              "         3.94361019e-02, -4.31496799e-02, -7.82912448e-02,\n",
              "        -3.02804243e-02,  6.14431240e-02, -3.89964879e-02,\n",
              "        -4.76295836e-02, -6.03794232e-02, -1.53466957e-02,\n",
              "        -5.08804284e-02,  1.52626075e-02,  2.30992492e-02,\n",
              "        -2.62803920e-02, -4.60014306e-02, -4.27385010e-02,\n",
              "        -3.13368961e-02, -5.19940294e-02,  1.08211739e-02,\n",
              "         2.74493489e-02, -2.56422423e-02, -4.09749672e-02,\n",
              "        -1.26176411e-02,  3.37800011e-02, -6.71049347e-03,\n",
              "        -2.13275254e-02,  1.20628327e-02, -1.13796610e-02,\n",
              "        -2.07470469e-02,  5.24877757e-02, -5.42502031e-02,\n",
              "        -1.14216302e-02, -3.99735980e-02,  5.35691110e-03,\n",
              "         1.92077365e-02, -1.31875067e-03,  6.49662688e-02,\n",
              "         3.28664817e-02, -6.04364136e-03,  3.36261280e-02,\n",
              "         6.39715092e-03, -4.73771766e-02,  1.14020705e-02,\n",
              "         5.51622286e-02,  4.28738520e-02,  4.05530371e-02,\n",
              "         3.93587202e-02,  6.77584708e-02,  7.08044767e-02,\n",
              "         5.51465638e-02,  4.72804494e-02,  1.80849005e-02,\n",
              "        -2.43539792e-02,  3.77516225e-02,  6.44572591e-03,\n",
              "        -1.56977754e-02, -1.82971004e-02, -4.69088368e-03,\n",
              "         9.46669932e-03,  7.29492828e-02, -1.38748251e-02,\n",
              "         3.43376794e-03, -6.86753094e-02,  8.08504149e-02,\n",
              "        -1.79641936e-02,  4.31555286e-02,  9.39596631e-03,\n",
              "         2.92680543e-02, -6.85072020e-02,  4.59499061e-02,\n",
              "        -6.74643368e-02,  2.39014905e-02,  6.97245672e-02,\n",
              "        -7.19242319e-02, -3.85184935e-03,  5.58598563e-02,\n",
              "        -6.52902424e-02,  1.44177927e-02,  5.93614466e-02,\n",
              "         9.12602171e-02, -4.24748212e-02, -1.65805053e-02,\n",
              "         3.72346267e-02,  6.82041654e-03, -9.52247344e-03,\n",
              "        -5.73895574e-02,  2.74619609e-02, -2.89318301e-02,\n",
              "        -1.20488815e-02, -1.06290869e-01,  4.67850603e-02,\n",
              "        -2.84163244e-02, -1.18452602e-03, -1.08681740e-02,\n",
              "         3.88614796e-02, -3.29060853e-02,  3.93024087e-02,\n",
              "        -9.59130097e-03,  7.90352449e-02, -4.16088663e-02,\n",
              "         4.78554703e-02,  2.25855969e-02,  3.28745879e-02,\n",
              "        -2.40726192e-02, -1.36922421e-02,  5.60304970e-02,\n",
              "         2.78100315e-02,  5.24813384e-02,  6.29418418e-02,\n",
              "         1.42728863e-02,  7.43465647e-02, -7.29622468e-02,\n",
              "         1.36415988e-01,  2.05044560e-02,  3.55219692e-02,\n",
              "        -2.08927374e-02,  1.71133061e-03, -4.19921577e-02,\n",
              "        -4.86957952e-02, -9.43197682e-03, -3.24077858e-03,\n",
              "        -1.28498711e-02, -4.58654910e-02,  9.42818529e-04,\n",
              "        -9.26613994e-03, -6.88561723e-02, -5.14970683e-02,\n",
              "         5.17122895e-02,  7.52895474e-02, -1.70619860e-02,\n",
              "         3.69096734e-02,  7.04379603e-02, -7.68519342e-02,\n",
              "        -4.65494320e-02,  6.52695000e-02, -8.28580037e-02,\n",
              "        -7.01864203e-03, -3.23337652e-02, -5.24302274e-02,\n",
              "        -6.91967458e-02, -6.33064541e-04,  2.48165857e-02],\n",
              "       [-7.32996017e-02,  3.30322124e-02, -7.26063177e-02,\n",
              "        -2.64801104e-02, -1.69225279e-02,  1.10049471e-02,\n",
              "        -6.06363080e-02,  1.38550568e-02,  2.62447987e-02,\n",
              "         2.69750983e-01, -5.60019016e-02,  7.48814968e-03,\n",
              "        -5.72381392e-02, -7.06210546e-03,  3.85269597e-02,\n",
              "        -4.31446806e-02,  6.31264690e-03,  5.35256028e-01,\n",
              "        -6.96946010e-02, -1.58046465e-02,  2.33051125e-02,\n",
              "        -1.87977012e-02, -4.79125977e-02,  6.87139928e-02,\n",
              "         1.50243836e-02, -4.96379584e-02, -4.14831825e-02,\n",
              "        -4.71296422e-02,  1.98347140e-02,  2.18670000e-03,\n",
              "        -2.87845638e-02, -1.07372766e-02,  7.87997544e-02,\n",
              "         1.40084121e-02,  2.95656230e-02, -1.72117613e-02,\n",
              "         4.26084176e-02, -5.41038159e-03,  1.17355036e-02,\n",
              "        -4.15571891e-02,  7.17005134e-02, -8.84317681e-02,\n",
              "         2.47142417e-03, -2.09315550e-02,  2.32806103e-03,\n",
              "        -2.60959510e-02, -1.31535307e-02, -6.54095970e-03,\n",
              "         1.54348686e-02,  2.28663208e-03,  2.67533902e-02,\n",
              "         3.87654901e-02,  3.23168784e-02, -1.09688668e-02,\n",
              "         1.29038887e-02, -5.32662049e-02, -1.87530909e-02,\n",
              "        -7.49083934e-03, -6.59971610e-02,  2.58990354e-03,\n",
              "        -4.07470688e-02,  5.26155531e-03, -2.70483587e-02,\n",
              "         4.33233529e-02, -3.76649089e-02,  2.03169752e-02,\n",
              "        -2.36245524e-02,  8.27953219e-03, -2.72548683e-02,\n",
              "        -1.10759595e-02, -8.66487399e-02,  7.48043805e-02,\n",
              "        -4.98206951e-02, -4.09082137e-02,  3.58150760e-03,\n",
              "         1.00500733e-02, -5.72463758e-02, -6.13924814e-03,\n",
              "         5.39639965e-02, -6.21291213e-02,  1.95127875e-02,\n",
              "         3.34195867e-02, -4.37164903e-02,  2.58270763e-02,\n",
              "        -3.51119563e-02, -5.24175577e-02,  1.94864377e-01,\n",
              "        -7.61889445e-04, -6.04854226e-02,  2.58273780e-02,\n",
              "         1.92053970e-02,  3.50482054e-02,  5.99081442e-02,\n",
              "        -5.04629910e-02,  4.64789979e-02,  4.22662981e-02,\n",
              "        -4.73010726e-03, -3.80842909e-02, -3.77202183e-02,\n",
              "         1.10986213e-04,  1.13779962e-01,  5.49905151e-02,\n",
              "         2.28324570e-02, -3.94446217e-02, -2.96441168e-02,\n",
              "        -3.90449643e-01, -1.60864964e-02,  5.91311790e-03,\n",
              "        -4.19238657e-02,  3.38354073e-02, -5.61400093e-02,\n",
              "        -3.59189138e-02, -7.02099036e-03,  4.06522602e-02,\n",
              "        -3.09024993e-02, -2.08886899e-02, -1.94174983e-02,\n",
              "         4.13804129e-03,  1.67907402e-02, -8.03535059e-03,\n",
              "        -7.80868530e-03, -1.69090228e-03, -5.13205528e-02,\n",
              "        -3.48512679e-02, -4.80876602e-02,  4.42639701e-02,\n",
              "         2.27915216e-02, -8.48177262e-03,  3.26510370e-02,\n",
              "        -3.66191305e-02, -2.46780384e-02,  1.23883225e-02,\n",
              "        -1.71335693e-03,  1.91297643e-02, -2.27613971e-02,\n",
              "         7.43563548e-02, -1.06416261e-02, -5.39523475e-02,\n",
              "        -1.13003142e-02, -5.40792719e-02, -2.05000013e-01,\n",
              "         2.71011218e-02,  4.72453870e-02,  1.21820839e-02,\n",
              "        -3.68226483e-03, -2.50653774e-02,  3.46994027e-03,\n",
              "         4.34322618e-02,  1.60168502e-02, -4.79136705e-02,\n",
              "         6.45400658e-02, -8.04619305e-03,  3.63303884e-03,\n",
              "        -1.39076682e-02, -4.05553244e-02, -5.36114760e-02,\n",
              "        -3.63077112e-02,  1.51651064e-02, -5.82896844e-02,\n",
              "        -1.55737987e-04,  2.34943740e-02, -5.70872575e-02,\n",
              "         1.35816084e-02,  3.87092456e-02,  2.70421579e-02,\n",
              "        -3.69307883e-02, -4.95847091e-02, -3.87802497e-02,\n",
              "        -5.47776967e-02,  9.70205572e-03,  2.50509344e-02,\n",
              "        -4.40406129e-02, -7.99813941e-02, -6.09966293e-02,\n",
              "        -3.42246750e-03, -5.06485589e-02, -5.09745907e-03,\n",
              "        -1.10607622e-02,  2.96243802e-02,  2.26554796e-02,\n",
              "        -2.25744788e-02,  1.01674432e-02, -1.24905258e-02,\n",
              "        -3.85354087e-02, -4.86829691e-03, -4.17437125e-03,\n",
              "        -3.26208137e-02,  6.30648956e-02, -4.54931753e-03,\n",
              "         9.46911518e-03, -9.35550500e-03,  2.77512763e-02,\n",
              "        -2.38763001e-02, -1.41225746e-02,  9.65307653e-02,\n",
              "        -3.48659195e-02, -1.76180936e-02, -4.38195057e-02,\n",
              "        -2.88236346e-02, -3.81885469e-02,  1.58887152e-02,\n",
              "        -1.16074849e-02,  1.14942938e-02,  2.18827296e-02,\n",
              "        -1.46887079e-02,  2.41832472e-02,  2.33044066e-02,\n",
              "         3.68978363e-03, -6.07939884e-02, -7.49442121e-03,\n",
              "         5.79451444e-03,  3.32592055e-02,  2.05817111e-02,\n",
              "        -4.18605842e-02, -4.37221192e-02, -3.04960236e-02,\n",
              "        -2.85560116e-02,  5.61398454e-02,  3.07327472e-02,\n",
              "        -1.13416472e-02, -1.20091187e-02,  2.42768824e-02,\n",
              "        -8.60348642e-02,  3.36997546e-02, -3.63963395e-02,\n",
              "         5.14971018e-02, -5.69472797e-02, -4.40120660e-02,\n",
              "         2.03455910e-02,  1.78133585e-02, -2.15515625e-02,\n",
              "        -3.35890092e-02,  6.26128688e-02,  3.62538360e-02,\n",
              "        -2.11219192e-02, -1.23155555e-02, -7.24716391e-03,\n",
              "         2.03276295e-02, -2.39653662e-02,  2.05293726e-02,\n",
              "        -1.13770356e-02,  2.66344231e-02,  1.85582191e-02,\n",
              "         9.18386597e-03,  1.05934525e-02, -3.30194924e-03,\n",
              "         5.78415990e-02, -6.87671378e-02, -7.44858906e-02,\n",
              "        -9.34625491e-02,  5.32069206e-02,  8.71771108e-03,\n",
              "         2.89276391e-02,  2.93778512e-03, -1.94238350e-02,\n",
              "         2.92509366e-02,  9.34847724e-03, -1.99060924e-02,\n",
              "         2.64206342e-02,  4.18177918e-02, -2.23949458e-02,\n",
              "        -1.26887457e-02,  3.14399763e-03,  4.44991700e-02,\n",
              "         6.96078921e-03,  1.68863293e-02, -1.82545036e-02,\n",
              "        -1.05294529e-02,  6.84663132e-02, -5.81123456e-02,\n",
              "         4.58651595e-02,  1.17894858e-02, -2.88163591e-02,\n",
              "         4.30813152e-03, -1.42771835e-02, -3.18904743e-02,\n",
              "        -3.47283017e-03,  2.36906819e-02, -7.02407882e-02,\n",
              "         5.54822013e-02, -3.95639539e-02,  3.83348279e-02,\n",
              "        -3.46841887e-02, -8.59480724e-03, -4.90716510e-02,\n",
              "         1.51733477e-02,  4.53950986e-02,  2.36998359e-03,\n",
              "         6.35966361e-02,  1.51067805e-02,  1.45963747e-02,\n",
              "        -5.75458780e-02, -4.03646864e-02, -4.92576398e-02,\n",
              "         3.08366790e-02, -2.85882894e-02, -1.33252265e-02,\n",
              "        -4.45093550e-02,  2.10316870e-02,  4.23125736e-02]])"
            ]
          },
          "metadata": {
            "tags": []
          },
          "execution_count": 16
        }
      ]
    },
    {
      "cell_type": "markdown",
      "metadata": {
        "id": "b24qzG3AKqPi",
        "colab_type": "text"
      },
      "source": [
        "### Trying LSTM on GloVe features\n",
        "Source : https://www.kaggle.com/abhishek/approaching-almost-any-nlp-problem-on-kaggle"
      ]
    },
    {
      "cell_type": "code",
      "metadata": {
        "id": "kW1eRINrKqPj",
        "colab_type": "code",
        "colab": {
          "base_uri": "https://localhost:8080/",
          "height": 1000
        },
        "outputId": "2e80fca4-a429-4b95-adb6-8e57f25f8651"
      },
      "source": [
        "# scale the data before any neural net:\n",
        "scl = preprocessing.StandardScaler()\n",
        "xtrain_glove_scl = scl.fit_transform(xtrain_glove)\n",
        "xvalid_glove_scl = scl.transform(xvalid_glove)\n",
        "xvalid_glove_scl[0:2]"
      ],
      "execution_count": 17,
      "outputs": [
        {
          "output_type": "execute_result",
          "data": {
            "text/plain": [
              "array([[-3.10634520e-01, -9.74308359e-01,  1.85129339e+00,\n",
              "         2.03070587e-01, -6.29563629e-01,  1.89642912e+00,\n",
              "         3.69227274e-01,  1.02504059e-02, -2.12608775e+00,\n",
              "        -8.21586319e-01, -4.45839497e-01, -8.80018994e-01,\n",
              "         1.98949195e+00,  3.80406073e-01,  5.25372487e-01,\n",
              "        -1.01417445e+00,  1.09378042e+00, -6.98515827e-01,\n",
              "         6.81275628e-01, -1.03599475e+00, -5.91104270e-01,\n",
              "        -5.17180200e-01, -1.51222890e-01,  1.81818157e-01,\n",
              "        -3.27075706e-02,  2.15269123e+00,  1.47756856e+00,\n",
              "        -2.41488834e-01, -1.15729961e+00, -1.99224250e+00,\n",
              "         1.30631688e+00, -1.04835348e+00,  1.48694346e+00,\n",
              "        -9.75367469e-01,  1.26440778e+00, -5.43877542e-01,\n",
              "         2.43488773e-01, -4.84609373e-01,  1.21529549e+00,\n",
              "         1.39096792e+00,  1.65472376e+00,  7.29382347e-01,\n",
              "        -1.23794045e+00, -2.04499291e+00,  8.89749423e-01,\n",
              "        -1.89875293e-01, -1.08379425e+00, -2.81288545e-01,\n",
              "         5.15947987e-01, -7.35891439e-01,  1.32896639e+00,\n",
              "         9.90669612e-01,  9.48809581e-01,  2.28634511e-01,\n",
              "         8.73537065e-01, -1.18409345e+00, -2.51742423e+00,\n",
              "        -1.98308597e+00, -7.49028453e-01,  4.24333033e-01,\n",
              "        -3.56549528e-01, -1.11530576e+00,  4.65259445e-01,\n",
              "         1.00959617e+00, -2.55610864e+00, -8.61601936e-02,\n",
              "        -7.73505955e-01, -8.77708487e-01, -2.00325320e+00,\n",
              "        -2.89671715e-01, -1.74415549e+00,  7.54495377e-01,\n",
              "        -3.26945633e-01, -1.44163974e+00, -1.52840050e+00,\n",
              "         1.36685352e+00,  1.82962495e-01,  1.50018417e+00,\n",
              "        -2.18675098e-01, -3.81257944e-01,  9.40450760e-01,\n",
              "         2.22733341e-01, -1.58457164e+00, -8.17925246e-01,\n",
              "        -1.79397367e-01, -1.27302831e+00,  7.40299983e-01,\n",
              "         4.92674269e-01, -1.45668567e+00,  1.47937168e+00,\n",
              "         1.64957221e+00, -5.15768066e-01,  1.20511296e+00,\n",
              "         1.22676116e+00,  9.52440055e-01, -2.08700331e-01,\n",
              "        -9.64438967e-02, -1.19310460e+00,  7.85085898e-01,\n",
              "        -1.73303226e+00,  1.58098306e+00, -5.10333305e-01,\n",
              "        -8.80801669e-01, -1.08809029e+00, -5.47206216e-01,\n",
              "        -1.24549863e+00, -7.60858578e-01,  2.30268380e-01,\n",
              "         8.95494188e-02, -3.74412362e-01,  5.16225968e-01,\n",
              "         3.96148229e-01, -1.85774473e+00, -8.24051475e-01,\n",
              "        -4.44598436e-02, -8.14816883e-01,  9.57533487e-01,\n",
              "        -7.85993954e-02, -2.12553904e-01, -5.43471934e-02,\n",
              "        -7.56250572e-01,  2.85850357e-01, -6.08308127e-01,\n",
              "        -1.00860287e+00,  1.44669556e+00, -1.21657324e+00,\n",
              "        -1.83018080e+00,  1.27508276e+00,  3.16346877e-01,\n",
              "        -1.54851613e-01, -7.39352651e-01, -1.19143311e+00,\n",
              "        -1.42659473e-01,  5.82520249e-01,  5.32110722e-01,\n",
              "         3.62094174e-01,  5.09962826e-02,  2.04198261e-01,\n",
              "         6.65560363e-01,  7.29779971e-01,  9.01237111e-01,\n",
              "         7.20758102e-01,  7.78308026e-01, -9.98631975e-01,\n",
              "         6.01159218e-01, -3.24360250e-01,  2.20494017e-01,\n",
              "        -5.93879657e-02,  1.39513169e+00, -6.13951294e-01,\n",
              "         2.00404363e+00, -1.70275763e-01, -1.67049945e+00,\n",
              "         1.13104665e+00, -1.40985209e+00, -1.28852247e-01,\n",
              "         5.31430953e-01, -1.65551413e-02, -2.96112628e-01,\n",
              "         9.66435748e-01, -1.69236746e+00, -1.35819359e+00,\n",
              "        -8.24247182e-01,  1.81063622e+00, -2.40336287e-01,\n",
              "        -7.11873569e-01, -1.03686530e+00, -2.53320235e-01,\n",
              "        -7.44547605e-01,  7.90996499e-02,  1.23449236e-01,\n",
              "        -5.64484264e-01, -5.79416740e-01,  2.00322043e-01,\n",
              "        -3.74478155e-01, -1.65497103e-01,  3.19616431e-01,\n",
              "         8.67155683e-01, -1.18778945e+00,  7.72214640e-04,\n",
              "        -8.87052161e-01,  7.25905656e-01,  1.19605351e-01,\n",
              "        -8.68180459e-01,  1.03670781e+00, -3.55245391e-02,\n",
              "         2.51618726e-01,  7.44258918e-01, -1.44832065e+00,\n",
              "        -4.95352568e-01, -1.05651713e+00,  1.09303225e-01,\n",
              "         6.91614246e-01, -2.13945853e-01, -2.02116573e-01,\n",
              "         7.70603823e-01,  3.97972481e-01,  9.28622479e-01,\n",
              "         1.00312677e+00, -1.05254516e+00,  1.32031714e-01,\n",
              "         1.63472258e+00,  5.39875648e-01,  2.68231897e-01,\n",
              "         7.75649172e-01,  1.29874202e+00,  1.85682164e+00,\n",
              "         1.51117421e+00,  1.18153751e+00,  7.22058710e-01,\n",
              "        -1.72804942e-01,  5.63553805e-01, -5.14833063e-01,\n",
              "         1.36928859e+00,  3.28176619e-02,  2.83202687e-01,\n",
              "         4.57217902e-01,  7.68145654e-01, -2.72640766e-01,\n",
              "        -3.68525339e-01, -1.87716560e+00,  2.08165682e+00,\n",
              "         5.28143251e-01,  8.54653783e-01,  8.29645008e-01,\n",
              "        -2.44634475e-01, -1.45165531e+00,  1.64937447e+00,\n",
              "        -2.25781527e+00,  2.49080266e-01,  1.93226884e+00,\n",
              "        -3.01177388e-01, -6.67960069e-01,  7.54864268e-01,\n",
              "        -1.01390913e+00,  8.75417763e-01,  2.24612209e+00,\n",
              "         2.04394768e+00, -1.68802589e-02, -1.03936813e+00,\n",
              "         3.09722919e-01, -4.10216815e-01, -8.16556921e-01,\n",
              "        -1.83049213e+00,  8.68973437e-01, -5.16425919e-01,\n",
              "        -7.29707670e-01, -2.53288229e+00,  1.50125139e+00,\n",
              "         7.74401402e-01, -1.66571554e-01, -7.96923453e-01,\n",
              "         5.62672503e-01,  9.59946499e-02,  5.43448762e-01,\n",
              "        -9.08281183e-01,  1.97066264e+00, -1.07471785e+00,\n",
              "         2.18831993e-01,  5.56185128e-01,  1.01597143e+00,\n",
              "        -3.68639844e-01,  2.61097888e-01,  8.56712976e-01,\n",
              "         1.05979329e+00,  2.90881652e-01,  1.52258503e+00,\n",
              "        -3.32691111e-01, -2.47143486e-01, -9.88675267e-01,\n",
              "         1.69784130e+00, -6.15228737e-02,  7.01290482e-01,\n",
              "        -4.71158006e-01,  6.38072073e-01, -4.92784445e-01,\n",
              "        -1.18837537e+00, -4.20905821e-01,  7.22246648e-01,\n",
              "        -1.46074976e+00, -4.23402061e-01, -8.99673973e-01,\n",
              "        -4.68902043e-03, -1.30122486e+00, -1.39138976e+00,\n",
              "         1.48046616e+00,  1.49907471e+00, -6.14748537e-02,\n",
              "        -6.52313001e-01,  7.18411156e-01, -1.95762067e+00,\n",
              "        -5.27095775e-01,  1.27556007e+00, -1.44173115e+00,\n",
              "        -5.42442947e-01, -7.91819725e-01, -9.19606455e-01,\n",
              "        -1.41822097e+00, -3.11465849e-01,  2.66275770e-01],\n",
              "       [-8.76016981e-01, -6.29759537e-01, -9.55181522e-01,\n",
              "        -1.20168005e+00,  1.30184103e-01, -1.55091602e-01,\n",
              "        -8.65970844e-01, -3.51740826e-01,  4.60329849e-01,\n",
              "         1.67629070e-02, -8.51670523e-01, -1.15256176e-01,\n",
              "        -1.76123766e+00, -5.96933615e-01,  2.72472868e-01,\n",
              "        -1.14006704e+00, -1.56028884e-01,  1.36587999e+00,\n",
              "        -5.12301959e-01,  1.74059534e-01,  6.60643565e-01,\n",
              "        -6.59115359e-02, -4.13620537e-01,  1.92116529e+00,\n",
              "         1.69778147e-01, -7.97813167e-01, -1.60433570e-01,\n",
              "        -7.16117045e-01,  3.22635285e-01, -1.87485230e-01,\n",
              "        -4.54479453e-01, -3.05852996e-01,  7.57759747e-01,\n",
              "         2.29907625e-01,  1.66294485e-01, -5.02425446e-01,\n",
              "         6.60757807e-01,  2.26473019e-02,  1.88530357e-01,\n",
              "         1.02398028e-01,  2.11804405e+00, -9.60121443e-01,\n",
              "         8.12220958e-02, -7.20316697e-01,  5.93647749e-01,\n",
              "        -4.33777598e-01,  7.92913381e-02,  1.76870368e-01,\n",
              "         7.75873354e-01, -7.60698715e-02,  2.10640777e-01,\n",
              "        -1.17160215e-01,  3.89369958e-01, -2.60295058e-01,\n",
              "         6.44130727e-01, -5.40509605e-01, -2.15805384e-01,\n",
              "         7.24522025e-01, -1.22659936e+00,  1.95122264e-01,\n",
              "        -1.54942556e+00, -5.00728641e-01, -2.99209505e-01,\n",
              "        -9.37993856e-03, -2.38327298e-01,  4.82662570e-01,\n",
              "        -4.19591278e-01, -1.31943984e-02, -1.40006125e-01,\n",
              "         1.73711135e-01, -1.79943918e+00,  1.17519269e+00,\n",
              "        -1.11427131e+00, -1.04914904e+00, -2.68906920e-01,\n",
              "         4.85272452e-01, -6.39825916e-01,  2.52537976e-02,\n",
              "         3.59163572e-01, -9.82498738e-01,  3.93390716e-01,\n",
              "         8.09893659e-02, -2.64431480e-01,  7.92452633e-01,\n",
              "        -1.28883406e+00,  2.30729047e-01,  1.32858420e+00,\n",
              "         4.59975372e-01, -3.99024496e-01,  8.76237534e-02,\n",
              "         4.10453632e-01,  1.96411598e-01,  1.29653029e+00,\n",
              "        -7.75470652e-01,  1.14636032e+00,  8.26981090e-01,\n",
              "        -3.68658768e-01, -5.24651604e-01, -6.66235554e-01,\n",
              "         3.48504179e-01,  1.94574580e+00,  1.28779198e+00,\n",
              "         8.90703839e-01, -1.40602868e+00, -1.09203240e+00,\n",
              "        -5.54328823e-01, -8.23025309e-01,  8.60137773e-01,\n",
              "        -1.88319509e-01,  2.73980370e-01, -1.03588536e+00,\n",
              "        -5.41783584e-01, -3.22419821e-02,  1.52487432e-01,\n",
              "        -4.20058530e-01, -2.26328692e-01, -2.50692254e-01,\n",
              "        -2.20218171e-01,  3.49879447e-01, -4.03826585e-01,\n",
              "         1.14896325e-01,  5.92310135e-01, -1.44217839e+00,\n",
              "        -4.89017679e-01, -1.13642193e+00,  1.50711148e+00,\n",
              "         8.72382576e-01,  5.31181517e-01,  7.77084200e-01,\n",
              "        -1.01136987e-01, -8.06301089e-01, -1.07774518e-01,\n",
              "        -4.49221862e-01,  3.98123153e-01, -1.10919505e+00,\n",
              "         1.18100165e+00,  1.71246433e-01, -1.41533279e+00,\n",
              "        -7.10672893e-01, -8.77692459e-01, -6.94615113e-01,\n",
              "         2.80857638e-01,  9.48104484e-01,  3.54322410e-01,\n",
              "        -5.86113159e-01,  3.49921083e-01,  6.25326527e-01,\n",
              "         4.01276341e-01,  8.80224605e-02, -1.03202390e+00,\n",
              "         2.91624469e-01, -6.38718602e-01,  1.66778934e-01,\n",
              "        -3.47310300e-01, -4.18003724e-01, -9.85641847e-01,\n",
              "        -7.57890058e-01, -4.89997819e-01, -5.00817180e-01,\n",
              "        -1.22154769e-01, -9.09476490e-02, -8.48663545e-01,\n",
              "         5.65304777e-01,  1.15256070e+00,  1.32635230e+00,\n",
              "        -4.04745385e-01, -7.66358996e-01, -9.39453802e-01,\n",
              "        -8.58740348e-01, -7.01262652e-02,  1.83998653e-01,\n",
              "        -1.09795835e+00, -1.50807458e+00, -2.64631491e-01,\n",
              "         3.76301087e-01, -1.30613654e-01, -1.46552995e-01,\n",
              "        -3.13012641e-01,  5.06976211e-01,  1.40295650e+00,\n",
              "        -1.19786205e+00,  1.43757071e-02, -4.89287271e-02,\n",
              "        -1.41342099e+00,  5.82493506e-01,  1.13861519e-01,\n",
              "        -6.37950484e-02,  1.04742302e+00, -2.34045831e-01,\n",
              "         1.33844786e-01, -1.57036573e-01,  7.82283174e-01,\n",
              "        -5.81984691e-01, -6.11018996e-01,  6.42930827e-01,\n",
              "        -1.27666839e+00,  4.95796203e-02, -4.84499083e-01,\n",
              "         1.94091892e-01, -8.33499940e-01,  2.29614635e-01,\n",
              "        -1.45733534e-01, -3.77510808e-01, -2.42985989e-01,\n",
              "        -7.46662427e-01,  2.35439722e-01,  4.28179188e-01,\n",
              "         2.63206116e-02, -1.91739940e+00,  3.00650614e-02,\n",
              "         6.89811260e-01,  4.63905723e-01, -4.55267701e-02,\n",
              "         6.03926983e-01, -6.60393479e-01, -4.07985070e-01,\n",
              "        -7.18562217e-01,  2.48007106e-01,  6.43254031e-01,\n",
              "        -7.54521875e-01, -4.87174021e-01,  2.09987978e-01,\n",
              "        -1.27761756e+00,  5.97375730e-01, -4.01334067e-01,\n",
              "         2.87957654e-01, -1.12888869e+00, -1.05264017e+00,\n",
              "         1.02699097e-01,  7.83869445e-02, -3.23433555e-01,\n",
              "         6.16976253e-01,  1.21783279e+00,  2.12301965e-01,\n",
              "         1.93646571e-01,  2.46714530e-02,  8.50399360e-02,\n",
              "         7.79448761e-02,  4.78936285e-01,  5.61709317e-02,\n",
              "        -9.40703659e-01,  1.98366519e-01,  1.36929189e-01,\n",
              "        -6.00296012e-02,  3.34440343e-01,  2.24496914e-01,\n",
              "         8.76196483e-01, -1.41297309e+00, -1.56456333e+00,\n",
              "        -8.70821217e-01,  1.19960219e+00, -1.54630980e-01,\n",
              "         2.68108547e-01,  1.20028718e+00, -1.01387445e+00,\n",
              "        -1.89258996e-01, -7.31259401e-03, -4.62346788e-01,\n",
              "        -4.37853419e-01,  1.08199160e+00, -6.25784783e-01,\n",
              "        -6.53864682e-02,  7.25740881e-01,  5.37048577e-01,\n",
              "         3.67500563e-01, -4.13067613e-01, -1.07228742e+00,\n",
              "        -1.00997410e+00, -3.33506541e-01, -6.56272273e-01,\n",
              "         5.05580715e-02, -3.41593410e-01, -1.24204604e+00,\n",
              "         1.37350391e-01,  1.32081931e-01, -1.74724828e-01,\n",
              "         1.84674830e-01,  5.42119288e-01, -1.19339266e+00,\n",
              "         4.27863369e-01, -2.61156347e-01,  2.19846932e-01,\n",
              "        -7.00589641e-01,  2.16719622e-01, -1.31256522e+00,\n",
              "         5.27008769e-01,  7.30043989e-01,  5.19607947e-01,\n",
              "         1.76356817e-01, -6.43206496e-01,  8.30356508e-02,\n",
              "        -7.58306298e-01, -1.27415477e+00, -5.63799018e-01,\n",
              "         2.12834654e-01, -6.86297068e-01,  1.64515776e-01,\n",
              "        -7.42359988e-01,  3.45752085e-01,  7.89204035e-01]])"
            ]
          },
          "metadata": {
            "tags": []
          },
          "execution_count": 17
        }
      ]
    },
    {
      "cell_type": "code",
      "metadata": {
        "id": "utu4FtQVKqPl",
        "colab_type": "code",
        "colab": {
          "base_uri": "https://localhost:8080/",
          "height": 102
        },
        "outputId": "726e79ff-5f9f-47ca-f9e8-f8bbf9a8dac2"
      },
      "source": [
        "# we need to binarize the labels for the neural net\n",
        "ytrain_enc = np_utils.to_categorical(train_y)\n",
        "yvalid_enc = np_utils.to_categorical(valid_y)\n",
        "yvalid_enc[0:2]"
      ],
      "execution_count": 18,
      "outputs": [
        {
          "output_type": "execute_result",
          "data": {
            "text/plain": [
              "array([[0., 0., 0., 0., 0., 0., 0., 0., 0., 0., 0., 0., 0., 0., 0., 0.,\n",
              "        0., 0., 1., 0., 0., 0., 0., 0., 0., 0., 0., 0., 0.],\n",
              "       [0., 0., 0., 0., 0., 0., 0., 0., 0., 0., 0., 1., 0., 0., 0., 0.,\n",
              "        0., 0., 0., 0., 0., 0., 0., 0., 0., 0., 0., 0., 0.]],\n",
              "      dtype=float32)"
            ]
          },
          "metadata": {
            "tags": []
          },
          "execution_count": 18
        }
      ]
    },
    {
      "cell_type": "code",
      "metadata": {
        "id": "hb1QDlPnKqPn",
        "colab_type": "code",
        "outputId": "9490bcd5-8633-4c6b-cdb8-fe8273015aaf",
        "colab": {
          "base_uri": "https://localhost:8080/",
          "height": 34
        }
      },
      "source": [
        "### No of classes in the last layer\n",
        "last_layer = len(ytrain_enc[0])\n",
        "print(last_layer)"
      ],
      "execution_count": 19,
      "outputs": [
        {
          "output_type": "stream",
          "text": [
            "29\n"
          ],
          "name": "stdout"
        }
      ]
    },
    {
      "cell_type": "code",
      "metadata": {
        "id": "GSGzZzVIKqPq",
        "colab_type": "code",
        "outputId": "3b61ae56-939f-445d-fe6f-cc9baaad8284",
        "colab": {
          "base_uri": "https://localhost:8080/",
          "height": 1000
        }
      },
      "source": [
        "# create a simple 3 layer sequential neural net\n",
        "model = Sequential()\n",
        "\n",
        "model.add(Dense(300, input_dim=300, activation='relu'))\n",
        "model.add(Dropout(0.5))\n",
        "model.add(BatchNormalization())\n",
        "\n",
        "model.add(Dense(300, activation='relu'))\n",
        "model.add(Dropout(0.5))\n",
        "model.add(BatchNormalization())\n",
        "\n",
        "model.add(Dense(last_layer))                       ## No of classes to predict\n",
        "model.add(Activation('softmax'))\n",
        "model.summary()\n",
        "# compile the model\n",
        "model.compile(loss='categorical_crossentropy', optimizer='adam', metrics=['acc'])\n",
        "\n",
        "start = time()\n",
        "history = model.fit(xtrain_glove_scl, y=ytrain_enc, batch_size=1024,            ## Higher batch size leads to faster training but low accuracy\n",
        "          epochs=100, verbose=1, \n",
        "          validation_data=(xvalid_glove_scl, yvalid_enc))\n",
        "end = time()\n",
        "print('Total training time {} seconds'.format(end - start))"
      ],
      "execution_count": 36,
      "outputs": [
        {
          "output_type": "stream",
          "text": [
            "Model: \"sequential_8\"\n",
            "_________________________________________________________________\n",
            "Layer (type)                 Output Shape              Param #   \n",
            "=================================================================\n",
            "dense_22 (Dense)             (None, 300)               90300     \n",
            "_________________________________________________________________\n",
            "dropout_15 (Dropout)         (None, 300)               0         \n",
            "_________________________________________________________________\n",
            "batch_normalization_11 (Batc (None, 300)               1200      \n",
            "_________________________________________________________________\n",
            "dense_23 (Dense)             (None, 300)               90300     \n",
            "_________________________________________________________________\n",
            "dropout_16 (Dropout)         (None, 300)               0         \n",
            "_________________________________________________________________\n",
            "batch_normalization_12 (Batc (None, 300)               1200      \n",
            "_________________________________________________________________\n",
            "dense_24 (Dense)             (None, 29)                8729      \n",
            "_________________________________________________________________\n",
            "activation_8 (Activation)    (None, 29)                0         \n",
            "=================================================================\n",
            "Total params: 191,729\n",
            "Trainable params: 190,529\n",
            "Non-trainable params: 1,200\n",
            "_________________________________________________________________\n",
            "Train on 8220 samples, validate on 2055 samples\n",
            "Epoch 1/100\n",
            "8220/8220 [==============================] - 2s 244us/step - loss: 3.7645 - acc: 0.0803 - val_loss: 2.5946 - val_acc: 0.3182\n",
            "Epoch 2/100\n",
            "8220/8220 [==============================] - 0s 16us/step - loss: 3.0075 - acc: 0.1995 - val_loss: 2.2463 - val_acc: 0.3922\n",
            "Epoch 3/100\n",
            "8220/8220 [==============================] - 0s 16us/step - loss: 2.6615 - acc: 0.2835 - val_loss: 2.0556 - val_acc: 0.4277\n",
            "Epoch 4/100\n",
            "8220/8220 [==============================] - 0s 17us/step - loss: 2.4637 - acc: 0.3235 - val_loss: 1.9281 - val_acc: 0.4628\n",
            "Epoch 5/100\n",
            "8220/8220 [==============================] - 0s 16us/step - loss: 2.3372 - acc: 0.3580 - val_loss: 1.8403 - val_acc: 0.4827\n",
            "Epoch 6/100\n",
            "8220/8220 [==============================] - 0s 17us/step - loss: 2.2377 - acc: 0.3773 - val_loss: 1.7736 - val_acc: 0.5012\n",
            "Epoch 7/100\n",
            "8220/8220 [==============================] - 0s 17us/step - loss: 2.1558 - acc: 0.3916 - val_loss: 1.7218 - val_acc: 0.5163\n",
            "Epoch 8/100\n",
            "8220/8220 [==============================] - 0s 15us/step - loss: 2.0734 - acc: 0.4220 - val_loss: 1.6740 - val_acc: 0.5290\n",
            "Epoch 9/100\n",
            "8220/8220 [==============================] - 0s 16us/step - loss: 2.0159 - acc: 0.4325 - val_loss: 1.6381 - val_acc: 0.5333\n",
            "Epoch 10/100\n",
            "8220/8220 [==============================] - 0s 16us/step - loss: 1.9612 - acc: 0.4464 - val_loss: 1.6063 - val_acc: 0.5416\n",
            "Epoch 11/100\n",
            "8220/8220 [==============================] - 0s 16us/step - loss: 1.9215 - acc: 0.4519 - val_loss: 1.5793 - val_acc: 0.5528\n",
            "Epoch 12/100\n",
            "8220/8220 [==============================] - 0s 17us/step - loss: 1.8907 - acc: 0.4594 - val_loss: 1.5526 - val_acc: 0.5606\n",
            "Epoch 13/100\n",
            "8220/8220 [==============================] - 0s 16us/step - loss: 1.8469 - acc: 0.4747 - val_loss: 1.5342 - val_acc: 0.5630\n",
            "Epoch 14/100\n",
            "8220/8220 [==============================] - 0s 16us/step - loss: 1.8335 - acc: 0.4734 - val_loss: 1.5181 - val_acc: 0.5737\n",
            "Epoch 15/100\n",
            "8220/8220 [==============================] - 0s 17us/step - loss: 1.7956 - acc: 0.4898 - val_loss: 1.5039 - val_acc: 0.5742\n",
            "Epoch 16/100\n",
            "8220/8220 [==============================] - 0s 15us/step - loss: 1.7579 - acc: 0.5010 - val_loss: 1.4926 - val_acc: 0.5708\n",
            "Epoch 17/100\n",
            "8220/8220 [==============================] - 0s 16us/step - loss: 1.7331 - acc: 0.5007 - val_loss: 1.4780 - val_acc: 0.5762\n",
            "Epoch 18/100\n",
            "8220/8220 [==============================] - 0s 16us/step - loss: 1.7081 - acc: 0.5045 - val_loss: 1.4625 - val_acc: 0.5859\n",
            "Epoch 19/100\n",
            "8220/8220 [==============================] - 0s 15us/step - loss: 1.6844 - acc: 0.5111 - val_loss: 1.4519 - val_acc: 0.5815\n",
            "Epoch 20/100\n",
            "8220/8220 [==============================] - 0s 16us/step - loss: 1.6533 - acc: 0.5225 - val_loss: 1.4352 - val_acc: 0.5932\n",
            "Epoch 21/100\n",
            "8220/8220 [==============================] - 0s 17us/step - loss: 1.6258 - acc: 0.5226 - val_loss: 1.4213 - val_acc: 0.5990\n",
            "Epoch 22/100\n",
            "8220/8220 [==============================] - 0s 17us/step - loss: 1.6004 - acc: 0.5355 - val_loss: 1.4116 - val_acc: 0.6034\n",
            "Epoch 23/100\n",
            "8220/8220 [==============================] - 0s 18us/step - loss: 1.6000 - acc: 0.5341 - val_loss: 1.4122 - val_acc: 0.5985\n",
            "Epoch 24/100\n",
            "8220/8220 [==============================] - 0s 15us/step - loss: 1.5865 - acc: 0.5373 - val_loss: 1.4028 - val_acc: 0.5995\n",
            "Epoch 25/100\n",
            "8220/8220 [==============================] - 0s 16us/step - loss: 1.5778 - acc: 0.5470 - val_loss: 1.3971 - val_acc: 0.6039\n",
            "Epoch 26/100\n",
            "8220/8220 [==============================] - 0s 16us/step - loss: 1.5676 - acc: 0.5421 - val_loss: 1.3953 - val_acc: 0.6063\n",
            "Epoch 27/100\n",
            "8220/8220 [==============================] - 0s 15us/step - loss: 1.5446 - acc: 0.5528 - val_loss: 1.3861 - val_acc: 0.6088\n",
            "Epoch 28/100\n",
            "8220/8220 [==============================] - 0s 16us/step - loss: 1.5265 - acc: 0.5501 - val_loss: 1.3809 - val_acc: 0.6117\n",
            "Epoch 29/100\n",
            "8220/8220 [==============================] - 0s 16us/step - loss: 1.5039 - acc: 0.5631 - val_loss: 1.3744 - val_acc: 0.6092\n",
            "Epoch 30/100\n",
            "8220/8220 [==============================] - 0s 16us/step - loss: 1.4915 - acc: 0.5607 - val_loss: 1.3673 - val_acc: 0.6117\n",
            "Epoch 31/100\n",
            "8220/8220 [==============================] - 0s 17us/step - loss: 1.4807 - acc: 0.5630 - val_loss: 1.3618 - val_acc: 0.6195\n",
            "Epoch 32/100\n",
            "8220/8220 [==============================] - 0s 16us/step - loss: 1.4823 - acc: 0.5667 - val_loss: 1.3527 - val_acc: 0.6214\n",
            "Epoch 33/100\n",
            "8220/8220 [==============================] - 0s 17us/step - loss: 1.4657 - acc: 0.5752 - val_loss: 1.3518 - val_acc: 0.6200\n",
            "Epoch 34/100\n",
            "8220/8220 [==============================] - 0s 17us/step - loss: 1.4482 - acc: 0.5837 - val_loss: 1.3479 - val_acc: 0.6195\n",
            "Epoch 35/100\n",
            "8220/8220 [==============================] - 0s 16us/step - loss: 1.4221 - acc: 0.5847 - val_loss: 1.3370 - val_acc: 0.6234\n",
            "Epoch 36/100\n",
            "8220/8220 [==============================] - 0s 17us/step - loss: 1.4190 - acc: 0.5827 - val_loss: 1.3318 - val_acc: 0.6248\n",
            "Epoch 37/100\n",
            "8220/8220 [==============================] - 0s 16us/step - loss: 1.4245 - acc: 0.5897 - val_loss: 1.3274 - val_acc: 0.6268\n",
            "Epoch 38/100\n",
            "8220/8220 [==============================] - 0s 18us/step - loss: 1.4007 - acc: 0.5863 - val_loss: 1.3254 - val_acc: 0.6234\n",
            "Epoch 39/100\n",
            "8220/8220 [==============================] - 0s 16us/step - loss: 1.3864 - acc: 0.5931 - val_loss: 1.3223 - val_acc: 0.6263\n",
            "Epoch 40/100\n",
            "8220/8220 [==============================] - 0s 16us/step - loss: 1.3994 - acc: 0.5903 - val_loss: 1.3180 - val_acc: 0.6258\n",
            "Epoch 41/100\n",
            "8220/8220 [==============================] - 0s 17us/step - loss: 1.3711 - acc: 0.5987 - val_loss: 1.3114 - val_acc: 0.6282\n",
            "Epoch 42/100\n",
            "8220/8220 [==============================] - 0s 15us/step - loss: 1.3749 - acc: 0.5942 - val_loss: 1.3111 - val_acc: 0.6273\n",
            "Epoch 43/100\n",
            "8220/8220 [==============================] - 0s 16us/step - loss: 1.3461 - acc: 0.6074 - val_loss: 1.3120 - val_acc: 0.6258\n",
            "Epoch 44/100\n",
            "8220/8220 [==============================] - 0s 17us/step - loss: 1.3500 - acc: 0.5994 - val_loss: 1.3110 - val_acc: 0.6273\n",
            "Epoch 45/100\n",
            "8220/8220 [==============================] - 0s 16us/step - loss: 1.3417 - acc: 0.6118 - val_loss: 1.3028 - val_acc: 0.6345\n",
            "Epoch 46/100\n",
            "8220/8220 [==============================] - 0s 17us/step - loss: 1.3283 - acc: 0.6061 - val_loss: 1.2970 - val_acc: 0.6389\n",
            "Epoch 47/100\n",
            "8220/8220 [==============================] - 0s 15us/step - loss: 1.3275 - acc: 0.6052 - val_loss: 1.2963 - val_acc: 0.6389\n",
            "Epoch 48/100\n",
            "8220/8220 [==============================] - 0s 15us/step - loss: 1.3070 - acc: 0.6130 - val_loss: 1.2923 - val_acc: 0.6433\n",
            "Epoch 49/100\n",
            "8220/8220 [==============================] - 0s 17us/step - loss: 1.3188 - acc: 0.6091 - val_loss: 1.2887 - val_acc: 0.6453\n",
            "Epoch 50/100\n",
            "8220/8220 [==============================] - 0s 16us/step - loss: 1.3110 - acc: 0.6146 - val_loss: 1.2805 - val_acc: 0.6467\n",
            "Epoch 51/100\n",
            "8220/8220 [==============================] - 0s 17us/step - loss: 1.2854 - acc: 0.6173 - val_loss: 1.2811 - val_acc: 0.6438\n",
            "Epoch 52/100\n",
            "8220/8220 [==============================] - 0s 16us/step - loss: 1.2959 - acc: 0.6198 - val_loss: 1.2819 - val_acc: 0.6389\n",
            "Epoch 53/100\n",
            "8220/8220 [==============================] - 0s 18us/step - loss: 1.2786 - acc: 0.6269 - val_loss: 1.2792 - val_acc: 0.6443\n",
            "Epoch 54/100\n",
            "8220/8220 [==============================] - 0s 16us/step - loss: 1.2765 - acc: 0.6185 - val_loss: 1.2758 - val_acc: 0.6453\n",
            "Epoch 55/100\n",
            "8220/8220 [==============================] - 0s 16us/step - loss: 1.2676 - acc: 0.6231 - val_loss: 1.2803 - val_acc: 0.6433\n",
            "Epoch 56/100\n",
            "8220/8220 [==============================] - 0s 15us/step - loss: 1.2584 - acc: 0.6249 - val_loss: 1.2795 - val_acc: 0.6384\n",
            "Epoch 57/100\n",
            "8220/8220 [==============================] - 0s 16us/step - loss: 1.2476 - acc: 0.6318 - val_loss: 1.2741 - val_acc: 0.6399\n",
            "Epoch 58/100\n",
            "8220/8220 [==============================] - 0s 16us/step - loss: 1.2520 - acc: 0.6232 - val_loss: 1.2728 - val_acc: 0.6380\n",
            "Epoch 59/100\n",
            "8220/8220 [==============================] - 0s 17us/step - loss: 1.2554 - acc: 0.6290 - val_loss: 1.2712 - val_acc: 0.6423\n",
            "Epoch 60/100\n",
            "8220/8220 [==============================] - 0s 17us/step - loss: 1.2360 - acc: 0.6341 - val_loss: 1.2681 - val_acc: 0.6482\n",
            "Epoch 61/100\n",
            "8220/8220 [==============================] - 0s 16us/step - loss: 1.2212 - acc: 0.6322 - val_loss: 1.2619 - val_acc: 0.6457\n",
            "Epoch 62/100\n",
            "8220/8220 [==============================] - 0s 17us/step - loss: 1.2205 - acc: 0.6369 - val_loss: 1.2581 - val_acc: 0.6477\n",
            "Epoch 63/100\n",
            "8220/8220 [==============================] - 0s 17us/step - loss: 1.2363 - acc: 0.6361 - val_loss: 1.2579 - val_acc: 0.6477\n",
            "Epoch 64/100\n",
            "8220/8220 [==============================] - 0s 17us/step - loss: 1.2120 - acc: 0.6410 - val_loss: 1.2605 - val_acc: 0.6462\n",
            "Epoch 65/100\n",
            "8220/8220 [==============================] - 0s 16us/step - loss: 1.1920 - acc: 0.6431 - val_loss: 1.2632 - val_acc: 0.6409\n",
            "Epoch 66/100\n",
            "8220/8220 [==============================] - 0s 16us/step - loss: 1.2049 - acc: 0.6427 - val_loss: 1.2654 - val_acc: 0.6394\n",
            "Epoch 67/100\n",
            "8220/8220 [==============================] - 0s 16us/step - loss: 1.1916 - acc: 0.6467 - val_loss: 1.2644 - val_acc: 0.6404\n",
            "Epoch 68/100\n",
            "8220/8220 [==============================] - 0s 19us/step - loss: 1.1948 - acc: 0.6401 - val_loss: 1.2605 - val_acc: 0.6453\n",
            "Epoch 69/100\n",
            "8220/8220 [==============================] - 0s 16us/step - loss: 1.1873 - acc: 0.6440 - val_loss: 1.2558 - val_acc: 0.6428\n",
            "Epoch 70/100\n",
            "8220/8220 [==============================] - 0s 15us/step - loss: 1.1868 - acc: 0.6479 - val_loss: 1.2515 - val_acc: 0.6482\n",
            "Epoch 71/100\n",
            "8220/8220 [==============================] - 0s 17us/step - loss: 1.1892 - acc: 0.6456 - val_loss: 1.2515 - val_acc: 0.6418\n",
            "Epoch 72/100\n",
            "8220/8220 [==============================] - 0s 16us/step - loss: 1.1703 - acc: 0.6481 - val_loss: 1.2463 - val_acc: 0.6389\n",
            "Epoch 73/100\n",
            "8220/8220 [==============================] - 0s 16us/step - loss: 1.1521 - acc: 0.6476 - val_loss: 1.2465 - val_acc: 0.6414\n",
            "Epoch 74/100\n",
            "8220/8220 [==============================] - 0s 18us/step - loss: 1.1519 - acc: 0.6499 - val_loss: 1.2459 - val_acc: 0.6404\n",
            "Epoch 75/100\n",
            "8220/8220 [==============================] - 0s 16us/step - loss: 1.1590 - acc: 0.6539 - val_loss: 1.2418 - val_acc: 0.6433\n",
            "Epoch 76/100\n",
            "8220/8220 [==============================] - 0s 16us/step - loss: 1.1416 - acc: 0.6580 - val_loss: 1.2392 - val_acc: 0.6448\n",
            "Epoch 77/100\n",
            "8220/8220 [==============================] - 0s 16us/step - loss: 1.1334 - acc: 0.6573 - val_loss: 1.2331 - val_acc: 0.6496\n",
            "Epoch 78/100\n",
            "8220/8220 [==============================] - 0s 15us/step - loss: 1.1255 - acc: 0.6686 - val_loss: 1.2308 - val_acc: 0.6487\n",
            "Epoch 79/100\n",
            "8220/8220 [==============================] - 0s 16us/step - loss: 1.1287 - acc: 0.6601 - val_loss: 1.2311 - val_acc: 0.6526\n",
            "Epoch 80/100\n",
            "8220/8220 [==============================] - 0s 16us/step - loss: 1.1254 - acc: 0.6596 - val_loss: 1.2311 - val_acc: 0.6564\n",
            "Epoch 81/100\n",
            "8220/8220 [==============================] - 0s 16us/step - loss: 1.1050 - acc: 0.6651 - val_loss: 1.2283 - val_acc: 0.6535\n",
            "Epoch 82/100\n",
            "8220/8220 [==============================] - 0s 17us/step - loss: 1.1117 - acc: 0.6723 - val_loss: 1.2266 - val_acc: 0.6540\n",
            "Epoch 83/100\n",
            "8220/8220 [==============================] - 0s 16us/step - loss: 1.1047 - acc: 0.6648 - val_loss: 1.2290 - val_acc: 0.6491\n",
            "Epoch 84/100\n",
            "8220/8220 [==============================] - 0s 17us/step - loss: 1.0938 - acc: 0.6747 - val_loss: 1.2254 - val_acc: 0.6501\n",
            "Epoch 85/100\n",
            "8220/8220 [==============================] - 0s 16us/step - loss: 1.0967 - acc: 0.6697 - val_loss: 1.2204 - val_acc: 0.6550\n",
            "Epoch 86/100\n",
            "8220/8220 [==============================] - 0s 15us/step - loss: 1.1087 - acc: 0.6692 - val_loss: 1.2269 - val_acc: 0.6496\n",
            "Epoch 87/100\n",
            "8220/8220 [==============================] - 0s 16us/step - loss: 1.0916 - acc: 0.6730 - val_loss: 1.2313 - val_acc: 0.6530\n",
            "Epoch 88/100\n",
            "8220/8220 [==============================] - 0s 16us/step - loss: 1.0989 - acc: 0.6682 - val_loss: 1.2322 - val_acc: 0.6491\n",
            "Epoch 89/100\n",
            "8220/8220 [==============================] - 0s 15us/step - loss: 1.0866 - acc: 0.6731 - val_loss: 1.2346 - val_acc: 0.6501\n",
            "Epoch 90/100\n",
            "8220/8220 [==============================] - 0s 17us/step - loss: 1.0840 - acc: 0.6738 - val_loss: 1.2328 - val_acc: 0.6526\n",
            "Epoch 91/100\n",
            "8220/8220 [==============================] - 0s 17us/step - loss: 1.0801 - acc: 0.6709 - val_loss: 1.2246 - val_acc: 0.6564\n",
            "Epoch 92/100\n",
            "8220/8220 [==============================] - 0s 16us/step - loss: 1.0808 - acc: 0.6766 - val_loss: 1.2209 - val_acc: 0.6550\n",
            "Epoch 93/100\n",
            "8220/8220 [==============================] - 0s 16us/step - loss: 1.0859 - acc: 0.6741 - val_loss: 1.2263 - val_acc: 0.6526\n",
            "Epoch 94/100\n",
            "8220/8220 [==============================] - 0s 16us/step - loss: 1.0892 - acc: 0.6687 - val_loss: 1.2273 - val_acc: 0.6550\n",
            "Epoch 95/100\n",
            "8220/8220 [==============================] - 0s 16us/step - loss: 1.0741 - acc: 0.6752 - val_loss: 1.2273 - val_acc: 0.6540\n",
            "Epoch 96/100\n",
            "8220/8220 [==============================] - 0s 16us/step - loss: 1.0641 - acc: 0.6776 - val_loss: 1.2247 - val_acc: 0.6545\n",
            "Epoch 97/100\n",
            "8220/8220 [==============================] - 0s 17us/step - loss: 1.0549 - acc: 0.6785 - val_loss: 1.2180 - val_acc: 0.6589\n",
            "Epoch 98/100\n",
            "8220/8220 [==============================] - 0s 17us/step - loss: 1.0480 - acc: 0.6850 - val_loss: 1.2100 - val_acc: 0.6594\n",
            "Epoch 99/100\n",
            "8220/8220 [==============================] - 0s 15us/step - loss: 1.0475 - acc: 0.6814 - val_loss: 1.2081 - val_acc: 0.6594\n",
            "Epoch 100/100\n",
            "8220/8220 [==============================] - 0s 16us/step - loss: 1.0445 - acc: 0.6848 - val_loss: 1.2080 - val_acc: 0.6589\n",
            "Total training time 16.159613609313965 seconds\n"
          ],
          "name": "stdout"
        }
      ]
    },
    {
      "cell_type": "code",
      "metadata": {
        "id": "E5xqjKwCu08G",
        "colab_type": "code",
        "colab": {}
      },
      "source": [
        "def plot_history(history):\n",
        "  # list all data in history\n",
        "  print(history.history.keys())\n",
        "  # summarize history for accuracy\n",
        "  plt.plot(history.history['acc'])\n",
        "  plt.plot(history.history['val_acc'])\n",
        "  plt.ylim(ymin=0)\n",
        "  plt.title('model accuracy')\n",
        "  plt.ylabel('accuracy')\n",
        "  plt.xlabel('epoch')\n",
        "  plt.legend(['train', 'test'], loc='upper left')\n",
        "  plt.show()\n",
        "  # summarize history for loss\n",
        "  plt.plot(history.history['loss'])\n",
        "  plt.plot(history.history['val_loss'])\n",
        "  plt.ylim(ymin=0)\n",
        "  plt.title('model loss')\n",
        "  plt.ylabel('loss')\n",
        "  plt.xlabel('epoch')\n",
        "  plt.legend(['train', 'test'], loc='upper left')\n",
        "  plt.show()"
      ],
      "execution_count": 0,
      "outputs": []
    },
    {
      "cell_type": "code",
      "metadata": {
        "id": "IjOurLsR2E3t",
        "colab_type": "code",
        "outputId": "027aa780-b6a4-4cb8-9a01-7af218ca4d3f",
        "colab": {
          "base_uri": "https://localhost:8080/",
          "height": 641
        }
      },
      "source": [
        "plot_history(history)"
      ],
      "execution_count": 35,
      "outputs": [
        {
          "output_type": "stream",
          "text": [
            "dict_keys(['val_loss', 'val_acc', 'loss', 'acc'])\n"
          ],
          "name": "stdout"
        },
        {
          "output_type": "stream",
          "text": [
            "/usr/local/lib/python3.6/dist-packages/matplotlib/axes/_base.py:3604: MatplotlibDeprecationWarning: \n",
            "The `ymin` argument was deprecated in Matplotlib 3.0 and will be removed in 3.2. Use `bottom` instead.\n",
            "  alternative='`bottom`', obj_type='argument')\n"
          ],
          "name": "stderr"
        },
        {
          "output_type": "display_data",
          "data": {
            "image/png": "[encoded data removed]",
            "text/plain": [
              "<Figure size 432x288 with 1 Axes>"
            ]
          },
          "metadata": {
            "tags": []
          }
        },
        {
          "output_type": "display_data",
          "data": {
            "image/png": "[encoded data removed]",
            "text/plain": [
              "<Figure size 432x288 with 1 Axes>"
            ]
          },
          "metadata": {
            "tags": []
          }
        }
      ]
    },
    {
      "cell_type": "markdown",
      "metadata": {
        "id": "1aX078MDKqPx",
        "colab_type": "text"
      },
      "source": [
        "#### Much higher validation accuracy than what we've seen with other algorithms with a very simple network and no hyper-param tuning"
      ]
    },
    {
      "cell_type": "code",
      "metadata": {
        "id": "HLc1vpU0KqPy",
        "colab_type": "code",
        "colab": {
          "base_uri": "https://localhost:8080/",
          "height": 34
        },
        "outputId": "924174a8-8c9c-4b9a-fa2b-e83aa9211827"
      },
      "source": [
        "# using keras tokenizer here\n",
        "token = text.Tokenizer(num_words=None)\n",
        "max_len = 70\n",
        "\n",
        "token.fit_on_texts(list(train_x) + list(valid_x))\n",
        "xtrain_seq = token.texts_to_sequences(train_x)\n",
        "xvalid_seq = token.texts_to_sequences(valid_x)\n",
        "\n",
        "# zero pad the sequences\n",
        "xtrain_pad = sequence.pad_sequences(xtrain_seq, maxlen=max_len)\n",
        "xvalid_pad = sequence.pad_sequences(xvalid_seq, maxlen=max_len)\n",
        "\n",
        "word_index = token.word_index\n",
        "\n",
        "# create an embedding matrix for the words we have in the dataset\n",
        "embedding_matrix = np.zeros((len(word_index) + 1, 300))\n",
        "for word, i in tqdm(word_index.items()):\n",
        "    embedding_vector = embeddings_index.get(word)\n",
        "    if embedding_vector is not None:\n",
        "        embedding_matrix[i] = embedding_vector"
      ],
      "execution_count": 23,
      "outputs": [
        {
          "output_type": "stream",
          "text": [
            "100%|██████████| 7454/7454 [00:00<00:00, 362166.00it/s]\n"
          ],
          "name": "stderr"
        }
      ]
    },
    {
      "cell_type": "code",
      "metadata": {
        "id": "FrixrtLBKqP2",
        "colab_type": "code",
        "outputId": "fb327ac9-b575-4687-a4d5-9c6f15849c6b",
        "colab": {
          "base_uri": "https://localhost:8080/",
          "height": 1000
        }
      },
      "source": [
        "# A simple LSTM with glove embeddings and two dense layers\n",
        "model = Sequential()\n",
        "model.add(Embedding(len(word_index) + 1,\n",
        "                     300,\n",
        "                     weights=[embedding_matrix],\n",
        "                     input_length=max_len,\n",
        "                     trainable=False))\n",
        "model.add(SpatialDropout1D(0.5))\n",
        "model.add(LSTM(100, dropout=0.5, recurrent_dropout=0.5))\n",
        "\n",
        "model.add(Dense(1024, activation='relu'))\n",
        "model.add(Dropout(0.5))\n",
        "\n",
        "model.add(Dense(1024, activation='relu'))\n",
        "model.add(Dropout(0.5))\n",
        "\n",
        "model.add(Dense(last_layer))                            ## Num of classes to predict\n",
        "model.add(Activation('softmax'))\n",
        "model.compile(loss='categorical_crossentropy', optimizer='adam', metrics=['acc'])\n",
        "model.summary()\n",
        "\n",
        "start = time()\n",
        "history = model.fit(xtrain_pad, y=ytrain_enc, batch_size=1024, \n",
        "                    epochs=100, verbose=1, validation_data=(xvalid_pad, yvalid_enc))\n",
        "end = time()\n",
        "print('Total training time {} seconds'.format(end - start))"
      ],
      "execution_count": 37,
      "outputs": [
        {
          "output_type": "stream",
          "text": [
            "Model: \"sequential_9\"\n",
            "_________________________________________________________________\n",
            "Layer (type)                 Output Shape              Param #   \n",
            "=================================================================\n",
            "embedding_3 (Embedding)      (None, 70, 300)           2236500   \n",
            "_________________________________________________________________\n",
            "spatial_dropout1d_3 (Spatial (None, 70, 300)           0         \n",
            "_________________________________________________________________\n",
            "lstm_3 (LSTM)                (None, 100)               160400    \n",
            "_________________________________________________________________\n",
            "dense_25 (Dense)             (None, 1024)              103424    \n",
            "_________________________________________________________________\n",
            "dropout_17 (Dropout)         (None, 1024)              0         \n",
            "_________________________________________________________________\n",
            "dense_26 (Dense)             (None, 1024)              1049600   \n",
            "_________________________________________________________________\n",
            "dropout_18 (Dropout)         (None, 1024)              0         \n",
            "_________________________________________________________________\n",
            "dense_27 (Dense)             (None, 29)                29725     \n",
            "_________________________________________________________________\n",
            "activation_9 (Activation)    (None, 29)                0         \n",
            "=================================================================\n",
            "Total params: 3,579,649\n",
            "Trainable params: 1,343,149\n",
            "Non-trainable params: 2,236,500\n",
            "_________________________________________________________________\n",
            "Train on 8220 samples, validate on 2055 samples\n",
            "Epoch 1/100\n",
            "8220/8220 [==============================] - 5s 603us/step - loss: 3.3149 - acc: 0.0634 - val_loss: 3.2514 - val_acc: 0.1387\n",
            "Epoch 2/100\n",
            "8220/8220 [==============================] - 2s 252us/step - loss: 3.2733 - acc: 0.0751 - val_loss: 3.2512 - val_acc: 0.1513\n",
            "Epoch 3/100\n",
            "8220/8220 [==============================] - 2s 252us/step - loss: 3.2508 - acc: 0.0929 - val_loss: 3.2097 - val_acc: 0.1523\n",
            "Epoch 4/100\n",
            "8220/8220 [==============================] - 2s 253us/step - loss: 3.2115 - acc: 0.1029 - val_loss: 3.0835 - val_acc: 0.1528\n",
            "Epoch 5/100\n",
            "8220/8220 [==============================] - 2s 251us/step - loss: 3.1343 - acc: 0.1258 - val_loss: 2.9005 - val_acc: 0.1864\n",
            "Epoch 6/100\n",
            "8220/8220 [==============================] - 2s 251us/step - loss: 3.0241 - acc: 0.1524 - val_loss: 2.7409 - val_acc: 0.2122\n",
            "Epoch 7/100\n",
            "8220/8220 [==============================] - 2s 254us/step - loss: 2.9344 - acc: 0.1647 - val_loss: 2.6198 - val_acc: 0.2326\n",
            "Epoch 8/100\n",
            "8220/8220 [==============================] - 2s 251us/step - loss: 2.8776 - acc: 0.1720 - val_loss: 2.5723 - val_acc: 0.2487\n",
            "Epoch 9/100\n",
            "8220/8220 [==============================] - 2s 251us/step - loss: 2.8312 - acc: 0.1880 - val_loss: 2.5384 - val_acc: 0.2467\n",
            "Epoch 10/100\n",
            "8220/8220 [==============================] - 2s 248us/step - loss: 2.7899 - acc: 0.1961 - val_loss: 2.4830 - val_acc: 0.2681\n",
            "Epoch 11/100\n",
            "8220/8220 [==============================] - 2s 248us/step - loss: 2.7659 - acc: 0.1940 - val_loss: 2.4292 - val_acc: 0.2779\n",
            "Epoch 12/100\n",
            "8220/8220 [==============================] - 2s 249us/step - loss: 2.7094 - acc: 0.2169 - val_loss: 2.3825 - val_acc: 0.2827\n",
            "Epoch 13/100\n",
            "8220/8220 [==============================] - 2s 252us/step - loss: 2.6822 - acc: 0.2179 - val_loss: 2.3148 - val_acc: 0.3046\n",
            "Epoch 14/100\n",
            "8220/8220 [==============================] - 2s 252us/step - loss: 2.6540 - acc: 0.2238 - val_loss: 2.2900 - val_acc: 0.3124\n",
            "Epoch 15/100\n",
            "8220/8220 [==============================] - 2s 251us/step - loss: 2.6200 - acc: 0.2347 - val_loss: 2.2544 - val_acc: 0.3221\n",
            "Epoch 16/100\n",
            "8220/8220 [==============================] - 2s 247us/step - loss: 2.6006 - acc: 0.2395 - val_loss: 2.2508 - val_acc: 0.3153\n",
            "Epoch 17/100\n",
            "8220/8220 [==============================] - 2s 248us/step - loss: 2.5688 - acc: 0.2474 - val_loss: 2.1853 - val_acc: 0.3348\n",
            "Epoch 18/100\n",
            "8220/8220 [==============================] - 2s 247us/step - loss: 2.5401 - acc: 0.2580 - val_loss: 2.1812 - val_acc: 0.3489\n",
            "Epoch 19/100\n",
            "8220/8220 [==============================] - 2s 247us/step - loss: 2.5094 - acc: 0.2662 - val_loss: 2.1878 - val_acc: 0.3387\n",
            "Epoch 20/100\n",
            "8220/8220 [==============================] - 2s 249us/step - loss: 2.4952 - acc: 0.2752 - val_loss: 2.1066 - val_acc: 0.3620\n",
            "Epoch 21/100\n",
            "8220/8220 [==============================] - 2s 249us/step - loss: 2.4930 - acc: 0.2764 - val_loss: 2.1051 - val_acc: 0.3752\n",
            "Epoch 22/100\n",
            "8220/8220 [==============================] - 2s 248us/step - loss: 2.4574 - acc: 0.2831 - val_loss: 2.0354 - val_acc: 0.3830\n",
            "Epoch 23/100\n",
            "8220/8220 [==============================] - 2s 249us/step - loss: 2.4202 - acc: 0.2926 - val_loss: 2.0418 - val_acc: 0.3898\n",
            "Epoch 24/100\n",
            "8220/8220 [==============================] - 2s 250us/step - loss: 2.3967 - acc: 0.3016 - val_loss: 1.9960 - val_acc: 0.3951\n",
            "Epoch 25/100\n",
            "8220/8220 [==============================] - 2s 250us/step - loss: 2.3935 - acc: 0.2981 - val_loss: 2.0023 - val_acc: 0.4088\n",
            "Epoch 26/100\n",
            "8220/8220 [==============================] - 2s 249us/step - loss: 2.3604 - acc: 0.3088 - val_loss: 1.9525 - val_acc: 0.4165\n",
            "Epoch 27/100\n",
            "8220/8220 [==============================] - 2s 254us/step - loss: 2.3283 - acc: 0.3196 - val_loss: 1.9282 - val_acc: 0.4204\n",
            "Epoch 28/100\n",
            "8220/8220 [==============================] - 2s 253us/step - loss: 2.3062 - acc: 0.3258 - val_loss: 1.9216 - val_acc: 0.4282\n",
            "Epoch 29/100\n",
            "8220/8220 [==============================] - 2s 254us/step - loss: 2.3149 - acc: 0.3224 - val_loss: 1.9129 - val_acc: 0.4316\n",
            "Epoch 30/100\n",
            "8220/8220 [==============================] - 2s 254us/step - loss: 2.2955 - acc: 0.3287 - val_loss: 1.8728 - val_acc: 0.4409\n",
            "Epoch 31/100\n",
            "8220/8220 [==============================] - 2s 253us/step - loss: 2.2732 - acc: 0.3344 - val_loss: 1.8523 - val_acc: 0.4496\n",
            "Epoch 32/100\n",
            "8220/8220 [==============================] - 2s 251us/step - loss: 2.2360 - acc: 0.3437 - val_loss: 1.8350 - val_acc: 0.4545\n",
            "Epoch 33/100\n",
            "8220/8220 [==============================] - 2s 250us/step - loss: 2.2196 - acc: 0.3505 - val_loss: 1.7939 - val_acc: 0.4618\n",
            "Epoch 34/100\n",
            "8220/8220 [==============================] - 2s 252us/step - loss: 2.1899 - acc: 0.3582 - val_loss: 1.7615 - val_acc: 0.4749\n",
            "Epoch 35/100\n",
            "8220/8220 [==============================] - 2s 252us/step - loss: 2.2047 - acc: 0.3515 - val_loss: 1.7754 - val_acc: 0.4647\n",
            "Epoch 36/100\n",
            "8220/8220 [==============================] - 2s 254us/step - loss: 2.2052 - acc: 0.3579 - val_loss: 1.7652 - val_acc: 0.4818\n",
            "Epoch 37/100\n",
            "8220/8220 [==============================] - 2s 253us/step - loss: 2.1793 - acc: 0.3574 - val_loss: 1.7503 - val_acc: 0.4759\n",
            "Epoch 38/100\n",
            "8220/8220 [==============================] - 2s 254us/step - loss: 2.1341 - acc: 0.3712 - val_loss: 1.7337 - val_acc: 0.4837\n",
            "Epoch 39/100\n",
            "8220/8220 [==============================] - 2s 253us/step - loss: 2.1236 - acc: 0.3821 - val_loss: 1.7031 - val_acc: 0.4939\n",
            "Epoch 40/100\n",
            "8220/8220 [==============================] - 2s 253us/step - loss: 2.1190 - acc: 0.3799 - val_loss: 1.6878 - val_acc: 0.4993\n",
            "Epoch 41/100\n",
            "8220/8220 [==============================] - 2s 252us/step - loss: 2.0910 - acc: 0.3794 - val_loss: 1.6818 - val_acc: 0.5066\n",
            "Epoch 42/100\n",
            "8220/8220 [==============================] - 2s 252us/step - loss: 2.0742 - acc: 0.3889 - val_loss: 1.6769 - val_acc: 0.5046\n",
            "Epoch 43/100\n",
            "8220/8220 [==============================] - 2s 254us/step - loss: 2.0817 - acc: 0.3972 - val_loss: 1.6780 - val_acc: 0.5012\n",
            "Epoch 44/100\n",
            "8220/8220 [==============================] - 2s 249us/step - loss: 2.0502 - acc: 0.4028 - val_loss: 1.6452 - val_acc: 0.5056\n",
            "Epoch 45/100\n",
            "8220/8220 [==============================] - 2s 252us/step - loss: 2.0613 - acc: 0.3939 - val_loss: 1.6371 - val_acc: 0.5109\n",
            "Epoch 46/100\n",
            "8220/8220 [==============================] - 2s 250us/step - loss: 2.0313 - acc: 0.4077 - val_loss: 1.6236 - val_acc: 0.5080\n",
            "Epoch 47/100\n",
            "8220/8220 [==============================] - 2s 252us/step - loss: 2.0243 - acc: 0.4075 - val_loss: 1.6057 - val_acc: 0.5212\n",
            "Epoch 48/100\n",
            "8220/8220 [==============================] - 2s 256us/step - loss: 2.0214 - acc: 0.4073 - val_loss: 1.5904 - val_acc: 0.5299\n",
            "Epoch 49/100\n",
            "8220/8220 [==============================] - 2s 253us/step - loss: 1.9963 - acc: 0.4118 - val_loss: 1.6027 - val_acc: 0.5178\n",
            "Epoch 50/100\n",
            "8220/8220 [==============================] - 2s 254us/step - loss: 1.9794 - acc: 0.4242 - val_loss: 1.5742 - val_acc: 0.5314\n",
            "Epoch 51/100\n",
            "8220/8220 [==============================] - 2s 253us/step - loss: 2.0007 - acc: 0.4158 - val_loss: 1.5811 - val_acc: 0.5275\n",
            "Epoch 52/100\n",
            "8220/8220 [==============================] - 2s 252us/step - loss: 1.9729 - acc: 0.4163 - val_loss: 1.5594 - val_acc: 0.5338\n",
            "Epoch 53/100\n",
            "8220/8220 [==============================] - 2s 257us/step - loss: 1.9684 - acc: 0.4254 - val_loss: 1.5737 - val_acc: 0.5363\n",
            "Epoch 54/100\n",
            "8220/8220 [==============================] - 2s 255us/step - loss: 1.9472 - acc: 0.4254 - val_loss: 1.5600 - val_acc: 0.5328\n",
            "Epoch 55/100\n",
            "8220/8220 [==============================] - 2s 252us/step - loss: 1.9642 - acc: 0.4204 - val_loss: 1.5507 - val_acc: 0.5416\n",
            "Epoch 56/100\n",
            "8220/8220 [==============================] - 2s 253us/step - loss: 1.9391 - acc: 0.4286 - val_loss: 1.5473 - val_acc: 0.5426\n",
            "Epoch 57/100\n",
            "8220/8220 [==============================] - 2s 253us/step - loss: 1.9026 - acc: 0.4376 - val_loss: 1.5438 - val_acc: 0.5440\n",
            "Epoch 58/100\n",
            "8220/8220 [==============================] - 2s 254us/step - loss: 1.8991 - acc: 0.4339 - val_loss: 1.5132 - val_acc: 0.5523\n",
            "Epoch 59/100\n",
            "8220/8220 [==============================] - 2s 249us/step - loss: 1.8925 - acc: 0.4438 - val_loss: 1.5011 - val_acc: 0.5523\n",
            "Epoch 60/100\n",
            "8220/8220 [==============================] - 2s 255us/step - loss: 1.8794 - acc: 0.4488 - val_loss: 1.4985 - val_acc: 0.5489\n",
            "Epoch 61/100\n",
            "8220/8220 [==============================] - 2s 254us/step - loss: 1.8768 - acc: 0.4457 - val_loss: 1.4901 - val_acc: 0.5499\n",
            "Epoch 62/100\n",
            "8220/8220 [==============================] - 2s 251us/step - loss: 1.8582 - acc: 0.4499 - val_loss: 1.4801 - val_acc: 0.5577\n",
            "Epoch 63/100\n",
            "8220/8220 [==============================] - 2s 254us/step - loss: 1.8426 - acc: 0.4636 - val_loss: 1.4823 - val_acc: 0.5645\n",
            "Epoch 64/100\n",
            "8220/8220 [==============================] - 2s 251us/step - loss: 1.8528 - acc: 0.4538 - val_loss: 1.4757 - val_acc: 0.5586\n",
            "Epoch 65/100\n",
            "8220/8220 [==============================] - 2s 252us/step - loss: 1.8473 - acc: 0.4545 - val_loss: 1.4791 - val_acc: 0.5586\n",
            "Epoch 66/100\n",
            "8220/8220 [==============================] - 2s 253us/step - loss: 1.8282 - acc: 0.4612 - val_loss: 1.4687 - val_acc: 0.5630\n",
            "Epoch 67/100\n",
            "8220/8220 [==============================] - 2s 253us/step - loss: 1.8458 - acc: 0.4584 - val_loss: 1.4609 - val_acc: 0.5591\n",
            "Epoch 68/100\n",
            "8220/8220 [==============================] - 2s 253us/step - loss: 1.8094 - acc: 0.4686 - val_loss: 1.4577 - val_acc: 0.5611\n",
            "Epoch 69/100\n",
            "8220/8220 [==============================] - 2s 253us/step - loss: 1.8146 - acc: 0.4620 - val_loss: 1.4515 - val_acc: 0.5674\n",
            "Epoch 70/100\n",
            "8220/8220 [==============================] - 2s 250us/step - loss: 1.8068 - acc: 0.4748 - val_loss: 1.4484 - val_acc: 0.5713\n",
            "Epoch 71/100\n",
            "8220/8220 [==============================] - 2s 253us/step - loss: 1.7956 - acc: 0.4768 - val_loss: 1.4447 - val_acc: 0.5650\n",
            "Epoch 72/100\n",
            "8220/8220 [==============================] - 2s 253us/step - loss: 1.8009 - acc: 0.4714 - val_loss: 1.4532 - val_acc: 0.5684\n",
            "Epoch 73/100\n",
            "8220/8220 [==============================] - 2s 256us/step - loss: 1.7713 - acc: 0.4763 - val_loss: 1.4484 - val_acc: 0.5752\n",
            "Epoch 74/100\n",
            "8220/8220 [==============================] - 2s 257us/step - loss: 1.7807 - acc: 0.4680 - val_loss: 1.4312 - val_acc: 0.5766\n",
            "Epoch 75/100\n",
            "8220/8220 [==============================] - 2s 250us/step - loss: 1.7768 - acc: 0.4766 - val_loss: 1.4410 - val_acc: 0.5791\n",
            "Epoch 76/100\n",
            "8220/8220 [==============================] - 2s 253us/step - loss: 1.7686 - acc: 0.4820 - val_loss: 1.4325 - val_acc: 0.5708\n",
            "Epoch 77/100\n",
            "8220/8220 [==============================] - 2s 251us/step - loss: 1.7667 - acc: 0.4763 - val_loss: 1.4328 - val_acc: 0.5698\n",
            "Epoch 78/100\n",
            "8220/8220 [==============================] - 2s 252us/step - loss: 1.7392 - acc: 0.4864 - val_loss: 1.4236 - val_acc: 0.5864\n",
            "Epoch 79/100\n",
            "8220/8220 [==============================] - 2s 249us/step - loss: 1.7594 - acc: 0.4845 - val_loss: 1.4106 - val_acc: 0.5791\n",
            "Epoch 80/100\n",
            "8220/8220 [==============================] - 2s 250us/step - loss: 1.7375 - acc: 0.4833 - val_loss: 1.4171 - val_acc: 0.5854\n",
            "Epoch 81/100\n",
            "8220/8220 [==============================] - 2s 252us/step - loss: 1.7292 - acc: 0.4911 - val_loss: 1.4099 - val_acc: 0.5805\n",
            "Epoch 82/100\n",
            "8220/8220 [==============================] - 2s 252us/step - loss: 1.7219 - acc: 0.4891 - val_loss: 1.4018 - val_acc: 0.5830\n",
            "Epoch 83/100\n",
            "8220/8220 [==============================] - 2s 258us/step - loss: 1.7164 - acc: 0.4880 - val_loss: 1.4051 - val_acc: 0.5903\n",
            "Epoch 84/100\n",
            "8220/8220 [==============================] - 2s 252us/step - loss: 1.7137 - acc: 0.4956 - val_loss: 1.3864 - val_acc: 0.5864\n",
            "Epoch 85/100\n",
            "8220/8220 [==============================] - 2s 254us/step - loss: 1.7031 - acc: 0.4925 - val_loss: 1.4075 - val_acc: 0.5830\n",
            "Epoch 86/100\n",
            "8220/8220 [==============================] - 2s 252us/step - loss: 1.6911 - acc: 0.5005 - val_loss: 1.4008 - val_acc: 0.5878\n",
            "Epoch 87/100\n",
            "8220/8220 [==============================] - 2s 253us/step - loss: 1.6799 - acc: 0.5004 - val_loss: 1.3816 - val_acc: 0.5942\n",
            "Epoch 88/100\n",
            "8220/8220 [==============================] - 2s 256us/step - loss: 1.6763 - acc: 0.5030 - val_loss: 1.3894 - val_acc: 0.5878\n",
            "Epoch 89/100\n",
            "8220/8220 [==============================] - 2s 256us/step - loss: 1.6934 - acc: 0.4996 - val_loss: 1.3805 - val_acc: 0.5878\n",
            "Epoch 90/100\n",
            "8220/8220 [==============================] - 2s 253us/step - loss: 1.6706 - acc: 0.5073 - val_loss: 1.3854 - val_acc: 0.5844\n",
            "Epoch 91/100\n",
            "8220/8220 [==============================] - 2s 254us/step - loss: 1.6812 - acc: 0.5033 - val_loss: 1.3925 - val_acc: 0.5912\n",
            "Epoch 92/100\n",
            "8220/8220 [==============================] - 2s 253us/step - loss: 1.6755 - acc: 0.5032 - val_loss: 1.3815 - val_acc: 0.5883\n",
            "Epoch 93/100\n",
            "8220/8220 [==============================] - 2s 253us/step - loss: 1.6619 - acc: 0.5074 - val_loss: 1.3725 - val_acc: 0.5859\n",
            "Epoch 94/100\n",
            "8220/8220 [==============================] - 2s 254us/step - loss: 1.6557 - acc: 0.5114 - val_loss: 1.3711 - val_acc: 0.5966\n",
            "Epoch 95/100\n",
            "8220/8220 [==============================] - 2s 250us/step - loss: 1.6559 - acc: 0.5066 - val_loss: 1.3851 - val_acc: 0.5878\n",
            "Epoch 96/100\n",
            "8220/8220 [==============================] - 2s 252us/step - loss: 1.6539 - acc: 0.5057 - val_loss: 1.3629 - val_acc: 0.5922\n",
            "Epoch 97/100\n",
            "8220/8220 [==============================] - 2s 253us/step - loss: 1.6339 - acc: 0.5158 - val_loss: 1.3649 - val_acc: 0.5981\n",
            "Epoch 98/100\n",
            "8220/8220 [==============================] - 2s 251us/step - loss: 1.6379 - acc: 0.5169 - val_loss: 1.3674 - val_acc: 0.5908\n",
            "Epoch 99/100\n",
            "8220/8220 [==============================] - 2s 251us/step - loss: 1.6532 - acc: 0.5144 - val_loss: 1.3531 - val_acc: 0.5981\n",
            "Epoch 100/100\n",
            "8220/8220 [==============================] - 2s 251us/step - loss: 1.6361 - acc: 0.5204 - val_loss: 1.3588 - val_acc: 0.5946\n",
            "Total training time 211.72325730323792 seconds\n"
          ],
          "name": "stdout"
        }
      ]
    },
    {
      "cell_type": "code",
      "metadata": {
        "id": "ykunt_ZLwPPh",
        "colab_type": "code",
        "outputId": "036dab82-2152-4b6e-dba4-2d3daf2ff525",
        "colab": {
          "base_uri": "https://localhost:8080/",
          "height": 641
        }
      },
      "source": [
        "plot_history(history)"
      ],
      "execution_count": 38,
      "outputs": [
        {
          "output_type": "stream",
          "text": [
            "dict_keys(['val_loss', 'val_acc', 'loss', 'acc'])\n"
          ],
          "name": "stdout"
        },
        {
          "output_type": "stream",
          "text": [
            "/usr/local/lib/python3.6/dist-packages/matplotlib/axes/_base.py:3604: MatplotlibDeprecationWarning: \n",
            "The `ymin` argument was deprecated in Matplotlib 3.0 and will be removed in 3.2. Use `bottom` instead.\n",
            "  alternative='`bottom`', obj_type='argument')\n"
          ],
          "name": "stderr"
        },
        {
          "output_type": "display_data",
          "data": {
            "image/png": "[encoded data removed]",
            "text/plain": [
              "<Figure size 432x288 with 1 Axes>"
            ]
          },
          "metadata": {
            "tags": []
          }
        },
        {
          "output_type": "display_data",
          "data": {
            "image/png": "[encoded data removed]",
            "text/plain": [
              "<Figure size 432x288 with 1 Axes>"
            ]
          },
          "metadata": {
            "tags": []
          }
        }
      ]
    },
    {
      "cell_type": "markdown",
      "metadata": {
        "id": "ADcHth30V9H1",
        "colab_type": "text"
      },
      "source": [
        "#### Higher batch size can cause faster training but under-fitting"
      ]
    },
    {
      "cell_type": "code",
      "metadata": {
        "id": "NBEuLP5aKqP7",
        "colab_type": "code",
        "outputId": "4fcbca43-3963-4be6-deb5-ff1975e53425",
        "colab": {
          "base_uri": "https://localhost:8080/",
          "height": 1000
        }
      },
      "source": [
        "## Adding early stopping\n",
        "# A simple LSTM with glove embeddings and two dense layers\n",
        "model = Sequential()\n",
        "model.add(Embedding(len(word_index) + 1,\n",
        "                     300,\n",
        "                     weights=[embedding_matrix],\n",
        "                     input_length=max_len,\n",
        "                     trainable=False))\n",
        "model.add(SpatialDropout1D(0.5))\n",
        "model.add(LSTM(300, dropout=0.5, recurrent_dropout=0.5))\n",
        "\n",
        "model.add(Dense(1024, activation='relu'))\n",
        "model.add(Dropout(0.6))\n",
        "\n",
        "model.add(Dense(1024, activation='relu'))\n",
        "model.add(Dropout(0.6))\n",
        "\n",
        "model.add(Dense(last_layer))\n",
        "model.add(Activation('softmax'))\n",
        "model.summary()\n",
        "model.compile(loss='categorical_crossentropy', optimizer='adam', metrics=['acc'])\n",
        "\n",
        "# Fit the model with early stopping callback\n",
        "earlystop = EarlyStopping(monitor='val_loss', min_delta=0, patience=5, verbose=0, mode='auto')\n",
        "history = model.fit(xtrain_pad, y=ytrain_enc, batch_size=256, epochs=100, \n",
        "          #verbose=1, validation_data=(xvalid_pad, yvalid_enc), callbacks=[earlystop])   ## Lower val acc due to Early Stopping\n",
        "          verbose=1, validation_data=(xvalid_pad, yvalid_enc), callbacks=None)"
      ],
      "execution_count": 39,
      "outputs": [
        {
          "output_type": "stream",
          "text": [
            "WARNING:tensorflow:Large dropout rate: 0.6 (>0.5). In TensorFlow 2.x, dropout() uses dropout rate instead of keep_prob. Please ensure that this is intended.\n",
            "WARNING:tensorflow:Large dropout rate: 0.6 (>0.5). In TensorFlow 2.x, dropout() uses dropout rate instead of keep_prob. Please ensure that this is intended.\n",
            "Model: \"sequential_10\"\n",
            "_________________________________________________________________\n",
            "Layer (type)                 Output Shape              Param #   \n",
            "=================================================================\n",
            "embedding_4 (Embedding)      (None, 70, 300)           2236500   \n",
            "_________________________________________________________________\n",
            "spatial_dropout1d_4 (Spatial (None, 70, 300)           0         \n",
            "_________________________________________________________________\n",
            "lstm_4 (LSTM)                (None, 300)               721200    \n",
            "_________________________________________________________________\n",
            "dense_28 (Dense)             (None, 1024)              308224    \n",
            "_________________________________________________________________\n",
            "dropout_19 (Dropout)         (None, 1024)              0         \n",
            "_________________________________________________________________\n",
            "dense_29 (Dense)             (None, 1024)              1049600   \n",
            "_________________________________________________________________\n",
            "dropout_20 (Dropout)         (None, 1024)              0         \n",
            "_________________________________________________________________\n",
            "dense_30 (Dense)             (None, 29)                29725     \n",
            "_________________________________________________________________\n",
            "activation_10 (Activation)   (None, 29)                0         \n",
            "=================================================================\n",
            "Total params: 4,345,249\n",
            "Trainable params: 2,108,749\n",
            "Non-trainable params: 2,236,500\n",
            "_________________________________________________________________\n",
            "Train on 8220 samples, validate on 2055 samples\n",
            "Epoch 1/100\n",
            "8220/8220 [==============================] - 10s 1ms/step - loss: 3.2925 - acc: 0.0708 - val_loss: 3.2095 - val_acc: 0.1528\n",
            "Epoch 2/100\n",
            "8220/8220 [==============================] - 7s 808us/step - loss: 3.1155 - acc: 0.1248 - val_loss: 2.7486 - val_acc: 0.2229\n",
            "Epoch 3/100\n",
            "8220/8220 [==============================] - 7s 807us/step - loss: 2.8705 - acc: 0.1791 - val_loss: 2.5425 - val_acc: 0.2603\n",
            "Epoch 4/100\n",
            "8220/8220 [==============================] - 7s 803us/step - loss: 2.7566 - acc: 0.2039 - val_loss: 2.2948 - val_acc: 0.3187\n",
            "Epoch 5/100\n",
            "8220/8220 [==============================] - 7s 807us/step - loss: 2.6294 - acc: 0.2433 - val_loss: 2.1963 - val_acc: 0.3367\n",
            "Epoch 6/100\n",
            "8220/8220 [==============================] - 7s 811us/step - loss: 2.5400 - acc: 0.2584 - val_loss: 2.0605 - val_acc: 0.3815\n",
            "Epoch 7/100\n",
            "8220/8220 [==============================] - 7s 816us/step - loss: 2.4400 - acc: 0.2911 - val_loss: 2.0095 - val_acc: 0.4019\n",
            "Epoch 8/100\n",
            "8220/8220 [==============================] - 7s 804us/step - loss: 2.3552 - acc: 0.3148 - val_loss: 1.8980 - val_acc: 0.4234\n",
            "Epoch 9/100\n",
            "8220/8220 [==============================] - 7s 803us/step - loss: 2.2865 - acc: 0.3266 - val_loss: 1.8299 - val_acc: 0.4443\n",
            "Epoch 10/100\n",
            "8220/8220 [==============================] - 7s 801us/step - loss: 2.2048 - acc: 0.3546 - val_loss: 1.7643 - val_acc: 0.4818\n",
            "Epoch 11/100\n",
            "8220/8220 [==============================] - 7s 802us/step - loss: 2.1383 - acc: 0.3717 - val_loss: 1.7131 - val_acc: 0.4964\n",
            "Epoch 12/100\n",
            "8220/8220 [==============================] - 7s 808us/step - loss: 2.0828 - acc: 0.3912 - val_loss: 1.6562 - val_acc: 0.5119\n",
            "Epoch 13/100\n",
            "8220/8220 [==============================] - 7s 800us/step - loss: 2.0320 - acc: 0.4018 - val_loss: 1.6149 - val_acc: 0.5328\n",
            "Epoch 14/100\n",
            "8220/8220 [==============================] - 7s 804us/step - loss: 1.9820 - acc: 0.4217 - val_loss: 1.5710 - val_acc: 0.5299\n",
            "Epoch 15/100\n",
            "8220/8220 [==============================] - 7s 801us/step - loss: 1.9104 - acc: 0.4426 - val_loss: 1.5168 - val_acc: 0.5504\n",
            "Epoch 16/100\n",
            "8220/8220 [==============================] - 7s 802us/step - loss: 1.8793 - acc: 0.4504 - val_loss: 1.5227 - val_acc: 0.5455\n",
            "Epoch 17/100\n",
            "8220/8220 [==============================] - 7s 804us/step - loss: 1.8337 - acc: 0.4644 - val_loss: 1.4771 - val_acc: 0.5611\n",
            "Epoch 18/100\n",
            "8220/8220 [==============================] - 7s 800us/step - loss: 1.8010 - acc: 0.4661 - val_loss: 1.4447 - val_acc: 0.5723\n",
            "Epoch 19/100\n",
            "8220/8220 [==============================] - 7s 799us/step - loss: 1.7619 - acc: 0.4855 - val_loss: 1.4461 - val_acc: 0.5796\n",
            "Epoch 20/100\n",
            "8220/8220 [==============================] - 7s 797us/step - loss: 1.7385 - acc: 0.4933 - val_loss: 1.4073 - val_acc: 0.5912\n",
            "Epoch 21/100\n",
            "8220/8220 [==============================] - 7s 798us/step - loss: 1.7064 - acc: 0.4949 - val_loss: 1.3955 - val_acc: 0.5878\n",
            "Epoch 22/100\n",
            "8220/8220 [==============================] - 7s 798us/step - loss: 1.6886 - acc: 0.5073 - val_loss: 1.3812 - val_acc: 0.5961\n",
            "Epoch 23/100\n",
            "8220/8220 [==============================] - 7s 800us/step - loss: 1.6384 - acc: 0.5151 - val_loss: 1.3701 - val_acc: 0.6097\n",
            "Epoch 24/100\n",
            "8220/8220 [==============================] - 7s 793us/step - loss: 1.6162 - acc: 0.5196 - val_loss: 1.3658 - val_acc: 0.6083\n",
            "Epoch 25/100\n",
            "8220/8220 [==============================] - 7s 795us/step - loss: 1.6010 - acc: 0.5361 - val_loss: 1.3402 - val_acc: 0.6127\n",
            "Epoch 26/100\n",
            "8220/8220 [==============================] - 7s 793us/step - loss: 1.5784 - acc: 0.5324 - val_loss: 1.3455 - val_acc: 0.6117\n",
            "Epoch 27/100\n",
            "8220/8220 [==============================] - 7s 794us/step - loss: 1.5629 - acc: 0.5328 - val_loss: 1.3222 - val_acc: 0.6292\n",
            "Epoch 28/100\n",
            "8220/8220 [==============================] - 7s 798us/step - loss: 1.5306 - acc: 0.5450 - val_loss: 1.3113 - val_acc: 0.6253\n",
            "Epoch 29/100\n",
            "8220/8220 [==============================] - 7s 792us/step - loss: 1.5069 - acc: 0.5512 - val_loss: 1.3033 - val_acc: 0.6243\n",
            "Epoch 30/100\n",
            "8220/8220 [==============================] - 7s 792us/step - loss: 1.5002 - acc: 0.5538 - val_loss: 1.2937 - val_acc: 0.6282\n",
            "Epoch 31/100\n",
            "8220/8220 [==============================] - 7s 796us/step - loss: 1.4641 - acc: 0.5668 - val_loss: 1.2885 - val_acc: 0.6380\n",
            "Epoch 32/100\n",
            "8220/8220 [==============================] - 7s 798us/step - loss: 1.4541 - acc: 0.5682 - val_loss: 1.2901 - val_acc: 0.6331\n",
            "Epoch 33/100\n",
            "8220/8220 [==============================] - 7s 801us/step - loss: 1.4443 - acc: 0.5709 - val_loss: 1.2728 - val_acc: 0.6380\n",
            "Epoch 34/100\n",
            "8220/8220 [==============================] - 7s 796us/step - loss: 1.4085 - acc: 0.5783 - val_loss: 1.2651 - val_acc: 0.6326\n",
            "Epoch 35/100\n",
            "8220/8220 [==============================] - 7s 794us/step - loss: 1.4061 - acc: 0.5842 - val_loss: 1.2644 - val_acc: 0.6394\n",
            "Epoch 36/100\n",
            "8220/8220 [==============================] - 7s 803us/step - loss: 1.3892 - acc: 0.5837 - val_loss: 1.2664 - val_acc: 0.6414\n",
            "Epoch 37/100\n",
            "8220/8220 [==============================] - 7s 803us/step - loss: 1.3870 - acc: 0.5855 - val_loss: 1.2304 - val_acc: 0.6448\n",
            "Epoch 38/100\n",
            "8220/8220 [==============================] - 7s 798us/step - loss: 1.3521 - acc: 0.6023 - val_loss: 1.2571 - val_acc: 0.6365\n",
            "Epoch 39/100\n",
            "8220/8220 [==============================] - 7s 793us/step - loss: 1.3492 - acc: 0.5970 - val_loss: 1.2397 - val_acc: 0.6453\n",
            "Epoch 40/100\n",
            "8220/8220 [==============================] - 7s 800us/step - loss: 1.3412 - acc: 0.5987 - val_loss: 1.2397 - val_acc: 0.6496\n",
            "Epoch 41/100\n",
            "8220/8220 [==============================] - 7s 792us/step - loss: 1.3182 - acc: 0.5964 - val_loss: 1.2468 - val_acc: 0.6462\n",
            "Epoch 42/100\n",
            "8220/8220 [==============================] - 7s 793us/step - loss: 1.2911 - acc: 0.6084 - val_loss: 1.2422 - val_acc: 0.6521\n",
            "Epoch 43/100\n",
            "8220/8220 [==============================] - 7s 792us/step - loss: 1.2862 - acc: 0.6101 - val_loss: 1.2438 - val_acc: 0.6418\n",
            "Epoch 44/100\n",
            "8220/8220 [==============================] - 7s 809us/step - loss: 1.2579 - acc: 0.6173 - val_loss: 1.2365 - val_acc: 0.6603\n",
            "Epoch 45/100\n",
            "8220/8220 [==============================] - 6s 789us/step - loss: 1.2935 - acc: 0.6123 - val_loss: 1.2291 - val_acc: 0.6535\n",
            "Epoch 46/100\n",
            "8220/8220 [==============================] - 7s 793us/step - loss: 1.2741 - acc: 0.6159 - val_loss: 1.2321 - val_acc: 0.6555\n",
            "Epoch 47/100\n",
            "8220/8220 [==============================] - 6s 790us/step - loss: 1.2581 - acc: 0.6198 - val_loss: 1.2350 - val_acc: 0.6521\n",
            "Epoch 48/100\n",
            "8220/8220 [==============================] - 7s 791us/step - loss: 1.2659 - acc: 0.6217 - val_loss: 1.2124 - val_acc: 0.6589\n",
            "Epoch 49/100\n",
            "8220/8220 [==============================] - 7s 794us/step - loss: 1.2120 - acc: 0.6349 - val_loss: 1.2144 - val_acc: 0.6584\n",
            "Epoch 50/100\n",
            "8220/8220 [==============================] - 7s 791us/step - loss: 1.2326 - acc: 0.6274 - val_loss: 1.2089 - val_acc: 0.6633\n",
            "Epoch 51/100\n",
            "8220/8220 [==============================] - 7s 798us/step - loss: 1.1906 - acc: 0.6376 - val_loss: 1.2219 - val_acc: 0.6613\n",
            "Epoch 52/100\n",
            "8220/8220 [==============================] - 7s 794us/step - loss: 1.1883 - acc: 0.6361 - val_loss: 1.2311 - val_acc: 0.6603\n",
            "Epoch 53/100\n",
            "8220/8220 [==============================] - 7s 795us/step - loss: 1.1781 - acc: 0.6464 - val_loss: 1.2120 - val_acc: 0.6642\n",
            "Epoch 54/100\n",
            "8220/8220 [==============================] - 7s 808us/step - loss: 1.1881 - acc: 0.6406 - val_loss: 1.2135 - val_acc: 0.6555\n",
            "Epoch 55/100\n",
            "8220/8220 [==============================] - 7s 793us/step - loss: 1.1600 - acc: 0.6437 - val_loss: 1.2157 - val_acc: 0.6642\n",
            "Epoch 56/100\n",
            "8220/8220 [==============================] - 7s 801us/step - loss: 1.1525 - acc: 0.6455 - val_loss: 1.2070 - val_acc: 0.6628\n",
            "Epoch 57/100\n",
            "8220/8220 [==============================] - 7s 791us/step - loss: 1.1428 - acc: 0.6534 - val_loss: 1.2104 - val_acc: 0.6599\n",
            "Epoch 58/100\n",
            "8220/8220 [==============================] - 6s 788us/step - loss: 1.1397 - acc: 0.6481 - val_loss: 1.2035 - val_acc: 0.6613\n",
            "Epoch 59/100\n",
            "8220/8220 [==============================] - 7s 792us/step - loss: 1.1140 - acc: 0.6560 - val_loss: 1.2011 - val_acc: 0.6745\n",
            "Epoch 60/100\n",
            "8220/8220 [==============================] - 6s 790us/step - loss: 1.1169 - acc: 0.6572 - val_loss: 1.1999 - val_acc: 0.6735\n",
            "Epoch 61/100\n",
            "8220/8220 [==============================] - 6s 785us/step - loss: 1.1114 - acc: 0.6594 - val_loss: 1.1960 - val_acc: 0.6720\n",
            "Epoch 62/100\n",
            "8220/8220 [==============================] - 7s 796us/step - loss: 1.1081 - acc: 0.6618 - val_loss: 1.2009 - val_acc: 0.6696\n",
            "Epoch 63/100\n",
            "8220/8220 [==============================] - 6s 787us/step - loss: 1.0941 - acc: 0.6612 - val_loss: 1.2319 - val_acc: 0.6647\n",
            "Epoch 64/100\n",
            "8220/8220 [==============================] - 6s 781us/step - loss: 1.0739 - acc: 0.6700 - val_loss: 1.2255 - val_acc: 0.6725\n",
            "Epoch 65/100\n",
            "8220/8220 [==============================] - 7s 792us/step - loss: 1.0865 - acc: 0.6636 - val_loss: 1.1990 - val_acc: 0.6745\n",
            "Epoch 66/100\n",
            "8220/8220 [==============================] - 6s 789us/step - loss: 1.0539 - acc: 0.6788 - val_loss: 1.2024 - val_acc: 0.6735\n",
            "Epoch 67/100\n",
            "8220/8220 [==============================] - 6s 791us/step - loss: 1.0440 - acc: 0.6734 - val_loss: 1.2312 - val_acc: 0.6696\n",
            "Epoch 68/100\n",
            "8220/8220 [==============================] - 6s 789us/step - loss: 1.0599 - acc: 0.6752 - val_loss: 1.2196 - val_acc: 0.6715\n",
            "Epoch 69/100\n",
            "8220/8220 [==============================] - 6s 787us/step - loss: 1.0575 - acc: 0.6741 - val_loss: 1.2112 - val_acc: 0.6730\n",
            "Epoch 70/100\n",
            "8220/8220 [==============================] - 6s 789us/step - loss: 1.0327 - acc: 0.6785 - val_loss: 1.2032 - val_acc: 0.6774\n",
            "Epoch 71/100\n",
            "8220/8220 [==============================] - 6s 789us/step - loss: 1.0322 - acc: 0.6792 - val_loss: 1.2009 - val_acc: 0.6725\n",
            "Epoch 72/100\n",
            "8220/8220 [==============================] - 6s 784us/step - loss: 1.0151 - acc: 0.6871 - val_loss: 1.2167 - val_acc: 0.6788\n",
            "Epoch 73/100\n",
            "8220/8220 [==============================] - 7s 794us/step - loss: 1.0116 - acc: 0.6802 - val_loss: 1.2303 - val_acc: 0.6745\n",
            "Epoch 74/100\n",
            "8220/8220 [==============================] - 6s 787us/step - loss: 1.0328 - acc: 0.6777 - val_loss: 1.2032 - val_acc: 0.6754\n",
            "Epoch 75/100\n",
            "8220/8220 [==============================] - 7s 794us/step - loss: 1.0025 - acc: 0.6859 - val_loss: 1.2210 - val_acc: 0.6798\n",
            "Epoch 76/100\n",
            "8220/8220 [==============================] - 6s 787us/step - loss: 1.0145 - acc: 0.6873 - val_loss: 1.2148 - val_acc: 0.6788\n",
            "Epoch 77/100\n",
            "8220/8220 [==============================] - 6s 789us/step - loss: 0.9744 - acc: 0.6903 - val_loss: 1.2203 - val_acc: 0.6837\n",
            "Epoch 78/100\n",
            "8220/8220 [==============================] - 7s 797us/step - loss: 0.9791 - acc: 0.6929 - val_loss: 1.2205 - val_acc: 0.6808\n",
            "Epoch 79/100\n",
            "8220/8220 [==============================] - 7s 792us/step - loss: 0.9726 - acc: 0.6981 - val_loss: 1.2086 - val_acc: 0.6808\n",
            "Epoch 80/100\n",
            "8220/8220 [==============================] - 6s 787us/step - loss: 0.9530 - acc: 0.7029 - val_loss: 1.2112 - val_acc: 0.6871\n",
            "Epoch 81/100\n",
            "8220/8220 [==============================] - 6s 790us/step - loss: 0.9625 - acc: 0.6965 - val_loss: 1.2130 - val_acc: 0.6827\n",
            "Epoch 82/100\n",
            "8220/8220 [==============================] - 6s 789us/step - loss: 0.9381 - acc: 0.7061 - val_loss: 1.2280 - val_acc: 0.6818\n",
            "Epoch 83/100\n",
            "8220/8220 [==============================] - 6s 788us/step - loss: 0.9440 - acc: 0.7028 - val_loss: 1.2328 - val_acc: 0.6774\n",
            "Epoch 84/100\n",
            "8220/8220 [==============================] - 6s 790us/step - loss: 0.9589 - acc: 0.6996 - val_loss: 1.2191 - val_acc: 0.6808\n",
            "Epoch 85/100\n",
            "8220/8220 [==============================] - 7s 793us/step - loss: 0.9445 - acc: 0.7083 - val_loss: 1.2249 - val_acc: 0.6783\n",
            "Epoch 86/100\n",
            "8220/8220 [==============================] - 7s 792us/step - loss: 0.9174 - acc: 0.7150 - val_loss: 1.2431 - val_acc: 0.6861\n",
            "Epoch 87/100\n",
            "8220/8220 [==============================] - 6s 786us/step - loss: 0.9221 - acc: 0.7085 - val_loss: 1.2073 - val_acc: 0.6740\n",
            "Epoch 88/100\n",
            "8220/8220 [==============================] - 6s 783us/step - loss: 0.9302 - acc: 0.7071 - val_loss: 1.2124 - val_acc: 0.6808\n",
            "Epoch 89/100\n",
            "8220/8220 [==============================] - 6s 791us/step - loss: 0.9092 - acc: 0.7173 - val_loss: 1.2320 - val_acc: 0.6813\n",
            "Epoch 90/100\n",
            "8220/8220 [==============================] - 6s 785us/step - loss: 0.8969 - acc: 0.7201 - val_loss: 1.2601 - val_acc: 0.6749\n",
            "Epoch 91/100\n",
            "8220/8220 [==============================] - 7s 803us/step - loss: 0.8915 - acc: 0.7214 - val_loss: 1.2382 - val_acc: 0.6783\n",
            "Epoch 92/100\n",
            "8220/8220 [==============================] - 7s 794us/step - loss: 0.9049 - acc: 0.7192 - val_loss: 1.2222 - val_acc: 0.6798\n",
            "Epoch 93/100\n",
            "8220/8220 [==============================] - 6s 790us/step - loss: 0.8881 - acc: 0.7212 - val_loss: 1.2411 - val_acc: 0.6837\n",
            "Epoch 94/100\n",
            "8220/8220 [==============================] - 7s 794us/step - loss: 0.8805 - acc: 0.7241 - val_loss: 1.2369 - val_acc: 0.6808\n",
            "Epoch 95/100\n",
            "8220/8220 [==============================] - 7s 792us/step - loss: 0.8790 - acc: 0.7246 - val_loss: 1.2285 - val_acc: 0.6900\n",
            "Epoch 96/100\n",
            "8220/8220 [==============================] - 7s 792us/step - loss: 0.8868 - acc: 0.7212 - val_loss: 1.2503 - val_acc: 0.6852\n",
            "Epoch 97/100\n",
            "8220/8220 [==============================] - 7s 794us/step - loss: 0.8605 - acc: 0.7287 - val_loss: 1.2388 - val_acc: 0.6827\n",
            "Epoch 98/100\n",
            "8220/8220 [==============================] - 7s 797us/step - loss: 0.8534 - acc: 0.7283 - val_loss: 1.2367 - val_acc: 0.6881\n",
            "Epoch 99/100\n",
            "8220/8220 [==============================] - 7s 796us/step - loss: 0.8535 - acc: 0.7286 - val_loss: 1.2441 - val_acc: 0.6832\n",
            "Epoch 100/100\n",
            "8220/8220 [==============================] - 6s 789us/step - loss: 0.8582 - acc: 0.7311 - val_loss: 1.2386 - val_acc: 0.6886\n"
          ],
          "name": "stdout"
        }
      ]
    },
    {
      "cell_type": "markdown",
      "metadata": {
        "id": "AqHaV1uWKqQB",
        "colab_type": "text"
      },
      "source": [
        "#### Effects of Dropout - training loss > val loss and training accuracy < val accuracy\n",
        "\n",
        "\"Why is the training loss much higher than the testing loss?\n",
        "A Keras model has two modes: training and testing. Regularization mechanisms, such as Dropout and L1/L2 weight regularization, are turned off at testing time.\n",
        "Besides, the training loss is the average of the losses over each batch of training data. Because your model is changing over time, the loss over the first batches of an epoch is generally higher than over the last batches. On the other hand, the testing loss for an epoch is computed using the model as it is at the end of the epoch, resulting in a lower loss.\" - Source - Keras FAQs"
      ]
    },
    {
      "cell_type": "code",
      "metadata": {
        "id": "axMCHuxOwUj3",
        "colab_type": "code",
        "outputId": "d2b268a7-a739-4bda-a115-8883ce0568fe",
        "colab": {
          "base_uri": "https://localhost:8080/",
          "height": 641
        }
      },
      "source": [
        "plot_history(history)"
      ],
      "execution_count": 40,
      "outputs": [
        {
          "output_type": "stream",
          "text": [
            "dict_keys(['val_loss', 'val_acc', 'loss', 'acc'])\n"
          ],
          "name": "stdout"
        },
        {
          "output_type": "stream",
          "text": [
            "/usr/local/lib/python3.6/dist-packages/matplotlib/axes/_base.py:3604: MatplotlibDeprecationWarning: \n",
            "The `ymin` argument was deprecated in Matplotlib 3.0 and will be removed in 3.2. Use `bottom` instead.\n",
            "  alternative='`bottom`', obj_type='argument')\n"
          ],
          "name": "stderr"
        },
        {
          "output_type": "display_data",
          "data": {
            "image/png": "[encoded data removed]",
            "text/plain": [
              "<Figure size 432x288 with 1 Axes>"
            ]
          },
          "metadata": {
            "tags": []
          }
        },
        {
          "output_type": "display_data",
          "data": {
            "image/png": "[encoded data removed]",
            "text/plain": [
              "<Figure size 432x288 with 1 Axes>"
            ]
          },
          "metadata": {
            "tags": []
          }
        }
      ]
    },
    {
      "cell_type": "code",
      "metadata": {
        "id": "NUdXF56nKqQC",
        "colab_type": "code",
        "outputId": "eaf038b8-39e6-46b6-b4fa-5755fa11c765",
        "colab": {
          "base_uri": "https://localhost:8080/",
          "height": 1000
        }
      },
      "source": [
        "# A simple bidirectional LSTM with glove embeddings and two dense layers\n",
        "model = Sequential()\n",
        "model.add(Embedding(len(word_index) + 1,\n",
        "                     300,\n",
        "                     weights=[embedding_matrix],\n",
        "                     input_length=max_len,\n",
        "                     trainable=False))\n",
        "model.add(SpatialDropout1D(0.6))\n",
        "model.add(Bidirectional(LSTM(300, dropout=0.6, recurrent_dropout=0.6)))\n",
        "\n",
        "model.add(Dense(1024, activation='relu'))\n",
        "model.add(Dropout(0.6))\n",
        "\n",
        "model.add(Dense(1024, activation='relu'))\n",
        "model.add(Dropout(0.6))\n",
        "\n",
        "model.add(Dense(last_layer))\n",
        "model.add(Activation('softmax'))\n",
        "model.compile(loss='categorical_crossentropy', optimizer='adam', metrics=['acc'])\n",
        "\n",
        "# Fit the model with early stopping callback\n",
        "earlystop = EarlyStopping(monitor='val_loss', min_delta=0, patience=5, verbose=0, mode='auto')\n",
        "history = model.fit(xtrain_pad, y=ytrain_enc, batch_size=256, epochs=100, \n",
        "          #verbose=1, validation_data=(xvalid_pad, yvalid_enc), callbacks=[earlystop])  ## Lower val acc due to Early Stopping\n",
        "          verbose=1, validation_data=(xvalid_pad, yvalid_enc), callbacks=None)"
      ],
      "execution_count": 41,
      "outputs": [
        {
          "output_type": "stream",
          "text": [
            "WARNING:tensorflow:Large dropout rate: 0.6 (>0.5). In TensorFlow 2.x, dropout() uses dropout rate instead of keep_prob. Please ensure that this is intended.\n",
            "Train on 8220 samples, validate on 2055 samples\n",
            "Epoch 1/100\n",
            "8220/8220 [==============================] - 17s 2ms/step - loss: 3.3056 - acc: 0.0679 - val_loss: 3.2673 - val_acc: 0.1509\n",
            "Epoch 2/100\n",
            "8220/8220 [==============================] - 13s 2ms/step - loss: 3.2253 - acc: 0.0920 - val_loss: 2.9233 - val_acc: 0.1937\n",
            "Epoch 3/100\n",
            "8220/8220 [==============================] - 13s 2ms/step - loss: 3.0403 - acc: 0.1331 - val_loss: 2.6911 - val_acc: 0.2073\n",
            "Epoch 4/100\n",
            "8220/8220 [==============================] - 13s 2ms/step - loss: 2.9501 - acc: 0.1614 - val_loss: 2.6404 - val_acc: 0.2170\n",
            "Epoch 5/100\n",
            "8220/8220 [==============================] - 13s 2ms/step - loss: 2.8782 - acc: 0.1793 - val_loss: 2.4730 - val_acc: 0.2706\n",
            "Epoch 6/100\n",
            "8220/8220 [==============================] - 13s 2ms/step - loss: 2.8135 - acc: 0.1978 - val_loss: 2.3699 - val_acc: 0.2973\n",
            "Epoch 7/100\n",
            "8220/8220 [==============================] - 13s 2ms/step - loss: 2.7208 - acc: 0.2103 - val_loss: 2.2954 - val_acc: 0.3192\n",
            "Epoch 8/100\n",
            "8220/8220 [==============================] - 13s 2ms/step - loss: 2.6733 - acc: 0.2288 - val_loss: 2.2371 - val_acc: 0.3314\n",
            "Epoch 9/100\n",
            "8220/8220 [==============================] - 13s 2ms/step - loss: 2.6018 - acc: 0.2457 - val_loss: 2.1471 - val_acc: 0.3411\n",
            "Epoch 10/100\n",
            "8220/8220 [==============================] - 13s 2ms/step - loss: 2.5395 - acc: 0.2622 - val_loss: 2.0769 - val_acc: 0.3650\n",
            "Epoch 11/100\n",
            "8220/8220 [==============================] - 13s 2ms/step - loss: 2.4809 - acc: 0.2749 - val_loss: 2.0171 - val_acc: 0.3878\n",
            "Epoch 12/100\n",
            "8220/8220 [==============================] - 13s 2ms/step - loss: 2.4383 - acc: 0.2929 - val_loss: 1.9542 - val_acc: 0.4010\n",
            "Epoch 13/100\n",
            "8220/8220 [==============================] - 13s 2ms/step - loss: 2.3841 - acc: 0.3010 - val_loss: 1.9092 - val_acc: 0.4200\n",
            "Epoch 14/100\n",
            "8220/8220 [==============================] - 13s 2ms/step - loss: 2.3526 - acc: 0.3112 - val_loss: 1.8560 - val_acc: 0.4443\n",
            "Epoch 15/100\n",
            "8220/8220 [==============================] - 13s 2ms/step - loss: 2.3221 - acc: 0.3213 - val_loss: 1.8263 - val_acc: 0.4501\n",
            "Epoch 16/100\n",
            "8220/8220 [==============================] - 13s 2ms/step - loss: 2.2694 - acc: 0.3376 - val_loss: 1.7774 - val_acc: 0.4599\n",
            "Epoch 17/100\n",
            "8220/8220 [==============================] - 13s 2ms/step - loss: 2.2275 - acc: 0.3485 - val_loss: 1.7531 - val_acc: 0.4691\n",
            "Epoch 18/100\n",
            "8220/8220 [==============================] - 13s 2ms/step - loss: 2.1960 - acc: 0.3583 - val_loss: 1.7195 - val_acc: 0.4895\n",
            "Epoch 19/100\n",
            "8220/8220 [==============================] - 13s 2ms/step - loss: 2.1552 - acc: 0.3717 - val_loss: 1.7012 - val_acc: 0.4929\n",
            "Epoch 20/100\n",
            "8220/8220 [==============================] - 13s 2ms/step - loss: 2.1193 - acc: 0.3861 - val_loss: 1.6586 - val_acc: 0.5080\n",
            "Epoch 21/100\n",
            "8220/8220 [==============================] - 13s 2ms/step - loss: 2.1152 - acc: 0.3842 - val_loss: 1.6662 - val_acc: 0.5027\n",
            "Epoch 22/100\n",
            "8220/8220 [==============================] - 13s 2ms/step - loss: 2.0799 - acc: 0.3922 - val_loss: 1.6365 - val_acc: 0.5178\n",
            "Epoch 23/100\n",
            "8220/8220 [==============================] - 13s 2ms/step - loss: 2.0449 - acc: 0.4044 - val_loss: 1.6164 - val_acc: 0.5153\n",
            "Epoch 24/100\n",
            "8220/8220 [==============================] - 13s 2ms/step - loss: 2.0221 - acc: 0.4057 - val_loss: 1.5716 - val_acc: 0.5319\n",
            "Epoch 25/100\n",
            "8220/8220 [==============================] - 13s 2ms/step - loss: 1.9989 - acc: 0.4156 - val_loss: 1.5753 - val_acc: 0.5372\n",
            "Epoch 26/100\n",
            "8220/8220 [==============================] - 13s 2ms/step - loss: 1.9791 - acc: 0.4200 - val_loss: 1.5421 - val_acc: 0.5343\n",
            "Epoch 27/100\n",
            "8220/8220 [==============================] - 13s 2ms/step - loss: 1.9553 - acc: 0.4314 - val_loss: 1.5153 - val_acc: 0.5538\n",
            "Epoch 28/100\n",
            "8220/8220 [==============================] - 13s 2ms/step - loss: 1.9406 - acc: 0.4292 - val_loss: 1.5040 - val_acc: 0.5557\n",
            "Epoch 29/100\n",
            "8220/8220 [==============================] - 13s 2ms/step - loss: 1.9022 - acc: 0.4431 - val_loss: 1.4909 - val_acc: 0.5582\n",
            "Epoch 30/100\n",
            "8220/8220 [==============================] - 13s 2ms/step - loss: 1.9065 - acc: 0.4466 - val_loss: 1.4704 - val_acc: 0.5645\n",
            "Epoch 31/100\n",
            "8220/8220 [==============================] - 13s 2ms/step - loss: 1.8540 - acc: 0.4528 - val_loss: 1.4769 - val_acc: 0.5620\n",
            "Epoch 32/100\n",
            "8220/8220 [==============================] - 13s 2ms/step - loss: 1.8411 - acc: 0.4637 - val_loss: 1.4650 - val_acc: 0.5732\n",
            "Epoch 33/100\n",
            "8220/8220 [==============================] - 13s 2ms/step - loss: 1.8383 - acc: 0.4656 - val_loss: 1.4601 - val_acc: 0.5747\n",
            "Epoch 34/100\n",
            "8220/8220 [==============================] - 13s 2ms/step - loss: 1.8295 - acc: 0.4648 - val_loss: 1.4237 - val_acc: 0.5776\n",
            "Epoch 35/100\n",
            "8220/8220 [==============================] - 13s 2ms/step - loss: 1.8080 - acc: 0.4669 - val_loss: 1.4177 - val_acc: 0.5776\n",
            "Epoch 36/100\n",
            "8220/8220 [==============================] - 13s 2ms/step - loss: 1.7754 - acc: 0.4746 - val_loss: 1.4123 - val_acc: 0.5869\n",
            "Epoch 37/100\n",
            "8220/8220 [==============================] - 13s 2ms/step - loss: 1.7660 - acc: 0.4777 - val_loss: 1.4108 - val_acc: 0.5849\n",
            "Epoch 38/100\n",
            "8220/8220 [==============================] - 13s 2ms/step - loss: 1.7475 - acc: 0.4872 - val_loss: 1.4014 - val_acc: 0.5869\n",
            "Epoch 39/100\n",
            "8220/8220 [==============================] - 13s 2ms/step - loss: 1.7337 - acc: 0.4871 - val_loss: 1.4005 - val_acc: 0.5893\n",
            "Epoch 40/100\n",
            "8220/8220 [==============================] - 13s 2ms/step - loss: 1.7356 - acc: 0.4926 - val_loss: 1.3953 - val_acc: 0.5908\n",
            "Epoch 41/100\n",
            "8220/8220 [==============================] - 13s 2ms/step - loss: 1.7166 - acc: 0.4904 - val_loss: 1.3792 - val_acc: 0.5854\n",
            "Epoch 42/100\n",
            "8220/8220 [==============================] - 13s 2ms/step - loss: 1.7063 - acc: 0.4957 - val_loss: 1.3770 - val_acc: 0.5912\n",
            "Epoch 43/100\n",
            "8220/8220 [==============================] - 13s 2ms/step - loss: 1.6860 - acc: 0.5033 - val_loss: 1.3572 - val_acc: 0.6005\n",
            "Epoch 44/100\n",
            "8220/8220 [==============================] - 13s 2ms/step - loss: 1.6843 - acc: 0.5045 - val_loss: 1.3687 - val_acc: 0.5976\n",
            "Epoch 45/100\n",
            "8220/8220 [==============================] - 13s 2ms/step - loss: 1.6880 - acc: 0.4994 - val_loss: 1.3518 - val_acc: 0.6000\n",
            "Epoch 46/100\n",
            "8220/8220 [==============================] - 13s 2ms/step - loss: 1.6519 - acc: 0.5112 - val_loss: 1.3633 - val_acc: 0.6000\n",
            "Epoch 47/100\n",
            "8220/8220 [==============================] - 13s 2ms/step - loss: 1.6554 - acc: 0.5084 - val_loss: 1.3577 - val_acc: 0.5961\n",
            "Epoch 48/100\n",
            "8220/8220 [==============================] - 13s 2ms/step - loss: 1.6396 - acc: 0.5191 - val_loss: 1.3597 - val_acc: 0.5981\n",
            "Epoch 49/100\n",
            "8220/8220 [==============================] - 13s 2ms/step - loss: 1.6354 - acc: 0.5116 - val_loss: 1.3364 - val_acc: 0.6112\n",
            "Epoch 50/100\n",
            "8220/8220 [==============================] - 13s 2ms/step - loss: 1.6230 - acc: 0.5206 - val_loss: 1.3451 - val_acc: 0.6068\n",
            "Epoch 51/100\n",
            "8220/8220 [==============================] - 13s 2ms/step - loss: 1.6156 - acc: 0.5202 - val_loss: 1.3413 - val_acc: 0.6044\n",
            "Epoch 52/100\n",
            "8220/8220 [==============================] - 13s 2ms/step - loss: 1.6086 - acc: 0.5224 - val_loss: 1.3413 - val_acc: 0.6136\n",
            "Epoch 53/100\n",
            "8220/8220 [==============================] - 13s 2ms/step - loss: 1.6020 - acc: 0.5224 - val_loss: 1.3361 - val_acc: 0.6063\n",
            "Epoch 54/100\n",
            "8220/8220 [==============================] - 13s 2ms/step - loss: 1.6024 - acc: 0.5238 - val_loss: 1.3227 - val_acc: 0.6175\n",
            "Epoch 55/100\n",
            "8220/8220 [==============================] - 13s 2ms/step - loss: 1.5801 - acc: 0.5316 - val_loss: 1.3186 - val_acc: 0.6180\n",
            "Epoch 56/100\n",
            "8220/8220 [==============================] - 13s 2ms/step - loss: 1.5602 - acc: 0.5370 - val_loss: 1.3170 - val_acc: 0.6229\n",
            "Epoch 57/100\n",
            "8220/8220 [==============================] - 13s 2ms/step - loss: 1.5637 - acc: 0.5369 - val_loss: 1.3335 - val_acc: 0.6092\n",
            "Epoch 58/100\n",
            "8220/8220 [==============================] - 13s 2ms/step - loss: 1.5498 - acc: 0.5395 - val_loss: 1.3329 - val_acc: 0.6088\n",
            "Epoch 59/100\n",
            "8220/8220 [==============================] - 13s 2ms/step - loss: 1.5540 - acc: 0.5380 - val_loss: 1.3114 - val_acc: 0.6195\n",
            "Epoch 60/100\n",
            "8220/8220 [==============================] - 13s 2ms/step - loss: 1.5309 - acc: 0.5460 - val_loss: 1.2917 - val_acc: 0.6268\n",
            "Epoch 61/100\n",
            "8220/8220 [==============================] - 13s 2ms/step - loss: 1.5120 - acc: 0.5506 - val_loss: 1.3020 - val_acc: 0.6321\n",
            "Epoch 62/100\n",
            "8220/8220 [==============================] - 13s 2ms/step - loss: 1.5256 - acc: 0.5470 - val_loss: 1.3022 - val_acc: 0.6253\n",
            "Epoch 63/100\n",
            "8220/8220 [==============================] - 13s 2ms/step - loss: 1.5170 - acc: 0.5481 - val_loss: 1.2961 - val_acc: 0.6243\n",
            "Epoch 64/100\n",
            "8220/8220 [==============================] - 13s 2ms/step - loss: 1.5185 - acc: 0.5523 - val_loss: 1.2859 - val_acc: 0.6282\n",
            "Epoch 65/100\n",
            "8220/8220 [==============================] - 13s 2ms/step - loss: 1.5037 - acc: 0.5499 - val_loss: 1.2877 - val_acc: 0.6287\n",
            "Epoch 66/100\n",
            "8220/8220 [==============================] - 13s 2ms/step - loss: 1.4774 - acc: 0.5564 - val_loss: 1.3003 - val_acc: 0.6219\n",
            "Epoch 67/100\n",
            "8220/8220 [==============================] - 13s 2ms/step - loss: 1.4696 - acc: 0.5611 - val_loss: 1.2868 - val_acc: 0.6268\n",
            "Epoch 68/100\n",
            "8220/8220 [==============================] - 13s 2ms/step - loss: 1.4759 - acc: 0.5582 - val_loss: 1.2687 - val_acc: 0.6389\n",
            "Epoch 69/100\n",
            "8220/8220 [==============================] - 13s 2ms/step - loss: 1.4543 - acc: 0.5597 - val_loss: 1.2653 - val_acc: 0.6370\n",
            "Epoch 70/100\n",
            "8220/8220 [==============================] - 13s 2ms/step - loss: 1.4822 - acc: 0.5618 - val_loss: 1.2761 - val_acc: 0.6355\n",
            "Epoch 71/100\n",
            "8220/8220 [==============================] - 13s 2ms/step - loss: 1.4385 - acc: 0.5726 - val_loss: 1.2627 - val_acc: 0.6370\n",
            "Epoch 72/100\n",
            "8220/8220 [==============================] - 13s 2ms/step - loss: 1.4372 - acc: 0.5659 - val_loss: 1.2768 - val_acc: 0.6360\n",
            "Epoch 73/100\n",
            "8220/8220 [==============================] - 13s 2ms/step - loss: 1.4278 - acc: 0.5696 - val_loss: 1.2726 - val_acc: 0.6409\n",
            "Epoch 74/100\n",
            "8220/8220 [==============================] - 13s 2ms/step - loss: 1.4114 - acc: 0.5706 - val_loss: 1.2764 - val_acc: 0.6350\n",
            "Epoch 75/100\n",
            "8220/8220 [==============================] - 13s 2ms/step - loss: 1.4311 - acc: 0.5755 - val_loss: 1.2672 - val_acc: 0.6370\n",
            "Epoch 76/100\n",
            "8220/8220 [==============================] - 13s 2ms/step - loss: 1.4179 - acc: 0.5763 - val_loss: 1.2622 - val_acc: 0.6414\n",
            "Epoch 77/100\n",
            "8220/8220 [==============================] - 13s 2ms/step - loss: 1.4078 - acc: 0.5718 - val_loss: 1.2493 - val_acc: 0.6418\n",
            "Epoch 78/100\n",
            "8220/8220 [==============================] - 13s 2ms/step - loss: 1.4031 - acc: 0.5816 - val_loss: 1.2559 - val_acc: 0.6414\n",
            "Epoch 79/100\n",
            "8220/8220 [==============================] - 13s 2ms/step - loss: 1.4194 - acc: 0.5758 - val_loss: 1.2360 - val_acc: 0.6462\n",
            "Epoch 80/100\n",
            "8220/8220 [==============================] - 13s 2ms/step - loss: 1.4021 - acc: 0.5776 - val_loss: 1.2396 - val_acc: 0.6448\n",
            "Epoch 81/100\n",
            "8220/8220 [==============================] - 13s 2ms/step - loss: 1.3737 - acc: 0.5889 - val_loss: 1.2516 - val_acc: 0.6423\n",
            "Epoch 82/100\n",
            "8220/8220 [==============================] - 13s 2ms/step - loss: 1.3869 - acc: 0.5797 - val_loss: 1.2433 - val_acc: 0.6433\n",
            "Epoch 83/100\n",
            "8220/8220 [==============================] - 13s 2ms/step - loss: 1.3812 - acc: 0.5865 - val_loss: 1.2459 - val_acc: 0.6384\n",
            "Epoch 84/100\n",
            "8220/8220 [==============================] - 13s 2ms/step - loss: 1.3775 - acc: 0.5859 - val_loss: 1.2259 - val_acc: 0.6501\n",
            "Epoch 85/100\n",
            "8220/8220 [==============================] - 13s 2ms/step - loss: 1.3796 - acc: 0.5833 - val_loss: 1.2408 - val_acc: 0.6418\n",
            "Epoch 86/100\n",
            "8220/8220 [==============================] - 13s 2ms/step - loss: 1.3744 - acc: 0.5863 - val_loss: 1.2457 - val_acc: 0.6453\n",
            "Epoch 87/100\n",
            "8220/8220 [==============================] - 13s 2ms/step - loss: 1.3660 - acc: 0.5853 - val_loss: 1.2455 - val_acc: 0.6457\n",
            "Epoch 88/100\n",
            "8220/8220 [==============================] - 13s 2ms/step - loss: 1.3632 - acc: 0.5887 - val_loss: 1.2364 - val_acc: 0.6491\n",
            "Epoch 89/100\n",
            "8220/8220 [==============================] - 13s 2ms/step - loss: 1.3362 - acc: 0.5964 - val_loss: 1.2329 - val_acc: 0.6526\n",
            "Epoch 90/100\n",
            "8220/8220 [==============================] - 13s 2ms/step - loss: 1.3745 - acc: 0.5864 - val_loss: 1.2436 - val_acc: 0.6409\n",
            "Epoch 91/100\n",
            "8220/8220 [==============================] - 13s 2ms/step - loss: 1.3506 - acc: 0.5949 - val_loss: 1.2342 - val_acc: 0.6477\n",
            "Epoch 92/100\n",
            "8220/8220 [==============================] - 13s 2ms/step - loss: 1.3392 - acc: 0.5944 - val_loss: 1.2432 - val_acc: 0.6384\n",
            "Epoch 93/100\n",
            "8220/8220 [==============================] - 13s 2ms/step - loss: 1.3370 - acc: 0.5931 - val_loss: 1.2176 - val_acc: 0.6564\n",
            "Epoch 94/100\n",
            "8220/8220 [==============================] - 13s 2ms/step - loss: 1.3260 - acc: 0.5894 - val_loss: 1.2240 - val_acc: 0.6530\n",
            "Epoch 95/100\n",
            "8220/8220 [==============================] - 13s 2ms/step - loss: 1.3241 - acc: 0.5991 - val_loss: 1.2194 - val_acc: 0.6584\n",
            "Epoch 96/100\n",
            "8220/8220 [==============================] - 13s 2ms/step - loss: 1.3345 - acc: 0.5928 - val_loss: 1.2169 - val_acc: 0.6564\n",
            "Epoch 97/100\n",
            "8220/8220 [==============================] - 13s 2ms/step - loss: 1.3220 - acc: 0.6015 - val_loss: 1.2235 - val_acc: 0.6540\n",
            "Epoch 98/100\n",
            "8220/8220 [==============================] - 13s 2ms/step - loss: 1.3197 - acc: 0.6011 - val_loss: 1.2246 - val_acc: 0.6594\n",
            "Epoch 99/100\n",
            "8220/8220 [==============================] - 13s 2ms/step - loss: 1.3132 - acc: 0.6022 - val_loss: 1.2310 - val_acc: 0.6608\n",
            "Epoch 100/100\n",
            "8220/8220 [==============================] - 13s 2ms/step - loss: 1.2961 - acc: 0.6050 - val_loss: 1.2272 - val_acc: 0.6584\n"
          ],
          "name": "stdout"
        }
      ]
    },
    {
      "cell_type": "code",
      "metadata": {
        "id": "YhW9MlO0wbyE",
        "colab_type": "code",
        "outputId": "86910aba-ae07-4350-c183-0907c2e267ff",
        "colab": {
          "base_uri": "https://localhost:8080/",
          "height": 641
        }
      },
      "source": [
        "plot_history(history)"
      ],
      "execution_count": 42,
      "outputs": [
        {
          "output_type": "stream",
          "text": [
            "dict_keys(['val_loss', 'val_acc', 'loss', 'acc'])\n"
          ],
          "name": "stdout"
        },
        {
          "output_type": "stream",
          "text": [
            "/usr/local/lib/python3.6/dist-packages/matplotlib/axes/_base.py:3604: MatplotlibDeprecationWarning: \n",
            "The `ymin` argument was deprecated in Matplotlib 3.0 and will be removed in 3.2. Use `bottom` instead.\n",
            "  alternative='`bottom`', obj_type='argument')\n"
          ],
          "name": "stderr"
        },
        {
          "output_type": "display_data",
          "data": {
            "image/png": "[encoded data removed]",
            "text/plain": [
              "<Figure size 432x288 with 1 Axes>"
            ]
          },
          "metadata": {
            "tags": []
          }
        },
        {
          "output_type": "display_data",
          "data": {
            "image/png": "[encoded data removed]",
            "text/plain": [
              "<Figure size 432x288 with 1 Axes>"
            ]
          },
          "metadata": {
            "tags": []
          }
        }
      ]
    },
    {
      "cell_type": "code",
      "metadata": {
        "id": "0XJ0gvSyKqQF",
        "colab_type": "code",
        "outputId": "cd21fca2-9633-41ec-d79a-3aa7a6b8d5c9",
        "colab": {
          "base_uri": "https://localhost:8080/",
          "height": 1000
        }
      },
      "source": [
        "# GRU with glove embeddings and two dense layers\n",
        "model = Sequential()\n",
        "model.add(Embedding(len(word_index) + 1,\n",
        "                     300,\n",
        "                     weights=[embedding_matrix],\n",
        "                     input_length=max_len,\n",
        "                     trainable=False))\n",
        "model.add(SpatialDropout1D(0.6))\n",
        "model.add(GRU(300, dropout=0.6, recurrent_dropout=0.6, return_sequences=True))\n",
        "model.add(GRU(300, dropout=0.6, recurrent_dropout=0.6))\n",
        "\n",
        "model.add(Dense(1024, activation='relu'))\n",
        "model.add(Dropout(0.6))\n",
        "\n",
        "model.add(Dense(1024, activation='relu'))\n",
        "model.add(Dropout(0.6))\n",
        "\n",
        "model.add(Dense(last_layer))\n",
        "model.add(Activation('softmax'))\n",
        "model.summary()\n",
        "model.compile(loss='categorical_crossentropy', optimizer='adam', metrics=['acc'])\n",
        "\n",
        "# Fit the model with early stopping callback\n",
        "earlystop = EarlyStopping(monitor='val_loss', min_delta=0, patience=5, verbose=0, mode='auto')\n",
        "history = model.fit(xtrain_pad, y=ytrain_enc, batch_size=256, epochs=100, \n",
        "          #verbose=1, validation_data=(xvalid_pad, yvalid_enc), callbacks=[earlystop])\n",
        "          verbose=1, validation_data=(xvalid_pad, yvalid_enc), callbacks=None)"
      ],
      "execution_count": 43,
      "outputs": [
        {
          "output_type": "stream",
          "text": [
            "Model: \"sequential_12\"\n",
            "_________________________________________________________________\n",
            "Layer (type)                 Output Shape              Param #   \n",
            "=================================================================\n",
            "embedding_6 (Embedding)      (None, 70, 300)           2236500   \n",
            "_________________________________________________________________\n",
            "spatial_dropout1d_6 (Spatial (None, 70, 300)           0         \n",
            "_________________________________________________________________\n",
            "gru_1 (GRU)                  (None, 70, 300)           540900    \n",
            "_________________________________________________________________\n",
            "gru_2 (GRU)                  (None, 300)               540900    \n",
            "_________________________________________________________________\n",
            "dense_34 (Dense)             (None, 1024)              308224    \n",
            "_________________________________________________________________\n",
            "dropout_23 (Dropout)         (None, 1024)              0         \n",
            "_________________________________________________________________\n",
            "dense_35 (Dense)             (None, 1024)              1049600   \n",
            "_________________________________________________________________\n",
            "dropout_24 (Dropout)         (None, 1024)              0         \n",
            "_________________________________________________________________\n",
            "dense_36 (Dense)             (None, 29)                29725     \n",
            "_________________________________________________________________\n",
            "activation_12 (Activation)   (None, 29)                0         \n",
            "=================================================================\n",
            "Total params: 4,705,849\n",
            "Trainable params: 2,469,349\n",
            "Non-trainable params: 2,236,500\n",
            "_________________________________________________________________\n",
            "Train on 8220 samples, validate on 2055 samples\n",
            "Epoch 1/100\n",
            "8220/8220 [==============================] - 16s 2ms/step - loss: 3.3399 - acc: 0.0600 - val_loss: 3.3084 - val_acc: 0.0949\n",
            "Epoch 2/100\n",
            "8220/8220 [==============================] - 11s 1ms/step - loss: 3.2929 - acc: 0.0668 - val_loss: 3.2660 - val_acc: 0.1377\n",
            "Epoch 3/100\n",
            "8220/8220 [==============================] - 11s 1ms/step - loss: 3.2342 - acc: 0.0899 - val_loss: 3.0258 - val_acc: 0.1747\n",
            "Epoch 4/100\n",
            "8220/8220 [==============================] - 11s 1ms/step - loss: 3.1377 - acc: 0.1105 - val_loss: 2.8203 - val_acc: 0.1869\n",
            "Epoch 5/100\n",
            "8220/8220 [==============================] - 11s 1ms/step - loss: 3.0482 - acc: 0.1219 - val_loss: 2.7165 - val_acc: 0.2034\n",
            "Epoch 6/100\n",
            "8220/8220 [==============================] - 11s 1ms/step - loss: 3.0061 - acc: 0.1352 - val_loss: 2.6702 - val_acc: 0.2078\n",
            "Epoch 7/100\n",
            "8220/8220 [==============================] - 11s 1ms/step - loss: 2.9456 - acc: 0.1504 - val_loss: 2.5966 - val_acc: 0.2224\n",
            "Epoch 8/100\n",
            "8220/8220 [==============================] - 11s 1ms/step - loss: 2.9037 - acc: 0.1659 - val_loss: 2.5124 - val_acc: 0.2686\n",
            "Epoch 9/100\n",
            "8220/8220 [==============================] - 11s 1ms/step - loss: 2.8306 - acc: 0.1832 - val_loss: 2.4192 - val_acc: 0.2672\n",
            "Epoch 10/100\n",
            "8220/8220 [==============================] - 11s 1ms/step - loss: 2.7845 - acc: 0.1916 - val_loss: 2.3779 - val_acc: 0.2929\n",
            "Epoch 11/100\n",
            "8220/8220 [==============================] - 11s 1ms/step - loss: 2.7421 - acc: 0.2032 - val_loss: 2.2717 - val_acc: 0.3071\n",
            "Epoch 12/100\n",
            "8220/8220 [==============================] - 11s 1ms/step - loss: 2.6954 - acc: 0.2088 - val_loss: 2.2574 - val_acc: 0.3124\n",
            "Epoch 13/100\n",
            "8220/8220 [==============================] - 11s 1ms/step - loss: 2.6606 - acc: 0.2237 - val_loss: 2.1624 - val_acc: 0.3372\n",
            "Epoch 14/100\n",
            "8220/8220 [==============================] - 11s 1ms/step - loss: 2.6123 - acc: 0.2271 - val_loss: 2.1307 - val_acc: 0.3465\n",
            "Epoch 15/100\n",
            "8220/8220 [==============================] - 11s 1ms/step - loss: 2.5815 - acc: 0.2468 - val_loss: 2.1027 - val_acc: 0.3586\n",
            "Epoch 16/100\n",
            "8220/8220 [==============================] - 11s 1ms/step - loss: 2.5578 - acc: 0.2547 - val_loss: 2.0691 - val_acc: 0.3781\n",
            "Epoch 17/100\n",
            "8220/8220 [==============================] - 11s 1ms/step - loss: 2.5293 - acc: 0.2546 - val_loss: 2.0084 - val_acc: 0.3839\n",
            "Epoch 18/100\n",
            "8220/8220 [==============================] - 11s 1ms/step - loss: 2.4902 - acc: 0.2740 - val_loss: 2.0289 - val_acc: 0.3830\n",
            "Epoch 19/100\n",
            "8220/8220 [==============================] - 11s 1ms/step - loss: 2.4550 - acc: 0.2782 - val_loss: 1.9523 - val_acc: 0.4073\n",
            "Epoch 20/100\n",
            "8220/8220 [==============================] - 11s 1ms/step - loss: 2.4289 - acc: 0.2926 - val_loss: 1.9308 - val_acc: 0.4117\n",
            "Epoch 21/100\n",
            "8220/8220 [==============================] - 11s 1ms/step - loss: 2.4141 - acc: 0.2900 - val_loss: 1.9260 - val_acc: 0.4248\n",
            "Epoch 22/100\n",
            "8220/8220 [==============================] - 11s 1ms/step - loss: 2.3765 - acc: 0.3012 - val_loss: 1.9077 - val_acc: 0.4360\n",
            "Epoch 23/100\n",
            "8220/8220 [==============================] - 11s 1ms/step - loss: 2.3777 - acc: 0.3005 - val_loss: 1.9004 - val_acc: 0.4287\n",
            "Epoch 24/100\n",
            "8220/8220 [==============================] - 11s 1ms/step - loss: 2.3457 - acc: 0.3221 - val_loss: 1.8534 - val_acc: 0.4457\n",
            "Epoch 25/100\n",
            "8220/8220 [==============================] - 11s 1ms/step - loss: 2.3247 - acc: 0.3220 - val_loss: 1.8328 - val_acc: 0.4389\n",
            "Epoch 26/100\n",
            "8220/8220 [==============================] - 11s 1ms/step - loss: 2.2882 - acc: 0.3315 - val_loss: 1.8038 - val_acc: 0.4535\n",
            "Epoch 27/100\n",
            "8220/8220 [==============================] - 11s 1ms/step - loss: 2.2706 - acc: 0.3366 - val_loss: 1.7789 - val_acc: 0.4569\n",
            "Epoch 28/100\n",
            "8220/8220 [==============================] - 11s 1ms/step - loss: 2.2737 - acc: 0.3365 - val_loss: 1.7728 - val_acc: 0.4613\n",
            "Epoch 29/100\n",
            "8220/8220 [==============================] - 11s 1ms/step - loss: 2.2875 - acc: 0.3302 - val_loss: 1.7508 - val_acc: 0.4642\n",
            "Epoch 30/100\n",
            "8220/8220 [==============================] - 11s 1ms/step - loss: 2.2311 - acc: 0.3453 - val_loss: 1.7576 - val_acc: 0.4749\n",
            "Epoch 31/100\n",
            "8220/8220 [==============================] - 11s 1ms/step - loss: 2.2298 - acc: 0.3526 - val_loss: 1.7291 - val_acc: 0.4759\n",
            "Epoch 32/100\n",
            "8220/8220 [==============================] - 11s 1ms/step - loss: 2.2131 - acc: 0.3564 - val_loss: 1.7109 - val_acc: 0.4822\n",
            "Epoch 33/100\n",
            "8220/8220 [==============================] - 11s 1ms/step - loss: 2.2029 - acc: 0.3544 - val_loss: 1.6973 - val_acc: 0.4842\n",
            "Epoch 34/100\n",
            "8220/8220 [==============================] - 11s 1ms/step - loss: 2.1849 - acc: 0.3663 - val_loss: 1.6889 - val_acc: 0.4968\n",
            "Epoch 35/100\n",
            "8220/8220 [==============================] - 11s 1ms/step - loss: 2.1469 - acc: 0.3731 - val_loss: 1.6900 - val_acc: 0.4832\n",
            "Epoch 36/100\n",
            "8220/8220 [==============================] - 11s 1ms/step - loss: 2.1434 - acc: 0.3752 - val_loss: 1.6604 - val_acc: 0.5075\n",
            "Epoch 37/100\n",
            "8220/8220 [==============================] - 11s 1ms/step - loss: 2.1331 - acc: 0.3686 - val_loss: 1.6628 - val_acc: 0.5144\n",
            "Epoch 38/100\n",
            "8220/8220 [==============================] - 11s 1ms/step - loss: 2.1194 - acc: 0.3824 - val_loss: 1.6292 - val_acc: 0.5246\n",
            "Epoch 39/100\n",
            "8220/8220 [==============================] - 11s 1ms/step - loss: 2.0874 - acc: 0.3900 - val_loss: 1.6163 - val_acc: 0.5236\n",
            "Epoch 40/100\n",
            "8220/8220 [==============================] - 11s 1ms/step - loss: 2.0888 - acc: 0.3931 - val_loss: 1.6174 - val_acc: 0.5197\n",
            "Epoch 41/100\n",
            "8220/8220 [==============================] - 11s 1ms/step - loss: 2.0839 - acc: 0.3899 - val_loss: 1.6084 - val_acc: 0.5265\n",
            "Epoch 42/100\n",
            "8220/8220 [==============================] - 11s 1ms/step - loss: 2.0778 - acc: 0.3914 - val_loss: 1.5757 - val_acc: 0.5387\n",
            "Epoch 43/100\n",
            "8220/8220 [==============================] - 11s 1ms/step - loss: 2.0720 - acc: 0.3978 - val_loss: 1.5941 - val_acc: 0.5392\n",
            "Epoch 44/100\n",
            "8220/8220 [==============================] - 11s 1ms/step - loss: 2.0486 - acc: 0.3972 - val_loss: 1.5952 - val_acc: 0.5353\n",
            "Epoch 45/100\n",
            "8220/8220 [==============================] - 11s 1ms/step - loss: 2.0341 - acc: 0.4011 - val_loss: 1.5684 - val_acc: 0.5450\n",
            "Epoch 46/100\n",
            "8220/8220 [==============================] - 11s 1ms/step - loss: 2.0237 - acc: 0.4097 - val_loss: 1.5774 - val_acc: 0.5382\n",
            "Epoch 47/100\n",
            "8220/8220 [==============================] - 11s 1ms/step - loss: 2.0374 - acc: 0.4034 - val_loss: 1.5578 - val_acc: 0.5445\n",
            "Epoch 48/100\n",
            "8220/8220 [==============================] - 11s 1ms/step - loss: 2.0337 - acc: 0.4091 - val_loss: 1.5591 - val_acc: 0.5470\n",
            "Epoch 49/100\n",
            "8220/8220 [==============================] - 11s 1ms/step - loss: 2.0010 - acc: 0.4114 - val_loss: 1.5400 - val_acc: 0.5523\n",
            "Epoch 50/100\n",
            "8220/8220 [==============================] - 11s 1ms/step - loss: 2.0050 - acc: 0.4130 - val_loss: 1.5337 - val_acc: 0.5552\n",
            "Epoch 51/100\n",
            "8220/8220 [==============================] - 11s 1ms/step - loss: 1.9968 - acc: 0.4148 - val_loss: 1.5575 - val_acc: 0.5538\n",
            "Epoch 52/100\n",
            "8220/8220 [==============================] - 11s 1ms/step - loss: 2.0008 - acc: 0.4235 - val_loss: 1.5291 - val_acc: 0.5513\n",
            "Epoch 53/100\n",
            "8220/8220 [==============================] - 11s 1ms/step - loss: 1.9683 - acc: 0.4263 - val_loss: 1.5163 - val_acc: 0.5582\n",
            "Epoch 54/100\n",
            "8220/8220 [==============================] - 11s 1ms/step - loss: 1.9708 - acc: 0.4300 - val_loss: 1.5093 - val_acc: 0.5572\n",
            "Epoch 55/100\n",
            "8220/8220 [==============================] - 11s 1ms/step - loss: 1.9621 - acc: 0.4287 - val_loss: 1.4918 - val_acc: 0.5655\n",
            "Epoch 56/100\n",
            "8220/8220 [==============================] - 11s 1ms/step - loss: 1.9601 - acc: 0.4259 - val_loss: 1.5094 - val_acc: 0.5664\n",
            "Epoch 57/100\n",
            "8220/8220 [==============================] - 11s 1ms/step - loss: 1.9574 - acc: 0.4356 - val_loss: 1.4957 - val_acc: 0.5611\n",
            "Epoch 58/100\n",
            "8220/8220 [==============================] - 11s 1ms/step - loss: 1.9453 - acc: 0.4381 - val_loss: 1.4836 - val_acc: 0.5635\n",
            "Epoch 59/100\n",
            "8220/8220 [==============================] - 11s 1ms/step - loss: 1.9392 - acc: 0.4345 - val_loss: 1.4805 - val_acc: 0.5752\n",
            "Epoch 60/100\n",
            "8220/8220 [==============================] - 11s 1ms/step - loss: 1.9151 - acc: 0.4308 - val_loss: 1.4571 - val_acc: 0.5727\n",
            "Epoch 61/100\n",
            "8220/8220 [==============================] - 11s 1ms/step - loss: 1.9211 - acc: 0.4414 - val_loss: 1.4726 - val_acc: 0.5727\n",
            "Epoch 62/100\n",
            "8220/8220 [==============================] - 11s 1ms/step - loss: 1.9164 - acc: 0.4383 - val_loss: 1.4731 - val_acc: 0.5698\n",
            "Epoch 63/100\n",
            "8220/8220 [==============================] - 11s 1ms/step - loss: 1.8877 - acc: 0.4455 - val_loss: 1.4625 - val_acc: 0.5727\n",
            "Epoch 64/100\n",
            "8220/8220 [==============================] - 11s 1ms/step - loss: 1.9087 - acc: 0.4466 - val_loss: 1.4642 - val_acc: 0.5698\n",
            "Epoch 65/100\n",
            "8220/8220 [==============================] - 11s 1ms/step - loss: 1.8763 - acc: 0.4549 - val_loss: 1.4681 - val_acc: 0.5718\n",
            "Epoch 66/100\n",
            "8220/8220 [==============================] - 11s 1ms/step - loss: 1.8999 - acc: 0.4434 - val_loss: 1.4638 - val_acc: 0.5727\n",
            "Epoch 67/100\n",
            "8220/8220 [==============================] - 11s 1ms/step - loss: 1.8910 - acc: 0.4414 - val_loss: 1.4693 - val_acc: 0.5737\n",
            "Epoch 68/100\n",
            "8220/8220 [==============================] - 11s 1ms/step - loss: 1.8872 - acc: 0.4483 - val_loss: 1.4662 - val_acc: 0.5762\n",
            "Epoch 69/100\n",
            "8220/8220 [==============================] - 11s 1ms/step - loss: 1.8796 - acc: 0.4532 - val_loss: 1.4464 - val_acc: 0.5815\n",
            "Epoch 70/100\n",
            "8220/8220 [==============================] - 11s 1ms/step - loss: 1.8720 - acc: 0.4536 - val_loss: 1.4444 - val_acc: 0.5757\n",
            "Epoch 71/100\n",
            "8220/8220 [==============================] - 11s 1ms/step - loss: 1.8546 - acc: 0.4584 - val_loss: 1.4531 - val_acc: 0.5757\n",
            "Epoch 72/100\n",
            "8220/8220 [==============================] - 11s 1ms/step - loss: 1.8541 - acc: 0.4564 - val_loss: 1.4376 - val_acc: 0.5786\n",
            "Epoch 73/100\n",
            "8220/8220 [==============================] - 11s 1ms/step - loss: 1.8552 - acc: 0.4655 - val_loss: 1.4500 - val_acc: 0.5781\n",
            "Epoch 74/100\n",
            "8220/8220 [==============================] - 11s 1ms/step - loss: 1.8681 - acc: 0.4586 - val_loss: 1.4497 - val_acc: 0.5805\n",
            "Epoch 75/100\n",
            "8220/8220 [==============================] - 11s 1ms/step - loss: 1.8305 - acc: 0.4633 - val_loss: 1.4260 - val_acc: 0.5844\n",
            "Epoch 76/100\n",
            "8220/8220 [==============================] - 11s 1ms/step - loss: 1.8300 - acc: 0.4646 - val_loss: 1.4162 - val_acc: 0.5893\n",
            "Epoch 77/100\n",
            "8220/8220 [==============================] - 11s 1ms/step - loss: 1.8450 - acc: 0.4584 - val_loss: 1.4106 - val_acc: 0.5869\n",
            "Epoch 78/100\n",
            "8220/8220 [==============================] - 11s 1ms/step - loss: 1.8404 - acc: 0.4588 - val_loss: 1.4162 - val_acc: 0.5791\n",
            "Epoch 79/100\n",
            "8220/8220 [==============================] - 11s 1ms/step - loss: 1.8245 - acc: 0.4673 - val_loss: 1.4113 - val_acc: 0.5839\n",
            "Epoch 80/100\n",
            "8220/8220 [==============================] - 11s 1ms/step - loss: 1.8163 - acc: 0.4682 - val_loss: 1.4055 - val_acc: 0.5951\n",
            "Epoch 81/100\n",
            "8220/8220 [==============================] - 11s 1ms/step - loss: 1.8480 - acc: 0.4616 - val_loss: 1.4099 - val_acc: 0.5908\n",
            "Epoch 82/100\n",
            "8220/8220 [==============================] - 11s 1ms/step - loss: 1.8216 - acc: 0.4720 - val_loss: 1.4248 - val_acc: 0.5864\n",
            "Epoch 83/100\n",
            "8220/8220 [==============================] - 11s 1ms/step - loss: 1.8238 - acc: 0.4539 - val_loss: 1.4158 - val_acc: 0.5893\n",
            "Epoch 84/100\n",
            "8220/8220 [==============================] - 11s 1ms/step - loss: 1.8049 - acc: 0.4758 - val_loss: 1.4030 - val_acc: 0.5873\n",
            "Epoch 85/100\n",
            "8220/8220 [==============================] - 11s 1ms/step - loss: 1.8175 - acc: 0.4667 - val_loss: 1.3892 - val_acc: 0.6019\n",
            "Epoch 86/100\n",
            "8220/8220 [==============================] - 11s 1ms/step - loss: 1.8038 - acc: 0.4673 - val_loss: 1.3896 - val_acc: 0.5966\n",
            "Epoch 87/100\n",
            "8220/8220 [==============================] - 11s 1ms/step - loss: 1.7953 - acc: 0.4698 - val_loss: 1.4061 - val_acc: 0.5951\n",
            "Epoch 88/100\n",
            "8220/8220 [==============================] - 11s 1ms/step - loss: 1.7745 - acc: 0.4773 - val_loss: 1.3899 - val_acc: 0.5985\n",
            "Epoch 89/100\n",
            "8220/8220 [==============================] - 11s 1ms/step - loss: 1.7736 - acc: 0.4786 - val_loss: 1.3911 - val_acc: 0.5990\n",
            "Epoch 90/100\n",
            "8220/8220 [==============================] - 11s 1ms/step - loss: 1.7889 - acc: 0.4729 - val_loss: 1.3998 - val_acc: 0.5942\n",
            "Epoch 91/100\n",
            "8220/8220 [==============================] - 12s 1ms/step - loss: 1.7672 - acc: 0.4815 - val_loss: 1.3936 - val_acc: 0.5995\n",
            "Epoch 92/100\n",
            "8220/8220 [==============================] - 11s 1ms/step - loss: 1.7701 - acc: 0.4753 - val_loss: 1.3889 - val_acc: 0.5981\n",
            "Epoch 93/100\n",
            "8220/8220 [==============================] - 11s 1ms/step - loss: 1.7465 - acc: 0.4835 - val_loss: 1.3872 - val_acc: 0.5971\n",
            "Epoch 94/100\n",
            "8220/8220 [==============================] - 11s 1ms/step - loss: 1.7717 - acc: 0.4777 - val_loss: 1.3963 - val_acc: 0.5971\n",
            "Epoch 95/100\n",
            "8220/8220 [==============================] - 11s 1ms/step - loss: 1.7549 - acc: 0.4826 - val_loss: 1.3772 - val_acc: 0.6015\n",
            "Epoch 96/100\n",
            "8220/8220 [==============================] - 11s 1ms/step - loss: 1.7572 - acc: 0.4781 - val_loss: 1.3757 - val_acc: 0.6117\n",
            "Epoch 97/100\n",
            "8220/8220 [==============================] - 11s 1ms/step - loss: 1.7620 - acc: 0.4821 - val_loss: 1.3734 - val_acc: 0.6117\n",
            "Epoch 98/100\n",
            "8220/8220 [==============================] - 11s 1ms/step - loss: 1.7731 - acc: 0.4870 - val_loss: 1.3836 - val_acc: 0.5990\n",
            "Epoch 99/100\n",
            "8220/8220 [==============================] - 11s 1ms/step - loss: 1.7717 - acc: 0.4798 - val_loss: 1.3702 - val_acc: 0.6034\n",
            "Epoch 100/100\n",
            "8220/8220 [==============================] - 11s 1ms/step - loss: 1.7402 - acc: 0.4877 - val_loss: 1.3697 - val_acc: 0.5995\n"
          ],
          "name": "stdout"
        }
      ]
    },
    {
      "cell_type": "markdown",
      "metadata": {
        "id": "L5RHoHtlRzuu",
        "colab_type": "text"
      },
      "source": [
        "#### We have a training set accuracy of ~88%, ie, we haven't captured the entire complexity in the dataset so the network can be further made larger, and we can add more parameters !!"
      ]
    },
    {
      "cell_type": "code",
      "metadata": {
        "id": "_c8ReTlBi1m_",
        "colab_type": "code",
        "outputId": "0067b5cc-2c88-492b-8fe6-ef5f07bb05a3",
        "colab": {
          "base_uri": "https://localhost:8080/",
          "height": 641
        }
      },
      "source": [
        "plot_history(history)"
      ],
      "execution_count": 44,
      "outputs": [
        {
          "output_type": "stream",
          "text": [
            "dict_keys(['val_loss', 'val_acc', 'loss', 'acc'])\n"
          ],
          "name": "stdout"
        },
        {
          "output_type": "stream",
          "text": [
            "/usr/local/lib/python3.6/dist-packages/matplotlib/axes/_base.py:3604: MatplotlibDeprecationWarning: \n",
            "The `ymin` argument was deprecated in Matplotlib 3.0 and will be removed in 3.2. Use `bottom` instead.\n",
            "  alternative='`bottom`', obj_type='argument')\n"
          ],
          "name": "stderr"
        },
        {
          "output_type": "display_data",
          "data": {
            "image/png": "[encoded data removed]",
            "text/plain": [
              "<Figure size 432x288 with 1 Axes>"
            ]
          },
          "metadata": {
            "tags": []
          }
        },
        {
          "output_type": "display_data",
          "data": {
            "image/png": "[encoded data removed]",
            "text/plain": [
              "<Figure size 432x288 with 1 Axes>"
            ]
          },
          "metadata": {
            "tags": []
          }
        }
      ]
    },
    {
      "cell_type": "markdown",
      "metadata": {
        "id": "WH6ooio9CXKr",
        "colab_type": "text"
      },
      "source": [
        "If val loss decreases and then increases, it implies overfitting"
      ]
    },
    {
      "cell_type": "markdown",
      "metadata": {
        "id": "vSvwdAiJQvCw",
        "colab_type": "text"
      },
      "source": [
        "### Serializing the model to disk"
      ]
    },
    {
      "cell_type": "code",
      "metadata": {
        "id": "PAGMhTxFQtk9",
        "colab_type": "code",
        "colab": {
          "base_uri": "https://localhost:8080/",
          "height": 51
        },
        "outputId": "f7d8b7df-1cac-4e5d-8ca5-6a1ec738b9cf"
      },
      "source": [
        "from keras.models import model_from_json\n",
        "\n",
        "# serialize model to JSON\n",
        "model_json = model.to_json()\n",
        "\n",
        "with open(\"model.json\", \"w\") as json_file:\n",
        "    json_file.write(model_json)\n",
        "\n",
        "# save weights to HDF5\n",
        "model.save_weights(\"model.h5\")\n",
        "print(\"Model saved\")\n",
        "\n",
        "# when you want to retrieve the model: load json and create model\n",
        "json_file = open('model.json', 'r')\n",
        "saved_model = json_file.read()\n",
        "# close the file as good practice\n",
        "json_file.close()\n",
        "model_from_json = model_from_json(saved_model)\n",
        "# load weights into new model\n",
        "model_from_json.load_weights(\"model.h5\")\n",
        "print(\"Model loaded\")"
      ],
      "execution_count": 45,
      "outputs": [
        {
          "output_type": "stream",
          "text": [
            "Model saved\n",
            "Model loaded\n"
          ],
          "name": "stdout"
        }
      ]
    }
  ]
}