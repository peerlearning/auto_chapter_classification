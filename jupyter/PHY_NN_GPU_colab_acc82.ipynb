{
  "nbformat": 4,
  "nbformat_minor": 0,
  "metadata": {
    "kernelspec": {
      "name": "python3",
      "display_name": "Python 3"
    },
    "language_info": {
      "codemirror_mode": {
        "name": "ipython",
        "version": 3
      },
      "file_extension": ".py",
      "mimetype": "text/x-python",
      "name": "python",
      "nbconvert_exporter": "python",
      "pygments_lexer": "ipython3",
      "version": "3.6.7"
    },
    "colab": {
      "name": "PHY_NN_GPU_colab_acc82.ipynb",
      "provenance": [],
      "collapsed_sections": [],
      "toc_visible": true
    },
    "accelerator": "GPU"
  },
  "cells": [
    {
      "cell_type": "code",
      "metadata": {
        "id": "FyhFrCavKqO8",
        "colab_type": "code",
        "outputId": "1780c015-5389-46e9-8492-8cb303030866",
        "colab": {
          "base_uri": "https://localhost:8080/",
          "height": 34
        }
      },
      "source": [
        "## Scikit learn libraries\n",
        "from sklearn import model_selection, preprocessing, linear_model, naive_bayes, metrics, svm\n",
        "from sklearn.feature_extraction.text import TfidfVectorizer, CountVectorizer\n",
        "from sklearn.linear_model import LogisticRegression, SGDClassifier\n",
        "from sklearn.pipeline import make_pipeline\n",
        "from sklearn.ensemble import RandomForestClassifier\n",
        "from sklearn.preprocessing import LabelBinarizer, LabelEncoder\n",
        "\n",
        "## For NLP\n",
        "from bs4 import BeautifulSoup, Tag    ## Cleaning HTML tags from text\n",
        "import nltk, string\n",
        "from nltk.corpus import stopwords \n",
        "import re\n",
        "\n",
        "## Glove vectors\n",
        "from tqdm import tqdm                 ## Progress bar for loading GloVe embeddings\n",
        "from nltk import word_tokenize        ## For GloVe\n",
        "\n",
        "## Common Python libraries\n",
        "import pandas as pd\n",
        "import numpy as np\n",
        "import matplotlib.pyplot as plt\n",
        "import seaborn as sns\n",
        "from time import time\n",
        "\n",
        "## Data I/O\n",
        "import json     ## To convert json raw data to df\n",
        "import pickle   ## saving the model to disk\n",
        "\n",
        "import xgboost as xgb\n",
        "from scipy.stats import uniform, randint\n",
        "\n",
        "from tensorflow import keras\n",
        "from keras.models import Sequential\n",
        "from keras.layers.recurrent import LSTM, GRU\n",
        "from keras.layers.embeddings import Embedding\n",
        "from keras.layers import Dense, Activation, Dropout\n",
        "from keras.layers.normalization import BatchNormalization\n",
        "from keras.preprocessing import text, sequence\n",
        "from keras import utils\n",
        "from keras.callbacks import EarlyStopping\n",
        "from keras.utils import np_utils\n",
        "from keras.layers import GlobalMaxPooling1D, Conv1D, MaxPooling1D, Flatten, Bidirectional, SpatialDropout1D\n",
        "\n",
        "## Problem texts can be long and may not load on Jupyter\n",
        "pd.set_option('display.max_colwidth', -1)"
      ],
      "execution_count": 1,
      "outputs": [
        {
          "output_type": "stream",
          "text": [
            "Using TensorFlow backend.\n"
          ],
          "name": "stderr"
        }
      ]
    },
    {
      "cell_type": "code",
      "metadata": {
        "id": "LyfzUsDQWoVv",
        "colab_type": "code",
        "outputId": "6fd1f0a8-87bd-4c23-ef71-c3325ee827ab",
        "colab": {
          "base_uri": "https://localhost:8080/",
          "height": 34
        }
      },
      "source": [
        "## Check if GPU is loaded\n",
        "import tensorflow as tf \n",
        "tf.test.gpu_device_name() "
      ],
      "execution_count": 2,
      "outputs": [
        {
          "output_type": "execute_result",
          "data": {
            "text/plain": [
              "'/device:GPU:0'"
            ]
          },
          "metadata": {
            "tags": []
          },
          "execution_count": 2
        }
      ]
    },
    {
      "cell_type": "code",
      "metadata": {
        "id": "9D1ynV4LMRO1",
        "colab_type": "code",
        "outputId": "0986a47f-f793-4434-df01-07de5cd6903b",
        "colab": {
          "base_uri": "https://localhost:8080/",
          "height": 544
        }
      },
      "source": [
        "## Check specs of GPU\n",
        "from tensorflow.python.client import device_lib\n",
        "print(device_lib.list_local_devices())"
      ],
      "execution_count": 3,
      "outputs": [
        {
          "output_type": "stream",
          "text": [
            "[name: \"/device:CPU:0\"\n",
            "device_type: \"CPU\"\n",
            "memory_limit: 268435456\n",
            "locality {\n",
            "}\n",
            "incarnation: 11458346327084117496\n",
            ", name: \"/device:XLA_CPU:0\"\n",
            "device_type: \"XLA_CPU\"\n",
            "memory_limit: 17179869184\n",
            "locality {\n",
            "}\n",
            "incarnation: 7398526917588082570\n",
            "physical_device_desc: \"device: XLA_CPU device\"\n",
            ", name: \"/device:XLA_GPU:0\"\n",
            "device_type: \"XLA_GPU\"\n",
            "memory_limit: 17179869184\n",
            "locality {\n",
            "}\n",
            "incarnation: 2589489559239095514\n",
            "physical_device_desc: \"device: XLA_GPU device\"\n",
            ", name: \"/device:GPU:0\"\n",
            "device_type: \"GPU\"\n",
            "memory_limit: 11330115994\n",
            "locality {\n",
            "  bus_id: 1\n",
            "  links {\n",
            "  }\n",
            "}\n",
            "incarnation: 3234220936230565493\n",
            "physical_device_desc: \"device: 0, name: Tesla K80, pci bus id: 0000:00:04.0, compute capability: 3.7\"\n",
            "]\n"
          ],
          "name": "stdout"
        }
      ]
    },
    {
      "cell_type": "code",
      "metadata": {
        "id": "OUFQyj_hMxZP",
        "colab_type": "code",
        "outputId": "3963c29f-e871-4078-fc29-79f6b20ff974",
        "colab": {
          "base_uri": "https://localhost:8080/",
          "height": 289
        }
      },
      "source": [
        "!nvidia-smi"
      ],
      "execution_count": 4,
      "outputs": [
        {
          "output_type": "stream",
          "text": [
            "Mon Oct 21 11:28:19 2019       \n",
            "+-----------------------------------------------------------------------------+\n",
            "| NVIDIA-SMI 430.40       Driver Version: 418.67       CUDA Version: 10.1     |\n",
            "|-------------------------------+----------------------+----------------------+\n",
            "| GPU  Name        Persistence-M| Bus-Id        Disp.A | Volatile Uncorr. ECC |\n",
            "| Fan  Temp  Perf  Pwr:Usage/Cap|         Memory-Usage | GPU-Util  Compute M. |\n",
            "|===============================+======================+======================|\n",
            "|   0  Tesla K80           Off  | 00000000:00:04.0 Off |                    0 |\n",
            "| N/A   37C    P0    56W / 149W |     69MiB / 11441MiB |      0%      Default |\n",
            "+-------------------------------+----------------------+----------------------+\n",
            "                                                                               \n",
            "+-----------------------------------------------------------------------------+\n",
            "| Processes:                                                       GPU Memory |\n",
            "|  GPU       PID   Type   Process name                             Usage      |\n",
            "|=============================================================================|\n",
            "+-----------------------------------------------------------------------------+\n"
          ],
          "name": "stdout"
        }
      ]
    },
    {
      "cell_type": "code",
      "metadata": {
        "id": "Z-eX8GdSNGNH",
        "colab_type": "code",
        "colab": {
          "base_uri": "https://localhost:8080/",
          "height": 122
        },
        "outputId": "3dd0c9f1-db37-465d-c426-910fb13382d0"
      },
      "source": [
        "from google.colab import drive\n",
        "drive.mount('/content/gdrive')"
      ],
      "execution_count": 5,
      "outputs": [
        {
          "output_type": "stream",
          "text": [
            "Go to this URL in a browser: https://accounts.google.com/o/oauth2/auth?client_id=947318989803-6bn6qk8qdgf4n4g3pfee6491hc0brc4i.apps.googleusercontent.com&redirect_uri=urn%3Aietf%3Awg%3Aoauth%3A2.0%3Aoob&scope=email%20https%3A%2F%2Fwww.googleapis.com%2Fauth%2Fdocs.test%20https%3A%2F%2Fwww.googleapis.com%2Fauth%2Fdrive%20https%3A%2F%2Fwww.googleapis.com%2Fauth%2Fdrive.photos.readonly%20https%3A%2F%2Fwww.googleapis.com%2Fauth%2Fpeopleapi.readonly&response_type=code\n",
            "\n",
            "Enter your authorization code:\n",
            "··········\n",
            "Mounted at /content/gdrive\n"
          ],
          "name": "stdout"
        }
      ]
    },
    {
      "cell_type": "code",
      "metadata": {
        "id": "I-7I0vr_NWEH",
        "colab_type": "code",
        "colab": {
          "base_uri": "https://localhost:8080/",
          "height": 34
        },
        "outputId": "d91ac196-06ff-43b8-c9c4-aee5515f1945"
      },
      "source": [
        "!ls"
      ],
      "execution_count": 6,
      "outputs": [
        {
          "output_type": "stream",
          "text": [
            "gdrive\tsample_data\n"
          ],
          "name": "stdout"
        }
      ]
    },
    {
      "cell_type": "code",
      "metadata": {
        "id": "MilVPfeQNuaz",
        "colab_type": "code",
        "colab": {}
      },
      "source": [
        "#!mkdir \"/content/gdrive/My Drive/chapter_clf/\"\n",
        "#!cd \"/content/gdrive/My Drive/chapter_clf/\""
      ],
      "execution_count": 0,
      "outputs": []
    },
    {
      "cell_type": "code",
      "metadata": {
        "id": "qdaPZnodP6-d",
        "colab_type": "code",
        "colab": {}
      },
      "source": [
        "#!mv qs_topicwise.json 'gdrive/My Drive/chapter_clf'"
      ],
      "execution_count": 0,
      "outputs": []
    },
    {
      "cell_type": "code",
      "metadata": {
        "id": "-ryuwcU2QSuh",
        "colab_type": "code",
        "colab": {
          "base_uri": "https://localhost:8080/",
          "height": 102
        },
        "outputId": "9730861b-0b52-48e2-fca2-f2096ff42430"
      },
      "source": [
        "nltk.download('stopwords')\n",
        "nltk.download('punkt')"
      ],
      "execution_count": 7,
      "outputs": [
        {
          "output_type": "stream",
          "text": [
            "[nltk_data] Downloading package stopwords to /root/nltk_data...\n",
            "[nltk_data]   Unzipping corpora/stopwords.zip.\n",
            "[nltk_data] Downloading package punkt to /root/nltk_data...\n",
            "[nltk_data]   Unzipping tokenizers/punkt.zip.\n"
          ],
          "name": "stdout"
        },
        {
          "output_type": "execute_result",
          "data": {
            "text/plain": [
              "True"
            ]
          },
          "metadata": {
            "tags": []
          },
          "execution_count": 7
        }
      ]
    },
    {
      "cell_type": "markdown",
      "metadata": {
        "id": "6pOlADYOKqPF",
        "colab_type": "text"
      },
      "source": [
        "## Extract subject wise training data"
      ]
    },
    {
      "cell_type": "code",
      "metadata": {
        "id": "XdfG3XqGKqPG",
        "colab_type": "code",
        "colab": {
          "base_uri": "https://localhost:8080/",
          "height": 193
        },
        "outputId": "e20a09c9-69c9-482c-8807-65daa0c3acfb"
      },
      "source": [
        "# Load the dataset and show sample question\n",
        "with open('/content/gdrive/My Drive/chapter_clf/qs_topicwise.json') as json_data:\n",
        "    all_questions = json.load(json_data)\n",
        "\n",
        "subject_model = ['PHY']\n",
        "\n",
        "## Create empty df \n",
        "data_df = pd.DataFrame(columns=['code', 'curriculum', 'subject', 'grade', 'question_text', 'chapter'])\n",
        "\n",
        "## Removing these words improves Phy clf accuracy by 2% but improves Math classifier accuracy\n",
        "words_to_remove = [\"rightarrow\", \"hence\", \"frac\", \"text\", \"sqrt\", \"times\", \n",
        "                   \"value\", \"amp\", \"statement\", \"will\", \"equal\", \"number\", \n",
        "                   \"tan\", \"now\", \"can\", \"two\", \"get\", \"true\", \"lambda\", \"a\", \"an\", \"the\"]\n",
        "stop_words = stopwords.words('english')         ## Downloaded from NLTK\n",
        "'''\n",
        "for PHY - removing Stopwords reduce acc & f1 score : 67% -> 63%, 74% -> 72%\n",
        "for CHM - removing Stopwords reduce acc & f1 score by 6%\n",
        "for MTH - \n",
        "'''\n",
        "\n",
        "## Remove dummy and empty chapters\n",
        "chapters_to_remove = ['Selection Test', 'Repository', 'Bridge Intervention Curriculum', \n",
        "                      'M1.1 Scaffold test', 'Tally Marks', 'Dummy']\n",
        "chapters_with_no_data = ['Static Electricity', 'Experimental Skills', 'Nuclear Chemistry', \n",
        "                         'Principle of Mathematical Induction', 'Environmental Chemistry']\n",
        "\n",
        "## Regex pattern for alpha numeric - Improves accuracy & f1-score for Phy by 2%\n",
        "pattern = re.compile('[\\W_]+')\n",
        "\n",
        "i = 0\n",
        "for question in all_questions:\n",
        "    try: \n",
        "        question_text = question['question_text'].lower()\n",
        "        ## Remove HTML tags from text using Beautiful Soup\n",
        "        '''\n",
        "        For MTH, it improves accuracy from 40% to 60% in MTH, \n",
        "        For PHY, it reduces accuracy from 60% to 20%. \n",
        "        For CHM, it increases accuracy from 50% to 52% \n",
        "        '''\n",
        "        question_text = BeautifulSoup(question_text, \"html.parser\").get_text() \n",
        "        ## Remove numbers\n",
        "        '''\n",
        "        For PHY, removing nos improved accuracy & F1 score by 0.5%\n",
        "        For CHM, removing nos improved acc by 2%\n",
        "        '''\n",
        "        question_text = ''.join(c for c in question_text if not c.isdigit())\n",
        "        ## Regex pattern for alpha numeric text\n",
        "        '''\n",
        "        For CHM, removing this regex improved score by 9%\n",
        "        '''\n",
        "        question_text = pattern.sub(\" \", question_text)\n",
        "        ## Remove stop words\n",
        "        '''\n",
        "        For CHM, keeping both sets of words, instead of removing them improved acc by 5%\n",
        "        '''\n",
        "        #question_text = \" \".join([word for word in question_text.split() if word not in words_to_remove])\n",
        "        #question_text = \" \".join([word for word in question_text.split() if word not in stop_words])\n",
        "        ## Remove extra whitespaces\n",
        "        question_text = \" \".join(question_text.split()) \n",
        "        ## Extracting elements for cleaner code\n",
        "        grade = question['grade']\n",
        "        curriculum = question['curriculum']\n",
        "        chapter = question['chapter']\n",
        "        subject = question['subject']\n",
        "        ## Filtering each question from JSON to add relevant Qs to dataframe \n",
        "        if(    \"JEE\" in curriculum and grade in [\"11\", \"12\"] and\n",
        "               chapter not in chapters_to_remove and\n",
        "               chapter not in chapters_with_no_data and\n",
        "               \"dummy\" not in question_text and subject in subject_model):\n",
        "                data_df.loc[i] = [question['problem_code'],curriculum, subject, \\\n",
        "                                  grade, question_text, chapter]\n",
        "                i += 1\n",
        "    except:\n",
        "            pass\n",
        "\n",
        "trainDF = pd.DataFrame(columns=['text', 'label'])\n",
        "trainDF['text'] = data_df['question_text']\n",
        "trainDF['label'] = data_df['chapter']\n",
        "trainDF.head(3)"
      ],
      "execution_count": 8,
      "outputs": [
        {
          "output_type": "execute_result",
          "data": {
            "text/html": [
              "<div>\n",
              "<style scoped>\n",
              "    .dataframe tbody tr th:only-of-type {\n",
              "        vertical-align: middle;\n",
              "    }\n",
              "\n",
              "    .dataframe tbody tr th {\n",
              "        vertical-align: top;\n",
              "    }\n",
              "\n",
              "    .dataframe thead th {\n",
              "        text-align: right;\n",
              "    }\n",
              "</style>\n",
              "<table border=\"1\" class=\"dataframe\">\n",
              "  <thead>\n",
              "    <tr style=\"text-align: right;\">\n",
              "      <th></th>\n",
              "      <th>text</th>\n",
              "      <th>label</th>\n",
              "    </tr>\n",
              "  </thead>\n",
              "  <tbody>\n",
              "    <tr>\n",
              "      <th>0</th>\n",
              "      <td>which of the following changes can increase the stopping potential</td>\n",
              "      <td>Modern Physics</td>\n",
              "    </tr>\n",
              "    <tr>\n",
              "      <th>1</th>\n",
              "      <td>keeping the frequency as well the intensity of light source constant if we gradually increase the potential of anode giving it a positive potential w r t cathode</td>\n",
              "      <td>Modern Physics</td>\n",
              "    </tr>\n",
              "    <tr>\n",
              "      <th>2</th>\n",
              "      <td>two photons photon photon are travelling in vacuum consider the following cases case when the photons are travelling in same direction case when the photons are travelling in opposite directions the speed of photon w r t photon</td>\n",
              "      <td>Modern Physics</td>\n",
              "    </tr>\n",
              "  </tbody>\n",
              "</table>\n",
              "</div>"
            ],
            "text/plain": [
              "                                                                                                                                                                                                                                  text           label\n",
              "0  which of the following changes can increase the stopping potential                                                                                                                                                                   Modern Physics\n",
              "1  keeping the frequency as well the intensity of light source constant if we gradually increase the potential of anode giving it a positive potential w r t cathode                                                                    Modern Physics\n",
              "2  two photons photon photon are travelling in vacuum consider the following cases case when the photons are travelling in same direction case when the photons are travelling in opposite directions the speed of photon w r t photon  Modern Physics"
            ]
          },
          "metadata": {
            "tags": []
          },
          "execution_count": 8
        }
      ]
    },
    {
      "cell_type": "code",
      "metadata": {
        "id": "_hX9siu4KqPL",
        "colab_type": "code",
        "colab": {
          "base_uri": "https://localhost:8080/",
          "height": 543
        },
        "outputId": "19b73710-5c39-4e77-c3a9-66273d72b8d1"
      },
      "source": [
        "trainDF.label.value_counts().plot(kind=\"bar\")"
      ],
      "execution_count": 9,
      "outputs": [
        {
          "output_type": "execute_result",
          "data": {
            "text/plain": [
              "<matplotlib.axes._subplots.AxesSubplot at 0x7f77700f4eb8>"
            ]
          },
          "metadata": {
            "tags": []
          },
          "execution_count": 9
        },
        {
          "output_type": "display_data",
          "data": {
            "image/png": "[encoded data removed]",
            "text/plain": [
              "<Figure size 432x288 with 1 Axes>"
            ]
          },
          "metadata": {
            "tags": []
          }
        }
      ]
    },
    {
      "cell_type": "markdown",
      "metadata": {
        "id": "m_ZK4Qg8KqPO",
        "colab_type": "text"
      },
      "source": [
        "### Train test split"
      ]
    },
    {
      "cell_type": "code",
      "metadata": {
        "id": "vSDGTqnjKqPP",
        "colab_type": "code",
        "colab": {
          "base_uri": "https://localhost:8080/",
          "height": 34
        },
        "outputId": "764615ff-f53f-45e6-b54b-1367bb4a5423"
      },
      "source": [
        "train_x, valid_x, train_y, valid_y = model_selection.train_test_split(trainDF['text'], trainDF['label'], test_size=0.2)\n",
        "print(len(train_x), len(valid_x) )"
      ],
      "execution_count": 10,
      "outputs": [
        {
          "output_type": "stream",
          "text": [
            "8061 2016\n"
          ],
          "name": "stdout"
        }
      ]
    },
    {
      "cell_type": "markdown",
      "metadata": {
        "id": "B9vth4XuKqPR",
        "colab_type": "text"
      },
      "source": [
        "#### Label Encoding\n",
        "Label encoding is not needed for sklearn classifiers, as they are all capable of mutli-class classification, and handle label encoding automatically. Source :  https://stackoverflow.com/questions/51525043/encoding-labels-for-multi-class-problems-in-sckit-learn\n",
        "\n",
        "For non-sklearn models like NNs or XGB, we need to do label encoding"
      ]
    },
    {
      "cell_type": "code",
      "metadata": {
        "id": "kZl09n_hKqPT",
        "colab_type": "code",
        "colab": {
          "base_uri": "https://localhost:8080/",
          "height": 34
        },
        "outputId": "57034573-b4ac-4fc9-d7d5-60c86aa419a3"
      },
      "source": [
        "# Use sklearn utility to convert label strings to numbered index\n",
        "encoder = LabelEncoder()\n",
        "encoder.fit(train_y)\n",
        "train_y = encoder.transform(train_y)\n",
        "valid_y = encoder.transform(valid_y)\n",
        "valid_y[0:5]"
      ],
      "execution_count": 11,
      "outputs": [
        {
          "output_type": "execute_result",
          "data": {
            "text/plain": [
              "array([19, 12,  4, 18, 12])"
            ]
          },
          "metadata": {
            "tags": []
          },
          "execution_count": 11
        }
      ]
    },
    {
      "cell_type": "markdown",
      "metadata": {
        "id": "GXrF04ttKqPW",
        "colab_type": "text"
      },
      "source": [
        "### Glove vectors\n",
        "Loading GloVe embeddings from Standford dataset : http://www-nlp.stanford.edu/data/glove.840B.300d.zip\n",
        "\n",
        "Already stored in Google Drive. \n",
        "Downloading takes roughly takes 16-20 mins\n"
      ]
    },
    {
      "cell_type": "code",
      "metadata": {
        "id": "zByOEh9jQxHx",
        "colab_type": "code",
        "colab": {}
      },
      "source": [
        "#!curl 'http://downloads.cs.stanford.edu/nlp/data/glove.840B.300d.zip' --output 'glove.840B.300d.zip'\n",
        "## Opening zip file\n",
        "#!unzip 'glove.840B.300d.zip' "
      ],
      "execution_count": 0,
      "outputs": []
    },
    {
      "cell_type": "code",
      "metadata": {
        "id": "OALafDQcKqPX",
        "colab_type": "code",
        "colab": {
          "base_uri": "https://localhost:8080/",
          "height": 51
        },
        "outputId": "73d173d5-fd9a-4f73-f0a7-17d622ae60e6"
      },
      "source": [
        "## Source - https://www.kaggle.com/abhishek/approaching-almost-any-nlp-problem-on-kaggle\n",
        "## Load the GloVe vectors in a dictionary. Create a map of words to vectors\n",
        "## Roughly takes 3-4 mins\n",
        "\n",
        "embeddings_index = {}\n",
        "f = open('/content/gdrive/My Drive/chapter_clf/glove.840B.300d.txt', 'r', encoding='utf8', errors = 'ignore')\n",
        "\n",
        "for line in tqdm(f):     ## tqdm adds a progress bar\n",
        "    values = line.split()\n",
        "    word = ''.join(values[:-300])\n",
        "    coefs = np.asarray(values[-300:], dtype='float32')\n",
        "    embeddings_index[word] = coefs\n",
        "f.close()\n",
        "\n",
        "print('Found %s word vectors.' % len(embeddings_index))"
      ],
      "execution_count": 12,
      "outputs": [
        {
          "output_type": "stream",
          "text": [
            "2196017it [03:47, 9635.48it/s] "
          ],
          "name": "stderr"
        },
        {
          "output_type": "stream",
          "text": [
            "Found 2195892 word vectors.\n"
          ],
          "name": "stdout"
        },
        {
          "output_type": "stream",
          "text": [
            "\n"
          ],
          "name": "stderr"
        }
      ]
    },
    {
      "cell_type": "code",
      "metadata": {
        "id": "7GaJjuadKqPa",
        "colab_type": "code",
        "colab": {}
      },
      "source": [
        "# this function creates a normalized vector for the whole sentence\n",
        "def sent2vec(s):\n",
        "    words = str(s).lower()\n",
        "    words = word_tokenize(words)\n",
        "    words = [w for w in words if not w in stop_words]\n",
        "    words = [w for w in words if w.isalpha()]\n",
        "    M = []\n",
        "    for w in words:\n",
        "        try:\n",
        "            M.append(embeddings_index[w])\n",
        "        except:\n",
        "            continue\n",
        "    M = np.array(M)\n",
        "    v = M.sum(axis=0)\n",
        "    if type(v) != np.ndarray:\n",
        "        return np.zeros(300)\n",
        "    return v / np.sqrt((v ** 2).sum())"
      ],
      "execution_count": 0,
      "outputs": []
    },
    {
      "cell_type": "code",
      "metadata": {
        "id": "fKLWsOKrKqPd",
        "colab_type": "code",
        "colab": {
          "base_uri": "https://localhost:8080/",
          "height": 51
        },
        "outputId": "2249b3b8-2c63-411d-f966-43c2e50fe281"
      },
      "source": [
        "# create sentence vectors using the above function for training and validation set\n",
        "xtrain_glove = [sent2vec(x) for x in tqdm(train_x)]\n",
        "xvalid_glove = [sent2vec(x) for x in tqdm(valid_x)]"
      ],
      "execution_count": 14,
      "outputs": [
        {
          "output_type": "stream",
          "text": [
            "100%|██████████| 8061/8061 [00:03<00:00, 2622.42it/s]\n",
            "100%|██████████| 2016/2016 [00:00<00:00, 2649.97it/s]\n"
          ],
          "name": "stderr"
        }
      ]
    },
    {
      "cell_type": "code",
      "metadata": {
        "id": "fkLA6rF-KqPf",
        "colab_type": "code",
        "colab": {}
      },
      "source": [
        "xtrain_glove = np.array(xtrain_glove)\n",
        "xvalid_glove = np.array(xvalid_glove)"
      ],
      "execution_count": 0,
      "outputs": []
    },
    {
      "cell_type": "markdown",
      "metadata": {
        "id": "b24qzG3AKqPi",
        "colab_type": "text"
      },
      "source": [
        "### Trying LSTM on GloVe features\n",
        "Source : https://www.kaggle.com/abhishek/approaching-almost-any-nlp-problem-on-kaggle"
      ]
    },
    {
      "cell_type": "code",
      "metadata": {
        "id": "kW1eRINrKqPj",
        "colab_type": "code",
        "colab": {}
      },
      "source": [
        "# scale the data before any neural net:\n",
        "scl = preprocessing.StandardScaler()\n",
        "xtrain_glove_scl = scl.fit_transform(xtrain_glove)\n",
        "xvalid_glove_scl = scl.transform(xvalid_glove)"
      ],
      "execution_count": 0,
      "outputs": []
    },
    {
      "cell_type": "code",
      "metadata": {
        "id": "utu4FtQVKqPl",
        "colab_type": "code",
        "colab": {}
      },
      "source": [
        "# we need to binarize the labels for the neural net\n",
        "ytrain_enc = np_utils.to_categorical(train_y)\n",
        "yvalid_enc = np_utils.to_categorical(valid_y)"
      ],
      "execution_count": 0,
      "outputs": []
    },
    {
      "cell_type": "code",
      "metadata": {
        "id": "hb1QDlPnKqPn",
        "colab_type": "code",
        "colab": {
          "base_uri": "https://localhost:8080/",
          "height": 34
        },
        "outputId": "23a98c99-281e-45cb-b682-68416e8e553b"
      },
      "source": [
        "### No of classes in the last layer - No of labels to classify\n",
        "last_layer = len(ytrain_enc[0])\n",
        "print(last_layer)"
      ],
      "execution_count": 18,
      "outputs": [
        {
          "output_type": "stream",
          "text": [
            "26\n"
          ],
          "name": "stdout"
        }
      ]
    },
    {
      "cell_type": "code",
      "metadata": {
        "id": "GSGzZzVIKqPq",
        "colab_type": "code",
        "colab": {
          "base_uri": "https://localhost:8080/",
          "height": 700
        },
        "outputId": "af38520f-c894-441b-d0d3-385eaca96ebd"
      },
      "source": [
        "# create a simple 3 layer sequential neural net\n",
        "model = Sequential()\n",
        "\n",
        "model.add(Dense(300, input_dim=300, activation='relu'))\n",
        "model.add(Dropout(0.2))\n",
        "model.add(BatchNormalization())\n",
        "\n",
        "model.add(Dense(300, activation='relu'))\n",
        "model.add(Dropout(0.3))\n",
        "model.add(BatchNormalization())\n",
        "\n",
        "model.add(Dense(last_layer))                       ## No of classes to predict\n",
        "model.add(Activation('softmax'))\n",
        "model.summary()\n",
        "# compile the model\n",
        "model.compile(loss='categorical_crossentropy', optimizer='adam', metrics=['acc'])"
      ],
      "execution_count": 19,
      "outputs": [
        {
          "output_type": "stream",
          "text": [
            "WARNING:tensorflow:From /usr/local/lib/python3.6/dist-packages/keras/backend/tensorflow_backend.py:66: The name tf.get_default_graph is deprecated. Please use tf.compat.v1.get_default_graph instead.\n",
            "\n",
            "WARNING:tensorflow:From /usr/local/lib/python3.6/dist-packages/keras/backend/tensorflow_backend.py:541: The name tf.placeholder is deprecated. Please use tf.compat.v1.placeholder instead.\n",
            "\n",
            "WARNING:tensorflow:From /usr/local/lib/python3.6/dist-packages/keras/backend/tensorflow_backend.py:4432: The name tf.random_uniform is deprecated. Please use tf.random.uniform instead.\n",
            "\n",
            "WARNING:tensorflow:From /usr/local/lib/python3.6/dist-packages/keras/backend/tensorflow_backend.py:148: The name tf.placeholder_with_default is deprecated. Please use tf.compat.v1.placeholder_with_default instead.\n",
            "\n",
            "WARNING:tensorflow:From /usr/local/lib/python3.6/dist-packages/keras/backend/tensorflow_backend.py:3733: calling dropout (from tensorflow.python.ops.nn_ops) with keep_prob is deprecated and will be removed in a future version.\n",
            "Instructions for updating:\n",
            "Please use `rate` instead of `keep_prob`. Rate should be set to `rate = 1 - keep_prob`.\n",
            "Model: \"sequential_1\"\n",
            "_________________________________________________________________\n",
            "Layer (type)                 Output Shape              Param #   \n",
            "=================================================================\n",
            "dense_1 (Dense)              (None, 300)               90300     \n",
            "_________________________________________________________________\n",
            "dropout_1 (Dropout)          (None, 300)               0         \n",
            "_________________________________________________________________\n",
            "batch_normalization_1 (Batch (None, 300)               1200      \n",
            "_________________________________________________________________\n",
            "dense_2 (Dense)              (None, 300)               90300     \n",
            "_________________________________________________________________\n",
            "dropout_2 (Dropout)          (None, 300)               0         \n",
            "_________________________________________________________________\n",
            "batch_normalization_2 (Batch (None, 300)               1200      \n",
            "_________________________________________________________________\n",
            "dense_3 (Dense)              (None, 26)                7826      \n",
            "_________________________________________________________________\n",
            "activation_1 (Activation)    (None, 26)                0         \n",
            "=================================================================\n",
            "Total params: 190,826\n",
            "Trainable params: 189,626\n",
            "Non-trainable params: 1,200\n",
            "_________________________________________________________________\n",
            "WARNING:tensorflow:From /usr/local/lib/python3.6/dist-packages/keras/optimizers.py:793: The name tf.train.Optimizer is deprecated. Please use tf.compat.v1.train.Optimizer instead.\n",
            "\n",
            "WARNING:tensorflow:From /usr/local/lib/python3.6/dist-packages/keras/backend/tensorflow_backend.py:3576: The name tf.log is deprecated. Please use tf.math.log instead.\n",
            "\n"
          ],
          "name": "stdout"
        }
      ]
    },
    {
      "cell_type": "code",
      "metadata": {
        "id": "PBt4502lKqPu",
        "colab_type": "code",
        "colab": {
          "base_uri": "https://localhost:8080/",
          "height": 734
        },
        "outputId": "911576c6-5819-4944-a870-c7f40f05c2bd"
      },
      "source": [
        "start = time()\n",
        "history = model.fit(xtrain_glove_scl, y=ytrain_enc, batch_size=64, \n",
        "          epochs=10, verbose=1, \n",
        "          validation_data=(xvalid_glove_scl, yvalid_enc))\n",
        "end = time()\n",
        "print('Total training time {} seconds'.format(end - start))"
      ],
      "execution_count": 20,
      "outputs": [
        {
          "output_type": "stream",
          "text": [
            "WARNING:tensorflow:From /usr/local/lib/python3.6/dist-packages/tensorflow_core/python/ops/math_grad.py:1424: where (from tensorflow.python.ops.array_ops) is deprecated and will be removed in a future version.\n",
            "Instructions for updating:\n",
            "Use tf.where in 2.0, which has the same broadcast rule as np.where\n",
            "WARNING:tensorflow:From /usr/local/lib/python3.6/dist-packages/keras/backend/tensorflow_backend.py:1033: The name tf.assign_add is deprecated. Please use tf.compat.v1.assign_add instead.\n",
            "\n",
            "WARNING:tensorflow:From /usr/local/lib/python3.6/dist-packages/keras/backend/tensorflow_backend.py:1020: The name tf.assign is deprecated. Please use tf.compat.v1.assign instead.\n",
            "\n",
            "WARNING:tensorflow:From /usr/local/lib/python3.6/dist-packages/keras/backend/tensorflow_backend.py:3005: The name tf.Session is deprecated. Please use tf.compat.v1.Session instead.\n",
            "\n",
            "Train on 8061 samples, validate on 2016 samples\n",
            "Epoch 1/10\n",
            "WARNING:tensorflow:From /usr/local/lib/python3.6/dist-packages/keras/backend/tensorflow_backend.py:190: The name tf.get_default_session is deprecated. Please use tf.compat.v1.get_default_session instead.\n",
            "\n",
            "WARNING:tensorflow:From /usr/local/lib/python3.6/dist-packages/keras/backend/tensorflow_backend.py:197: The name tf.ConfigProto is deprecated. Please use tf.compat.v1.ConfigProto instead.\n",
            "\n",
            "WARNING:tensorflow:From /usr/local/lib/python3.6/dist-packages/keras/backend/tensorflow_backend.py:207: The name tf.global_variables is deprecated. Please use tf.compat.v1.global_variables instead.\n",
            "\n",
            "WARNING:tensorflow:From /usr/local/lib/python3.6/dist-packages/keras/backend/tensorflow_backend.py:216: The name tf.is_variable_initialized is deprecated. Please use tf.compat.v1.is_variable_initialized instead.\n",
            "\n",
            "WARNING:tensorflow:From /usr/local/lib/python3.6/dist-packages/keras/backend/tensorflow_backend.py:223: The name tf.variables_initializer is deprecated. Please use tf.compat.v1.variables_initializer instead.\n",
            "\n",
            "8061/8061 [==============================] - 5s 667us/step - loss: 1.7258 - acc: 0.5197 - val_loss: 0.9702 - val_acc: 0.7267\n",
            "Epoch 2/10\n",
            "8061/8061 [==============================] - 1s 153us/step - loss: 0.9919 - acc: 0.7093 - val_loss: 0.8520 - val_acc: 0.7535\n",
            "Epoch 3/10\n",
            "8061/8061 [==============================] - 1s 154us/step - loss: 0.8172 - acc: 0.7533 - val_loss: 0.7824 - val_acc: 0.7708\n",
            "Epoch 4/10\n",
            "8061/8061 [==============================] - 1s 152us/step - loss: 0.7019 - acc: 0.7859 - val_loss: 0.7744 - val_acc: 0.7768\n",
            "Epoch 5/10\n",
            "8061/8061 [==============================] - 1s 161us/step - loss: 0.6185 - acc: 0.8101 - val_loss: 0.7783 - val_acc: 0.7783\n",
            "Epoch 6/10\n",
            "8061/8061 [==============================] - 1s 154us/step - loss: 0.5573 - acc: 0.8258 - val_loss: 0.7570 - val_acc: 0.7872\n",
            "Epoch 7/10\n",
            "8061/8061 [==============================] - 1s 156us/step - loss: 0.5045 - acc: 0.8460 - val_loss: 0.7774 - val_acc: 0.7867\n",
            "Epoch 8/10\n",
            "8061/8061 [==============================] - 1s 148us/step - loss: 0.4671 - acc: 0.8516 - val_loss: 0.7618 - val_acc: 0.7847\n",
            "Epoch 9/10\n",
            "8061/8061 [==============================] - 1s 148us/step - loss: 0.4273 - acc: 0.8640 - val_loss: 0.7609 - val_acc: 0.7927\n",
            "Epoch 10/10\n",
            "8061/8061 [==============================] - 1s 159us/step - loss: 0.3868 - acc: 0.8777 - val_loss: 0.7613 - val_acc: 0.7872\n",
            "Total training time 17.486376762390137 seconds\n"
          ],
          "name": "stdout"
        }
      ]
    },
    {
      "cell_type": "code",
      "metadata": {
        "id": "E5xqjKwCu08G",
        "colab_type": "code",
        "colab": {}
      },
      "source": [
        "## Function to plot the history of accuracy & loss across epochs\n",
        "def plot_history(history):\n",
        "  # list all data in history\n",
        "  print(history.history.keys())\n",
        "  # summarize history for accuracy\n",
        "  plt.plot(history.history['acc'])\n",
        "  plt.plot(history.history['val_acc'])\n",
        "  plt.ylim(ymin=0)\n",
        "  plt.title('model accuracy')\n",
        "  plt.ylabel('accuracy')\n",
        "  plt.xlabel('epoch')\n",
        "  plt.legend(['train', 'test'], loc='upper left')\n",
        "  plt.show()\n",
        "  # summarize history for loss\n",
        "  plt.plot(history.history['loss'])\n",
        "  plt.plot(history.history['val_loss'])\n",
        "  plt.ylim(ymin=0)\n",
        "  plt.title('model loss')\n",
        "  plt.ylabel('loss')\n",
        "  plt.xlabel('epoch')\n",
        "  plt.legend(['train', 'test'], loc='upper left')\n",
        "  plt.show()"
      ],
      "execution_count": 0,
      "outputs": []
    },
    {
      "cell_type": "code",
      "metadata": {
        "id": "IjOurLsR2E3t",
        "colab_type": "code",
        "colab": {
          "base_uri": "https://localhost:8080/",
          "height": 641
        },
        "outputId": "fb851403-852c-47e7-ec8d-1c793c0cab70"
      },
      "source": [
        "plot_history(history)"
      ],
      "execution_count": 22,
      "outputs": [
        {
          "output_type": "stream",
          "text": [
            "dict_keys(['val_loss', 'val_acc', 'loss', 'acc'])\n"
          ],
          "name": "stdout"
        },
        {
          "output_type": "stream",
          "text": [
            "/usr/local/lib/python3.6/dist-packages/matplotlib/axes/_base.py:3604: MatplotlibDeprecationWarning: \n",
            "The `ymin` argument was deprecated in Matplotlib 3.0 and will be removed in 3.2. Use `bottom` instead.\n",
            "  alternative='`bottom`', obj_type='argument')\n"
          ],
          "name": "stderr"
        },
        {
          "output_type": "display_data",
          "data": {
            "image/png": "[encoded data removed]",
            "text/plain": [
              "<Figure size 432x288 with 1 Axes>"
            ]
          },
          "metadata": {
            "tags": []
          }
        },
        {
          "output_type": "display_data",
          "data": {
            "image/png": "[encoded data removed]",
            "text/plain": [
              "<Figure size 432x288 with 1 Axes>"
            ]
          },
          "metadata": {
            "tags": []
          }
        }
      ]
    },
    {
      "cell_type": "markdown",
      "metadata": {
        "id": "1aX078MDKqPx",
        "colab_type": "text"
      },
      "source": [
        "#### Much higher validation accuracy than what we've seen with other algorithms with a very simple network and no hyper-param tuning"
      ]
    },
    {
      "cell_type": "code",
      "metadata": {
        "id": "HLc1vpU0KqPy",
        "colab_type": "code",
        "colab": {}
      },
      "source": [
        "# using keras tokenizer here\n",
        "token = text.Tokenizer(num_words=None)\n",
        "max_len = 70\n",
        "\n",
        "token.fit_on_texts(list(train_x) + list(valid_x))\n",
        "xtrain_seq = token.texts_to_sequences(train_x)\n",
        "xvalid_seq = token.texts_to_sequences(valid_x)\n",
        "\n",
        "# zero pad the sequences\n",
        "xtrain_pad = sequence.pad_sequences(xtrain_seq, maxlen=max_len)\n",
        "xvalid_pad = sequence.pad_sequences(xvalid_seq, maxlen=max_len)\n",
        "\n",
        "word_index = token.word_index"
      ],
      "execution_count": 0,
      "outputs": []
    },
    {
      "cell_type": "code",
      "metadata": {
        "id": "gH_ZQd-ZKqP0",
        "colab_type": "code",
        "colab": {
          "base_uri": "https://localhost:8080/",
          "height": 34
        },
        "outputId": "de322d25-0f8f-4f70-c7d8-2b1d6406e7e0"
      },
      "source": [
        "# create an embedding matrix for the words we have in the dataset\n",
        "embedding_matrix = np.zeros((len(word_index) + 1, 300))\n",
        "for word, i in tqdm(word_index.items()):\n",
        "    embedding_vector = embeddings_index.get(word)\n",
        "    if embedding_vector is not None:\n",
        "        embedding_matrix[i] = embedding_vector"
      ],
      "execution_count": 24,
      "outputs": [
        {
          "output_type": "stream",
          "text": [
            "100%|██████████| 6565/6565 [00:00<00:00, 356896.11it/s]\n"
          ],
          "name": "stderr"
        }
      ]
    },
    {
      "cell_type": "code",
      "metadata": {
        "id": "FrixrtLBKqP2",
        "colab_type": "code",
        "colab": {
          "base_uri": "https://localhost:8080/",
          "height": 459
        },
        "outputId": "693c3e96-dcb2-4c9c-832c-dff7fe4b4f94"
      },
      "source": [
        "# A simple LSTM with glove embeddings and two dense layers\n",
        "model = Sequential()\n",
        "model.add(Embedding(len(word_index) + 1,\n",
        "                     300,\n",
        "                     weights=[embedding_matrix],\n",
        "                     input_length=max_len,\n",
        "                     trainable=False))\n",
        "model.add(SpatialDropout1D(0.3))\n",
        "model.add(LSTM(100, dropout=0.3, recurrent_dropout=0.3))\n",
        "\n",
        "model.add(Dense(1024, activation='relu'))\n",
        "model.add(Dropout(0.5))\n",
        "\n",
        "model.add(Dense(1024, activation='relu'))\n",
        "model.add(Dropout(0.5))\n",
        "\n",
        "model.add(Dense(last_layer))                            ## Num of classes to predict\n",
        "model.add(Activation('softmax'))\n",
        "model.compile(loss='categorical_crossentropy', optimizer='adam', metrics=['acc'])\n",
        "model.summary()"
      ],
      "execution_count": 25,
      "outputs": [
        {
          "output_type": "stream",
          "text": [
            "Model: \"sequential_2\"\n",
            "_________________________________________________________________\n",
            "Layer (type)                 Output Shape              Param #   \n",
            "=================================================================\n",
            "embedding_1 (Embedding)      (None, 70, 300)           1969800   \n",
            "_________________________________________________________________\n",
            "spatial_dropout1d_1 (Spatial (None, 70, 300)           0         \n",
            "_________________________________________________________________\n",
            "lstm_1 (LSTM)                (None, 100)               160400    \n",
            "_________________________________________________________________\n",
            "dense_4 (Dense)              (None, 1024)              103424    \n",
            "_________________________________________________________________\n",
            "dropout_3 (Dropout)          (None, 1024)              0         \n",
            "_________________________________________________________________\n",
            "dense_5 (Dense)              (None, 1024)              1049600   \n",
            "_________________________________________________________________\n",
            "dropout_4 (Dropout)          (None, 1024)              0         \n",
            "_________________________________________________________________\n",
            "dense_6 (Dense)              (None, 26)                26650     \n",
            "_________________________________________________________________\n",
            "activation_2 (Activation)    (None, 26)                0         \n",
            "=================================================================\n",
            "Total params: 3,309,874\n",
            "Trainable params: 1,340,074\n",
            "Non-trainable params: 1,969,800\n",
            "_________________________________________________________________\n"
          ],
          "name": "stdout"
        }
      ]
    },
    {
      "cell_type": "code",
      "metadata": {
        "id": "jBL6DSu0KqP4",
        "colab_type": "code",
        "colab": {
          "base_uri": "https://localhost:8080/",
          "height": 1000
        },
        "outputId": "005d6a7e-be0c-44b4-e06b-99300df2026d"
      },
      "source": [
        "start = time()\n",
        "history = model.fit(xtrain_pad, y=ytrain_enc, batch_size=512, epochs=100, verbose=1, validation_data=(xvalid_pad, yvalid_enc))\n",
        "end = time()\n",
        "print('Total training time {} seconds'.format(end - start))"
      ],
      "execution_count": 26,
      "outputs": [
        {
          "output_type": "stream",
          "text": [
            "Train on 8061 samples, validate on 2016 samples\n",
            "Epoch 1/100\n",
            "8061/8061 [==============================] - 4s 519us/step - loss: 3.1987 - acc: 0.0773 - val_loss: 3.1225 - val_acc: 0.1071\n",
            "Epoch 2/100\n",
            "8061/8061 [==============================] - 3s 358us/step - loss: 3.0641 - acc: 0.1125 - val_loss: 2.7333 - val_acc: 0.2113\n",
            "Epoch 3/100\n",
            "8061/8061 [==============================] - 3s 361us/step - loss: 2.7033 - acc: 0.2046 - val_loss: 2.1397 - val_acc: 0.3428\n",
            "Epoch 4/100\n",
            "8061/8061 [==============================] - 3s 363us/step - loss: 2.3167 - acc: 0.2825 - val_loss: 1.7788 - val_acc: 0.4415\n",
            "Epoch 5/100\n",
            "8061/8061 [==============================] - 3s 362us/step - loss: 2.0617 - acc: 0.3661 - val_loss: 1.5558 - val_acc: 0.5050\n",
            "Epoch 6/100\n",
            "8061/8061 [==============================] - 3s 364us/step - loss: 1.8639 - acc: 0.4219 - val_loss: 1.3847 - val_acc: 0.5605\n",
            "Epoch 7/100\n",
            "8061/8061 [==============================] - 3s 358us/step - loss: 1.7040 - acc: 0.4647 - val_loss: 1.2513 - val_acc: 0.6012\n",
            "Epoch 8/100\n",
            "8061/8061 [==============================] - 3s 365us/step - loss: 1.5854 - acc: 0.5085 - val_loss: 1.1909 - val_acc: 0.6300\n",
            "Epoch 9/100\n",
            "8061/8061 [==============================] - 3s 360us/step - loss: 1.4722 - acc: 0.5377 - val_loss: 1.1251 - val_acc: 0.6538\n",
            "Epoch 10/100\n",
            "8061/8061 [==============================] - 3s 357us/step - loss: 1.3626 - acc: 0.5687 - val_loss: 1.0632 - val_acc: 0.6721\n",
            "Epoch 11/100\n",
            "8061/8061 [==============================] - 3s 366us/step - loss: 1.2918 - acc: 0.5901 - val_loss: 1.0229 - val_acc: 0.6855\n",
            "Epoch 12/100\n",
            "8061/8061 [==============================] - 3s 369us/step - loss: 1.2106 - acc: 0.6203 - val_loss: 0.9795 - val_acc: 0.6969\n",
            "Epoch 13/100\n",
            "8061/8061 [==============================] - 3s 364us/step - loss: 1.1456 - acc: 0.6498 - val_loss: 0.9411 - val_acc: 0.7163\n",
            "Epoch 14/100\n",
            "8061/8061 [==============================] - 3s 358us/step - loss: 1.0814 - acc: 0.6577 - val_loss: 0.9278 - val_acc: 0.7192\n",
            "Epoch 15/100\n",
            "8061/8061 [==============================] - 3s 359us/step - loss: 1.0676 - acc: 0.6685 - val_loss: 0.9063 - val_acc: 0.7297\n",
            "Epoch 16/100\n",
            "8061/8061 [==============================] - 3s 362us/step - loss: 1.0030 - acc: 0.6806 - val_loss: 0.8767 - val_acc: 0.7416\n",
            "Epoch 17/100\n",
            "8061/8061 [==============================] - 3s 357us/step - loss: 0.9837 - acc: 0.6923 - val_loss: 0.8570 - val_acc: 0.7386\n",
            "Epoch 18/100\n",
            "8061/8061 [==============================] - 3s 354us/step - loss: 0.9519 - acc: 0.7059 - val_loss: 0.8628 - val_acc: 0.7406\n",
            "Epoch 19/100\n",
            "8061/8061 [==============================] - 3s 363us/step - loss: 0.9159 - acc: 0.7168 - val_loss: 0.8364 - val_acc: 0.7505\n",
            "Epoch 20/100\n",
            "8061/8061 [==============================] - 3s 360us/step - loss: 0.8758 - acc: 0.7263 - val_loss: 0.8196 - val_acc: 0.7540\n",
            "Epoch 21/100\n",
            "8061/8061 [==============================] - 3s 363us/step - loss: 0.8594 - acc: 0.7287 - val_loss: 0.8263 - val_acc: 0.7550\n",
            "Epoch 22/100\n",
            "8061/8061 [==============================] - 3s 363us/step - loss: 0.8377 - acc: 0.7361 - val_loss: 0.8027 - val_acc: 0.7693\n",
            "Epoch 23/100\n",
            "8061/8061 [==============================] - 3s 362us/step - loss: 0.8208 - acc: 0.7387 - val_loss: 0.8014 - val_acc: 0.7634\n",
            "Epoch 24/100\n",
            "8061/8061 [==============================] - 3s 365us/step - loss: 0.7985 - acc: 0.7546 - val_loss: 0.7961 - val_acc: 0.7654\n",
            "Epoch 25/100\n",
            "8061/8061 [==============================] - 3s 363us/step - loss: 0.7882 - acc: 0.7531 - val_loss: 0.7753 - val_acc: 0.7679\n",
            "Epoch 26/100\n",
            "8061/8061 [==============================] - 3s 359us/step - loss: 0.7813 - acc: 0.7540 - val_loss: 0.7746 - val_acc: 0.7728\n",
            "Epoch 27/100\n",
            "8061/8061 [==============================] - 3s 363us/step - loss: 0.7572 - acc: 0.7624 - val_loss: 0.7633 - val_acc: 0.7842\n",
            "Epoch 28/100\n",
            "8061/8061 [==============================] - 3s 366us/step - loss: 0.7318 - acc: 0.7688 - val_loss: 0.7483 - val_acc: 0.7813\n",
            "Epoch 29/100\n",
            "8061/8061 [==============================] - 3s 364us/step - loss: 0.7120 - acc: 0.7762 - val_loss: 0.7473 - val_acc: 0.7867\n",
            "Epoch 30/100\n",
            "8061/8061 [==============================] - 3s 362us/step - loss: 0.6897 - acc: 0.7848 - val_loss: 0.7526 - val_acc: 0.7852\n",
            "Epoch 31/100\n",
            "8061/8061 [==============================] - 3s 360us/step - loss: 0.6885 - acc: 0.7848 - val_loss: 0.7464 - val_acc: 0.7872\n",
            "Epoch 32/100\n",
            "8061/8061 [==============================] - 3s 359us/step - loss: 0.6747 - acc: 0.7922 - val_loss: 0.7389 - val_acc: 0.7946\n",
            "Epoch 33/100\n",
            "8061/8061 [==============================] - 3s 359us/step - loss: 0.6559 - acc: 0.7906 - val_loss: 0.7373 - val_acc: 0.7907\n",
            "Epoch 34/100\n",
            "8061/8061 [==============================] - 3s 357us/step - loss: 0.6437 - acc: 0.8018 - val_loss: 0.7254 - val_acc: 0.7991\n",
            "Epoch 35/100\n",
            "8061/8061 [==============================] - 3s 363us/step - loss: 0.6339 - acc: 0.8018 - val_loss: 0.7242 - val_acc: 0.7966\n",
            "Epoch 36/100\n",
            "8061/8061 [==============================] - 3s 362us/step - loss: 0.6118 - acc: 0.8081 - val_loss: 0.7422 - val_acc: 0.7946\n",
            "Epoch 37/100\n",
            "8061/8061 [==============================] - 3s 357us/step - loss: 0.6003 - acc: 0.8075 - val_loss: 0.7320 - val_acc: 0.7966\n",
            "Epoch 38/100\n",
            "8061/8061 [==============================] - 3s 361us/step - loss: 0.5980 - acc: 0.8091 - val_loss: 0.7174 - val_acc: 0.7966\n",
            "Epoch 39/100\n",
            "8061/8061 [==============================] - 3s 361us/step - loss: 0.5902 - acc: 0.8109 - val_loss: 0.7116 - val_acc: 0.8011\n",
            "Epoch 40/100\n",
            "8061/8061 [==============================] - 3s 361us/step - loss: 0.5718 - acc: 0.8143 - val_loss: 0.7021 - val_acc: 0.8011\n",
            "Epoch 41/100\n",
            "8061/8061 [==============================] - 3s 358us/step - loss: 0.5462 - acc: 0.8251 - val_loss: 0.7160 - val_acc: 0.8041\n",
            "Epoch 42/100\n",
            "8061/8061 [==============================] - 3s 357us/step - loss: 0.5426 - acc: 0.8247 - val_loss: 0.7126 - val_acc: 0.8061\n",
            "Epoch 43/100\n",
            "8061/8061 [==============================] - 3s 358us/step - loss: 0.5339 - acc: 0.8274 - val_loss: 0.7150 - val_acc: 0.8046\n",
            "Epoch 44/100\n",
            "8061/8061 [==============================] - 3s 358us/step - loss: 0.5217 - acc: 0.8325 - val_loss: 0.7111 - val_acc: 0.8056\n",
            "Epoch 45/100\n",
            "8061/8061 [==============================] - 3s 360us/step - loss: 0.5034 - acc: 0.8353 - val_loss: 0.7299 - val_acc: 0.8061\n",
            "Epoch 46/100\n",
            "8061/8061 [==============================] - 3s 360us/step - loss: 0.5050 - acc: 0.8379 - val_loss: 0.7243 - val_acc: 0.8120\n",
            "Epoch 47/100\n",
            "8061/8061 [==============================] - 3s 362us/step - loss: 0.4990 - acc: 0.8367 - val_loss: 0.7392 - val_acc: 0.8056\n",
            "Epoch 48/100\n",
            "8061/8061 [==============================] - 3s 359us/step - loss: 0.5095 - acc: 0.8395 - val_loss: 0.7132 - val_acc: 0.8125\n",
            "Epoch 49/100\n",
            "8061/8061 [==============================] - 3s 358us/step - loss: 0.4761 - acc: 0.8484 - val_loss: 0.7290 - val_acc: 0.8070\n",
            "Epoch 50/100\n",
            "8061/8061 [==============================] - 3s 361us/step - loss: 0.4744 - acc: 0.8438 - val_loss: 0.7489 - val_acc: 0.8046\n",
            "Epoch 51/100\n",
            "8061/8061 [==============================] - 3s 362us/step - loss: 0.4692 - acc: 0.8442 - val_loss: 0.7316 - val_acc: 0.8061\n",
            "Epoch 52/100\n",
            "8061/8061 [==============================] - 3s 359us/step - loss: 0.4538 - acc: 0.8535 - val_loss: 0.7464 - val_acc: 0.8056\n",
            "Epoch 53/100\n",
            "8061/8061 [==============================] - 3s 363us/step - loss: 0.4582 - acc: 0.8499 - val_loss: 0.7397 - val_acc: 0.8130\n",
            "Epoch 54/100\n",
            "8061/8061 [==============================] - 3s 358us/step - loss: 0.4399 - acc: 0.8567 - val_loss: 0.7364 - val_acc: 0.8110\n",
            "Epoch 55/100\n",
            "8061/8061 [==============================] - 3s 358us/step - loss: 0.4223 - acc: 0.8602 - val_loss: 0.7440 - val_acc: 0.8130\n",
            "Epoch 56/100\n",
            "8061/8061 [==============================] - 3s 358us/step - loss: 0.4174 - acc: 0.8622 - val_loss: 0.7647 - val_acc: 0.8095\n",
            "Epoch 57/100\n",
            "8061/8061 [==============================] - 3s 361us/step - loss: 0.4196 - acc: 0.8622 - val_loss: 0.7444 - val_acc: 0.8080\n",
            "Epoch 58/100\n",
            "8061/8061 [==============================] - 3s 362us/step - loss: 0.4054 - acc: 0.8661 - val_loss: 0.7805 - val_acc: 0.8095\n",
            "Epoch 59/100\n",
            "8061/8061 [==============================] - 3s 362us/step - loss: 0.4028 - acc: 0.8644 - val_loss: 0.7525 - val_acc: 0.8090\n",
            "Epoch 60/100\n",
            "8061/8061 [==============================] - 3s 363us/step - loss: 0.3974 - acc: 0.8717 - val_loss: 0.7567 - val_acc: 0.8070\n",
            "Epoch 61/100\n",
            "8061/8061 [==============================] - 3s 355us/step - loss: 0.3999 - acc: 0.8727 - val_loss: 0.7514 - val_acc: 0.8125\n",
            "Epoch 62/100\n",
            "8061/8061 [==============================] - 3s 359us/step - loss: 0.3896 - acc: 0.8716 - val_loss: 0.7699 - val_acc: 0.8125\n",
            "Epoch 63/100\n",
            "8061/8061 [==============================] - 3s 357us/step - loss: 0.3718 - acc: 0.8788 - val_loss: 0.7862 - val_acc: 0.8135\n",
            "Epoch 64/100\n",
            "8061/8061 [==============================] - 3s 354us/step - loss: 0.3775 - acc: 0.8753 - val_loss: 0.7591 - val_acc: 0.8165\n",
            "Epoch 65/100\n",
            "8061/8061 [==============================] - 3s 363us/step - loss: 0.3574 - acc: 0.8815 - val_loss: 0.7756 - val_acc: 0.8135\n",
            "Epoch 66/100\n",
            "8061/8061 [==============================] - 3s 362us/step - loss: 0.3608 - acc: 0.8779 - val_loss: 0.7930 - val_acc: 0.8110\n",
            "Epoch 67/100\n",
            "8061/8061 [==============================] - 3s 358us/step - loss: 0.3453 - acc: 0.8851 - val_loss: 0.7800 - val_acc: 0.8135\n",
            "Epoch 68/100\n",
            "8061/8061 [==============================] - 3s 361us/step - loss: 0.3515 - acc: 0.8805 - val_loss: 0.7945 - val_acc: 0.8090\n",
            "Epoch 69/100\n",
            "8061/8061 [==============================] - 3s 363us/step - loss: 0.3363 - acc: 0.8882 - val_loss: 0.8215 - val_acc: 0.8100\n",
            "Epoch 70/100\n",
            "8061/8061 [==============================] - 3s 359us/step - loss: 0.3452 - acc: 0.8825 - val_loss: 0.8133 - val_acc: 0.8070\n",
            "Epoch 71/100\n",
            "8061/8061 [==============================] - 3s 368us/step - loss: 0.3257 - acc: 0.8949 - val_loss: 0.8137 - val_acc: 0.8130\n",
            "Epoch 72/100\n",
            "8061/8061 [==============================] - 3s 358us/step - loss: 0.3342 - acc: 0.8880 - val_loss: 0.8145 - val_acc: 0.8150\n",
            "Epoch 73/100\n",
            "8061/8061 [==============================] - 3s 361us/step - loss: 0.3231 - acc: 0.8903 - val_loss: 0.8180 - val_acc: 0.8090\n",
            "Epoch 74/100\n",
            "8061/8061 [==============================] - 3s 367us/step - loss: 0.3224 - acc: 0.8943 - val_loss: 0.8231 - val_acc: 0.8095\n",
            "Epoch 75/100\n",
            "8061/8061 [==============================] - 3s 360us/step - loss: 0.3198 - acc: 0.8959 - val_loss: 0.8642 - val_acc: 0.8110\n",
            "Epoch 76/100\n",
            "8061/8061 [==============================] - 3s 361us/step - loss: 0.3168 - acc: 0.8943 - val_loss: 0.8427 - val_acc: 0.8105\n",
            "Epoch 77/100\n",
            "8061/8061 [==============================] - 3s 364us/step - loss: 0.3088 - acc: 0.8955 - val_loss: 0.8244 - val_acc: 0.8110\n",
            "Epoch 78/100\n",
            "8061/8061 [==============================] - 3s 359us/step - loss: 0.2973 - acc: 0.9009 - val_loss: 0.8108 - val_acc: 0.8175\n",
            "Epoch 79/100\n",
            "8061/8061 [==============================] - 3s 357us/step - loss: 0.2893 - acc: 0.8999 - val_loss: 0.8348 - val_acc: 0.8120\n",
            "Epoch 80/100\n",
            "8061/8061 [==============================] - 3s 360us/step - loss: 0.2925 - acc: 0.9006 - val_loss: 0.8541 - val_acc: 0.8061\n",
            "Epoch 81/100\n",
            "8061/8061 [==============================] - 3s 365us/step - loss: 0.2838 - acc: 0.9019 - val_loss: 0.8615 - val_acc: 0.8075\n",
            "Epoch 82/100\n",
            "8061/8061 [==============================] - 3s 358us/step - loss: 0.2761 - acc: 0.9086 - val_loss: 0.8627 - val_acc: 0.8120\n",
            "Epoch 83/100\n",
            "8061/8061 [==============================] - 3s 363us/step - loss: 0.2854 - acc: 0.9101 - val_loss: 0.8502 - val_acc: 0.8110\n",
            "Epoch 84/100\n",
            "8061/8061 [==============================] - 3s 362us/step - loss: 0.2812 - acc: 0.9061 - val_loss: 0.8731 - val_acc: 0.8145\n",
            "Epoch 85/100\n",
            "8061/8061 [==============================] - 3s 359us/step - loss: 0.2820 - acc: 0.9068 - val_loss: 0.8361 - val_acc: 0.8135\n",
            "Epoch 86/100\n",
            "8061/8061 [==============================] - 3s 363us/step - loss: 0.2718 - acc: 0.9091 - val_loss: 0.8715 - val_acc: 0.8110\n",
            "Epoch 87/100\n",
            "8061/8061 [==============================] - 3s 361us/step - loss: 0.2727 - acc: 0.9036 - val_loss: 0.8584 - val_acc: 0.8125\n",
            "Epoch 88/100\n",
            "8061/8061 [==============================] - 3s 363us/step - loss: 0.2633 - acc: 0.9088 - val_loss: 0.8805 - val_acc: 0.8140\n",
            "Epoch 89/100\n",
            "8061/8061 [==============================] - 3s 362us/step - loss: 0.2553 - acc: 0.9161 - val_loss: 0.8790 - val_acc: 0.8095\n",
            "Epoch 90/100\n",
            "8061/8061 [==============================] - 3s 361us/step - loss: 0.2536 - acc: 0.9129 - val_loss: 0.8978 - val_acc: 0.8150\n",
            "Epoch 91/100\n",
            "8061/8061 [==============================] - 3s 365us/step - loss: 0.2587 - acc: 0.9143 - val_loss: 0.8846 - val_acc: 0.8150\n",
            "Epoch 92/100\n",
            "8061/8061 [==============================] - 3s 368us/step - loss: 0.2555 - acc: 0.9142 - val_loss: 0.8814 - val_acc: 0.8165\n",
            "Epoch 93/100\n",
            "8061/8061 [==============================] - 3s 363us/step - loss: 0.2479 - acc: 0.9163 - val_loss: 0.8909 - val_acc: 0.8155\n",
            "Epoch 94/100\n",
            "8061/8061 [==============================] - 3s 361us/step - loss: 0.2489 - acc: 0.9151 - val_loss: 0.9225 - val_acc: 0.8155\n",
            "Epoch 95/100\n",
            "8061/8061 [==============================] - 3s 361us/step - loss: 0.2415 - acc: 0.9164 - val_loss: 0.8856 - val_acc: 0.8105\n",
            "Epoch 96/100\n",
            "8061/8061 [==============================] - 3s 363us/step - loss: 0.2473 - acc: 0.9132 - val_loss: 0.8931 - val_acc: 0.8135\n",
            "Epoch 97/100\n",
            "8061/8061 [==============================] - 3s 361us/step - loss: 0.2356 - acc: 0.9204 - val_loss: 0.9219 - val_acc: 0.8120\n",
            "Epoch 98/100\n",
            "8061/8061 [==============================] - 3s 360us/step - loss: 0.2419 - acc: 0.9175 - val_loss: 0.9312 - val_acc: 0.8115\n",
            "Epoch 99/100\n",
            "8061/8061 [==============================] - 3s 366us/step - loss: 0.2406 - acc: 0.9176 - val_loss: 0.9132 - val_acc: 0.8085\n",
            "Epoch 100/100\n",
            "8061/8061 [==============================] - 3s 364us/step - loss: 0.2388 - acc: 0.9223 - val_loss: 0.9431 - val_acc: 0.8105\n",
            "Total training time 293.70337986946106 seconds\n"
          ],
          "name": "stdout"
        }
      ]
    },
    {
      "cell_type": "code",
      "metadata": {
        "id": "ykunt_ZLwPPh",
        "colab_type": "code",
        "colab": {
          "base_uri": "https://localhost:8080/",
          "height": 641
        },
        "outputId": "98713ab3-54aa-48bd-c8c6-cd20166050d6"
      },
      "source": [
        "plot_history(history)"
      ],
      "execution_count": 27,
      "outputs": [
        {
          "output_type": "stream",
          "text": [
            "dict_keys(['val_loss', 'val_acc', 'loss', 'acc'])\n"
          ],
          "name": "stdout"
        },
        {
          "output_type": "stream",
          "text": [
            "/usr/local/lib/python3.6/dist-packages/matplotlib/axes/_base.py:3604: MatplotlibDeprecationWarning: \n",
            "The `ymin` argument was deprecated in Matplotlib 3.0 and will be removed in 3.2. Use `bottom` instead.\n",
            "  alternative='`bottom`', obj_type='argument')\n"
          ],
          "name": "stderr"
        },
        {
          "output_type": "display_data",
          "data": {
            "image/png": "[encoded data removed]",
            "text/plain": [
              "<Figure size 432x288 with 1 Axes>"
            ]
          },
          "metadata": {
            "tags": []
          }
        },
        {
          "output_type": "display_data",
          "data": {
            "image/png": "[encoded data removed]",
            "text/plain": [
              "<Figure size 432x288 with 1 Axes>"
            ]
          },
          "metadata": {
            "tags": []
          }
        }
      ]
    },
    {
      "cell_type": "code",
      "metadata": {
        "id": "NBEuLP5aKqP7",
        "colab_type": "code",
        "colab": {
          "base_uri": "https://localhost:8080/",
          "height": 1000
        },
        "outputId": "a8a019d9-33d7-496a-cfd0-f7a79b2c36b7"
      },
      "source": [
        "## Adding early stopping\n",
        "# A simple LSTM with glove embeddings and two dense layers\n",
        "model = Sequential()\n",
        "model.add(Embedding(len(word_index) + 1,\n",
        "                     300,\n",
        "                     weights=[embedding_matrix],\n",
        "                     input_length=max_len,\n",
        "                     trainable=False))\n",
        "model.add(SpatialDropout1D(0.3))\n",
        "model.add(LSTM(300, dropout=0.3, recurrent_dropout=0.3))\n",
        "\n",
        "model.add(Dense(1024, activation='relu'))\n",
        "model.add(Dropout(0.3))\n",
        "\n",
        "model.add(Dense(1024, activation='relu'))\n",
        "model.add(Dropout(0.3))\n",
        "\n",
        "model.add(Dense(last_layer))\n",
        "model.add(Activation('softmax'))\n",
        "model.summary()\n",
        "model.compile(loss='categorical_crossentropy', optimizer='adam', metrics=['acc'])\n",
        "\n",
        "# Fit the model with early stopping callback\n",
        "earlystop = EarlyStopping(monitor='val_loss', min_delta=0, patience=3, verbose=0, mode='auto')\n",
        "history = model.fit(xtrain_pad, y=ytrain_enc, batch_size=512, epochs=100, \n",
        "          #verbose=1, validation_data=(xvalid_pad, yvalid_enc), callbacks=[earlystop])   ## Lower val acc due to Early Stopping\n",
        "          verbose=1, validation_data=(xvalid_pad, yvalid_enc), callbacks=[earlystop])"
      ],
      "execution_count": 30,
      "outputs": [
        {
          "output_type": "stream",
          "text": [
            "Model: \"sequential_4\"\n",
            "_________________________________________________________________\n",
            "Layer (type)                 Output Shape              Param #   \n",
            "=================================================================\n",
            "embedding_3 (Embedding)      (None, 70, 300)           1969800   \n",
            "_________________________________________________________________\n",
            "spatial_dropout1d_3 (Spatial (None, 70, 300)           0         \n",
            "_________________________________________________________________\n",
            "lstm_3 (LSTM)                (None, 300)               721200    \n",
            "_________________________________________________________________\n",
            "dense_10 (Dense)             (None, 1024)              308224    \n",
            "_________________________________________________________________\n",
            "dropout_7 (Dropout)          (None, 1024)              0         \n",
            "_________________________________________________________________\n",
            "dense_11 (Dense)             (None, 1024)              1049600   \n",
            "_________________________________________________________________\n",
            "dropout_8 (Dropout)          (None, 1024)              0         \n",
            "_________________________________________________________________\n",
            "dense_12 (Dense)             (None, 26)                26650     \n",
            "_________________________________________________________________\n",
            "activation_4 (Activation)    (None, 26)                0         \n",
            "=================================================================\n",
            "Total params: 4,075,474\n",
            "Trainable params: 2,105,674\n",
            "Non-trainable params: 1,969,800\n",
            "_________________________________________________________________\n",
            "Train on 8061 samples, validate on 2016 samples\n",
            "Epoch 1/100\n",
            "8061/8061 [==============================] - 6s 751us/step - loss: 3.1358 - acc: 0.0897 - val_loss: 2.7733 - val_acc: 0.2019\n",
            "Epoch 2/100\n",
            "8061/8061 [==============================] - 4s 545us/step - loss: 2.6457 - acc: 0.2240 - val_loss: 2.0086 - val_acc: 0.3750\n",
            "Epoch 3/100\n",
            "8061/8061 [==============================] - 4s 543us/step - loss: 2.1552 - acc: 0.3419 - val_loss: 1.6010 - val_acc: 0.5203\n",
            "Epoch 4/100\n",
            "8061/8061 [==============================] - 4s 556us/step - loss: 1.8397 - acc: 0.4279 - val_loss: 1.3996 - val_acc: 0.5575\n",
            "Epoch 5/100\n",
            "8061/8061 [==============================] - 4s 552us/step - loss: 1.6562 - acc: 0.4862 - val_loss: 1.2348 - val_acc: 0.6240\n",
            "Epoch 6/100\n",
            "8061/8061 [==============================] - 4s 557us/step - loss: 1.4782 - acc: 0.5484 - val_loss: 1.1492 - val_acc: 0.6414\n",
            "Epoch 7/100\n",
            "8061/8061 [==============================] - 4s 549us/step - loss: 1.3775 - acc: 0.5720 - val_loss: 1.0809 - val_acc: 0.6682\n",
            "Epoch 8/100\n",
            "8061/8061 [==============================] - 4s 542us/step - loss: 1.2787 - acc: 0.6025 - val_loss: 0.9951 - val_acc: 0.7039\n",
            "Epoch 9/100\n",
            "8061/8061 [==============================] - 4s 542us/step - loss: 1.1728 - acc: 0.6327 - val_loss: 0.9732 - val_acc: 0.7143\n",
            "Epoch 10/100\n",
            "8061/8061 [==============================] - 4s 543us/step - loss: 1.1219 - acc: 0.6492 - val_loss: 0.9773 - val_acc: 0.7098\n",
            "Epoch 11/100\n",
            "8061/8061 [==============================] - 4s 547us/step - loss: 1.0525 - acc: 0.6731 - val_loss: 0.9586 - val_acc: 0.7192\n",
            "Epoch 12/100\n",
            "8061/8061 [==============================] - 4s 544us/step - loss: 0.9944 - acc: 0.6899 - val_loss: 0.9425 - val_acc: 0.7217\n",
            "Epoch 13/100\n",
            "8061/8061 [==============================] - 4s 547us/step - loss: 0.9527 - acc: 0.7088 - val_loss: 0.9241 - val_acc: 0.7376\n",
            "Epoch 14/100\n",
            "8061/8061 [==============================] - 4s 545us/step - loss: 0.9203 - acc: 0.7124 - val_loss: 0.8420 - val_acc: 0.7505\n",
            "Epoch 15/100\n",
            "8061/8061 [==============================] - 4s 545us/step - loss: 0.8609 - acc: 0.7304 - val_loss: 0.8539 - val_acc: 0.7436\n",
            "Epoch 16/100\n",
            "8061/8061 [==============================] - 4s 542us/step - loss: 0.8076 - acc: 0.7456 - val_loss: 0.8460 - val_acc: 0.7535\n",
            "Epoch 17/100\n",
            "8061/8061 [==============================] - 4s 548us/step - loss: 0.7754 - acc: 0.7554 - val_loss: 0.8326 - val_acc: 0.7574\n",
            "Epoch 18/100\n",
            "8061/8061 [==============================] - 4s 548us/step - loss: 0.7335 - acc: 0.7642 - val_loss: 0.8132 - val_acc: 0.7629\n",
            "Epoch 19/100\n",
            "8061/8061 [==============================] - 4s 548us/step - loss: 0.7259 - acc: 0.7704 - val_loss: 0.7948 - val_acc: 0.7753\n",
            "Epoch 20/100\n",
            "8061/8061 [==============================] - 4s 547us/step - loss: 0.6795 - acc: 0.7856 - val_loss: 0.7819 - val_acc: 0.7728\n",
            "Epoch 21/100\n",
            "8061/8061 [==============================] - 4s 546us/step - loss: 0.6579 - acc: 0.7891 - val_loss: 0.7962 - val_acc: 0.7723\n",
            "Epoch 22/100\n",
            "8061/8061 [==============================] - 4s 549us/step - loss: 0.6287 - acc: 0.8021 - val_loss: 0.7805 - val_acc: 0.7753\n",
            "Epoch 23/100\n",
            "8061/8061 [==============================] - 4s 545us/step - loss: 0.5994 - acc: 0.8109 - val_loss: 0.7902 - val_acc: 0.7763\n",
            "Epoch 24/100\n",
            "8061/8061 [==============================] - 4s 546us/step - loss: 0.5734 - acc: 0.8159 - val_loss: 0.7902 - val_acc: 0.7837\n",
            "Epoch 25/100\n",
            "8061/8061 [==============================] - 4s 545us/step - loss: 0.5520 - acc: 0.8211 - val_loss: 0.7937 - val_acc: 0.7852\n"
          ],
          "name": "stdout"
        }
      ]
    },
    {
      "cell_type": "markdown",
      "metadata": {
        "id": "AqHaV1uWKqQB",
        "colab_type": "text"
      },
      "source": [
        "#### Effects of Dropout\n",
        "We see that the training loss is higher than validation loss and,\n",
        "training accuracy is lower than validation accuracy.\n",
        "\n",
        "\"Why is the training loss much higher than the testing loss?\n",
        "A Keras model has two modes: training and testing. Regularization mechanisms, such as Dropout and L1/L2 weight regularization, are turned off at testing time.\n",
        "Besides, the training loss is the average of the losses over each batch of training data. Because your model is changing over time, the loss over the first batches of an epoch is generally higher than over the last batches. On the other hand, the testing loss for an epoch is computed using the model as it is at the end of the epoch, resulting in a lower loss.\" - Source - Keras FAQs"
      ]
    },
    {
      "cell_type": "code",
      "metadata": {
        "id": "axMCHuxOwUj3",
        "colab_type": "code",
        "colab": {
          "base_uri": "https://localhost:8080/",
          "height": 641
        },
        "outputId": "1eaa5c88-a750-4a43-f2a8-27de5bb3710f"
      },
      "source": [
        "plot_history(history)"
      ],
      "execution_count": 31,
      "outputs": [
        {
          "output_type": "stream",
          "text": [
            "dict_keys(['val_loss', 'val_acc', 'loss', 'acc'])\n"
          ],
          "name": "stdout"
        },
        {
          "output_type": "stream",
          "text": [
            "/usr/local/lib/python3.6/dist-packages/matplotlib/axes/_base.py:3604: MatplotlibDeprecationWarning: \n",
            "The `ymin` argument was deprecated in Matplotlib 3.0 and will be removed in 3.2. Use `bottom` instead.\n",
            "  alternative='`bottom`', obj_type='argument')\n"
          ],
          "name": "stderr"
        },
        {
          "output_type": "display_data",
          "data": {
            "image/png": "[encoded data removed]",
            "text/plain": [
              "<Figure size 432x288 with 1 Axes>"
            ]
          },
          "metadata": {
            "tags": []
          }
        },
        {
          "output_type": "display_data",
          "data": {
            "image/png": "[encoded data removed]",
            "text/plain": [
              "<Figure size 432x288 with 1 Axes>"
            ]
          },
          "metadata": {
            "tags": []
          }
        }
      ]
    },
    {
      "cell_type": "code",
      "metadata": {
        "id": "NUdXF56nKqQC",
        "colab_type": "code",
        "colab": {
          "base_uri": "https://localhost:8080/",
          "height": 1000
        },
        "outputId": "9084e3be-41ff-4999-bb53-b73cad94a5f5"
      },
      "source": [
        "# A simple bidirectional LSTM with glove embeddings and two dense layers\n",
        "model = Sequential()\n",
        "model.add(Embedding(len(word_index) + 1,\n",
        "                     300,\n",
        "                     weights=[embedding_matrix],\n",
        "                     input_length=max_len,\n",
        "                     trainable=False))\n",
        "model.add(SpatialDropout1D(0.3))\n",
        "model.add(Bidirectional(LSTM(300, dropout=0.3, recurrent_dropout=0.3)))\n",
        "\n",
        "model.add(Dense(1024, activation='relu'))\n",
        "model.add(Dropout(0.3))\n",
        "\n",
        "model.add(Dense(1024, activation='relu'))\n",
        "model.add(Dropout(0.3))\n",
        "\n",
        "model.add(Dense(last_layer))\n",
        "model.add(Activation('softmax'))\n",
        "model.compile(loss='categorical_crossentropy', optimizer='adam', metrics=['acc'])\n",
        "\n",
        "# Fit the model with early stopping callback\n",
        "earlystop = EarlyStopping(monitor='val_loss', min_delta=0, patience=3, verbose=0, mode='auto')\n",
        "history = model.fit(xtrain_pad, y=ytrain_enc, batch_size=512, epochs=100, \n",
        "          #verbose=1, validation_data=(xvalid_pad, yvalid_enc), callbacks=[earlystop])  ## Lower val acc due to Early Stopping\n",
        "          verbose=1, validation_data=(xvalid_pad, yvalid_enc), callbacks=None)"
      ],
      "execution_count": 33,
      "outputs": [
        {
          "output_type": "stream",
          "text": [
            "Train on 8061 samples, validate on 2016 samples\n",
            "Epoch 1/100\n",
            "8061/8061 [==============================] - 11s 1ms/step - loss: 3.1520 - acc: 0.0863 - val_loss: 2.9062 - val_acc: 0.1632\n",
            "Epoch 2/100\n",
            "8061/8061 [==============================] - 8s 1ms/step - loss: 2.6239 - acc: 0.2249 - val_loss: 1.9511 - val_acc: 0.3839\n",
            "Epoch 3/100\n",
            "8061/8061 [==============================] - 8s 1ms/step - loss: 2.0870 - acc: 0.3578 - val_loss: 1.5713 - val_acc: 0.5094\n",
            "Epoch 4/100\n",
            "8061/8061 [==============================] - 8s 1ms/step - loss: 1.8116 - acc: 0.4302 - val_loss: 1.3891 - val_acc: 0.5561\n",
            "Epoch 5/100\n",
            "8061/8061 [==============================] - 8s 1ms/step - loss: 1.6276 - acc: 0.4903 - val_loss: 1.2692 - val_acc: 0.6071\n",
            "Epoch 6/100\n",
            "8061/8061 [==============================] - 8s 1ms/step - loss: 1.4650 - acc: 0.5391 - val_loss: 1.1467 - val_acc: 0.6642\n",
            "Epoch 7/100\n",
            "8061/8061 [==============================] - 8s 1ms/step - loss: 1.3441 - acc: 0.5756 - val_loss: 1.0566 - val_acc: 0.6845\n",
            "Epoch 8/100\n",
            "8061/8061 [==============================] - 8s 1ms/step - loss: 1.2116 - acc: 0.6240 - val_loss: 1.0027 - val_acc: 0.6969\n",
            "Epoch 9/100\n",
            "8061/8061 [==============================] - 8s 1ms/step - loss: 1.1354 - acc: 0.6446 - val_loss: 0.9721 - val_acc: 0.7178\n",
            "Epoch 10/100\n",
            "8061/8061 [==============================] - 8s 1ms/step - loss: 1.0541 - acc: 0.6679 - val_loss: 0.9395 - val_acc: 0.7192\n",
            "Epoch 11/100\n",
            "8061/8061 [==============================] - 8s 1ms/step - loss: 1.0078 - acc: 0.6853 - val_loss: 0.9100 - val_acc: 0.7312\n",
            "Epoch 12/100\n",
            "8061/8061 [==============================] - 8s 1ms/step - loss: 0.9506 - acc: 0.7019 - val_loss: 0.8851 - val_acc: 0.7406\n",
            "Epoch 13/100\n",
            "8061/8061 [==============================] - 8s 1ms/step - loss: 0.8851 - acc: 0.7189 - val_loss: 0.8715 - val_acc: 0.7495\n",
            "Epoch 14/100\n",
            "8061/8061 [==============================] - 8s 1ms/step - loss: 0.8393 - acc: 0.7387 - val_loss: 0.8674 - val_acc: 0.7460\n",
            "Epoch 15/100\n",
            "8061/8061 [==============================] - 8s 1ms/step - loss: 0.8003 - acc: 0.7531 - val_loss: 0.8413 - val_acc: 0.7599\n",
            "Epoch 16/100\n",
            "8061/8061 [==============================] - 8s 1ms/step - loss: 0.7576 - acc: 0.7606 - val_loss: 0.8250 - val_acc: 0.7703\n",
            "Epoch 17/100\n",
            "8061/8061 [==============================] - 8s 1ms/step - loss: 0.7155 - acc: 0.7748 - val_loss: 0.8182 - val_acc: 0.7684\n",
            "Epoch 18/100\n",
            "8061/8061 [==============================] - 8s 1ms/step - loss: 0.6986 - acc: 0.7734 - val_loss: 0.8202 - val_acc: 0.7669\n",
            "Epoch 19/100\n",
            "8061/8061 [==============================] - 8s 1ms/step - loss: 0.6499 - acc: 0.7949 - val_loss: 0.8207 - val_acc: 0.7728\n",
            "Epoch 20/100\n",
            "8061/8061 [==============================] - 8s 1ms/step - loss: 0.6130 - acc: 0.8037 - val_loss: 0.8379 - val_acc: 0.7684\n",
            "Epoch 21/100\n",
            "8061/8061 [==============================] - 8s 1ms/step - loss: 0.5886 - acc: 0.8075 - val_loss: 0.8270 - val_acc: 0.7693\n",
            "Epoch 22/100\n",
            "8061/8061 [==============================] - 8s 1ms/step - loss: 0.5780 - acc: 0.8082 - val_loss: 0.8330 - val_acc: 0.7688\n",
            "Epoch 23/100\n",
            "8061/8061 [==============================] - 8s 1ms/step - loss: 0.5501 - acc: 0.8202 - val_loss: 0.8405 - val_acc: 0.7748\n",
            "Epoch 24/100\n",
            "8061/8061 [==============================] - 8s 1ms/step - loss: 0.5166 - acc: 0.8314 - val_loss: 0.8379 - val_acc: 0.7768\n",
            "Epoch 25/100\n",
            "8061/8061 [==============================] - 8s 1ms/step - loss: 0.4943 - acc: 0.8401 - val_loss: 0.8147 - val_acc: 0.7798\n",
            "Epoch 26/100\n",
            "8061/8061 [==============================] - 8s 1ms/step - loss: 0.4770 - acc: 0.8415 - val_loss: 0.8455 - val_acc: 0.7723\n",
            "Epoch 27/100\n",
            "8061/8061 [==============================] - 8s 1ms/step - loss: 0.4560 - acc: 0.8496 - val_loss: 0.8505 - val_acc: 0.7793\n",
            "Epoch 28/100\n",
            "8061/8061 [==============================] - 8s 1ms/step - loss: 0.4347 - acc: 0.8568 - val_loss: 0.8684 - val_acc: 0.7748\n",
            "Epoch 29/100\n",
            "8061/8061 [==============================] - 8s 1ms/step - loss: 0.4214 - acc: 0.8591 - val_loss: 0.8607 - val_acc: 0.7862\n",
            "Epoch 30/100\n",
            "8061/8061 [==============================] - 8s 1ms/step - loss: 0.3963 - acc: 0.8725 - val_loss: 0.8802 - val_acc: 0.7862\n",
            "Epoch 31/100\n",
            "8061/8061 [==============================] - 8s 1ms/step - loss: 0.3717 - acc: 0.8805 - val_loss: 0.8769 - val_acc: 0.7867\n",
            "Epoch 32/100\n",
            "8061/8061 [==============================] - 8s 1ms/step - loss: 0.3654 - acc: 0.8777 - val_loss: 0.8931 - val_acc: 0.7912\n",
            "Epoch 33/100\n",
            "8061/8061 [==============================] - 8s 1ms/step - loss: 0.3321 - acc: 0.8881 - val_loss: 0.8841 - val_acc: 0.7882\n",
            "Epoch 34/100\n",
            "8061/8061 [==============================] - 8s 1ms/step - loss: 0.3275 - acc: 0.8924 - val_loss: 0.8976 - val_acc: 0.7927\n",
            "Epoch 35/100\n",
            "8061/8061 [==============================] - 8s 1ms/step - loss: 0.3114 - acc: 0.8973 - val_loss: 0.9191 - val_acc: 0.7892\n",
            "Epoch 36/100\n",
            "8061/8061 [==============================] - 8s 1ms/step - loss: 0.2957 - acc: 0.9003 - val_loss: 0.9284 - val_acc: 0.7872\n",
            "Epoch 37/100\n",
            "8061/8061 [==============================] - 8s 1ms/step - loss: 0.2856 - acc: 0.9046 - val_loss: 0.9215 - val_acc: 0.7907\n",
            "Epoch 38/100\n",
            "8061/8061 [==============================] - 8s 1ms/step - loss: 0.2663 - acc: 0.9078 - val_loss: 0.9673 - val_acc: 0.7932\n",
            "Epoch 39/100\n",
            "8061/8061 [==============================] - 8s 1ms/step - loss: 0.2552 - acc: 0.9161 - val_loss: 0.9500 - val_acc: 0.7986\n",
            "Epoch 40/100\n",
            "8061/8061 [==============================] - 8s 1ms/step - loss: 0.2591 - acc: 0.9143 - val_loss: 0.9811 - val_acc: 0.7912\n",
            "Epoch 41/100\n",
            "8061/8061 [==============================] - 8s 1ms/step - loss: 0.2422 - acc: 0.9160 - val_loss: 0.9935 - val_acc: 0.7902\n",
            "Epoch 42/100\n",
            "8061/8061 [==============================] - 8s 1ms/step - loss: 0.2301 - acc: 0.9210 - val_loss: 1.0352 - val_acc: 0.7852\n",
            "Epoch 43/100\n",
            "8061/8061 [==============================] - 8s 1ms/step - loss: 0.2106 - acc: 0.9282 - val_loss: 1.0386 - val_acc: 0.7902\n",
            "Epoch 44/100\n",
            "8061/8061 [==============================] - 8s 1ms/step - loss: 0.2016 - acc: 0.9316 - val_loss: 1.0742 - val_acc: 0.7912\n",
            "Epoch 45/100\n",
            "8061/8061 [==============================] - 8s 1ms/step - loss: 0.1959 - acc: 0.9335 - val_loss: 1.0305 - val_acc: 0.7961\n",
            "Epoch 46/100\n",
            "8061/8061 [==============================] - 8s 1ms/step - loss: 0.1896 - acc: 0.9335 - val_loss: 1.0707 - val_acc: 0.7976\n",
            "Epoch 47/100\n",
            "8061/8061 [==============================] - 8s 1ms/step - loss: 0.1837 - acc: 0.9395 - val_loss: 1.0428 - val_acc: 0.7892\n",
            "Epoch 48/100\n",
            "8061/8061 [==============================] - 8s 1ms/step - loss: 0.1761 - acc: 0.9414 - val_loss: 1.0579 - val_acc: 0.8036\n",
            "Epoch 49/100\n",
            "8061/8061 [==============================] - 8s 1ms/step - loss: 0.1736 - acc: 0.9441 - val_loss: 1.0895 - val_acc: 0.7946\n",
            "Epoch 50/100\n",
            "8061/8061 [==============================] - 8s 1ms/step - loss: 0.1601 - acc: 0.9480 - val_loss: 1.0916 - val_acc: 0.7971\n",
            "Epoch 51/100\n",
            "8061/8061 [==============================] - 8s 1ms/step - loss: 0.1499 - acc: 0.9519 - val_loss: 1.1454 - val_acc: 0.7897\n",
            "Epoch 52/100\n",
            "8061/8061 [==============================] - 8s 1ms/step - loss: 0.1527 - acc: 0.9469 - val_loss: 1.1154 - val_acc: 0.7956\n",
            "Epoch 53/100\n",
            "8061/8061 [==============================] - 8s 1ms/step - loss: 0.1523 - acc: 0.9493 - val_loss: 1.1233 - val_acc: 0.7951\n",
            "Epoch 54/100\n",
            "8061/8061 [==============================] - 8s 1ms/step - loss: 0.1372 - acc: 0.9542 - val_loss: 1.1302 - val_acc: 0.7956\n",
            "Epoch 55/100\n",
            "8061/8061 [==============================] - 8s 1ms/step - loss: 0.1332 - acc: 0.9536 - val_loss: 1.1929 - val_acc: 0.7872\n",
            "Epoch 56/100\n",
            "8061/8061 [==============================] - 8s 1ms/step - loss: 0.1316 - acc: 0.9565 - val_loss: 1.1819 - val_acc: 0.7927\n",
            "Epoch 57/100\n",
            "8061/8061 [==============================] - 8s 1ms/step - loss: 0.1284 - acc: 0.9572 - val_loss: 1.2012 - val_acc: 0.7946\n",
            "Epoch 58/100\n",
            "8061/8061 [==============================] - 8s 1ms/step - loss: 0.1272 - acc: 0.9556 - val_loss: 1.1470 - val_acc: 0.7946\n",
            "Epoch 59/100\n",
            "8061/8061 [==============================] - 8s 1ms/step - loss: 0.1110 - acc: 0.9614 - val_loss: 1.1771 - val_acc: 0.7986\n",
            "Epoch 60/100\n",
            "8061/8061 [==============================] - 8s 1ms/step - loss: 0.1152 - acc: 0.9613 - val_loss: 1.2439 - val_acc: 0.7951\n",
            "Epoch 61/100\n",
            "8061/8061 [==============================] - 8s 1ms/step - loss: 0.1166 - acc: 0.9608 - val_loss: 1.2053 - val_acc: 0.7976\n",
            "Epoch 62/100\n",
            "8061/8061 [==============================] - 8s 1ms/step - loss: 0.1171 - acc: 0.9617 - val_loss: 1.1978 - val_acc: 0.7996\n",
            "Epoch 63/100\n",
            "8061/8061 [==============================] - 8s 1ms/step - loss: 0.1117 - acc: 0.9620 - val_loss: 1.2062 - val_acc: 0.7996\n",
            "Epoch 64/100\n",
            "8061/8061 [==============================] - 8s 1ms/step - loss: 0.1100 - acc: 0.9638 - val_loss: 1.1974 - val_acc: 0.7976\n",
            "Epoch 65/100\n",
            "8061/8061 [==============================] - 8s 1ms/step - loss: 0.0990 - acc: 0.9663 - val_loss: 1.2328 - val_acc: 0.8036\n",
            "Epoch 66/100\n",
            "8061/8061 [==============================] - 8s 1ms/step - loss: 0.0980 - acc: 0.9671 - val_loss: 1.2479 - val_acc: 0.8026\n",
            "Epoch 67/100\n",
            "8061/8061 [==============================] - 8s 1ms/step - loss: 0.0997 - acc: 0.9650 - val_loss: 1.2179 - val_acc: 0.7991\n",
            "Epoch 68/100\n",
            "8061/8061 [==============================] - 8s 1ms/step - loss: 0.0929 - acc: 0.9687 - val_loss: 1.2626 - val_acc: 0.7971\n",
            "Epoch 69/100\n",
            "8061/8061 [==============================] - 8s 1ms/step - loss: 0.0927 - acc: 0.9675 - val_loss: 1.2696 - val_acc: 0.8006\n",
            "Epoch 70/100\n",
            "8061/8061 [==============================] - 8s 1ms/step - loss: 0.0909 - acc: 0.9676 - val_loss: 1.2598 - val_acc: 0.7986\n",
            "Epoch 71/100\n",
            "8061/8061 [==============================] - 8s 1ms/step - loss: 0.0847 - acc: 0.9723 - val_loss: 1.2381 - val_acc: 0.7946\n",
            "Epoch 72/100\n",
            "8061/8061 [==============================] - 8s 1ms/step - loss: 0.0849 - acc: 0.9718 - val_loss: 1.2696 - val_acc: 0.8011\n",
            "Epoch 73/100\n",
            "8061/8061 [==============================] - 8s 1ms/step - loss: 0.0787 - acc: 0.9737 - val_loss: 1.2714 - val_acc: 0.7981\n",
            "Epoch 74/100\n",
            "8061/8061 [==============================] - 8s 1ms/step - loss: 0.0784 - acc: 0.9731 - val_loss: 1.2896 - val_acc: 0.7966\n",
            "Epoch 75/100\n",
            "8061/8061 [==============================] - 8s 1ms/step - loss: 0.0892 - acc: 0.9697 - val_loss: 1.2410 - val_acc: 0.7956\n",
            "Epoch 76/100\n",
            "8061/8061 [==============================] - 8s 1ms/step - loss: 0.0812 - acc: 0.9735 - val_loss: 1.2519 - val_acc: 0.7996\n",
            "Epoch 77/100\n",
            "8061/8061 [==============================] - 8s 1ms/step - loss: 0.0800 - acc: 0.9722 - val_loss: 1.3394 - val_acc: 0.8011\n",
            "Epoch 78/100\n",
            "8061/8061 [==============================] - 8s 1ms/step - loss: 0.0776 - acc: 0.9728 - val_loss: 1.3350 - val_acc: 0.7927\n",
            "Epoch 79/100\n",
            "8061/8061 [==============================] - 9s 1ms/step - loss: 0.0727 - acc: 0.9774 - val_loss: 1.3221 - val_acc: 0.7951\n",
            "Epoch 80/100\n",
            "8061/8061 [==============================] - 8s 1ms/step - loss: 0.0818 - acc: 0.9747 - val_loss: 1.3571 - val_acc: 0.7951\n",
            "Epoch 81/100\n",
            "8061/8061 [==============================] - 8s 1ms/step - loss: 0.0693 - acc: 0.9766 - val_loss: 1.3373 - val_acc: 0.8006\n",
            "Epoch 82/100\n",
            "8061/8061 [==============================] - 8s 1ms/step - loss: 0.0734 - acc: 0.9762 - val_loss: 1.3224 - val_acc: 0.8006\n",
            "Epoch 83/100\n",
            "8061/8061 [==============================] - 8s 1ms/step - loss: 0.0778 - acc: 0.9741 - val_loss: 1.2914 - val_acc: 0.8001\n",
            "Epoch 84/100\n",
            "8061/8061 [==============================] - 8s 1ms/step - loss: 0.0660 - acc: 0.9784 - val_loss: 1.3116 - val_acc: 0.8026\n",
            "Epoch 85/100\n",
            "8061/8061 [==============================] - 8s 1ms/step - loss: 0.0601 - acc: 0.9773 - val_loss: 1.3745 - val_acc: 0.7961\n",
            "Epoch 86/100\n",
            "8061/8061 [==============================] - 8s 1ms/step - loss: 0.0673 - acc: 0.9758 - val_loss: 1.3397 - val_acc: 0.8031\n",
            "Epoch 87/100\n",
            "8061/8061 [==============================] - 8s 1ms/step - loss: 0.0624 - acc: 0.9798 - val_loss: 1.3515 - val_acc: 0.8016\n",
            "Epoch 88/100\n",
            "8061/8061 [==============================] - 8s 1ms/step - loss: 0.0655 - acc: 0.9762 - val_loss: 1.3607 - val_acc: 0.7922\n",
            "Epoch 89/100\n",
            "8061/8061 [==============================] - 8s 1ms/step - loss: 0.0578 - acc: 0.9787 - val_loss: 1.3652 - val_acc: 0.8016\n",
            "Epoch 90/100\n",
            "8061/8061 [==============================] - 8s 1ms/step - loss: 0.0584 - acc: 0.9805 - val_loss: 1.4213 - val_acc: 0.7971\n",
            "Epoch 91/100\n",
            "8061/8061 [==============================] - 8s 1ms/step - loss: 0.0643 - acc: 0.9779 - val_loss: 1.4116 - val_acc: 0.8031\n",
            "Epoch 92/100\n",
            "8061/8061 [==============================] - 8s 1ms/step - loss: 0.0631 - acc: 0.9784 - val_loss: 1.4019 - val_acc: 0.7927\n",
            "Epoch 93/100\n",
            "8061/8061 [==============================] - 8s 1ms/step - loss: 0.0611 - acc: 0.9783 - val_loss: 1.4229 - val_acc: 0.7996\n",
            "Epoch 94/100\n",
            "8061/8061 [==============================] - 8s 1ms/step - loss: 0.0567 - acc: 0.9806 - val_loss: 1.3831 - val_acc: 0.7971\n",
            "Epoch 95/100\n",
            "8061/8061 [==============================] - 8s 1ms/step - loss: 0.0526 - acc: 0.9814 - val_loss: 1.4136 - val_acc: 0.8031\n",
            "Epoch 96/100\n",
            "8061/8061 [==============================] - 8s 1ms/step - loss: 0.0556 - acc: 0.9809 - val_loss: 1.4406 - val_acc: 0.7966\n",
            "Epoch 97/100\n",
            "8061/8061 [==============================] - 8s 1ms/step - loss: 0.0592 - acc: 0.9810 - val_loss: 1.3833 - val_acc: 0.8026\n",
            "Epoch 98/100\n",
            "8061/8061 [==============================] - 8s 1ms/step - loss: 0.0581 - acc: 0.9790 - val_loss: 1.3734 - val_acc: 0.8041\n",
            "Epoch 99/100\n",
            "8061/8061 [==============================] - 8s 1ms/step - loss: 0.0544 - acc: 0.9818 - val_loss: 1.4000 - val_acc: 0.7991\n",
            "Epoch 100/100\n",
            "8061/8061 [==============================] - 8s 1ms/step - loss: 0.0499 - acc: 0.9841 - val_loss: 1.4304 - val_acc: 0.7951\n"
          ],
          "name": "stdout"
        }
      ]
    },
    {
      "cell_type": "markdown",
      "metadata": {
        "id": "DXo-QWhRRL0a",
        "colab_type": "text"
      },
      "source": [
        "We have now got a training set accuracy of close to 98%, so no need to make the network more complex or bigger !"
      ]
    },
    {
      "cell_type": "code",
      "metadata": {
        "id": "YhW9MlO0wbyE",
        "colab_type": "code",
        "colab": {
          "base_uri": "https://localhost:8080/",
          "height": 641
        },
        "outputId": "4944aad1-038f-4221-fa37-65c55750b99e"
      },
      "source": [
        "plot_history(history)"
      ],
      "execution_count": 34,
      "outputs": [
        {
          "output_type": "stream",
          "text": [
            "dict_keys(['val_loss', 'val_acc', 'loss', 'acc'])\n"
          ],
          "name": "stdout"
        },
        {
          "output_type": "stream",
          "text": [
            "/usr/local/lib/python3.6/dist-packages/matplotlib/axes/_base.py:3604: MatplotlibDeprecationWarning: \n",
            "The `ymin` argument was deprecated in Matplotlib 3.0 and will be removed in 3.2. Use `bottom` instead.\n",
            "  alternative='`bottom`', obj_type='argument')\n"
          ],
          "name": "stderr"
        },
        {
          "output_type": "display_data",
          "data": {
            "image/png": "[encoded data removed]",
            "text/plain": [
              "<Figure size 432x288 with 1 Axes>"
            ]
          },
          "metadata": {
            "tags": []
          }
        },
        {
          "output_type": "display_data",
          "data": {
            "image/png": "[encoded data removed]",
            "text/plain": [
              "<Figure size 432x288 with 1 Axes>"
            ]
          },
          "metadata": {
            "tags": []
          }
        }
      ]
    },
    {
      "cell_type": "code",
      "metadata": {
        "id": "0XJ0gvSyKqQF",
        "colab_type": "code",
        "colab": {
          "base_uri": "https://localhost:8080/",
          "height": 1000
        },
        "outputId": "b68c4de2-396f-4067-9434-5f7576539fa3"
      },
      "source": [
        "# GRU with glove embeddings and two dense layers\n",
        "model = Sequential()\n",
        "model.add(Embedding(len(word_index) + 1,\n",
        "                     300,\n",
        "                     weights=[embedding_matrix],\n",
        "                     input_length=max_len,\n",
        "                     trainable=False))\n",
        "model.add(SpatialDropout1D(0.3))\n",
        "model.add(GRU(300, dropout=0.3, recurrent_dropout=0.3, return_sequences=True))\n",
        "model.add(GRU(300, dropout=0.3, recurrent_dropout=0.3))\n",
        "\n",
        "model.add(Dense(1024, activation='relu'))\n",
        "model.add(Dropout(0.3))\n",
        "\n",
        "model.add(Dense(1024, activation='relu'))\n",
        "model.add(Dropout(0.3))\n",
        "\n",
        "model.add(Dense(last_layer))\n",
        "model.add(Activation('softmax'))\n",
        "model.summary()\n",
        "model.compile(loss='categorical_crossentropy', optimizer='adam', metrics=['acc'])\n",
        "\n",
        "# Fit the model with early stopping callback\n",
        "earlystop = EarlyStopping(monitor='val_loss', min_delta=0, patience=3, verbose=0, mode='auto')\n",
        "history = model.fit(xtrain_pad, y=ytrain_enc, batch_size=512, epochs=100, \n",
        "          #verbose=1, validation_data=(xvalid_pad, yvalid_enc), callbacks=[earlystop])\n",
        "          verbose=1, validation_data=(xvalid_pad, yvalid_enc), callbacks=None)"
      ],
      "execution_count": 35,
      "outputs": [
        {
          "output_type": "stream",
          "text": [
            "Model: \"sequential_7\"\n",
            "_________________________________________________________________\n",
            "Layer (type)                 Output Shape              Param #   \n",
            "=================================================================\n",
            "embedding_6 (Embedding)      (None, 70, 300)           1969800   \n",
            "_________________________________________________________________\n",
            "spatial_dropout1d_6 (Spatial (None, 70, 300)           0         \n",
            "_________________________________________________________________\n",
            "gru_1 (GRU)                  (None, 70, 300)           540900    \n",
            "_________________________________________________________________\n",
            "gru_2 (GRU)                  (None, 300)               540900    \n",
            "_________________________________________________________________\n",
            "dense_19 (Dense)             (None, 1024)              308224    \n",
            "_________________________________________________________________\n",
            "dropout_13 (Dropout)         (None, 1024)              0         \n",
            "_________________________________________________________________\n",
            "dense_20 (Dense)             (None, 1024)              1049600   \n",
            "_________________________________________________________________\n",
            "dropout_14 (Dropout)         (None, 1024)              0         \n",
            "_________________________________________________________________\n",
            "dense_21 (Dense)             (None, 26)                26650     \n",
            "_________________________________________________________________\n",
            "activation_7 (Activation)    (None, 26)                0         \n",
            "=================================================================\n",
            "Total params: 4,436,074\n",
            "Trainable params: 2,466,274\n",
            "Non-trainable params: 1,969,800\n",
            "_________________________________________________________________\n",
            "Train on 8061 samples, validate on 2016 samples\n",
            "Epoch 1/100\n",
            "8061/8061 [==============================] - 10s 1ms/step - loss: 3.1670 - acc: 0.0863 - val_loss: 2.9701 - val_acc: 0.1959\n",
            "Epoch 2/100\n",
            "8061/8061 [==============================] - 7s 875us/step - loss: 2.7680 - acc: 0.1891 - val_loss: 2.2258 - val_acc: 0.3373\n",
            "Epoch 3/100\n",
            "8061/8061 [==============================] - 7s 874us/step - loss: 2.3301 - acc: 0.2864 - val_loss: 1.7634 - val_acc: 0.4395\n",
            "Epoch 4/100\n",
            "8061/8061 [==============================] - 7s 880us/step - loss: 1.9236 - acc: 0.3936 - val_loss: 1.4171 - val_acc: 0.5660\n",
            "Epoch 5/100\n",
            "8061/8061 [==============================] - 7s 879us/step - loss: 1.6214 - acc: 0.4843 - val_loss: 1.1972 - val_acc: 0.6265\n",
            "Epoch 6/100\n",
            "8061/8061 [==============================] - 7s 880us/step - loss: 1.3999 - acc: 0.5546 - val_loss: 1.0611 - val_acc: 0.6776\n",
            "Epoch 7/100\n",
            "8061/8061 [==============================] - 7s 876us/step - loss: 1.2520 - acc: 0.6046 - val_loss: 0.9962 - val_acc: 0.7014\n",
            "Epoch 8/100\n",
            "8061/8061 [==============================] - 7s 883us/step - loss: 1.1516 - acc: 0.6393 - val_loss: 0.9597 - val_acc: 0.7039\n",
            "Epoch 9/100\n",
            "8061/8061 [==============================] - 7s 877us/step - loss: 1.0887 - acc: 0.6570 - val_loss: 0.9110 - val_acc: 0.7316\n",
            "Epoch 10/100\n",
            "8061/8061 [==============================] - 7s 872us/step - loss: 1.0089 - acc: 0.6808 - val_loss: 0.9132 - val_acc: 0.7336\n",
            "Epoch 11/100\n",
            "8061/8061 [==============================] - 7s 879us/step - loss: 0.9796 - acc: 0.6885 - val_loss: 0.8581 - val_acc: 0.7530\n",
            "Epoch 12/100\n",
            "8061/8061 [==============================] - 7s 880us/step - loss: 0.9461 - acc: 0.7098 - val_loss: 0.8364 - val_acc: 0.7609\n",
            "Epoch 13/100\n",
            "8061/8061 [==============================] - 7s 874us/step - loss: 0.8864 - acc: 0.7200 - val_loss: 0.8381 - val_acc: 0.7589\n",
            "Epoch 14/100\n",
            "8061/8061 [==============================] - 7s 877us/step - loss: 0.8647 - acc: 0.7314 - val_loss: 0.8084 - val_acc: 0.7748\n",
            "Epoch 15/100\n",
            "8061/8061 [==============================] - 7s 879us/step - loss: 0.8493 - acc: 0.7358 - val_loss: 0.7775 - val_acc: 0.7733\n",
            "Epoch 16/100\n",
            "8061/8061 [==============================] - 7s 876us/step - loss: 0.7875 - acc: 0.7575 - val_loss: 0.7649 - val_acc: 0.7808\n",
            "Epoch 17/100\n",
            "8061/8061 [==============================] - 7s 877us/step - loss: 0.7822 - acc: 0.7581 - val_loss: 0.7669 - val_acc: 0.7743\n",
            "Epoch 18/100\n",
            "8061/8061 [==============================] - 7s 880us/step - loss: 0.7476 - acc: 0.7691 - val_loss: 0.7704 - val_acc: 0.7778\n",
            "Epoch 19/100\n",
            "8061/8061 [==============================] - 7s 876us/step - loss: 0.7311 - acc: 0.7711 - val_loss: 0.7691 - val_acc: 0.7803\n",
            "Epoch 20/100\n",
            "8061/8061 [==============================] - 7s 878us/step - loss: 0.7158 - acc: 0.7791 - val_loss: 0.7446 - val_acc: 0.7941\n",
            "Epoch 21/100\n",
            "8061/8061 [==============================] - 7s 877us/step - loss: 0.6702 - acc: 0.7891 - val_loss: 0.7537 - val_acc: 0.8001\n",
            "Epoch 22/100\n",
            "8061/8061 [==============================] - 7s 877us/step - loss: 0.6664 - acc: 0.7882 - val_loss: 0.7606 - val_acc: 0.7937\n",
            "Epoch 23/100\n",
            "8061/8061 [==============================] - 7s 882us/step - loss: 0.6360 - acc: 0.7962 - val_loss: 0.7446 - val_acc: 0.7897\n",
            "Epoch 24/100\n",
            "8061/8061 [==============================] - 7s 885us/step - loss: 0.6232 - acc: 0.7961 - val_loss: 0.7603 - val_acc: 0.7961\n",
            "Epoch 25/100\n",
            "8061/8061 [==============================] - 7s 879us/step - loss: 0.5895 - acc: 0.8126 - val_loss: 0.7469 - val_acc: 0.7937\n",
            "Epoch 26/100\n",
            "8061/8061 [==============================] - 7s 883us/step - loss: 0.5795 - acc: 0.8173 - val_loss: 0.7304 - val_acc: 0.7981\n",
            "Epoch 27/100\n",
            "8061/8061 [==============================] - 7s 884us/step - loss: 0.5589 - acc: 0.8263 - val_loss: 0.7555 - val_acc: 0.7971\n",
            "Epoch 28/100\n",
            "8061/8061 [==============================] - 7s 883us/step - loss: 0.5531 - acc: 0.8194 - val_loss: 0.7459 - val_acc: 0.8085\n",
            "Epoch 29/100\n",
            "8061/8061 [==============================] - 7s 890us/step - loss: 0.5142 - acc: 0.8322 - val_loss: 0.7424 - val_acc: 0.8070\n",
            "Epoch 30/100\n",
            "8061/8061 [==============================] - 7s 885us/step - loss: 0.5018 - acc: 0.8360 - val_loss: 0.7551 - val_acc: 0.8075\n",
            "Epoch 31/100\n",
            "8061/8061 [==============================] - 7s 880us/step - loss: 0.4789 - acc: 0.8418 - val_loss: 0.7707 - val_acc: 0.8036\n",
            "Epoch 32/100\n",
            "8061/8061 [==============================] - 7s 890us/step - loss: 0.4736 - acc: 0.8416 - val_loss: 0.7663 - val_acc: 0.8011\n",
            "Epoch 33/100\n",
            "8061/8061 [==============================] - 7s 887us/step - loss: 0.4647 - acc: 0.8495 - val_loss: 0.7819 - val_acc: 0.8095\n",
            "Epoch 34/100\n",
            "8061/8061 [==============================] - 7s 882us/step - loss: 0.4500 - acc: 0.8515 - val_loss: 0.7828 - val_acc: 0.8006\n",
            "Epoch 35/100\n",
            "8061/8061 [==============================] - 7s 877us/step - loss: 0.4470 - acc: 0.8488 - val_loss: 0.7783 - val_acc: 0.8041\n",
            "Epoch 36/100\n",
            "8061/8061 [==============================] - 7s 881us/step - loss: 0.4189 - acc: 0.8666 - val_loss: 0.8063 - val_acc: 0.7927\n",
            "Epoch 37/100\n",
            "8061/8061 [==============================] - 7s 879us/step - loss: 0.4140 - acc: 0.8612 - val_loss: 0.7863 - val_acc: 0.8021\n",
            "Epoch 38/100\n",
            "8061/8061 [==============================] - 7s 881us/step - loss: 0.4003 - acc: 0.8660 - val_loss: 0.8190 - val_acc: 0.8056\n",
            "Epoch 39/100\n",
            "8061/8061 [==============================] - 7s 882us/step - loss: 0.3913 - acc: 0.8730 - val_loss: 0.7989 - val_acc: 0.8150\n",
            "Epoch 40/100\n",
            "8061/8061 [==============================] - 7s 878us/step - loss: 0.3761 - acc: 0.8758 - val_loss: 0.8117 - val_acc: 0.8115\n",
            "Epoch 41/100\n",
            "8061/8061 [==============================] - 7s 880us/step - loss: 0.3556 - acc: 0.8836 - val_loss: 0.8455 - val_acc: 0.8080\n",
            "Epoch 42/100\n",
            "8061/8061 [==============================] - 7s 883us/step - loss: 0.3546 - acc: 0.8790 - val_loss: 0.8211 - val_acc: 0.8130\n",
            "Epoch 43/100\n",
            "8061/8061 [==============================] - 7s 879us/step - loss: 0.3373 - acc: 0.8823 - val_loss: 0.8433 - val_acc: 0.8130\n",
            "Epoch 44/100\n",
            "8061/8061 [==============================] - 7s 883us/step - loss: 0.3223 - acc: 0.8970 - val_loss: 0.8381 - val_acc: 0.8056\n",
            "Epoch 45/100\n",
            "8061/8061 [==============================] - 7s 883us/step - loss: 0.3113 - acc: 0.8936 - val_loss: 0.8683 - val_acc: 0.8041\n",
            "Epoch 46/100\n",
            "8061/8061 [==============================] - 7s 882us/step - loss: 0.2969 - acc: 0.8998 - val_loss: 0.8731 - val_acc: 0.8120\n",
            "Epoch 47/100\n",
            "8061/8061 [==============================] - 7s 876us/step - loss: 0.2901 - acc: 0.9026 - val_loss: 0.8699 - val_acc: 0.8075\n",
            "Epoch 48/100\n",
            "8061/8061 [==============================] - 7s 882us/step - loss: 0.2859 - acc: 0.9047 - val_loss: 0.8891 - val_acc: 0.8026\n",
            "Epoch 49/100\n",
            "8061/8061 [==============================] - 7s 880us/step - loss: 0.2796 - acc: 0.9037 - val_loss: 0.8897 - val_acc: 0.8100\n",
            "Epoch 50/100\n",
            "8061/8061 [==============================] - 7s 882us/step - loss: 0.2771 - acc: 0.9063 - val_loss: 0.8961 - val_acc: 0.8105\n",
            "Epoch 51/100\n",
            "8061/8061 [==============================] - 7s 883us/step - loss: 0.2604 - acc: 0.9087 - val_loss: 0.9077 - val_acc: 0.8021\n",
            "Epoch 52/100\n",
            "8061/8061 [==============================] - 7s 881us/step - loss: 0.2485 - acc: 0.9118 - val_loss: 0.9796 - val_acc: 0.7981\n",
            "Epoch 53/100\n",
            "8061/8061 [==============================] - 7s 881us/step - loss: 0.2478 - acc: 0.9191 - val_loss: 0.9421 - val_acc: 0.8090\n",
            "Epoch 54/100\n",
            "8061/8061 [==============================] - 7s 887us/step - loss: 0.2399 - acc: 0.9194 - val_loss: 0.9460 - val_acc: 0.8065\n",
            "Epoch 55/100\n",
            "8061/8061 [==============================] - 7s 882us/step - loss: 0.2444 - acc: 0.9148 - val_loss: 0.9567 - val_acc: 0.8031\n",
            "Epoch 56/100\n",
            "8061/8061 [==============================] - 7s 878us/step - loss: 0.2141 - acc: 0.9251 - val_loss: 0.9865 - val_acc: 0.8110\n",
            "Epoch 57/100\n",
            "8061/8061 [==============================] - 7s 883us/step - loss: 0.2237 - acc: 0.9225 - val_loss: 0.9692 - val_acc: 0.8110\n",
            "Epoch 58/100\n",
            "8061/8061 [==============================] - 7s 883us/step - loss: 0.2184 - acc: 0.9238 - val_loss: 0.9735 - val_acc: 0.8046\n",
            "Epoch 59/100\n",
            "8061/8061 [==============================] - 7s 881us/step - loss: 0.2125 - acc: 0.9309 - val_loss: 0.9930 - val_acc: 0.8075\n",
            "Epoch 60/100\n",
            "8061/8061 [==============================] - 7s 880us/step - loss: 0.2132 - acc: 0.9258 - val_loss: 0.9895 - val_acc: 0.8080\n",
            "Epoch 61/100\n",
            "8061/8061 [==============================] - 7s 887us/step - loss: 0.1971 - acc: 0.9333 - val_loss: 0.9908 - val_acc: 0.8070\n",
            "Epoch 62/100\n",
            "8061/8061 [==============================] - 7s 881us/step - loss: 0.1886 - acc: 0.9372 - val_loss: 1.0017 - val_acc: 0.8105\n",
            "Epoch 63/100\n",
            "8061/8061 [==============================] - 7s 888us/step - loss: 0.1731 - acc: 0.9400 - val_loss: 1.0106 - val_acc: 0.8075\n",
            "Epoch 64/100\n",
            "8061/8061 [==============================] - 7s 885us/step - loss: 0.1856 - acc: 0.9374 - val_loss: 1.0605 - val_acc: 0.8051\n",
            "Epoch 65/100\n",
            "8061/8061 [==============================] - 7s 879us/step - loss: 0.1757 - acc: 0.9386 - val_loss: 1.0362 - val_acc: 0.8095\n",
            "Epoch 66/100\n",
            "8061/8061 [==============================] - 7s 883us/step - loss: 0.1669 - acc: 0.9448 - val_loss: 1.0503 - val_acc: 0.8170\n",
            "Epoch 67/100\n",
            "8061/8061 [==============================] - 7s 886us/step - loss: 0.1652 - acc: 0.9424 - val_loss: 1.0674 - val_acc: 0.8065\n",
            "Epoch 68/100\n",
            "8061/8061 [==============================] - 7s 878us/step - loss: 0.1650 - acc: 0.9421 - val_loss: 1.1064 - val_acc: 0.8120\n",
            "Epoch 69/100\n",
            "8061/8061 [==============================] - 7s 880us/step - loss: 0.1758 - acc: 0.9418 - val_loss: 1.0340 - val_acc: 0.8085\n",
            "Epoch 70/100\n",
            "8061/8061 [==============================] - 7s 886us/step - loss: 0.1604 - acc: 0.9469 - val_loss: 1.0790 - val_acc: 0.8036\n",
            "Epoch 71/100\n",
            "8061/8061 [==============================] - 7s 883us/step - loss: 0.1619 - acc: 0.9459 - val_loss: 1.0729 - val_acc: 0.8070\n",
            "Epoch 72/100\n",
            "8061/8061 [==============================] - 7s 886us/step - loss: 0.1505 - acc: 0.9489 - val_loss: 1.1112 - val_acc: 0.8100\n",
            "Epoch 73/100\n",
            "8061/8061 [==============================] - 7s 889us/step - loss: 0.1431 - acc: 0.9516 - val_loss: 1.1251 - val_acc: 0.8120\n",
            "Epoch 74/100\n",
            "8061/8061 [==============================] - 7s 881us/step - loss: 0.1397 - acc: 0.9503 - val_loss: 1.1409 - val_acc: 0.8150\n",
            "Epoch 75/100\n",
            "8061/8061 [==============================] - 7s 880us/step - loss: 0.1413 - acc: 0.9517 - val_loss: 1.1414 - val_acc: 0.8095\n",
            "Epoch 76/100\n",
            "8061/8061 [==============================] - 7s 882us/step - loss: 0.1430 - acc: 0.9522 - val_loss: 1.1003 - val_acc: 0.8110\n",
            "Epoch 77/100\n",
            "8061/8061 [==============================] - 7s 882us/step - loss: 0.1373 - acc: 0.9520 - val_loss: 1.1644 - val_acc: 0.8165\n",
            "Epoch 78/100\n",
            "8061/8061 [==============================] - 7s 881us/step - loss: 0.1495 - acc: 0.9524 - val_loss: 1.1087 - val_acc: 0.8120\n",
            "Epoch 79/100\n",
            "8061/8061 [==============================] - 7s 886us/step - loss: 0.1365 - acc: 0.9530 - val_loss: 1.1452 - val_acc: 0.8160\n",
            "Epoch 80/100\n",
            "8061/8061 [==============================] - 7s 885us/step - loss: 0.1196 - acc: 0.9581 - val_loss: 1.1944 - val_acc: 0.8165\n",
            "Epoch 81/100\n",
            "8061/8061 [==============================] - 7s 884us/step - loss: 0.1302 - acc: 0.9530 - val_loss: 1.1282 - val_acc: 0.8209\n",
            "Epoch 82/100\n",
            "8061/8061 [==============================] - 7s 881us/step - loss: 0.1209 - acc: 0.9571 - val_loss: 1.2096 - val_acc: 0.8125\n",
            "Epoch 83/100\n",
            "8061/8061 [==============================] - 7s 886us/step - loss: 0.1206 - acc: 0.9607 - val_loss: 1.2094 - val_acc: 0.8110\n",
            "Epoch 84/100\n",
            "8061/8061 [==============================] - 7s 884us/step - loss: 0.1112 - acc: 0.9618 - val_loss: 1.1856 - val_acc: 0.8165\n",
            "Epoch 85/100\n",
            "8061/8061 [==============================] - 7s 886us/step - loss: 0.1123 - acc: 0.9619 - val_loss: 1.2334 - val_acc: 0.8140\n",
            "Epoch 86/100\n",
            "8061/8061 [==============================] - 7s 880us/step - loss: 0.1196 - acc: 0.9583 - val_loss: 1.2088 - val_acc: 0.8115\n",
            "Epoch 87/100\n",
            "8061/8061 [==============================] - 7s 880us/step - loss: 0.1298 - acc: 0.9556 - val_loss: 1.1822 - val_acc: 0.8085\n",
            "Epoch 88/100\n",
            "8061/8061 [==============================] - 7s 882us/step - loss: 0.1195 - acc: 0.9577 - val_loss: 1.1481 - val_acc: 0.8194\n",
            "Epoch 89/100\n",
            "8061/8061 [==============================] - 7s 882us/step - loss: 0.1169 - acc: 0.9577 - val_loss: 1.1708 - val_acc: 0.8150\n",
            "Epoch 90/100\n",
            "8061/8061 [==============================] - 7s 886us/step - loss: 0.1060 - acc: 0.9632 - val_loss: 1.2081 - val_acc: 0.8165\n",
            "Epoch 91/100\n",
            "8061/8061 [==============================] - 7s 884us/step - loss: 0.1091 - acc: 0.9655 - val_loss: 1.1893 - val_acc: 0.8090\n",
            "Epoch 92/100\n",
            "8061/8061 [==============================] - 7s 881us/step - loss: 0.0963 - acc: 0.9646 - val_loss: 1.1985 - val_acc: 0.8219\n",
            "Epoch 93/100\n",
            "8061/8061 [==============================] - 7s 878us/step - loss: 0.0945 - acc: 0.9658 - val_loss: 1.2378 - val_acc: 0.8180\n",
            "Epoch 94/100\n",
            "8061/8061 [==============================] - 7s 883us/step - loss: 0.0964 - acc: 0.9672 - val_loss: 1.2562 - val_acc: 0.8140\n",
            "Epoch 95/100\n",
            "8061/8061 [==============================] - 7s 882us/step - loss: 0.0896 - acc: 0.9701 - val_loss: 1.1854 - val_acc: 0.8214\n",
            "Epoch 96/100\n",
            "8061/8061 [==============================] - 7s 879us/step - loss: 0.0937 - acc: 0.9674 - val_loss: 1.2256 - val_acc: 0.8175\n",
            "Epoch 97/100\n",
            "8061/8061 [==============================] - 7s 882us/step - loss: 0.1023 - acc: 0.9654 - val_loss: 1.2346 - val_acc: 0.8180\n",
            "Epoch 98/100\n",
            "8061/8061 [==============================] - 7s 880us/step - loss: 0.1000 - acc: 0.9637 - val_loss: 1.2212 - val_acc: 0.8150\n",
            "Epoch 99/100\n",
            "8061/8061 [==============================] - 7s 878us/step - loss: 0.0991 - acc: 0.9672 - val_loss: 1.2093 - val_acc: 0.8105\n",
            "Epoch 100/100\n",
            "8061/8061 [==============================] - 7s 887us/step - loss: 0.0940 - acc: 0.9679 - val_loss: 1.1756 - val_acc: 0.8199\n"
          ],
          "name": "stdout"
        }
      ]
    },
    {
      "cell_type": "code",
      "metadata": {
        "id": "_c8ReTlBi1m_",
        "colab_type": "code",
        "colab": {
          "base_uri": "https://localhost:8080/",
          "height": 641
        },
        "outputId": "f0c6ba12-ba20-4ac1-c76d-ab13d8568386"
      },
      "source": [
        "plot_history(history)"
      ],
      "execution_count": 36,
      "outputs": [
        {
          "output_type": "stream",
          "text": [
            "dict_keys(['val_loss', 'val_acc', 'loss', 'acc'])\n"
          ],
          "name": "stdout"
        },
        {
          "output_type": "stream",
          "text": [
            "/usr/local/lib/python3.6/dist-packages/matplotlib/axes/_base.py:3604: MatplotlibDeprecationWarning: \n",
            "The `ymin` argument was deprecated in Matplotlib 3.0 and will be removed in 3.2. Use `bottom` instead.\n",
            "  alternative='`bottom`', obj_type='argument')\n"
          ],
          "name": "stderr"
        },
        {
          "output_type": "display_data",
          "data": {
            "image/png": "[encoded data removed]",
            "text/plain": [
              "<Figure size 432x288 with 1 Axes>"
            ]
          },
          "metadata": {
            "tags": []
          }
        },
        {
          "output_type": "display_data",
          "data": {
            "image/png": "[encoded data removed]",
            "text/plain": [
              "<Figure size 432x288 with 1 Axes>"
            ]
          },
          "metadata": {
            "tags": []
          }
        }
      ]
    },
    {
      "cell_type": "code",
      "metadata": {
        "id": "5V08DV8l3vG0",
        "colab_type": "code",
        "colab": {}
      },
      "source": [
        ""
      ],
      "execution_count": 0,
      "outputs": []
    }
  ]
}