{
 "cells": [
  {
   "cell_type": "code",
   "execution_count": 1,
   "metadata": {},
   "outputs": [
    {
     "name": "stderr",
     "output_type": "stream",
     "text": [
      "Using TensorFlow backend.\n"
     ]
    }
   ],
   "source": [
    "## Scikit learn libraries\n",
    "from sklearn import model_selection, preprocessing, linear_model, naive_bayes, metrics, svm\n",
    "from sklearn.feature_extraction.text import TfidfVectorizer, CountVectorizer\n",
    "from sklearn.linear_model import LogisticRegression, SGDClassifier\n",
    "from sklearn.pipeline import make_pipeline\n",
    "from sklearn.ensemble import RandomForestClassifier\n",
    "from sklearn.preprocessing import LabelBinarizer, LabelEncoder\n",
    "\n",
    "## For NLP\n",
    "from bs4 import BeautifulSoup, Tag    ## Cleaning HTML tags from text\n",
    "import nltk, string\n",
    "from nltk.corpus import stopwords \n",
    "import re\n",
    "\n",
    "## Glove vectors\n",
    "from tqdm import tqdm                 ## Progress bar for loading GloVe embeddings\n",
    "from nltk import word_tokenize        ## For GloVe\n",
    "\n",
    "## Common Python libraries\n",
    "import pandas as pd\n",
    "import numpy as np\n",
    "import matplotlib.pyplot as plt\n",
    "import seaborn as sns\n",
    "\n",
    "## Data I/O\n",
    "import json     ## To convert json raw data to df\n",
    "import pickle   ## saving the model to disk\n",
    "\n",
    "import xgboost as xgb\n",
    "from scipy.stats import uniform, randint\n",
    "\n",
    "from tensorflow import keras\n",
    "from keras.models import Sequential\n",
    "from keras.layers.recurrent import LSTM, GRU\n",
    "from keras.layers.embeddings import Embedding\n",
    "from keras.layers import Dense, Activation, Dropout\n",
    "from keras.layers.normalization import BatchNormalization\n",
    "from keras.preprocessing import text, sequence\n",
    "from keras import utils\n",
    "from keras.callbacks import EarlyStopping\n",
    "from keras.utils import np_utils\n",
    "from keras.layers import GlobalMaxPooling1D, Conv1D, MaxPooling1D, Flatten, Bidirectional, SpatialDropout1D\n",
    "\n",
    "## Problem texts can be long and may not load on Jupyter\n",
    "pd.set_option('display.max_colwidth', -1)"
   ]
  },
  {
   "cell_type": "markdown",
   "metadata": {},
   "source": [
    "## Extract subject wise training data"
   ]
  },
  {
   "cell_type": "code",
   "execution_count": 2,
   "metadata": {},
   "outputs": [
    {
     "data": {
      "text/html": [
       "<div>\n",
       "<style scoped>\n",
       "    .dataframe tbody tr th:only-of-type {\n",
       "        vertical-align: middle;\n",
       "    }\n",
       "\n",
       "    .dataframe tbody tr th {\n",
       "        vertical-align: top;\n",
       "    }\n",
       "\n",
       "    .dataframe thead th {\n",
       "        text-align: right;\n",
       "    }\n",
       "</style>\n",
       "<table border=\"1\" class=\"dataframe\">\n",
       "  <thead>\n",
       "    <tr style=\"text-align: right;\">\n",
       "      <th></th>\n",
       "      <th>text</th>\n",
       "      <th>label</th>\n",
       "    </tr>\n",
       "  </thead>\n",
       "  <tbody>\n",
       "    <tr>\n",
       "      <th>0</th>\n",
       "      <td>which of the following statements is incorrect</td>\n",
       "      <td>Solutions</td>\n",
       "    </tr>\n",
       "    <tr>\n",
       "      <th>1</th>\n",
       "      <td>dry air was successively passed through a solution of g solute in g water and through pure water the loss in weight of solution was g and that of pure water was g molecular weight of solute in g mol is m find the value of frac m assume that solute is non volatile and does not dissociate or associate</td>\n",
       "      <td>Solutions</td>\n",
       "    </tr>\n",
       "    <tr>\n",
       "      <th>2</th>\n",
       "      <td>an aqueous solution boils at k what is the freezing point of the same solution given k f circ c m and k b circ c m</td>\n",
       "      <td>Solutions</td>\n",
       "    </tr>\n",
       "  </tbody>\n",
       "</table>\n",
       "</div>"
      ],
      "text/plain": [
       "                                                                                                                                                                                                                                                                                                           text  \\\n",
       "0  which of the following statements is incorrect                                                                                                                                                                                                                                                                 \n",
       "1  dry air was successively passed through a solution of g solute in g water and through pure water the loss in weight of solution was g and that of pure water was g molecular weight of solute in g mol is m find the value of frac m assume that solute is non volatile and does not dissociate or associate   \n",
       "2  an aqueous solution boils at k what is the freezing point of the same solution given k f circ c m and k b circ c m                                                                                                                                                                                             \n",
       "\n",
       "       label  \n",
       "0  Solutions  \n",
       "1  Solutions  \n",
       "2  Solutions  "
      ]
     },
     "execution_count": 2,
     "metadata": {},
     "output_type": "execute_result"
    }
   ],
   "source": [
    "# Load the dataset and show sample question\n",
    "with open('../data/qs_topicwise.json') as json_data:\n",
    "    all_questions = json.load(json_data)\n",
    "\n",
    "subject_model = ['CHM']\n",
    "\n",
    "## Create empty df \n",
    "data_df = pd.DataFrame(columns=['code', 'curriculum', 'subject', 'grade', 'question_text', 'chapter'])\n",
    "\n",
    "## Removing these words improves Phy clf accuracy by 2% but improves Math classifier accuracy\n",
    "words_to_remove = [\"rightarrow\", \"hence\", \"frac\", \"text\", \"sqrt\", \"times\", \n",
    "                   \"value\", \"amp\", \"statement\", \"will\", \"equal\", \"number\", \n",
    "                   \"tan\", \"now\", \"can\", \"two\", \"get\", \"true\", \"lambda\", \"a\", \"an\", \"the\"]\n",
    "stop_words = stopwords.words('english')         ## Downloaded from NLTK\n",
    "'''\n",
    "for PHY - removing Stopwords reduce acc & f1 score : 67% -> 63%, 74% -> 72%\n",
    "for CHM - removing Stopwords reduce acc & f1 score by 6%\n",
    "for MTH - \n",
    "'''\n",
    "\n",
    "## Remove dummy and empty chapters\n",
    "chapters_to_remove = ['Selection Test', 'Repository', 'Bridge Intervention Curriculum', \n",
    "                      'M1.1 Scaffold test', 'Tally Marks', 'Dummy']\n",
    "chapters_with_no_data = ['Static Electricity', 'Experimental Skills', 'Nuclear Chemistry', \n",
    "                         'Principle of Mathematical Induction', 'Environmental Chemistry']\n",
    "\n",
    "## Regex pattern for alpha numeric - Improves accuracy & f1-score for Phy by 2%\n",
    "pattern = re.compile('[\\W_]+')\n",
    "\n",
    "i = 0\n",
    "for question in all_questions:\n",
    "    try: \n",
    "        question_text = question['question_text'].lower()\n",
    "        ## Remove HTML tags from text using Beautiful Soup\n",
    "        '''\n",
    "        For MTH, it improves accuracy from 40% to 60% in MTH, \n",
    "        For PHY, it reduces accuracy from 60% to 20%. \n",
    "        For CHM, it increases accuracy from 50% to 52% \n",
    "        '''\n",
    "        question_text = BeautifulSoup(question_text, \"html.parser\").get_text() \n",
    "        ## Remove numbers\n",
    "        '''\n",
    "        For PHY, removing nos improved accuracy & F1 score by 0.5%\n",
    "        For CHM, removing nos improved acc by 2%\n",
    "        '''\n",
    "        question_text = ''.join(c for c in question_text if not c.isdigit())\n",
    "        ## Regex pattern for alpha numeric text\n",
    "        '''\n",
    "        For CHM, removing this regex improved score by 9%\n",
    "        '''\n",
    "        question_text = pattern.sub(\" \", question_text)\n",
    "        ## Remove stop words\n",
    "        '''\n",
    "        For CHM, keeping both sets of words, instead of removing them improved acc by 5%\n",
    "        '''\n",
    "        #question_text = \" \".join([word for word in question_text.split() if word not in words_to_remove])\n",
    "        #question_text = \" \".join([word for word in question_text.split() if word not in stop_words])\n",
    "        ## Remove extra whitespaces\n",
    "        question_text = \" \".join(question_text.split()) \n",
    "        ## Extracting elements for cleaner code\n",
    "        grade = question['grade']\n",
    "        curriculum = question['curriculum']\n",
    "        chapter = question['chapter']\n",
    "        subject = question['subject']\n",
    "        ## Filtering each question from JSON to add relevant Qs to dataframe \n",
    "        if(    \"JEE\" in curriculum and grade in [\"11\", \"12\"] and\n",
    "               chapter not in chapters_to_remove and\n",
    "               chapter not in chapters_with_no_data and\n",
    "               \"dummy\" not in question_text and subject in subject_model):\n",
    "                data_df.loc[i] = [question['problem_code'],curriculum, subject, \\\n",
    "                                  grade, question_text, chapter]\n",
    "                i += 1\n",
    "    except:\n",
    "            pass\n",
    "\n",
    "trainDF = pd.DataFrame(columns=['text', 'label'])\n",
    "trainDF['text'] = data_df['question_text']\n",
    "trainDF['label'] = data_df['chapter']\n",
    "trainDF.head(3)"
   ]
  },
  {
   "cell_type": "code",
   "execution_count": 3,
   "metadata": {},
   "outputs": [
    {
     "data": {
      "text/plain": [
       "<matplotlib.axes._subplots.AxesSubplot at 0x1a33aa6c50>"
      ]
     },
     "execution_count": 3,
     "metadata": {},
     "output_type": "execute_result"
    },
    {
     "data": {
      "image/png": "[encoded data removed]",
      "text/plain": [
       "<Figure size 432x288 with 1 Axes>"
      ]
     },
     "metadata": {
      "needs_background": "light"
     },
     "output_type": "display_data"
    }
   ],
   "source": [
    "trainDF.label.value_counts().plot(kind=\"bar\")"
   ]
  },
  {
   "cell_type": "markdown",
   "metadata": {},
   "source": [
    "### Train test split"
   ]
  },
  {
   "cell_type": "code",
   "execution_count": 4,
   "metadata": {},
   "outputs": [
    {
     "name": "stdout",
     "output_type": "stream",
     "text": [
      "8220 2055\n"
     ]
    }
   ],
   "source": [
    "train_x, valid_x, train_y, valid_y = model_selection.train_test_split(trainDF['text'], trainDF['label'], test_size=0.2)\n",
    "print(len(train_x), len(valid_x) )"
   ]
  },
  {
   "cell_type": "markdown",
   "metadata": {},
   "source": [
    "#### Label Encoding\n",
    "Label encoding is not needed for sklearn classifiers, as they are all capable of mutli-class classification, and handle label encoding automatically. Source :  https://stackoverflow.com/questions/51525043/encoding-labels-for-multi-class-problems-in-sckit-learn\n",
    "\n",
    "For non-sklearn models like NNs or XGB, we need to do label encoding"
   ]
  },
  {
   "cell_type": "code",
   "execution_count": 5,
   "metadata": {},
   "outputs": [
    {
     "data": {
      "text/plain": [
       "array([ 7, 17, 17, 25,  3])"
      ]
     },
     "execution_count": 5,
     "metadata": {},
     "output_type": "execute_result"
    }
   ],
   "source": [
    "# Use sklearn utility to convert label strings to numbered index\n",
    "encoder = LabelEncoder()\n",
    "encoder.fit(train_y)\n",
    "train_y = encoder.transform(train_y)\n",
    "valid_y = encoder.transform(valid_y)\n",
    "valid_y[0:5]"
   ]
  },
  {
   "cell_type": "markdown",
   "metadata": {},
   "source": [
    "### Glove vectors\n",
    "Loading GloVe embeddings from Standford dataset : http://www-nlp.stanford.edu/data/glove.840B.300d.zip\n"
   ]
  },
  {
   "cell_type": "code",
   "execution_count": 6,
   "metadata": {},
   "outputs": [
    {
     "name": "stderr",
     "output_type": "stream",
     "text": [
      "2196017it [03:57, 9233.55it/s]"
     ]
    },
    {
     "name": "stdout",
     "output_type": "stream",
     "text": [
      "Found 2195892 word vectors.\n"
     ]
    },
    {
     "name": "stderr",
     "output_type": "stream",
     "text": [
      "\n"
     ]
    }
   ],
   "source": [
    "## Source - https://www.kaggle.com/abhishek/approaching-almost-any-nlp-problem-on-kaggle\n",
    "# load the GloVe vectors in a dictionary:\n",
    "# create a map of words to vectors\n",
    "\n",
    "embeddings_index = {}\n",
    "f = open('glove.840B.300d.txt', 'r', encoding='utf8', errors = 'ignore')\n",
    "\n",
    "for line in tqdm(f):     ## tqdm adds a progress bar\n",
    "    values = line.split()\n",
    "    word = ''.join(values[:-300])\n",
    "    coefs = np.asarray(values[-300:], dtype='float32')\n",
    "    embeddings_index[word] = coefs\n",
    "f.close()\n",
    "\n",
    "print('Found %s word vectors.' % len(embeddings_index))"
   ]
  },
  {
   "cell_type": "code",
   "execution_count": 7,
   "metadata": {},
   "outputs": [],
   "source": [
    "# this function creates a normalized vector for the whole sentence\n",
    "def sent2vec(s):\n",
    "    words = str(s).lower()\n",
    "    words = word_tokenize(words)\n",
    "    words = [w for w in words if not w in stop_words]\n",
    "    words = [w for w in words if w.isalpha()]\n",
    "    M = []\n",
    "    for w in words:\n",
    "        try:\n",
    "            M.append(embeddings_index[w])\n",
    "        except:\n",
    "            continue\n",
    "    M = np.array(M)\n",
    "    v = M.sum(axis=0)\n",
    "    if type(v) != np.ndarray:\n",
    "        return np.zeros(300)\n",
    "    return v / np.sqrt((v ** 2).sum())"
   ]
  },
  {
   "cell_type": "code",
   "execution_count": 8,
   "metadata": {},
   "outputs": [
    {
     "name": "stderr",
     "output_type": "stream",
     "text": [
      "100%|██████████| 8220/8220 [00:05<00:00, 1474.40it/s]\n",
      "100%|██████████| 2055/2055 [00:00<00:00, 2753.96it/s]\n"
     ]
    }
   ],
   "source": [
    "# create sentence vectors using the above function for training and validation set\n",
    "xtrain_glove = [sent2vec(x) for x in tqdm(train_x)]\n",
    "xvalid_glove = [sent2vec(x) for x in tqdm(valid_x)]"
   ]
  },
  {
   "cell_type": "code",
   "execution_count": 9,
   "metadata": {},
   "outputs": [],
   "source": [
    "xtrain_glove = np.array(xtrain_glove)\n",
    "xvalid_glove = np.array(xvalid_glove)"
   ]
  },
  {
   "cell_type": "markdown",
   "metadata": {},
   "source": [
    "### Trying LSTM on GloVe features\n",
    "Source : https://www.kaggle.com/abhishek/approaching-almost-any-nlp-problem-on-kaggle"
   ]
  },
  {
   "cell_type": "code",
   "execution_count": 10,
   "metadata": {},
   "outputs": [],
   "source": [
    "# scale the data before any neural net:\n",
    "scl = preprocessing.StandardScaler()\n",
    "xtrain_glove_scl = scl.fit_transform(xtrain_glove)\n",
    "xvalid_glove_scl = scl.transform(xvalid_glove)"
   ]
  },
  {
   "cell_type": "code",
   "execution_count": 11,
   "metadata": {},
   "outputs": [],
   "source": [
    "# we need to binarize the labels for the neural net\n",
    "ytrain_enc = np_utils.to_categorical(train_y)\n",
    "yvalid_enc = np_utils.to_categorical(valid_y)"
   ]
  },
  {
   "cell_type": "code",
   "execution_count": 12,
   "metadata": {},
   "outputs": [
    {
     "data": {
      "text/plain": [
       "29"
      ]
     },
     "execution_count": 12,
     "metadata": {},
     "output_type": "execute_result"
    }
   ],
   "source": [
    "### No of classes in the last layer\n",
    "len(ytrain_enc[0])"
   ]
  },
  {
   "cell_type": "code",
   "execution_count": 13,
   "metadata": {},
   "outputs": [],
   "source": [
    "# create a simple 3 layer sequential neural net\n",
    "model = Sequential()\n",
    "\n",
    "model.add(Dense(300, input_dim=300, activation='relu'))\n",
    "model.add(Dropout(0.2))\n",
    "model.add(BatchNormalization())\n",
    "\n",
    "model.add(Dense(300, activation='relu'))\n",
    "model.add(Dropout(0.3))\n",
    "model.add(BatchNormalization())\n",
    "\n",
    "model.add(Dense(29))                       ## No of classes to predict\n",
    "model.add(Activation('softmax'))\n",
    "\n",
    "# compile the model\n",
    "model.compile(loss='categorical_crossentropy', optimizer='adam', metrics=['acc'])"
   ]
  },
  {
   "cell_type": "code",
   "execution_count": 14,
   "metadata": {},
   "outputs": [
    {
     "name": "stdout",
     "output_type": "stream",
     "text": [
      "Train on 8220 samples, validate on 2055 samples\n",
      "Epoch 1/5\n",
      "8220/8220 [==============================] - 2s 296us/step - loss: 2.3883 - acc: 0.3635 - val_loss: 1.5812 - val_acc: 0.5679\n",
      "Epoch 2/5\n",
      "8220/8220 [==============================] - 1s 177us/step - loss: 1.5792 - acc: 0.5507 - val_loss: 1.3918 - val_acc: 0.6005\n",
      "Epoch 3/5\n",
      "8220/8220 [==============================] - 1s 146us/step - loss: 1.3473 - acc: 0.6033 - val_loss: 1.3246 - val_acc: 0.6331\n",
      "Epoch 4/5\n",
      "8220/8220 [==============================] - 1s 126us/step - loss: 1.2004 - acc: 0.6489 - val_loss: 1.2862 - val_acc: 0.6345\n",
      "Epoch 5/5\n",
      "8220/8220 [==============================] - 1s 174us/step - loss: 1.0841 - acc: 0.6791 - val_loss: 1.2839 - val_acc: 0.6355\n"
     ]
    },
    {
     "data": {
      "text/plain": [
       "<keras.callbacks.callbacks.History at 0x1a48fe55f8>"
      ]
     },
     "execution_count": 14,
     "metadata": {},
     "output_type": "execute_result"
    }
   ],
   "source": [
    "model.fit(xtrain_glove_scl, y=ytrain_enc, batch_size=64, \n",
    "          epochs=5, verbose=1, \n",
    "          validation_data=(xvalid_glove_scl, yvalid_enc))"
   ]
  },
  {
   "cell_type": "markdown",
   "metadata": {},
   "source": [
    "#### Much higher validation accuracy than what we've seen with other algorithms with a very simple network and no hyper-param tuning"
   ]
  },
  {
   "cell_type": "code",
   "execution_count": 15,
   "metadata": {},
   "outputs": [],
   "source": [
    "# using keras tokenizer here\n",
    "token = text.Tokenizer(num_words=None)\n",
    "max_len = 70\n",
    "\n",
    "token.fit_on_texts(list(train_x) + list(valid_x))\n",
    "xtrain_seq = token.texts_to_sequences(train_x)\n",
    "xvalid_seq = token.texts_to_sequences(valid_x)\n",
    "\n",
    "# zero pad the sequences\n",
    "xtrain_pad = sequence.pad_sequences(xtrain_seq, maxlen=max_len)\n",
    "xvalid_pad = sequence.pad_sequences(xvalid_seq, maxlen=max_len)\n",
    "\n",
    "word_index = token.word_index"
   ]
  },
  {
   "cell_type": "code",
   "execution_count": 16,
   "metadata": {},
   "outputs": [
    {
     "name": "stderr",
     "output_type": "stream",
     "text": [
      "100%|██████████| 7454/7454 [00:00<00:00, 183329.87it/s]\n"
     ]
    }
   ],
   "source": [
    "# create an embedding matrix for the words we have in the dataset\n",
    "embedding_matrix = np.zeros((len(word_index) + 1, 300))\n",
    "for word, i in tqdm(word_index.items()):\n",
    "    embedding_vector = embeddings_index.get(word)\n",
    "    if embedding_vector is not None:\n",
    "        embedding_matrix[i] = embedding_vector"
   ]
  },
  {
   "cell_type": "code",
   "execution_count": 17,
   "metadata": {},
   "outputs": [],
   "source": [
    "# A simple LSTM with glove embeddings and two dense layers\n",
    "model = Sequential()\n",
    "model.add(Embedding(len(word_index) + 1,\n",
    "                     300,\n",
    "                     weights=[embedding_matrix],\n",
    "                     input_length=max_len,\n",
    "                     trainable=False))\n",
    "model.add(SpatialDropout1D(0.3))\n",
    "model.add(LSTM(100, dropout=0.3, recurrent_dropout=0.3))\n",
    "\n",
    "model.add(Dense(1024, activation='relu'))\n",
    "model.add(Dropout(0.5))\n",
    "\n",
    "model.add(Dense(1024, activation='relu'))\n",
    "model.add(Dropout(0.5))\n",
    "\n",
    "model.add(Dense(29))                            ## Num of classes to predict\n",
    "model.add(Activation('softmax'))\n",
    "model.compile(loss='categorical_crossentropy', optimizer='adam', metrics=['acc'])"
   ]
  },
  {
   "cell_type": "code",
   "execution_count": 18,
   "metadata": {},
   "outputs": [
    {
     "name": "stdout",
     "output_type": "stream",
     "text": [
      "Train on 8220 samples, validate on 2055 samples\n",
      "Epoch 1/100\n",
      "8220/8220 [==============================] - 23s 3ms/step - loss: 3.2783 - acc: 0.0775 - val_loss: 3.1759 - val_acc: 0.1606\n",
      "Epoch 2/100\n",
      "8220/8220 [==============================] - 20s 2ms/step - loss: 3.0812 - acc: 0.1416 - val_loss: 2.7582 - val_acc: 0.2209\n",
      "Epoch 3/100\n",
      "8220/8220 [==============================] - 20s 2ms/step - loss: 2.7614 - acc: 0.1981 - val_loss: 2.4427 - val_acc: 0.2740\n",
      "Epoch 4/100\n",
      "8220/8220 [==============================] - 21s 3ms/step - loss: 2.5809 - acc: 0.2431 - val_loss: 2.2399 - val_acc: 0.3187\n",
      "Epoch 5/100\n",
      "8220/8220 [==============================] - 21s 3ms/step - loss: 2.4335 - acc: 0.2791 - val_loss: 2.0511 - val_acc: 0.3796\n",
      "Epoch 6/100\n",
      "8220/8220 [==============================] - 23s 3ms/step - loss: 2.3018 - acc: 0.3180 - val_loss: 1.9711 - val_acc: 0.4024\n",
      "Epoch 7/100\n",
      "8220/8220 [==============================] - 20s 2ms/step - loss: 2.2162 - acc: 0.3491 - val_loss: 1.9034 - val_acc: 0.4175\n",
      "Epoch 8/100\n",
      "8220/8220 [==============================] - 21s 2ms/step - loss: 2.1334 - acc: 0.3664 - val_loss: 1.8133 - val_acc: 0.4725\n",
      "Epoch 9/100\n",
      "8220/8220 [==============================] - 20s 2ms/step - loss: 2.0680 - acc: 0.3940 - val_loss: 1.7560 - val_acc: 0.4803\n",
      "Epoch 10/100\n",
      "8220/8220 [==============================] - 17s 2ms/step - loss: 1.9959 - acc: 0.4139 - val_loss: 1.6629 - val_acc: 0.5163\n",
      "Epoch 11/100\n",
      "8220/8220 [==============================] - 20s 2ms/step - loss: 1.9269 - acc: 0.4332 - val_loss: 1.6316 - val_acc: 0.5148\n",
      "Epoch 12/100\n",
      "8220/8220 [==============================] - 20s 2ms/step - loss: 1.8848 - acc: 0.4460 - val_loss: 1.5933 - val_acc: 0.5270\n",
      "Epoch 13/100\n",
      "8220/8220 [==============================] - 16s 2ms/step - loss: 1.8170 - acc: 0.4634 - val_loss: 1.5957 - val_acc: 0.5324\n",
      "Epoch 14/100\n",
      "8220/8220 [==============================] - 17s 2ms/step - loss: 1.7874 - acc: 0.4681 - val_loss: 1.5196 - val_acc: 0.5543\n",
      "Epoch 15/100\n",
      "8220/8220 [==============================] - 16s 2ms/step - loss: 1.7393 - acc: 0.4832 - val_loss: 1.4798 - val_acc: 0.5625\n",
      "Epoch 16/100\n",
      "8220/8220 [==============================] - 16s 2ms/step - loss: 1.7057 - acc: 0.4959 - val_loss: 1.4570 - val_acc: 0.5839\n",
      "Epoch 17/100\n",
      "8220/8220 [==============================] - 18s 2ms/step - loss: 1.6595 - acc: 0.5139 - val_loss: 1.4699 - val_acc: 0.5616\n",
      "Epoch 18/100\n",
      "8220/8220 [==============================] - 17s 2ms/step - loss: 1.6420 - acc: 0.5219 - val_loss: 1.4352 - val_acc: 0.5859\n",
      "Epoch 19/100\n",
      "8220/8220 [==============================] - 16s 2ms/step - loss: 1.6103 - acc: 0.5235 - val_loss: 1.4076 - val_acc: 0.5908\n",
      "Epoch 20/100\n",
      "8220/8220 [==============================] - 16s 2ms/step - loss: 1.5651 - acc: 0.5371 - val_loss: 1.4084 - val_acc: 0.5888\n",
      "Epoch 21/100\n",
      "8220/8220 [==============================] - 16s 2ms/step - loss: 1.5455 - acc: 0.5392 - val_loss: 1.3857 - val_acc: 0.5990\n",
      "Epoch 22/100\n",
      "8220/8220 [==============================] - 16s 2ms/step - loss: 1.5282 - acc: 0.5426 - val_loss: 1.3815 - val_acc: 0.6102\n",
      "Epoch 23/100\n",
      "8220/8220 [==============================] - 16s 2ms/step - loss: 1.4926 - acc: 0.5578 - val_loss: 1.3638 - val_acc: 0.6000\n",
      "Epoch 24/100\n",
      "8220/8220 [==============================] - 16s 2ms/step - loss: 1.4750 - acc: 0.5651 - val_loss: 1.3484 - val_acc: 0.6122\n",
      "Epoch 25/100\n",
      "8220/8220 [==============================] - 16s 2ms/step - loss: 1.4694 - acc: 0.5690 - val_loss: 1.3525 - val_acc: 0.6102\n",
      "Epoch 26/100\n",
      "8220/8220 [==============================] - 16s 2ms/step - loss: 1.4199 - acc: 0.5808 - val_loss: 1.3249 - val_acc: 0.6175\n",
      "Epoch 27/100\n",
      "8220/8220 [==============================] - 16s 2ms/step - loss: 1.4056 - acc: 0.5787 - val_loss: 1.3152 - val_acc: 0.6117\n",
      "Epoch 28/100\n",
      "8220/8220 [==============================] - 17s 2ms/step - loss: 1.3980 - acc: 0.5804 - val_loss: 1.2997 - val_acc: 0.6229\n",
      "Epoch 29/100\n",
      "8220/8220 [==============================] - 18s 2ms/step - loss: 1.3894 - acc: 0.5822 - val_loss: 1.3295 - val_acc: 0.6156\n",
      "Epoch 30/100\n",
      "8220/8220 [==============================] - 21s 3ms/step - loss: 1.3523 - acc: 0.5973 - val_loss: 1.3032 - val_acc: 0.6273\n",
      "Epoch 31/100\n",
      "8220/8220 [==============================] - 16s 2ms/step - loss: 1.3459 - acc: 0.5956 - val_loss: 1.3096 - val_acc: 0.6238\n",
      "Epoch 32/100\n",
      "8220/8220 [==============================] - 18s 2ms/step - loss: 1.3193 - acc: 0.6026 - val_loss: 1.2907 - val_acc: 0.6268\n",
      "Epoch 33/100\n",
      "8220/8220 [==============================] - 17s 2ms/step - loss: 1.2933 - acc: 0.6129 - val_loss: 1.3014 - val_acc: 0.6273\n",
      "Epoch 34/100\n",
      "8220/8220 [==============================] - 17s 2ms/step - loss: 1.3009 - acc: 0.6130 - val_loss: 1.2822 - val_acc: 0.6331\n",
      "Epoch 35/100\n",
      "8220/8220 [==============================] - 16s 2ms/step - loss: 1.2660 - acc: 0.6163 - val_loss: 1.2865 - val_acc: 0.6341\n",
      "Epoch 36/100\n",
      "8220/8220 [==============================] - 16s 2ms/step - loss: 1.2566 - acc: 0.6189 - val_loss: 1.2823 - val_acc: 0.6321\n",
      "Epoch 37/100\n",
      "8220/8220 [==============================] - 16s 2ms/step - loss: 1.2448 - acc: 0.6270 - val_loss: 1.2681 - val_acc: 0.6355\n",
      "Epoch 38/100\n",
      "8220/8220 [==============================] - 17s 2ms/step - loss: 1.2130 - acc: 0.6311 - val_loss: 1.2600 - val_acc: 0.6350\n",
      "Epoch 39/100\n",
      "8220/8220 [==============================] - 19s 2ms/step - loss: 1.2038 - acc: 0.6341 - val_loss: 1.2746 - val_acc: 0.6336\n",
      "Epoch 40/100\n",
      "8220/8220 [==============================] - 16s 2ms/step - loss: 1.1880 - acc: 0.6380 - val_loss: 1.2585 - val_acc: 0.6370\n",
      "Epoch 41/100\n",
      "8220/8220 [==============================] - 16s 2ms/step - loss: 1.1726 - acc: 0.6394 - val_loss: 1.2582 - val_acc: 0.6394\n",
      "Epoch 42/100\n",
      "8220/8220 [==============================] - 16s 2ms/step - loss: 1.1726 - acc: 0.6437 - val_loss: 1.2521 - val_acc: 0.6423\n",
      "Epoch 43/100\n",
      "8220/8220 [==============================] - 16s 2ms/step - loss: 1.1563 - acc: 0.6468 - val_loss: 1.2611 - val_acc: 0.6462\n",
      "Epoch 44/100\n",
      "8220/8220 [==============================] - 16s 2ms/step - loss: 1.1643 - acc: 0.6444 - val_loss: 1.2412 - val_acc: 0.6433\n",
      "Epoch 45/100\n",
      "8220/8220 [==============================] - 16s 2ms/step - loss: 1.1407 - acc: 0.6490 - val_loss: 1.2535 - val_acc: 0.6365\n",
      "Epoch 46/100\n",
      "8220/8220 [==============================] - 16s 2ms/step - loss: 1.1288 - acc: 0.6545 - val_loss: 1.2505 - val_acc: 0.6501\n",
      "Epoch 47/100\n",
      "8220/8220 [==============================] - 16s 2ms/step - loss: 1.0829 - acc: 0.6656 - val_loss: 1.2505 - val_acc: 0.6453\n",
      "Epoch 48/100\n",
      "8220/8220 [==============================] - 16s 2ms/step - loss: 1.1052 - acc: 0.6590 - val_loss: 1.2380 - val_acc: 0.6516\n",
      "Epoch 49/100\n",
      "8220/8220 [==============================] - 18s 2ms/step - loss: 1.0821 - acc: 0.6678 - val_loss: 1.2381 - val_acc: 0.6457\n",
      "Epoch 50/100\n",
      "8220/8220 [==============================] - 17s 2ms/step - loss: 1.0740 - acc: 0.6764 - val_loss: 1.2440 - val_acc: 0.6555\n",
      "Epoch 51/100\n",
      "8220/8220 [==============================] - 18s 2ms/step - loss: 1.0794 - acc: 0.6703 - val_loss: 1.2274 - val_acc: 0.6530\n",
      "Epoch 52/100\n",
      "8220/8220 [==============================] - 18s 2ms/step - loss: 1.0440 - acc: 0.6787 - val_loss: 1.2416 - val_acc: 0.6535\n",
      "Epoch 53/100\n",
      "8220/8220 [==============================] - 20s 2ms/step - loss: 1.0433 - acc: 0.6771 - val_loss: 1.2427 - val_acc: 0.6555\n",
      "Epoch 54/100\n",
      "8220/8220 [==============================] - 18s 2ms/step - loss: 1.0503 - acc: 0.6770 - val_loss: 1.2365 - val_acc: 0.6530\n",
      "Epoch 55/100\n",
      "8220/8220 [==============================] - 18s 2ms/step - loss: 1.0185 - acc: 0.6837 - val_loss: 1.2508 - val_acc: 0.6530\n",
      "Epoch 56/100\n",
      "8220/8220 [==============================] - 19s 2ms/step - loss: 1.0113 - acc: 0.6825 - val_loss: 1.2323 - val_acc: 0.6599\n",
      "Epoch 57/100\n",
      "8220/8220 [==============================] - 20s 2ms/step - loss: 0.9954 - acc: 0.6905 - val_loss: 1.2586 - val_acc: 0.6560\n",
      "Epoch 58/100\n",
      "8220/8220 [==============================] - 24s 3ms/step - loss: 0.9993 - acc: 0.6936 - val_loss: 1.2413 - val_acc: 0.6603\n",
      "Epoch 59/100\n",
      "8220/8220 [==============================] - 22s 3ms/step - loss: 0.9913 - acc: 0.6953 - val_loss: 1.2344 - val_acc: 0.6608\n",
      "Epoch 60/100\n",
      "8220/8220 [==============================] - 20s 2ms/step - loss: 0.9797 - acc: 0.6960 - val_loss: 1.2426 - val_acc: 0.6545\n",
      "Epoch 61/100\n",
      "8220/8220 [==============================] - 23s 3ms/step - loss: 0.9599 - acc: 0.6943 - val_loss: 1.2583 - val_acc: 0.6594\n",
      "Epoch 62/100\n",
      "8220/8220 [==============================] - 20s 2ms/step - loss: 0.9584 - acc: 0.7022 - val_loss: 1.2370 - val_acc: 0.6623\n",
      "Epoch 63/100\n",
      "8220/8220 [==============================] - 20s 2ms/step - loss: 0.9413 - acc: 0.7052 - val_loss: 1.2469 - val_acc: 0.6637\n",
      "Epoch 64/100\n",
      "8220/8220 [==============================] - 18s 2ms/step - loss: 0.9387 - acc: 0.7045 - val_loss: 1.2461 - val_acc: 0.6642\n",
      "Epoch 65/100\n",
      "8220/8220 [==============================] - 17s 2ms/step - loss: 0.9285 - acc: 0.7119 - val_loss: 1.2334 - val_acc: 0.6667\n",
      "Epoch 66/100\n",
      "8220/8220 [==============================] - 18s 2ms/step - loss: 0.9328 - acc: 0.7069 - val_loss: 1.2445 - val_acc: 0.6633\n",
      "Epoch 67/100\n",
      "8220/8220 [==============================] - 17s 2ms/step - loss: 0.9264 - acc: 0.7144 - val_loss: 1.2628 - val_acc: 0.6535\n",
      "Epoch 68/100\n",
      "8220/8220 [==============================] - 17s 2ms/step - loss: 0.9033 - acc: 0.7142 - val_loss: 1.2543 - val_acc: 0.6662\n",
      "Epoch 69/100\n",
      "8220/8220 [==============================] - 17s 2ms/step - loss: 0.9048 - acc: 0.7134 - val_loss: 1.2647 - val_acc: 0.6623\n",
      "Epoch 70/100\n",
      "8220/8220 [==============================] - 17s 2ms/step - loss: 0.8918 - acc: 0.7224 - val_loss: 1.2746 - val_acc: 0.6579\n",
      "Epoch 71/100\n",
      "8220/8220 [==============================] - 17s 2ms/step - loss: 0.8984 - acc: 0.7224 - val_loss: 1.2464 - val_acc: 0.6681\n",
      "Epoch 72/100\n",
      "8220/8220 [==============================] - 17s 2ms/step - loss: 0.8941 - acc: 0.7175 - val_loss: 1.2560 - val_acc: 0.6618\n",
      "Epoch 73/100\n",
      "8220/8220 [==============================] - 17s 2ms/step - loss: 0.8538 - acc: 0.7309 - val_loss: 1.2746 - val_acc: 0.6642\n",
      "Epoch 74/100\n",
      "8220/8220 [==============================] - 19s 2ms/step - loss: 0.8871 - acc: 0.7241 - val_loss: 1.2610 - val_acc: 0.6637\n",
      "Epoch 75/100\n",
      "8220/8220 [==============================] - 19s 2ms/step - loss: 0.8676 - acc: 0.7260 - val_loss: 1.2411 - val_acc: 0.6681\n",
      "Epoch 76/100\n",
      "8220/8220 [==============================] - 21s 3ms/step - loss: 0.8585 - acc: 0.7328 - val_loss: 1.2656 - val_acc: 0.6652\n",
      "Epoch 77/100\n",
      "8220/8220 [==============================] - 21s 3ms/step - loss: 0.8486 - acc: 0.7305 - val_loss: 1.2689 - val_acc: 0.6618\n",
      "Epoch 78/100\n",
      "8220/8220 [==============================] - 19s 2ms/step - loss: 0.8269 - acc: 0.7383 - val_loss: 1.2868 - val_acc: 0.6623\n",
      "Epoch 79/100\n",
      "8220/8220 [==============================] - 19s 2ms/step - loss: 0.8398 - acc: 0.7286 - val_loss: 1.2464 - val_acc: 0.6730\n",
      "Epoch 80/100\n",
      "8220/8220 [==============================] - 19s 2ms/step - loss: 0.8136 - acc: 0.7382 - val_loss: 1.2653 - val_acc: 0.6710\n",
      "Epoch 81/100\n",
      "8220/8220 [==============================] - 18s 2ms/step - loss: 0.8016 - acc: 0.7461 - val_loss: 1.2496 - val_acc: 0.6803\n",
      "Epoch 82/100\n",
      "8220/8220 [==============================] - 19s 2ms/step - loss: 0.8224 - acc: 0.7353 - val_loss: 1.2585 - val_acc: 0.6735\n",
      "Epoch 83/100\n",
      "8220/8220 [==============================] - 21s 3ms/step - loss: 0.7932 - acc: 0.7466 - val_loss: 1.2457 - val_acc: 0.6754\n",
      "Epoch 84/100\n",
      "8220/8220 [==============================] - 18s 2ms/step - loss: 0.8012 - acc: 0.7476 - val_loss: 1.2620 - val_acc: 0.6725\n",
      "Epoch 85/100\n",
      "8220/8220 [==============================] - 20s 2ms/step - loss: 0.7824 - acc: 0.7510 - val_loss: 1.2701 - val_acc: 0.6715\n",
      "Epoch 86/100\n",
      "8220/8220 [==============================] - 21s 3ms/step - loss: 0.7759 - acc: 0.7515 - val_loss: 1.2782 - val_acc: 0.6686\n",
      "Epoch 87/100\n",
      "8220/8220 [==============================] - 22s 3ms/step - loss: 0.7681 - acc: 0.7544 - val_loss: 1.2841 - val_acc: 0.6628\n",
      "Epoch 88/100\n",
      "8220/8220 [==============================] - 18s 2ms/step - loss: 0.7814 - acc: 0.7491 - val_loss: 1.2783 - val_acc: 0.6652\n",
      "Epoch 89/100\n",
      "8220/8220 [==============================] - 19s 2ms/step - loss: 0.7746 - acc: 0.7502 - val_loss: 1.2865 - val_acc: 0.6676\n",
      "Epoch 90/100\n",
      "8220/8220 [==============================] - 22s 3ms/step - loss: 0.7561 - acc: 0.7614 - val_loss: 1.2774 - val_acc: 0.6725\n",
      "Epoch 91/100\n",
      "8220/8220 [==============================] - 19s 2ms/step - loss: 0.7546 - acc: 0.7584 - val_loss: 1.2947 - val_acc: 0.6628\n",
      "Epoch 92/100\n",
      "8220/8220 [==============================] - 18s 2ms/step - loss: 0.7486 - acc: 0.7554 - val_loss: 1.2999 - val_acc: 0.6652\n",
      "Epoch 93/100\n",
      "8220/8220 [==============================] - 18s 2ms/step - loss: 0.7430 - acc: 0.7550 - val_loss: 1.3113 - val_acc: 0.6672\n",
      "Epoch 94/100\n",
      "8220/8220 [==============================] - 18s 2ms/step - loss: 0.7465 - acc: 0.7597 - val_loss: 1.3007 - val_acc: 0.6647\n",
      "Epoch 95/100\n",
      "8220/8220 [==============================] - 18s 2ms/step - loss: 0.7365 - acc: 0.7612 - val_loss: 1.2764 - val_acc: 0.6735\n",
      "Epoch 96/100\n",
      "8220/8220 [==============================] - 19s 2ms/step - loss: 0.7398 - acc: 0.7617 - val_loss: 1.2852 - val_acc: 0.6706\n",
      "Epoch 97/100\n",
      "8220/8220 [==============================] - 18s 2ms/step - loss: 0.7294 - acc: 0.7629 - val_loss: 1.2860 - val_acc: 0.6749\n",
      "Epoch 98/100\n",
      "8220/8220 [==============================] - 18s 2ms/step - loss: 0.7137 - acc: 0.7713 - val_loss: 1.2779 - val_acc: 0.6735\n",
      "Epoch 99/100\n",
      "8220/8220 [==============================] - 18s 2ms/step - loss: 0.7440 - acc: 0.7611 - val_loss: 1.2918 - val_acc: 0.6715\n",
      "Epoch 100/100\n",
      "8220/8220 [==============================] - 18s 2ms/step - loss: 0.7153 - acc: 0.7692 - val_loss: 1.2961 - val_acc: 0.6710\n"
     ]
    },
    {
     "data": {
      "text/plain": [
       "<keras.callbacks.callbacks.History at 0x1a5f83bfd0>"
      ]
     },
     "execution_count": 18,
     "metadata": {},
     "output_type": "execute_result"
    }
   ],
   "source": [
    "model.fit(xtrain_pad, y=ytrain_enc, batch_size=512, epochs=100, verbose=1, validation_data=(xvalid_pad, yvalid_enc))"
   ]
  },
  {
   "cell_type": "code",
   "execution_count": null,
   "metadata": {},
   "outputs": [
    {
     "name": "stdout",
     "output_type": "stream",
     "text": [
      "Train on 8220 samples, validate on 2055 samples\n",
      "Epoch 1/100\n",
      "8220/8220 [==============================] - 54s 7ms/step - loss: 3.2037 - acc: 0.1035 - val_loss: 2.8400 - val_acc: 0.1776\n",
      "Epoch 2/100\n",
      "8220/8220 [==============================] - 58s 7ms/step - loss: 2.7388 - acc: 0.2090 - val_loss: 2.3560 - val_acc: 0.2993\n",
      "Epoch 3/100\n",
      "8220/8220 [==============================] - 61s 7ms/step - loss: 2.4353 - acc: 0.2810 - val_loss: 2.1432 - val_acc: 0.3577\n",
      "Epoch 4/100\n",
      "7168/8220 [=========================>....] - ETA: 6s - loss: 2.2920 - acc: 0.3283"
     ]
    }
   ],
   "source": [
    "## Adding early stopping\n",
    "# A simple LSTM with glove embeddings and two dense layers\n",
    "model = Sequential()\n",
    "model.add(Embedding(len(word_index) + 1,\n",
    "                     300,\n",
    "                     weights=[embedding_matrix],\n",
    "                     input_length=max_len,\n",
    "                     trainable=False))\n",
    "model.add(SpatialDropout1D(0.3))\n",
    "model.add(LSTM(300, dropout=0.3, recurrent_dropout=0.3))\n",
    "\n",
    "model.add(Dense(1024, activation='relu'))\n",
    "model.add(Dropout(0.3))\n",
    "\n",
    "model.add(Dense(1024, activation='relu'))\n",
    "model.add(Dropout(0.3))\n",
    "\n",
    "model.add(Dense(29))\n",
    "model.add(Activation('softmax'))\n",
    "model.compile(loss='categorical_crossentropy', optimizer='adam', metrics=['acc'])\n",
    "\n",
    "# Fit the model with early stopping callback\n",
    "earlystop = EarlyStopping(monitor='val_loss', min_delta=0, patience=3, verbose=0, mode='auto')\n",
    "model.fit(xtrain_pad, y=ytrain_enc, batch_size=512, epochs=100, \n",
    "          verbose=1, validation_data=(xvalid_pad, yvalid_enc), callbacks=[earlystop])"
   ]
  },
  {
   "cell_type": "markdown",
   "metadata": {},
   "source": [
    "#### Effects of Dropout\n",
    "We see that the training loss is higher than validation loss and,\n",
    "training accuracy is lower than validation accuracy.\n",
    "\n",
    "\"Why is the training loss much higher than the testing loss?\n",
    "A Keras model has two modes: training and testing. Regularization mechanisms, such as Dropout and L1/L2 weight regularization, are turned off at testing time.\n",
    "Besides, the training loss is the average of the losses over each batch of training data. Because your model is changing over time, the loss over the first batches of an epoch is generally higher than over the last batches. On the other hand, the testing loss for an epoch is computed using the model as it is at the end of the epoch, resulting in a lower loss.\" - Source - Keras FAQs"
   ]
  },
  {
   "cell_type": "code",
   "execution_count": null,
   "metadata": {},
   "outputs": [],
   "source": [
    "# A simple bidirectional LSTM with glove embeddings and two dense layers\n",
    "model = Sequential()\n",
    "model.add(Embedding(len(word_index) + 1,\n",
    "                     300,\n",
    "                     weights=[embedding_matrix],\n",
    "                     input_length=max_len,\n",
    "                     trainable=False))\n",
    "model.add(SpatialDropout1D(0.3))\n",
    "model.add(Bidirectional(LSTM(300, dropout=0.3, recurrent_dropout=0.3)))\n",
    "\n",
    "model.add(Dense(1024, activation='relu'))\n",
    "model.add(Dropout(0.3))\n",
    "\n",
    "model.add(Dense(1024, activation='relu'))\n",
    "model.add(Dropout(0.3))\n",
    "\n",
    "model.add(Dense(29))\n",
    "model.add(Activation('softmax'))\n",
    "model.compile(loss='categorical_crossentropy', optimizer='adam', metrics=['acc'])\n",
    "\n",
    "# Fit the model with early stopping callback\n",
    "earlystop = EarlyStopping(monitor='val_loss', min_delta=0, patience=3, verbose=0, mode='auto')\n",
    "model.fit(xtrain_pad, y=ytrain_enc, batch_size=512, epochs=100, \n",
    "          verbose=1, validation_data=(xvalid_pad, yvalid_enc), callbacks=[earlystop])"
   ]
  },
  {
   "cell_type": "code",
   "execution_count": null,
   "metadata": {},
   "outputs": [],
   "source": [
    "# GRU with glove embeddings and two dense layers\n",
    "model = Sequential()\n",
    "model.add(Embedding(len(word_index) + 1,\n",
    "                     300,\n",
    "                     weights=[embedding_matrix],\n",
    "                     input_length=max_len,\n",
    "                     trainable=False))\n",
    "model.add(SpatialDropout1D(0.3))\n",
    "model.add(GRU(300, dropout=0.3, recurrent_dropout=0.3, return_sequences=True))\n",
    "model.add(GRU(300, dropout=0.3, recurrent_dropout=0.3))\n",
    "\n",
    "model.add(Dense(1024, activation='relu'))\n",
    "model.add(Dropout(0.3))\n",
    "\n",
    "model.add(Dense(1024, activation='relu'))\n",
    "model.add(Dropout(0.3))\n",
    "\n",
    "model.add(Dense(29))\n",
    "model.add(Activation('softmax'))\n",
    "model.compile(loss='categorical_crossentropy', optimizer='adam', metrics=['acc'])\n",
    "\n",
    "# Fit the model with early stopping callback\n",
    "earlystop = EarlyStopping(monitor='val_loss', min_delta=0, patience=3, verbose=0, mode='auto')\n",
    "model.fit(xtrain_pad, y=ytrain_enc, batch_size=512, epochs=100, \n",
    "          verbose=1, validation_data=(xvalid_pad, yvalid_enc), callbacks=[earlystop])"
   ]
  },
  {
   "cell_type": "code",
   "execution_count": null,
   "metadata": {},
   "outputs": [],
   "source": []
  }
 ],
 "metadata": {
  "kernelspec": {
   "display_name": "Python 3",
   "language": "python",
   "name": "python3"
  },
  "language_info": {
   "codemirror_mode": {
    "name": "ipython",
    "version": 3
   },
   "file_extension": ".py",
   "mimetype": "text/x-python",
   "name": "python",
   "nbconvert_exporter": "python",
   "pygments_lexer": "ipython3",
   "version": "3.6.7"
  }
 },
 "nbformat": 4,
 "nbformat_minor": 2
}
